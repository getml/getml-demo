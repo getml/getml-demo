{
 "cells": [
  {
   "cell_type": "markdown",
   "metadata": {},
   "source": [
    "# Propositionalization: Interstate 94\n",
    "\n",
    "In this notebbok, we compare getML's FastProp against well-known feature engineering libraries featuretools and tsfresh.\n",
    "\n",
    "Summary:\n",
    "\n",
    "- Prediction type: __Regression model__\n",
    "- Domain: __Transportation__\n",
    "- Prediction target: __Hourly traffic volume__ \n",
    "- Source data: __Multivariate time series, 5 components__\n",
    "- Population size: __24096__"
   ]
  },
  {
   "cell_type": "markdown",
   "metadata": {
    "tags": [
     "remove_cell_on_docs"
    ]
   },
   "source": [
    "<a target=\"_blank\" href=\"https://colab.research.google.com/github/getml/getml-demo/blob/master/fastprop_benchmark/interstate94_prop.ipynb\">\n",
    "  <img src=\"https://colab.research.google.com/assets/colab-badge.svg\" alt=\"Open In Colab\"/>\n",
    "</a>"
   ]
  },
  {
   "cell_type": "markdown",
   "metadata": {},
   "source": [
    "## Background\n",
    "\n",
    "A common approach to feature engineering is to generate attribute-value representations from relational data by applying a fixed set of aggregations to columns of interest and perform a feature selection on the (possibly large) set of generated features afterwards. In academia, this approach is called _propositionalization._\n",
    "\n",
    "getML's [FastProp](https://getml.com/latest/user_guide/concepts/feature_engineering/#feature-engineering-algorithms-fastprop) is an implementation of this propositionalization approach that has been optimized for speed and memory efficiency. In this notebook, we want to demonstrate how – well – fast FastProp is. To this end, we will benchmark FastProp against the popular feature engineering libraries [featuretools](https://www.featuretools.com/) and [tsfresh](https://tsfresh.readthedocs.io/en/latest/). Both of these libraries use propositionalization approaches for feature engineering.\n",
    "\n",
    "In this notebook, we predict the hourly traffic volume on I-94 westbound from Minneapolis-St Paul. The analysis is built on top of a dataset provided by the [MN Department of Transportation](https://www.dot.state.mn.us), with some data preparation done by [John Hogue](https://github.com/dreyco676/Anomaly_Detection_A_to_Z/). For further details about the data set refer to [the full notebook](https://getml.com/latest/examples/enterprise-notebooks/interstate94)."
   ]
  },
  {
   "cell_type": "markdown",
   "metadata": {},
   "source": [
    "## Analysis"
   ]
  },
  {
   "cell_type": "markdown",
   "metadata": {},
   "source": [
    "1. [Loading data](#1.-Loading-data)\n",
    "2. [Predictive modeling](#2.-Predictive-modeling)\n",
    "3. [Comparison](#3.-Comparison)"
   ]
  },
  {
   "cell_type": "markdown",
   "metadata": {},
   "source": [
    "Let's get started with the analysis and set-up your session:"
   ]
  },
  {
   "cell_type": "code",
   "execution_count": 1,
   "metadata": {},
   "outputs": [
    {
     "name": "stdout",
     "output_type": "stream",
     "text": [
      "Note: you may need to restart the kernel to use updated packages.\n"
     ]
    }
   ],
   "source": [
    "%pip install -q \"getml==1.5.0\" \"featuretools==1.31.0\""
   ]
  },
  {
   "cell_type": "code",
   "execution_count": 2,
   "metadata": {},
   "outputs": [
    {
     "name": "stdout",
     "output_type": "stream",
     "text": [
      "getML API version: 1.5.0\n",
      "\n"
     ]
    }
   ],
   "source": [
    "import os\n",
    "import sys\n",
    "\n",
    "os.environ[\"PYARROW_IGNORE_TIMEZONE\"] = \"1\"\n",
    "from pathlib import Path\n",
    "\n",
    "import pandas as pd\n",
    "import getml\n",
    "\n",
    "print(f\"getML API version: {getml.__version__}\\n\")"
   ]
  },
  {
   "cell_type": "code",
   "execution_count": 3,
   "metadata": {},
   "outputs": [
    {
     "name": "stdout",
     "output_type": "stream",
     "text": [
      "getML Engine is already running.\n"
     ]
    },
    {
     "data": {
      "text/html": [
       "<pre style=\"white-space:pre;overflow-x:auto;line-height:normal;font-family:Menlo,'DejaVu Sans Mono',consolas,'Courier New',monospace\">Connected to project <span style=\"color: #008000; text-decoration-color: #008000\">'interstate94'</span>.\n",
       "</pre>\n"
      ],
      "text/plain": [
       "Connected to project \u001b[32m'interstate94'\u001b[0m.\n"
      ]
     },
     "metadata": {},
     "output_type": "display_data"
    }
   ],
   "source": [
    "getml.engine.launch(allow_remote_ips=True, token=\"token\")\n",
    "getml.engine.set_project(\"interstate94\")"
   ]
  },
  {
   "cell_type": "code",
   "execution_count": 4,
   "metadata": {},
   "outputs": [],
   "source": [
    "# If we are in Colab, we need to fetch the utils folder from the repository\n",
    "if os.getenv(\"COLAB_RELEASE_TAG\"):\n",
    "    !curl -L https://api.github.com/repos/getml/getml-demo/tarball/master | tar --wildcards --strip-components=1 -xz '*utils*'"
   ]
  },
  {
   "cell_type": "code",
   "execution_count": 5,
   "metadata": {},
   "outputs": [],
   "source": [
    "parent = Path(os.getcwd()).parent.as_posix()\n",
    "\n",
    "if parent not in sys.path:\n",
    "    sys.path.append(parent)\n",
    "\n",
    "from utils import Benchmark, FTTimeSeriesBuilder"
   ]
  },
  {
   "cell_type": "markdown",
   "metadata": {},
   "source": [
    "### 1. Loading data"
   ]
  },
  {
   "cell_type": "markdown",
   "metadata": {},
   "source": [
    "#### 1.1 Download from source\n",
    "\n",
    "We begin by downloading the data from the UC Irvine Machine Learning repository:"
   ]
  },
  {
   "cell_type": "code",
   "execution_count": 6,
   "metadata": {},
   "outputs": [
    {
     "name": "stdout",
     "output_type": "stream",
     "text": [
      "\u001b[2K  Downloading traffic... ━━━━━━━━━━━━━━━━━━━━━━━━━━━━━ 100% • 1.2/1.2 MB • 00:00\n",
      "\u001b[?25h"
     ]
    }
   ],
   "source": [
    "traffic = getml.datasets.load_interstate94(roles=True, units=True)"
   ]
  },
  {
   "cell_type": "code",
   "execution_count": 7,
   "metadata": {},
   "outputs": [],
   "source": [
    "traffic.set_role(traffic.roles.categorical, getml.data.roles.unused_string)"
   ]
  },
  {
   "cell_type": "code",
   "execution_count": 8,
   "metadata": {},
   "outputs": [
    {
     "data": {
      "text/html": [
       "<style>\n",
       "  table {\n",
       "    font-family: Helvetica, sans-serif;\n",
       "  }\n",
       "\n",
       "  th {\n",
       "    text-align: left !important;\n",
       "  }\n",
       "  td {\n",
       "    text-align: left !important;\n",
       "  }\n",
       "  th:nth-child(1) {\n",
       "    text-align: right !important;\n",
       "    border-right: 1px solid LightGray;\n",
       "  }\n",
       "  th.sub-header {\n",
       "    font-weight: normal;\n",
       "    font-style: italic;\n",
       "  }\n",
       "  .join_key,\n",
       "  .numerical,\n",
       "  .target,\n",
       "  .unused_float {\n",
       "    text-align: right !important;\n",
       "  }\n",
       "\n",
       "  .char-align {\n",
       "    text-align: right !important;\n",
       "  }\n",
       "  span.left {\n",
       "    text-align: right;\n",
       "    width: 3em;\n",
       "  }\n",
       "  span.right {\n",
       "    float: right;\n",
       "    text-align: left;\n",
       "  }\n",
       "</style>\n",
       "\n",
       "<table class=\"dataframe\">\n",
       "  <thead>\n",
       "    <tr>\n",
       "      \n",
       "        \n",
       "          <th> name</th>\n",
       "        \n",
       "      \n",
       "        \n",
       "          <th class=\"time_stamp\">                         ds</th>\n",
       "        \n",
       "      \n",
       "        \n",
       "          <th class=\"target\">traffic_volume</th>\n",
       "        \n",
       "      \n",
       "        \n",
       "          <th class=\"unused_string\">holiday      </th>\n",
       "        \n",
       "      \n",
       "        \n",
       "          <th class=\"unused_string\">day          </th>\n",
       "        \n",
       "      \n",
       "        \n",
       "          <th class=\"unused_string\">month        </th>\n",
       "        \n",
       "      \n",
       "        \n",
       "          <th class=\"unused_string\">weekday      </th>\n",
       "        \n",
       "      \n",
       "        \n",
       "          <th class=\"unused_string\">hour         </th>\n",
       "        \n",
       "      \n",
       "        \n",
       "          <th class=\"unused_string\">year         </th>\n",
       "        \n",
       "      \n",
       "    </tr>\n",
       "    \n",
       "      <tr>\n",
       "        \n",
       "          \n",
       "            <th class=\"sub-header\"> role</th>\n",
       "          \n",
       "        \n",
       "          \n",
       "            <th class=\"sub-header time_stamp\">                 time_stamp</th>\n",
       "          \n",
       "        \n",
       "          \n",
       "            <th class=\"sub-header target\">        target</th>\n",
       "          \n",
       "        \n",
       "          \n",
       "            <th class=\"sub-header unused_string\">unused_string</th>\n",
       "          \n",
       "        \n",
       "          \n",
       "            <th class=\"sub-header unused_string\">unused_string</th>\n",
       "          \n",
       "        \n",
       "          \n",
       "            <th class=\"sub-header unused_string\">unused_string</th>\n",
       "          \n",
       "        \n",
       "          \n",
       "            <th class=\"sub-header unused_string\">unused_string</th>\n",
       "          \n",
       "        \n",
       "          \n",
       "            <th class=\"sub-header unused_string\">unused_string</th>\n",
       "          \n",
       "        \n",
       "          \n",
       "            <th class=\"sub-header unused_string\">unused_string</th>\n",
       "          \n",
       "        \n",
       "      </tr>\n",
       "    \n",
       "      <tr>\n",
       "        \n",
       "          \n",
       "            <th class=\"sub-header\"> unit</th>\n",
       "          \n",
       "        \n",
       "          \n",
       "            <th class=\"sub-header time_stamp\">time stamp, comparison only</th>\n",
       "          \n",
       "        \n",
       "          \n",
       "            <th class=\"sub-header target\">              </th>\n",
       "          \n",
       "        \n",
       "          \n",
       "            <th class=\"sub-header unused_string\">             </th>\n",
       "          \n",
       "        \n",
       "          \n",
       "            <th class=\"sub-header unused_string\">day          </th>\n",
       "          \n",
       "        \n",
       "          \n",
       "            <th class=\"sub-header unused_string\">month        </th>\n",
       "          \n",
       "        \n",
       "          \n",
       "            <th class=\"sub-header unused_string\">weekday      </th>\n",
       "          \n",
       "        \n",
       "          \n",
       "            <th class=\"sub-header unused_string\">hour         </th>\n",
       "          \n",
       "        \n",
       "          \n",
       "            <th class=\"sub-header unused_string\">year         </th>\n",
       "          \n",
       "        \n",
       "      </tr>\n",
       "    \n",
       "  </thead>\n",
       "  <tbody>\n",
       "    \n",
       "      <tr>\n",
       "        <th>0</th>\n",
       "        \n",
       "          \n",
       "            <td class=\"time_stamp\">2016-01-01</td>\n",
       "          \n",
       "        \n",
       "          \n",
       "            \n",
       "              \n",
       "              \n",
       "          \n",
       "            <td class=\"char-align target\">\n",
       "              <span class=\"left\">1513</span\n",
       "              ><span class=\"right\" style=\"width: 0ch\"\n",
       "                >&nbsp;</span\n",
       "              >\n",
       "            </td>\n",
       "          \n",
       "        \n",
       "          \n",
       "            <td class=\"unused_string\">New Years Day</td>\n",
       "          \n",
       "        \n",
       "          \n",
       "            <td class=\"unused_string\">1</td>\n",
       "          \n",
       "        \n",
       "          \n",
       "            <td class=\"unused_string\">1</td>\n",
       "          \n",
       "        \n",
       "          \n",
       "            <td class=\"unused_string\">4</td>\n",
       "          \n",
       "        \n",
       "          \n",
       "            <td class=\"unused_string\">0</td>\n",
       "          \n",
       "        \n",
       "          \n",
       "            <td class=\"unused_string\">2016</td>\n",
       "          \n",
       "        \n",
       "      </tr>\n",
       "    \n",
       "      <tr>\n",
       "        <th>1</th>\n",
       "        \n",
       "          \n",
       "            <td class=\"time_stamp\">2016-01-01 01:00:00</td>\n",
       "          \n",
       "        \n",
       "          \n",
       "            \n",
       "              \n",
       "              \n",
       "          \n",
       "            <td class=\"char-align target\">\n",
       "              <span class=\"left\">1550</span\n",
       "              ><span class=\"right\" style=\"width: 0ch\"\n",
       "                >&nbsp;</span\n",
       "              >\n",
       "            </td>\n",
       "          \n",
       "        \n",
       "          \n",
       "            <td class=\"unused_string\">New Years Day</td>\n",
       "          \n",
       "        \n",
       "          \n",
       "            <td class=\"unused_string\">1</td>\n",
       "          \n",
       "        \n",
       "          \n",
       "            <td class=\"unused_string\">1</td>\n",
       "          \n",
       "        \n",
       "          \n",
       "            <td class=\"unused_string\">4</td>\n",
       "          \n",
       "        \n",
       "          \n",
       "            <td class=\"unused_string\">1</td>\n",
       "          \n",
       "        \n",
       "          \n",
       "            <td class=\"unused_string\">2016</td>\n",
       "          \n",
       "        \n",
       "      </tr>\n",
       "    \n",
       "      <tr>\n",
       "        <th>2</th>\n",
       "        \n",
       "          \n",
       "            <td class=\"time_stamp\">2016-01-01 02:00:00</td>\n",
       "          \n",
       "        \n",
       "          \n",
       "            \n",
       "              \n",
       "              \n",
       "          \n",
       "            <td class=\"char-align target\">\n",
       "              <span class=\"left\">993</span\n",
       "              ><span class=\"right\" style=\"width: 0ch\"\n",
       "                >&nbsp;</span\n",
       "              >\n",
       "            </td>\n",
       "          \n",
       "        \n",
       "          \n",
       "            <td class=\"unused_string\">New Years Day</td>\n",
       "          \n",
       "        \n",
       "          \n",
       "            <td class=\"unused_string\">1</td>\n",
       "          \n",
       "        \n",
       "          \n",
       "            <td class=\"unused_string\">1</td>\n",
       "          \n",
       "        \n",
       "          \n",
       "            <td class=\"unused_string\">4</td>\n",
       "          \n",
       "        \n",
       "          \n",
       "            <td class=\"unused_string\">2</td>\n",
       "          \n",
       "        \n",
       "          \n",
       "            <td class=\"unused_string\">2016</td>\n",
       "          \n",
       "        \n",
       "      </tr>\n",
       "    \n",
       "      <tr>\n",
       "        <th>3</th>\n",
       "        \n",
       "          \n",
       "            <td class=\"time_stamp\">2016-01-01 03:00:00</td>\n",
       "          \n",
       "        \n",
       "          \n",
       "            \n",
       "              \n",
       "              \n",
       "          \n",
       "            <td class=\"char-align target\">\n",
       "              <span class=\"left\">719</span\n",
       "              ><span class=\"right\" style=\"width: 0ch\"\n",
       "                >&nbsp;</span\n",
       "              >\n",
       "            </td>\n",
       "          \n",
       "        \n",
       "          \n",
       "            <td class=\"unused_string\">New Years Day</td>\n",
       "          \n",
       "        \n",
       "          \n",
       "            <td class=\"unused_string\">1</td>\n",
       "          \n",
       "        \n",
       "          \n",
       "            <td class=\"unused_string\">1</td>\n",
       "          \n",
       "        \n",
       "          \n",
       "            <td class=\"unused_string\">4</td>\n",
       "          \n",
       "        \n",
       "          \n",
       "            <td class=\"unused_string\">3</td>\n",
       "          \n",
       "        \n",
       "          \n",
       "            <td class=\"unused_string\">2016</td>\n",
       "          \n",
       "        \n",
       "      </tr>\n",
       "    \n",
       "      <tr>\n",
       "        <th>4</th>\n",
       "        \n",
       "          \n",
       "            <td class=\"time_stamp\">2016-01-01 04:00:00</td>\n",
       "          \n",
       "        \n",
       "          \n",
       "            \n",
       "              \n",
       "              \n",
       "          \n",
       "            <td class=\"char-align target\">\n",
       "              <span class=\"left\">533</span\n",
       "              ><span class=\"right\" style=\"width: 0ch\"\n",
       "                >&nbsp;</span\n",
       "              >\n",
       "            </td>\n",
       "          \n",
       "        \n",
       "          \n",
       "            <td class=\"unused_string\">New Years Day</td>\n",
       "          \n",
       "        \n",
       "          \n",
       "            <td class=\"unused_string\">1</td>\n",
       "          \n",
       "        \n",
       "          \n",
       "            <td class=\"unused_string\">1</td>\n",
       "          \n",
       "        \n",
       "          \n",
       "            <td class=\"unused_string\">4</td>\n",
       "          \n",
       "        \n",
       "          \n",
       "            <td class=\"unused_string\">4</td>\n",
       "          \n",
       "        \n",
       "          \n",
       "            <td class=\"unused_string\">2016</td>\n",
       "          \n",
       "        \n",
       "      </tr>\n",
       "    \n",
       "      <tr>\n",
       "        <th></th>\n",
       "        \n",
       "          \n",
       "            <td class=\"time_stamp\">...</td>\n",
       "          \n",
       "        \n",
       "          \n",
       "            \n",
       "              \n",
       "              \n",
       "          \n",
       "            <td class=\"char-align target\">\n",
       "              <span class=\"left\">...</span\n",
       "              ><span class=\"right\" style=\"width: 0ch\"\n",
       "                >&nbsp;</span\n",
       "              >\n",
       "            </td>\n",
       "          \n",
       "        \n",
       "          \n",
       "            <td class=\"unused_string\">...</td>\n",
       "          \n",
       "        \n",
       "          \n",
       "            <td class=\"unused_string\">...</td>\n",
       "          \n",
       "        \n",
       "          \n",
       "            <td class=\"unused_string\">...</td>\n",
       "          \n",
       "        \n",
       "          \n",
       "            <td class=\"unused_string\">...</td>\n",
       "          \n",
       "        \n",
       "          \n",
       "            <td class=\"unused_string\">...</td>\n",
       "          \n",
       "        \n",
       "          \n",
       "            <td class=\"unused_string\">...</td>\n",
       "          \n",
       "        \n",
       "      </tr>\n",
       "    \n",
       "      <tr>\n",
       "        <th>24091</th>\n",
       "        \n",
       "          \n",
       "            <td class=\"time_stamp\">2018-09-30 19:00:00</td>\n",
       "          \n",
       "        \n",
       "          \n",
       "            \n",
       "              \n",
       "              \n",
       "          \n",
       "            <td class=\"char-align target\">\n",
       "              <span class=\"left\">3543</span\n",
       "              ><span class=\"right\" style=\"width: 0ch\"\n",
       "                >&nbsp;</span\n",
       "              >\n",
       "            </td>\n",
       "          \n",
       "        \n",
       "          \n",
       "            <td class=\"unused_string\">No holiday</td>\n",
       "          \n",
       "        \n",
       "          \n",
       "            <td class=\"unused_string\">30</td>\n",
       "          \n",
       "        \n",
       "          \n",
       "            <td class=\"unused_string\">9</td>\n",
       "          \n",
       "        \n",
       "          \n",
       "            <td class=\"unused_string\">6</td>\n",
       "          \n",
       "        \n",
       "          \n",
       "            <td class=\"unused_string\">19</td>\n",
       "          \n",
       "        \n",
       "          \n",
       "            <td class=\"unused_string\">2018</td>\n",
       "          \n",
       "        \n",
       "      </tr>\n",
       "    \n",
       "      <tr>\n",
       "        <th>24092</th>\n",
       "        \n",
       "          \n",
       "            <td class=\"time_stamp\">2018-09-30 20:00:00</td>\n",
       "          \n",
       "        \n",
       "          \n",
       "            \n",
       "              \n",
       "              \n",
       "          \n",
       "            <td class=\"char-align target\">\n",
       "              <span class=\"left\">2781</span\n",
       "              ><span class=\"right\" style=\"width: 0ch\"\n",
       "                >&nbsp;</span\n",
       "              >\n",
       "            </td>\n",
       "          \n",
       "        \n",
       "          \n",
       "            <td class=\"unused_string\">No holiday</td>\n",
       "          \n",
       "        \n",
       "          \n",
       "            <td class=\"unused_string\">30</td>\n",
       "          \n",
       "        \n",
       "          \n",
       "            <td class=\"unused_string\">9</td>\n",
       "          \n",
       "        \n",
       "          \n",
       "            <td class=\"unused_string\">6</td>\n",
       "          \n",
       "        \n",
       "          \n",
       "            <td class=\"unused_string\">20</td>\n",
       "          \n",
       "        \n",
       "          \n",
       "            <td class=\"unused_string\">2018</td>\n",
       "          \n",
       "        \n",
       "      </tr>\n",
       "    \n",
       "      <tr>\n",
       "        <th>24093</th>\n",
       "        \n",
       "          \n",
       "            <td class=\"time_stamp\">2018-09-30 21:00:00</td>\n",
       "          \n",
       "        \n",
       "          \n",
       "            \n",
       "              \n",
       "              \n",
       "          \n",
       "            <td class=\"char-align target\">\n",
       "              <span class=\"left\">2159</span\n",
       "              ><span class=\"right\" style=\"width: 0ch\"\n",
       "                >&nbsp;</span\n",
       "              >\n",
       "            </td>\n",
       "          \n",
       "        \n",
       "          \n",
       "            <td class=\"unused_string\">No holiday</td>\n",
       "          \n",
       "        \n",
       "          \n",
       "            <td class=\"unused_string\">30</td>\n",
       "          \n",
       "        \n",
       "          \n",
       "            <td class=\"unused_string\">9</td>\n",
       "          \n",
       "        \n",
       "          \n",
       "            <td class=\"unused_string\">6</td>\n",
       "          \n",
       "        \n",
       "          \n",
       "            <td class=\"unused_string\">21</td>\n",
       "          \n",
       "        \n",
       "          \n",
       "            <td class=\"unused_string\">2018</td>\n",
       "          \n",
       "        \n",
       "      </tr>\n",
       "    \n",
       "      <tr>\n",
       "        <th>24094</th>\n",
       "        \n",
       "          \n",
       "            <td class=\"time_stamp\">2018-09-30 22:00:00</td>\n",
       "          \n",
       "        \n",
       "          \n",
       "            \n",
       "              \n",
       "              \n",
       "          \n",
       "            <td class=\"char-align target\">\n",
       "              <span class=\"left\">1450</span\n",
       "              ><span class=\"right\" style=\"width: 0ch\"\n",
       "                >&nbsp;</span\n",
       "              >\n",
       "            </td>\n",
       "          \n",
       "        \n",
       "          \n",
       "            <td class=\"unused_string\">No holiday</td>\n",
       "          \n",
       "        \n",
       "          \n",
       "            <td class=\"unused_string\">30</td>\n",
       "          \n",
       "        \n",
       "          \n",
       "            <td class=\"unused_string\">9</td>\n",
       "          \n",
       "        \n",
       "          \n",
       "            <td class=\"unused_string\">6</td>\n",
       "          \n",
       "        \n",
       "          \n",
       "            <td class=\"unused_string\">22</td>\n",
       "          \n",
       "        \n",
       "          \n",
       "            <td class=\"unused_string\">2018</td>\n",
       "          \n",
       "        \n",
       "      </tr>\n",
       "    \n",
       "      <tr>\n",
       "        <th>24095</th>\n",
       "        \n",
       "          \n",
       "            <td class=\"time_stamp\">2018-09-30 23:00:00</td>\n",
       "          \n",
       "        \n",
       "          \n",
       "            \n",
       "              \n",
       "              \n",
       "          \n",
       "            <td class=\"char-align target\">\n",
       "              <span class=\"left\">954</span\n",
       "              ><span class=\"right\" style=\"width: 0ch\"\n",
       "                >&nbsp;</span\n",
       "              >\n",
       "            </td>\n",
       "          \n",
       "        \n",
       "          \n",
       "            <td class=\"unused_string\">No holiday</td>\n",
       "          \n",
       "        \n",
       "          \n",
       "            <td class=\"unused_string\">30</td>\n",
       "          \n",
       "        \n",
       "          \n",
       "            <td class=\"unused_string\">9</td>\n",
       "          \n",
       "        \n",
       "          \n",
       "            <td class=\"unused_string\">6</td>\n",
       "          \n",
       "        \n",
       "          \n",
       "            <td class=\"unused_string\">23</td>\n",
       "          \n",
       "        \n",
       "          \n",
       "            <td class=\"unused_string\">2018</td>\n",
       "          \n",
       "        \n",
       "      </tr>\n",
       "    \n",
       "  </tbody>\n",
       "</table>\n",
       "\n",
       "  <p>\n",
       "    24096 rows x 8 columns<br />\n",
       "    memory usage: 2.16 MB<br />\n",
       "    name: traffic<br />\n",
       "    type: getml.DataFrame<br />\n",
       "    \n",
       "  </p>\n"
      ],
      "text/plain": [
       " name                            ds   traffic_volume   holiday         day             month           weekday      \n",
       " role                    time_stamp           target   unused_string   unused_string   unused_string   unused_string\n",
       " unit   time stamp, comparison only                                    day             month           weekday      \n",
       "    0                    2016-01-01             1513   New Years Day   1               1               4            \n",
       "    1           2016-01-01 01:00:00             1550   New Years Day   1               1               4            \n",
       "    2           2016-01-01 02:00:00              993   New Years Day   1               1               4            \n",
       "    3           2016-01-01 03:00:00              719   New Years Day   1               1               4            \n",
       "    4           2016-01-01 04:00:00              533   New Years Day   1               1               4            \n",
       "                                ...              ...   ...             ...             ...             ...          \n",
       "24091           2018-09-30 19:00:00             3543   No holiday      30              9               6            \n",
       "24092           2018-09-30 20:00:00             2781   No holiday      30              9               6            \n",
       "24093           2018-09-30 21:00:00             2159   No holiday      30              9               6            \n",
       "24094           2018-09-30 22:00:00             1450   No holiday      30              9               6            \n",
       "24095           2018-09-30 23:00:00              954   No holiday      30              9               6            \n",
       "\n",
       " name   hour            year         \n",
       " role   unused_string   unused_string\n",
       " unit   hour            year         \n",
       "    0   0               2016         \n",
       "    1   1               2016         \n",
       "    2   2               2016         \n",
       "    3   3               2016         \n",
       "    4   4               2016         \n",
       "        ...             ...          \n",
       "24091   19              2018         \n",
       "24092   20              2018         \n",
       "24093   21              2018         \n",
       "24094   22              2018         \n",
       "24095   23              2018         \n",
       "\n",
       "\n",
       "24096 rows x 8 columns\n",
       "memory usage: 2.16 MB\n",
       "type: getml.DataFrame"
      ]
     },
     "execution_count": 8,
     "metadata": {},
     "output_type": "execute_result"
    }
   ],
   "source": [
    "traffic"
   ]
  },
  {
   "cell_type": "markdown",
   "metadata": {},
   "source": [
    "#### 1.2 Define relational model\n"
   ]
  },
  {
   "cell_type": "code",
   "execution_count": 9,
   "metadata": {},
   "outputs": [],
   "source": [
    "split = getml.data.split.time(traffic, \"ds\", test=getml.data.time.datetime(2018, 3, 15))"
   ]
  },
  {
   "cell_type": "code",
   "execution_count": 10,
   "metadata": {},
   "outputs": [
    {
     "data": {
      "text/html": [
       "<span style='font-size: 1.2rem; font-weight: 500;'>data model</span>\n",
       "            <div style='margin-top: 15px; margin-bottom: 5px;'>\n",
       "            <div style='margin-bottom: 10px; font-size: 1rem;'>diagram</div>\n",
       "            <div style=\"height:100px;width:660px;position:relative;\"><svg height=\"90\" width=\"650\"><rect y=\"0\" x=\"0\" rx=\"10\" ry=\"10\" width=\"150\" height=\"90\" style=\"fill:#6829c2;stroke-width:0;\" /><text y=\"73.8\" x=\"75.0\" dominant-baseline=\"middle\" text-anchor=\"middle\" fill=\"white\">traffic</text><rect x=\"51\" y=\"10\" rx=\"4\" ry=\"4\" width=\"48\" height=\"48\" style=\" fill:#6829c2;stroke:#ffffff;stroke-width:3;\" /><line x1=\"67.0\" y1=\"10\" x2=\"67.0\" y2=\"58\" style=\"stroke:white;stroke-width:3\" /><line x1=\"83.0\" y1=\"10\" x2=\"83.0\" y2=\"58\" style=\"stroke:white;stroke-width:3\" /><line x1=\"51\" y1=\"26.0\" x2=\"99\" y2=\"26.0\" style=\"stroke:white;stroke-width:3\" /><line x1=\"51\" y1=\"42.0\" x2=\"99\" y2=\"42.0\" style=\"stroke:white;stroke-width:3\" /><rect y=\"0\" x=\"500\" rx=\"10\" ry=\"10\" width=\"150\" height=\"90\" style=\"fill:#6829c2;stroke-width:0;\" /><text y=\"73.8\" x=\"575.0\" dominant-baseline=\"middle\" text-anchor=\"middle\" fill=\"white\">traffic</text><rect x=\"551\" y=\"10\" rx=\"4\" ry=\"4\" width=\"48\" height=\"48\" style=\" fill:#6829c2;stroke:#ffffff;stroke-width:3;\" /><line x1=\"567.0\" y1=\"10\" x2=\"567.0\" y2=\"58\" style=\"stroke:white;stroke-width:3\" /><line x1=\"583.0\" y1=\"10\" x2=\"583.0\" y2=\"58\" style=\"stroke:white;stroke-width:3\" /><line x1=\"551\" y1=\"26.0\" x2=\"599\" y2=\"26.0\" style=\"stroke:white;stroke-width:3\" /><line x1=\"551\" y1=\"42.0\" x2=\"599\" y2=\"42.0\" style=\"stroke:white;stroke-width:3\" /><line x1=\"150\" y1=\"43.0\" x2=\"490\" y2=\"43.0\" style=\"stroke:#808080;;stroke-width:4\" /><polygon points=\"500, 43.0 490, 37.0 490, 49.0 \" style=\"fill:#808080;;stroke-width:0;\" /><rect y=\"10.0\" x=\"249.0\" rx=\"10\" ry=\"10\" width=\"150\" height=\"70\" style=\"fill:#6829c2;stroke-width:0;\" /><text dominant-baseline=\"middle\" text-anchor=\"middle\" fill=\"white\"><tspan y=\"30.0\" x=\"324.0\" font-size=\"7pt\" >ds &lt;= ds</tspan><tspan y=\"40.0\" x=\"324.0\" font-size=\"7pt\" >Memory: 1.0 days</tspan><tspan y=\"50.0\" x=\"324.0\" font-size=\"7pt\" >Horizon: 1.0 hours</tspan><tspan y=\"60.0\" x=\"324.0\" font-size=\"7pt\" >Lagged targets allowed</tspan></text></svg></div>\n",
       "            </div>\n",
       "\n",
       "            <div style='margin-top: 15px;'>\n",
       "            <div style='margin-bottom: 10px; font-size: 1rem;'>staging</div>\n",
       "            <style>\n",
       "  th {\n",
       "    text-align: left !important;\n",
       "  }\n",
       "  td {\n",
       "    text-align: left !important;\n",
       "  }\n",
       "  th:nth-child(1) {\n",
       "    text-align: right;\n",
       "    border-right: 1px solid LightGray;\n",
       "  }\n",
       "  th.float {\n",
       "    text-align: right !important;\n",
       "  }\n",
       "  td.float {\n",
       "    text-align: right !important;\n",
       "  }\n",
       "  th.int {\n",
       "    text-align: right !important;\n",
       "  }\n",
       "  td.int {\n",
       "    text-align: right !important;\n",
       "  }\n",
       "</style>\n",
       "\n",
       "<table class=\"dataframe\">\n",
       "  <thead>\n",
       "    <tr>\n",
       "      \n",
       "        \n",
       "          <th class=\"int\"> </th>\n",
       "        \n",
       "      \n",
       "        \n",
       "          <th class=\"str\">data frames</th>\n",
       "        \n",
       "      \n",
       "        \n",
       "          <th class=\"str\">staging table           </th>\n",
       "        \n",
       "      \n",
       "    </tr>\n",
       "    \n",
       "  </thead>\n",
       "  <tbody>\n",
       "    \n",
       "      <tr>\n",
       "        <th>0</th>\n",
       "          \n",
       "            \n",
       "              <td class=\"str\">traffic</td>\n",
       "            \n",
       "          \n",
       "            \n",
       "              <td class=\"str\">TRAFFIC__STAGING_TABLE_1</td>\n",
       "            \n",
       "          \n",
       "      </tr>\n",
       "    \n",
       "      <tr>\n",
       "        <th>1</th>\n",
       "          \n",
       "            \n",
       "              <td class=\"str\">traffic</td>\n",
       "            \n",
       "          \n",
       "            \n",
       "              <td class=\"str\">TRAFFIC__STAGING_TABLE_2</td>\n",
       "            \n",
       "          \n",
       "      </tr>\n",
       "    \n",
       "  </tbody>\n",
       "</table>\n",
       "            </div>\n",
       "            \n",
       "<span style='font-size: 1.2rem; font-weight: 500;'>container</span>\n",
       "<div style='margin-top: 15px;'>\n",
       "<div style='float: left; margin-right: 50px;'>\n",
       "<div style='margin-bottom: 10px; font-size: 1rem;'>population</div>\n",
       "    <style>\n",
       "  th {\n",
       "    text-align: left !important;\n",
       "  }\n",
       "  td {\n",
       "    text-align: left !important;\n",
       "  }\n",
       "  th:nth-child(1) {\n",
       "    text-align: right;\n",
       "    border-right: 1px solid LightGray;\n",
       "  }\n",
       "  th.float {\n",
       "    text-align: right !important;\n",
       "  }\n",
       "  td.float {\n",
       "    text-align: right !important;\n",
       "  }\n",
       "  th.int {\n",
       "    text-align: right !important;\n",
       "  }\n",
       "  td.int {\n",
       "    text-align: right !important;\n",
       "  }\n",
       "</style>\n",
       "\n",
       "<table class=\"dataframe\">\n",
       "  <thead>\n",
       "    <tr>\n",
       "      \n",
       "        \n",
       "          <th class=\"int\"> </th>\n",
       "        \n",
       "      \n",
       "        \n",
       "          <th class=\"str\">subset</th>\n",
       "        \n",
       "      \n",
       "        \n",
       "          <th class=\"str\">name   </th>\n",
       "        \n",
       "      \n",
       "        \n",
       "          <th class=\"str\">rows   </th>\n",
       "        \n",
       "      \n",
       "        \n",
       "          <th class=\"str\">type</th>\n",
       "        \n",
       "      \n",
       "    </tr>\n",
       "    \n",
       "  </thead>\n",
       "  <tbody>\n",
       "    \n",
       "      <tr>\n",
       "        <th>0</th>\n",
       "          \n",
       "            \n",
       "              <td class=\"str\">test</td>\n",
       "            \n",
       "          \n",
       "            \n",
       "              <td class=\"str\">traffic</td>\n",
       "            \n",
       "          \n",
       "            \n",
       "              <td class=\"str\">unknown</td>\n",
       "            \n",
       "          \n",
       "            \n",
       "              <td class=\"str\">View</td>\n",
       "            \n",
       "          \n",
       "      </tr>\n",
       "    \n",
       "      <tr>\n",
       "        <th>1</th>\n",
       "          \n",
       "            \n",
       "              <td class=\"str\">train</td>\n",
       "            \n",
       "          \n",
       "            \n",
       "              <td class=\"str\">traffic</td>\n",
       "            \n",
       "          \n",
       "            \n",
       "              <td class=\"str\">unknown</td>\n",
       "            \n",
       "          \n",
       "            \n",
       "              <td class=\"str\">View</td>\n",
       "            \n",
       "          \n",
       "      </tr>\n",
       "    \n",
       "  </tbody>\n",
       "</table>\n",
       "</div>\n",
       "<div style='float: left;'>\n",
       "<div style='margin-bottom: 10px; font-size: 1rem;'>peripheral</div>\n",
       "    <style>\n",
       "  th {\n",
       "    text-align: left !important;\n",
       "  }\n",
       "  td {\n",
       "    text-align: left !important;\n",
       "  }\n",
       "  th:nth-child(1) {\n",
       "    text-align: right;\n",
       "    border-right: 1px solid LightGray;\n",
       "  }\n",
       "  th.float {\n",
       "    text-align: right !important;\n",
       "  }\n",
       "  td.float {\n",
       "    text-align: right !important;\n",
       "  }\n",
       "  th.int {\n",
       "    text-align: right !important;\n",
       "  }\n",
       "  td.int {\n",
       "    text-align: right !important;\n",
       "  }\n",
       "</style>\n",
       "\n",
       "<table class=\"dataframe\">\n",
       "  <thead>\n",
       "    <tr>\n",
       "      \n",
       "        \n",
       "          <th class=\"int\"> </th>\n",
       "        \n",
       "      \n",
       "        \n",
       "          <th class=\"str\">name   </th>\n",
       "        \n",
       "      \n",
       "        \n",
       "          <th class=\"int\"> rows</th>\n",
       "        \n",
       "      \n",
       "        \n",
       "          <th class=\"str\">type     </th>\n",
       "        \n",
       "      \n",
       "    </tr>\n",
       "    \n",
       "  </thead>\n",
       "  <tbody>\n",
       "    \n",
       "      <tr>\n",
       "        <th>0</th>\n",
       "          \n",
       "            \n",
       "              <td class=\"str\">traffic</td>\n",
       "            \n",
       "          \n",
       "            \n",
       "              <td class=\"int\">24096</td>\n",
       "            \n",
       "          \n",
       "            \n",
       "              <td class=\"str\">DataFrame</td>\n",
       "            \n",
       "          \n",
       "      </tr>\n",
       "    \n",
       "  </tbody>\n",
       "</table>\n",
       "</div>\n",
       "</div>"
      ],
      "text/plain": [
       "data model\n",
       "\n",
       "  traffic:\n",
       "    columns:\n",
       "    - traffic_volume: target\n",
       "    - ds: time_stamp\n",
       "    - holiday: unused_string\n",
       "    - day: unused_string\n",
       "    - month: unused_string\n",
       "    - ...\n",
       "\n",
       "    joins:\n",
       "    - right: 'traffic'\n",
       "      time_stamps: (traffic.ds, traffic.ds)\n",
       "      relationship: 'many-to-many'\n",
       "      memory: 86400.0\n",
       "      horizon: 3600.0\n",
       "      lagged_targets: True\n",
       "\n",
       "  traffic:\n",
       "    columns:\n",
       "    - traffic_volume: target\n",
       "    - ds: time_stamp\n",
       "    - holiday: unused_string\n",
       "    - day: unused_string\n",
       "    - month: unused_string\n",
       "    - ...\n",
       "\n",
       "\n",
       "container\n",
       "\n",
       "  population\n",
       "      subset   name      rows      type\n",
       "  0   test     traffic   unknown   View\n",
       "  1   train    traffic   unknown   View\n",
       "\n",
       "  peripheral\n",
       "      name       rows   type     \n",
       "  0   traffic   24096   DataFrame"
      ]
     },
     "execution_count": 10,
     "metadata": {},
     "output_type": "execute_result"
    }
   ],
   "source": [
    "time_series = getml.data.TimeSeries(\n",
    "    population=traffic,\n",
    "    split=split,\n",
    "    alias=\"traffic\",\n",
    "    time_stamps=\"ds\",\n",
    "    horizon=getml.data.time.hours(1),\n",
    "    memory=getml.data.time.hours(24),\n",
    "    lagged_targets=True,\n",
    ")\n",
    "\n",
    "time_series"
   ]
  },
  {
   "cell_type": "markdown",
   "metadata": {},
   "source": [
    "### 2. Predictive modeling\n",
    "\n",
    "We loaded the data, defined the roles, units and the abstract data model. Next, we create a getML pipeline for relational learning."
   ]
  },
  {
   "cell_type": "markdown",
   "metadata": {},
   "source": [
    "#### 2.1 Propositionalization with getML's FastProp"
   ]
  },
  {
   "cell_type": "code",
   "execution_count": 11,
   "metadata": {},
   "outputs": [],
   "source": [
    "seasonal = getml.preprocessors.Seasonal()\n",
    "\n",
    "fast_prop = getml.feature_learning.FastProp(\n",
    "    loss_function=getml.feature_learning.loss_functions.SquareLoss,\n",
    "    num_threads=1,\n",
    ")"
   ]
  },
  {
   "cell_type": "markdown",
   "metadata": {},
   "source": [
    "__Build the pipeline__"
   ]
  },
  {
   "cell_type": "code",
   "execution_count": 12,
   "metadata": {},
   "outputs": [
    {
     "data": {
      "text/html": [
       "<pre>Pipeline(data_model='traffic',\n",
       "         feature_learners=['FastProp'],\n",
       "         feature_selectors=[],\n",
       "         include_categorical=False,\n",
       "         loss_function='SquareLoss',\n",
       "         peripheral=['traffic'],\n",
       "         predictors=[],\n",
       "         preprocessors=['Seasonal'],\n",
       "         share_selected_features=0.5,\n",
       "         tags=['feature learning', 'fastprop'])</pre>"
      ],
      "text/plain": [
       "Pipeline(data_model='traffic',\n",
       "         feature_learners=['FastProp'],\n",
       "         feature_selectors=[],\n",
       "         include_categorical=False,\n",
       "         loss_function='SquareLoss',\n",
       "         peripheral=['traffic'],\n",
       "         predictors=[],\n",
       "         preprocessors=['Seasonal'],\n",
       "         share_selected_features=0.5,\n",
       "         tags=['feature learning', 'fastprop'])"
      ]
     },
     "execution_count": 12,
     "metadata": {},
     "output_type": "execute_result"
    }
   ],
   "source": [
    "pipe_fp_fl = getml.pipeline.Pipeline(\n",
    "    preprocessors=[seasonal],\n",
    "    feature_learners=[fast_prop],\n",
    "    data_model=time_series.data_model,\n",
    "    tags=[\"feature learning\", \"fastprop\"],\n",
    ")\n",
    "\n",
    "pipe_fp_fl"
   ]
  },
  {
   "cell_type": "code",
   "execution_count": 13,
   "metadata": {},
   "outputs": [
    {
     "data": {
      "text/html": [
       "<pre style=\"white-space:pre;overflow-x:auto;line-height:normal;font-family:Menlo,'DejaVu Sans Mono',consolas,'Courier New',monospace\">Checking data model<span style=\"color: #808000; text-decoration-color: #808000\">...</span>\n",
       "</pre>\n"
      ],
      "text/plain": [
       "Checking data model\u001b[33m...\u001b[0m\n"
      ]
     },
     "metadata": {},
     "output_type": "display_data"
    },
    {
     "name": "stdout",
     "output_type": "stream",
     "text": [
      "\u001b[2K  Staging... ━━━━━━━━━━━━━━━━━━━━━━━━━━━━━━━━━━━━━━━━ 100% • 00:00"
     ]
    },
    {
     "name": "stdout",
     "output_type": "stream",
     "text": [
      "\u001b[2K  Staging... ━━━━━━━━━━━━━━━━━━━━━━━━━━━━━━━━━━━━━━━━ 100% • 00:00\n",
      "\u001b[2K  Preprocessing... ━━━━━━━━━━━━━━━━━━━━━━━━━━━━━━━━━━━━━━━━ 100% • 00:00\n",
      "\u001b[2K  Checking... ━━━━━━━━━━━━━━━━━━━━━━━━━━━━━━━━━━━━━━━━ 100% • 00:00\n",
      "\u001b[?25h"
     ]
    },
    {
     "data": {
      "text/html": [
       "<pre style=\"white-space:pre;overflow-x:auto;line-height:normal;font-family:Menlo,'DejaVu Sans Mono',consolas,'Courier New',monospace\">OK.\n",
       "</pre>\n"
      ],
      "text/plain": [
       "OK.\n"
      ]
     },
     "metadata": {},
     "output_type": "display_data"
    }
   ],
   "source": [
    "pipe_fp_fl.check(time_series.train)"
   ]
  },
  {
   "cell_type": "code",
   "execution_count": 14,
   "metadata": {},
   "outputs": [],
   "source": [
    "benchmark = Benchmark()"
   ]
  },
  {
   "cell_type": "code",
   "execution_count": 15,
   "metadata": {},
   "outputs": [
    {
     "data": {
      "text/html": [
       "<pre style=\"white-space:pre;overflow-x:auto;line-height:normal;font-family:Menlo,'DejaVu Sans Mono',consolas,'Courier New',monospace\">Checking data model<span style=\"color: #808000; text-decoration-color: #808000\">...</span>\n",
       "</pre>\n"
      ],
      "text/plain": [
       "Checking data model\u001b[33m...\u001b[0m\n"
      ]
     },
     "metadata": {},
     "output_type": "display_data"
    },
    {
     "name": "stdout",
     "output_type": "stream",
     "text": [
      "\u001b[2K  Staging... ━━━━━━━━━━━━━━━━━━━━━━━━━━━━━━━━━━━━━━━━ 100% • 00:00\n",
      "\u001b[2K  Preprocessing... ━━━━━━━━━━━━━━━━━━━━━━━━━━━━━━━━━━━━━━━━ 100% • 00:00\n",
      "\u001b[?25h"
     ]
    },
    {
     "data": {
      "text/html": [
       "<pre style=\"white-space:pre;overflow-x:auto;line-height:normal;font-family:Menlo,'DejaVu Sans Mono',consolas,'Courier New',monospace\">OK.\n",
       "</pre>\n"
      ],
      "text/plain": [
       "OK.\n"
      ]
     },
     "metadata": {},
     "output_type": "display_data"
    },
    {
     "name": "stdout",
     "output_type": "stream",
     "text": [
      "\u001b[2K  Staging... ━━━━━━━━━━━━━━━━━━━━━━━━━━━━━━━━━━━━━━━━ 100% • 00:00\n",
      "\u001b[2K  Preprocessing... ━━━━━━━━━━━━━━━━━━━━━━━━━━━━━━━━━━━━━━━━ 100% • 00:00\n",
      "\u001b[2K  FastProp: Trying 365 features... ━━━━━━━━━━━━━━━━━━━━━━━━━━━━━━━━ 100% • 00:03\n",
      "\u001b[?25h"
     ]
    },
    {
     "data": {
      "text/html": [
       "<pre style=\"white-space:pre;overflow-x:auto;line-height:normal;font-family:Menlo,'DejaVu Sans Mono',consolas,'Courier New',monospace\">Trained pipeline.\n",
       "</pre>\n"
      ],
      "text/plain": [
       "Trained pipeline.\n"
      ]
     },
     "metadata": {},
     "output_type": "display_data"
    },
    {
     "name": "stdout",
     "output_type": "stream",
     "text": [
      "Time taken: 0:00:03.058378.\n",
      "\n",
      "\u001b[2K  Staging... ━━━━━━━━━━━━━━━━━━━━━━━━━━━━━━━━━━━━━━━━ 100% • 00:00\n",
      "\u001b[2K  Preprocessing... ━━━━━━━━━━━━━━━━━━━━━━━━━━━━━━━━━━━━━━━━ 100% • 00:00\n",
      "\u001b[2K  FastProp: Building features... ━━━━━━━━━━━━━━━━━━━━━━━━━━━━━━━━━━ 100% • 00:01\n",
      "\u001b[?25h"
     ]
    }
   ],
   "source": [
    "with benchmark(\"fastprop\"):\n",
    "    pipe_fp_fl.fit(time_series.train)\n",
    "    fastprop_train = pipe_fp_fl.transform(time_series.train, df_name=\"fastprop_train\")"
   ]
  },
  {
   "cell_type": "code",
   "execution_count": 16,
   "metadata": {},
   "outputs": [
    {
     "name": "stdout",
     "output_type": "stream",
     "text": [
      "\u001b[2K  Staging... ━━━━━━━━━━━━━━━━━━━━━━━━━━━━━━━━━━━━━━━━ 100% • 00:00\n",
      "\u001b[2K  Preprocessing... ━━━━━━━━━━━━━━━━━━━━━━━━━━━━━━━━━━━━━━━━ 100% • 00:00\n",
      "\u001b[2K  FastProp: Building features... ━━━━━━━━━━━━━━━━━━━━━━━━━━━━━━━━━━ 100% • 00:00\n",
      "\u001b[?25h"
     ]
    }
   ],
   "source": [
    "fastprop_test = pipe_fp_fl.transform(time_series.test, df_name=\"fastprop_test\")"
   ]
  },
  {
   "cell_type": "code",
   "execution_count": 17,
   "metadata": {},
   "outputs": [],
   "source": [
    "predictor = getml.predictors.XGBoostRegressor()\n",
    "\n",
    "pipe_fp_pr = getml.pipeline.Pipeline(\n",
    "    tags=[\"prediction\", \"fastprop\"], predictors=[predictor]\n",
    ")"
   ]
  },
  {
   "cell_type": "code",
   "execution_count": 18,
   "metadata": {},
   "outputs": [
    {
     "data": {
      "text/html": [
       "<pre style=\"white-space:pre;overflow-x:auto;line-height:normal;font-family:Menlo,'DejaVu Sans Mono',consolas,'Courier New',monospace\">Checking data model<span style=\"color: #808000; text-decoration-color: #808000\">...</span>\n",
       "</pre>\n"
      ],
      "text/plain": [
       "Checking data model\u001b[33m...\u001b[0m\n"
      ]
     },
     "metadata": {},
     "output_type": "display_data"
    },
    {
     "name": "stdout",
     "output_type": "stream",
     "text": [
      "\u001b[2K  Staging... ━━━━━━━━━━━━━━━━━━━━━━━━━━━━━━━━━━━━━━━━ 100% • 00:00\n",
      "\u001b[2K  Checking... ━━━━━━━━━━━━━━━━━━━━━━━━━━━━━━━━━━━━━━━━ 100% • 00:00\n",
      "\u001b[?25h"
     ]
    },
    {
     "data": {
      "text/html": [
       "<pre style=\"white-space:pre;overflow-x:auto;line-height:normal;font-family:Menlo,'DejaVu Sans Mono',consolas,'Courier New',monospace\">OK.\n",
       "</pre>\n"
      ],
      "text/plain": [
       "OK.\n"
      ]
     },
     "metadata": {},
     "output_type": "display_data"
    },
    {
     "name": "stdout",
     "output_type": "stream",
     "text": [
      "\u001b[2K  Staging... ━━━━━━━━━━━━━━━━━━━━━━━━━━━━━━━━━━━━━━━━ 100% • 00:00\n",
      "\u001b[2K  XGBoost: Training as predictor... ━━━━━━━━━━━━━━━━━━━━━━━━━━━━━━━ 100% • 00:05\n",
      "\u001b[?25h"
     ]
    },
    {
     "data": {
      "text/html": [
       "<pre style=\"white-space:pre;overflow-x:auto;line-height:normal;font-family:Menlo,'DejaVu Sans Mono',consolas,'Courier New',monospace\">Trained pipeline.\n",
       "</pre>\n"
      ],
      "text/plain": [
       "Trained pipeline.\n"
      ]
     },
     "metadata": {},
     "output_type": "display_data"
    },
    {
     "name": "stdout",
     "output_type": "stream",
     "text": [
      "Time taken: 0:00:05.192145.\n",
      "\n"
     ]
    },
    {
     "data": {
      "text/html": [
       "<pre>Pipeline(data_model='population',\n",
       "         feature_learners=[],\n",
       "         feature_selectors=[],\n",
       "         include_categorical=False,\n",
       "         loss_function='SquareLoss',\n",
       "         peripheral=[],\n",
       "         predictors=['XGBoostRegressor'],\n",
       "         preprocessors=[],\n",
       "         share_selected_features=0.5,\n",
       "         tags=['prediction', 'fastprop'])</pre>"
      ],
      "text/plain": [
       "Pipeline(data_model='population',\n",
       "         feature_learners=[],\n",
       "         feature_selectors=[],\n",
       "         include_categorical=False,\n",
       "         loss_function='SquareLoss',\n",
       "         peripheral=[],\n",
       "         predictors=['XGBoostRegressor'],\n",
       "         preprocessors=[],\n",
       "         share_selected_features=0.5,\n",
       "         tags=['prediction', 'fastprop'])"
      ]
     },
     "execution_count": 18,
     "metadata": {},
     "output_type": "execute_result"
    }
   ],
   "source": [
    "pipe_fp_pr.fit(fastprop_train)"
   ]
  },
  {
   "cell_type": "code",
   "execution_count": 19,
   "metadata": {},
   "outputs": [
    {
     "name": "stdout",
     "output_type": "stream",
     "text": [
      "\u001b[2K  Staging... ━━━━━━━━━━━━━━━━━━━━━━━━━━━━━━━━━━━━━━━━ 100% • 00:00\n",
      "\u001b[2K  Preprocessing... ━━━━━━━━━━━━━━━━━━━━━━━━━━━━━━━━━━━━━━━━ 100% • 00:00\n",
      "\u001b[?25h"
     ]
    },
    {
     "data": {
      "text/html": [
       "<style>\n",
       "  th {\n",
       "    text-align: left !important;\n",
       "  }\n",
       "  td {\n",
       "    text-align: left !important;\n",
       "  }\n",
       "  th:nth-child(1) {\n",
       "    text-align: right;\n",
       "    border-right: 1px solid LightGray;\n",
       "  }\n",
       "  th.float {\n",
       "    text-align: right !important;\n",
       "  }\n",
       "  td.float {\n",
       "    text-align: right !important;\n",
       "  }\n",
       "  th.int {\n",
       "    text-align: right !important;\n",
       "  }\n",
       "  td.int {\n",
       "    text-align: right !important;\n",
       "  }\n",
       "</style>\n",
       "\n",
       "<table class=\"dataframe\">\n",
       "  <thead>\n",
       "    <tr>\n",
       "      \n",
       "        \n",
       "          <th class=\"int\"> </th>\n",
       "        \n",
       "      \n",
       "        \n",
       "          <th class=\"datetime\">date time          </th>\n",
       "        \n",
       "      \n",
       "        \n",
       "          <th class=\"str\">set used      </th>\n",
       "        \n",
       "      \n",
       "        \n",
       "          <th class=\"str\">target        </th>\n",
       "        \n",
       "      \n",
       "        \n",
       "          <th class=\"float\">      mae</th>\n",
       "        \n",
       "      \n",
       "        \n",
       "          <th class=\"float\">     rmse</th>\n",
       "        \n",
       "      \n",
       "        \n",
       "          <th class=\"float\">rsquared</th>\n",
       "        \n",
       "      \n",
       "    </tr>\n",
       "    \n",
       "  </thead>\n",
       "  <tbody>\n",
       "    \n",
       "      <tr>\n",
       "        <th>0</th>\n",
       "          \n",
       "            \n",
       "              <td class=\"datetime\">2024-09-13 13:17:10</td>\n",
       "            \n",
       "          \n",
       "            \n",
       "              <td class=\"str\">fastprop_train</td>\n",
       "            \n",
       "          \n",
       "            \n",
       "              <td class=\"str\">traffic_volume</td>\n",
       "            \n",
       "          \n",
       "            \n",
       "              <td class=\"float\">198.9482</td>\n",
       "            \n",
       "          \n",
       "            \n",
       "              <td class=\"float\">292.2493</td>\n",
       "            \n",
       "          \n",
       "            \n",
       "              <td class=\"float\">0.9779</td>\n",
       "            \n",
       "          \n",
       "      </tr>\n",
       "    \n",
       "      <tr>\n",
       "        <th>1</th>\n",
       "          \n",
       "            \n",
       "              <td class=\"datetime\">2024-09-13 13:17:10</td>\n",
       "            \n",
       "          \n",
       "            \n",
       "              <td class=\"str\">fastprop_test</td>\n",
       "            \n",
       "          \n",
       "            \n",
       "              <td class=\"str\">traffic_volume</td>\n",
       "            \n",
       "          \n",
       "            \n",
       "              <td class=\"float\">180.4867</td>\n",
       "            \n",
       "          \n",
       "            \n",
       "              <td class=\"float\">261.9389</td>\n",
       "            \n",
       "          \n",
       "            \n",
       "              <td class=\"float\">0.9827</td>\n",
       "            \n",
       "          \n",
       "      </tr>\n",
       "    \n",
       "  </tbody>\n",
       "</table>"
      ],
      "text/plain": [
       "    date time             set used         target                 mae        rmse   rsquared\n",
       "0   2024-09-13 13:17:10   fastprop_train   traffic_volume    198.9482    292.2493     0.9779\n",
       "1   2024-09-13 13:17:10   fastprop_test    traffic_volume    180.4867    261.9389     0.9827"
      ]
     },
     "execution_count": 19,
     "metadata": {},
     "output_type": "execute_result"
    }
   ],
   "source": [
    "pipe_fp_pr.score(fastprop_test)"
   ]
  },
  {
   "cell_type": "markdown",
   "metadata": {},
   "source": [
    "#### 2.2 Propositionalization with featuretools"
   ]
  },
  {
   "cell_type": "code",
   "execution_count": 20,
   "metadata": {},
   "outputs": [],
   "source": [
    "traffic_train = time_series.train.population\n",
    "traffic_test = time_series.test.population"
   ]
  },
  {
   "cell_type": "code",
   "execution_count": 21,
   "metadata": {},
   "outputs": [],
   "source": [
    "dfs_pandas = {}\n",
    "\n",
    "for df in [traffic_train, traffic_test, traffic]:\n",
    "    dfs_pandas[df.name] = df.drop(df.roles.unused).to_pandas()\n",
    "    dfs_pandas[df.name][\"join_key\"] = 1"
   ]
  },
  {
   "cell_type": "code",
   "execution_count": 22,
   "metadata": {},
   "outputs": [],
   "source": [
    "ft_builder = FTTimeSeriesBuilder(\n",
    "    num_features=200,\n",
    "    horizon=pd.Timedelta(hours=1),\n",
    "    memory=pd.Timedelta(hours=24),\n",
    "    column_id=\"join_key\",\n",
    "    time_stamp=\"ds\",\n",
    "    target=\"traffic_volume\",\n",
    "    allow_lagged_targets=True,\n",
    ")"
   ]
  },
  {
   "cell_type": "code",
   "execution_count": 23,
   "metadata": {
    "tags": []
   },
   "outputs": [
    {
     "name": "stdout",
     "output_type": "stream",
     "text": [
      "featuretools: Trying features...\n",
      "Selecting the best out of 118 features...\n",
      "Time taken: 0h:4m:27.008254\n",
      "\n"
     ]
    }
   ],
   "source": [
    "with benchmark(\"featuretools\"):\n",
    "    featuretools_train = ft_builder.fit(dfs_pandas[\"train\"])\n",
    "\n",
    "featuretools_test = ft_builder.transform(dfs_pandas[\"test\"])"
   ]
  },
  {
   "cell_type": "code",
   "execution_count": 24,
   "metadata": {},
   "outputs": [],
   "source": [
    "roles = {\n",
    "    getml.data.roles.join_key: [\"join_key\"],\n",
    "    getml.data.roles.target: [\"traffic_volume\"],\n",
    "    getml.data.roles.time_stamp: [\"ds\"],\n",
    "}\n",
    "\n",
    "df_featuretools_train = getml.data.DataFrame.from_pandas(\n",
    "    featuretools_train, name=\"featuretools_train\", roles=roles\n",
    ")\n",
    "\n",
    "df_featuretools_test = getml.data.DataFrame.from_pandas(\n",
    "    featuretools_test, name=\"featuretools_test\", roles=roles\n",
    ")"
   ]
  },
  {
   "cell_type": "code",
   "execution_count": 25,
   "metadata": {},
   "outputs": [],
   "source": [
    "df_featuretools_train.set_role(\n",
    "    df_featuretools_train.roles.unused, getml.data.roles.numerical\n",
    ")\n",
    "\n",
    "df_featuretools_test.set_role(\n",
    "    df_featuretools_test.roles.unused, getml.data.roles.numerical\n",
    ")"
   ]
  },
  {
   "cell_type": "code",
   "execution_count": 26,
   "metadata": {},
   "outputs": [
    {
     "data": {
      "text/html": [
       "<pre>Pipeline(data_model='population',\n",
       "         feature_learners=[],\n",
       "         feature_selectors=[],\n",
       "         include_categorical=False,\n",
       "         loss_function='SquareLoss',\n",
       "         peripheral=[],\n",
       "         predictors=['XGBoostRegressor'],\n",
       "         preprocessors=[],\n",
       "         share_selected_features=0.5,\n",
       "         tags=['prediction', 'featuretools'])</pre>"
      ],
      "text/plain": [
       "Pipeline(data_model='population',\n",
       "         feature_learners=[],\n",
       "         feature_selectors=[],\n",
       "         include_categorical=False,\n",
       "         loss_function='SquareLoss',\n",
       "         peripheral=[],\n",
       "         predictors=['XGBoostRegressor'],\n",
       "         preprocessors=[],\n",
       "         share_selected_features=0.5,\n",
       "         tags=['prediction', 'featuretools'])"
      ]
     },
     "execution_count": 26,
     "metadata": {},
     "output_type": "execute_result"
    }
   ],
   "source": [
    "predictor = getml.predictors.XGBoostRegressor()\n",
    "\n",
    "pipe_ft_pr = getml.pipeline.Pipeline(\n",
    "    tags=[\"prediction\", \"featuretools\"], predictors=[predictor]\n",
    ")\n",
    "\n",
    "pipe_ft_pr"
   ]
  },
  {
   "cell_type": "code",
   "execution_count": 27,
   "metadata": {},
   "outputs": [
    {
     "data": {
      "text/html": [
       "<pre style=\"white-space:pre;overflow-x:auto;line-height:normal;font-family:Menlo,'DejaVu Sans Mono',consolas,'Courier New',monospace\">Checking data model<span style=\"color: #808000; text-decoration-color: #808000\">...</span>\n",
       "</pre>\n"
      ],
      "text/plain": [
       "Checking data model\u001b[33m...\u001b[0m\n"
      ]
     },
     "metadata": {},
     "output_type": "display_data"
    },
    {
     "name": "stdout",
     "output_type": "stream",
     "text": [
      "\u001b[2K  Staging... ━━━━━━━━━━━━━━━━━━━━━━━━━━━━━━━━━━━━━━━━ 100% • 00:00\n",
      "\u001b[2K  Checking... ━━━━━━━━━━━━━━━━━━━━━━━━━━━━━━━━━━━━━━━━ 100% • 00:00\n",
      "\u001b[?25h"
     ]
    },
    {
     "data": {
      "text/html": [
       "<pre style=\"white-space:pre;overflow-x:auto;line-height:normal;font-family:Menlo,'DejaVu Sans Mono',consolas,'Courier New',monospace\">OK.\n",
       "</pre>\n"
      ],
      "text/plain": [
       "OK.\n"
      ]
     },
     "metadata": {},
     "output_type": "display_data"
    }
   ],
   "source": [
    "pipe_ft_pr.check(df_featuretools_train)"
   ]
  },
  {
   "cell_type": "code",
   "execution_count": 28,
   "metadata": {},
   "outputs": [
    {
     "data": {
      "text/html": [
       "<pre style=\"white-space:pre;overflow-x:auto;line-height:normal;font-family:Menlo,'DejaVu Sans Mono',consolas,'Courier New',monospace\">Checking data model<span style=\"color: #808000; text-decoration-color: #808000\">...</span>\n",
       "</pre>\n"
      ],
      "text/plain": [
       "Checking data model\u001b[33m...\u001b[0m\n"
      ]
     },
     "metadata": {},
     "output_type": "display_data"
    },
    {
     "name": "stdout",
     "output_type": "stream",
     "text": [
      "\u001b[2K  Staging... ━━━━━━━━━━━━━━━━━━━━━━━━━━━━━━━━━━━━━━━━ 100% • 00:00\n",
      "\u001b[?25h"
     ]
    },
    {
     "data": {
      "text/html": [
       "<pre style=\"white-space:pre;overflow-x:auto;line-height:normal;font-family:Menlo,'DejaVu Sans Mono',consolas,'Courier New',monospace\">OK.\n",
       "</pre>\n"
      ],
      "text/plain": [
       "OK.\n"
      ]
     },
     "metadata": {},
     "output_type": "display_data"
    },
    {
     "name": "stdout",
     "output_type": "stream",
     "text": [
      "\u001b[2K  Staging... ━━━━━━━━━━━━━━━━━━━━━━━━━━━━━━━━━━━━━━━━ 100% • 00:00\n",
      "\u001b[2K  XGBoost: Training as predictor... ━━━━━━━━━━━━━━━━━━━━━━━━━━━━━━━ 100% • 00:01\n",
      "\u001b[?25h"
     ]
    },
    {
     "data": {
      "text/html": [
       "<pre style=\"white-space:pre;overflow-x:auto;line-height:normal;font-family:Menlo,'DejaVu Sans Mono',consolas,'Courier New',monospace\">Trained pipeline.\n",
       "</pre>\n"
      ],
      "text/plain": [
       "Trained pipeline.\n"
      ]
     },
     "metadata": {},
     "output_type": "display_data"
    },
    {
     "name": "stdout",
     "output_type": "stream",
     "text": [
      "Time taken: 0:00:01.955919.\n",
      "\n"
     ]
    },
    {
     "data": {
      "text/html": [
       "<pre>Pipeline(data_model='population',\n",
       "         feature_learners=[],\n",
       "         feature_selectors=[],\n",
       "         include_categorical=False,\n",
       "         loss_function='SquareLoss',\n",
       "         peripheral=[],\n",
       "         predictors=['XGBoostRegressor'],\n",
       "         preprocessors=[],\n",
       "         share_selected_features=0.5,\n",
       "         tags=['prediction', 'featuretools'])</pre>"
      ],
      "text/plain": [
       "Pipeline(data_model='population',\n",
       "         feature_learners=[],\n",
       "         feature_selectors=[],\n",
       "         include_categorical=False,\n",
       "         loss_function='SquareLoss',\n",
       "         peripheral=[],\n",
       "         predictors=['XGBoostRegressor'],\n",
       "         preprocessors=[],\n",
       "         share_selected_features=0.5,\n",
       "         tags=['prediction', 'featuretools'])"
      ]
     },
     "execution_count": 28,
     "metadata": {},
     "output_type": "execute_result"
    }
   ],
   "source": [
    "pipe_ft_pr.fit(df_featuretools_train)"
   ]
  },
  {
   "cell_type": "code",
   "execution_count": 29,
   "metadata": {},
   "outputs": [
    {
     "name": "stdout",
     "output_type": "stream",
     "text": [
      "\u001b[2K  Staging... ━━━━━━━━━━━━━━━━━━━━━━━━━━━━━━━━━━━━━━━━ 100% • 00:00\n",
      "\u001b[2K  Preprocessing... ━━━━━━━━━━━━━━━━━━━━━━━━━━━━━━━━━━━━━━━━ 100% • 00:00\n",
      "\u001b[?25h"
     ]
    },
    {
     "data": {
      "text/html": [
       "<style>\n",
       "  th {\n",
       "    text-align: left !important;\n",
       "  }\n",
       "  td {\n",
       "    text-align: left !important;\n",
       "  }\n",
       "  th:nth-child(1) {\n",
       "    text-align: right;\n",
       "    border-right: 1px solid LightGray;\n",
       "  }\n",
       "  th.float {\n",
       "    text-align: right !important;\n",
       "  }\n",
       "  td.float {\n",
       "    text-align: right !important;\n",
       "  }\n",
       "  th.int {\n",
       "    text-align: right !important;\n",
       "  }\n",
       "  td.int {\n",
       "    text-align: right !important;\n",
       "  }\n",
       "</style>\n",
       "\n",
       "<table class=\"dataframe\">\n",
       "  <thead>\n",
       "    <tr>\n",
       "      \n",
       "        \n",
       "          <th class=\"int\"> </th>\n",
       "        \n",
       "      \n",
       "        \n",
       "          <th class=\"datetime\">date time          </th>\n",
       "        \n",
       "      \n",
       "        \n",
       "          <th class=\"str\">set used          </th>\n",
       "        \n",
       "      \n",
       "        \n",
       "          <th class=\"str\">target        </th>\n",
       "        \n",
       "      \n",
       "        \n",
       "          <th class=\"float\">      mae</th>\n",
       "        \n",
       "      \n",
       "        \n",
       "          <th class=\"float\">     rmse</th>\n",
       "        \n",
       "      \n",
       "        \n",
       "          <th class=\"float\">rsquared</th>\n",
       "        \n",
       "      \n",
       "    </tr>\n",
       "    \n",
       "  </thead>\n",
       "  <tbody>\n",
       "    \n",
       "      <tr>\n",
       "        <th>0</th>\n",
       "          \n",
       "            \n",
       "              <td class=\"datetime\">2024-09-13 13:22:48</td>\n",
       "            \n",
       "          \n",
       "            \n",
       "              <td class=\"str\">featuretools_train</td>\n",
       "            \n",
       "          \n",
       "            \n",
       "              <td class=\"str\">traffic_volume</td>\n",
       "            \n",
       "          \n",
       "            \n",
       "              <td class=\"float\">220.4023</td>\n",
       "            \n",
       "          \n",
       "            \n",
       "              <td class=\"float\">321.1657</td>\n",
       "            \n",
       "          \n",
       "            \n",
       "              <td class=\"float\">0.9734</td>\n",
       "            \n",
       "          \n",
       "      </tr>\n",
       "    \n",
       "      <tr>\n",
       "        <th>1</th>\n",
       "          \n",
       "            \n",
       "              <td class=\"datetime\">2024-09-13 13:22:48</td>\n",
       "            \n",
       "          \n",
       "            \n",
       "              <td class=\"str\">featuretools_test</td>\n",
       "            \n",
       "          \n",
       "            \n",
       "              <td class=\"str\">traffic_volume</td>\n",
       "            \n",
       "          \n",
       "            \n",
       "              <td class=\"float\">210.1988</td>\n",
       "            \n",
       "          \n",
       "            \n",
       "              <td class=\"float\">317.52</td>\n",
       "            \n",
       "          \n",
       "            \n",
       "              <td class=\"float\">0.9746</td>\n",
       "            \n",
       "          \n",
       "      </tr>\n",
       "    \n",
       "  </tbody>\n",
       "</table>"
      ],
      "text/plain": [
       "    date time             set used             target                 mae        rmse   rsquared\n",
       "0   2024-09-13 13:22:48   featuretools_train   traffic_volume    220.4023    321.1657     0.9734\n",
       "1   2024-09-13 13:22:48   featuretools_test    traffic_volume    210.1988    317.52       0.9746"
      ]
     },
     "execution_count": 29,
     "metadata": {},
     "output_type": "execute_result"
    }
   ],
   "source": [
    "pipe_ft_pr.score(df_featuretools_test)"
   ]
  },
  {
   "cell_type": "markdown",
   "metadata": {},
   "source": [
    "#### 2.3 Propositionalization with tsfresh\n",
    "\n",
    "tsfresh failed to run through due to an apparent bug in the tsfresh library and is therefore excluded from this analysis."
   ]
  },
  {
   "cell_type": "markdown",
   "metadata": {},
   "source": [
    "### 3. Comparison"
   ]
  },
  {
   "cell_type": "code",
   "execution_count": 30,
   "metadata": {},
   "outputs": [],
   "source": [
    "num_features = dict(\n",
    "    fastprop=461,\n",
    "    featuretools=59,\n",
    ")\n",
    "\n",
    "runtime_per_feature = [\n",
    "    benchmark.runtimes[\"fastprop\"] / num_features[\"fastprop\"],\n",
    "    benchmark.runtimes[\"featuretools\"] / num_features[\"featuretools\"],\n",
    "]\n",
    "\n",
    "features_per_second = [1.0 / r.total_seconds() for r in runtime_per_feature]\n",
    "\n",
    "normalized_runtime_per_feature = [\n",
    "    r / runtime_per_feature[0] for r in runtime_per_feature\n",
    "]\n",
    "\n",
    "comparison = pd.DataFrame(\n",
    "    dict(\n",
    "        runtime=[benchmark.runtimes[\"fastprop\"], benchmark.runtimes[\"featuretools\"]],\n",
    "        num_features=num_features.values(),\n",
    "        features_per_second=features_per_second,\n",
    "        normalized_runtime=[\n",
    "            1,\n",
    "            benchmark.runtimes[\"featuretools\"] / benchmark.runtimes[\"fastprop\"],\n",
    "        ],\n",
    "        normalized_runtime_per_feature=normalized_runtime_per_feature,\n",
    "        rsquared=[pipe_fp_pr.rsquared, pipe_ft_pr.rsquared],\n",
    "        rmse=[pipe_fp_pr.rmse, pipe_ft_pr.rmse],\n",
    "        mae=[pipe_fp_pr.mae, pipe_ft_pr.mae],\n",
    "    )\n",
    ")\n",
    "\n",
    "comparison.index = [\"getML: FastProp\", \"featuretools\"]"
   ]
  },
  {
   "cell_type": "code",
   "execution_count": 31,
   "metadata": {},
   "outputs": [
    {
     "data": {
      "text/html": [
       "<div>\n",
       "<style scoped>\n",
       "    .dataframe tbody tr th:only-of-type {\n",
       "        vertical-align: middle;\n",
       "    }\n",
       "\n",
       "    .dataframe tbody tr th {\n",
       "        vertical-align: top;\n",
       "    }\n",
       "\n",
       "    .dataframe thead th {\n",
       "        text-align: right;\n",
       "    }\n",
       "</style>\n",
       "<table border=\"1\" class=\"dataframe\">\n",
       "  <thead>\n",
       "    <tr style=\"text-align: right;\">\n",
       "      <th></th>\n",
       "      <th>runtime</th>\n",
       "      <th>num_features</th>\n",
       "      <th>features_per_second</th>\n",
       "      <th>normalized_runtime</th>\n",
       "      <th>normalized_runtime_per_feature</th>\n",
       "      <th>rsquared</th>\n",
       "      <th>rmse</th>\n",
       "      <th>mae</th>\n",
       "    </tr>\n",
       "  </thead>\n",
       "  <tbody>\n",
       "    <tr>\n",
       "      <th>getML: FastProp</th>\n",
       "      <td>0 days 00:00:04.806504</td>\n",
       "      <td>461</td>\n",
       "      <td>95.914061</td>\n",
       "      <td>1.000000</td>\n",
       "      <td>1.000000</td>\n",
       "      <td>0.982678</td>\n",
       "      <td>261.938873</td>\n",
       "      <td>180.486734</td>\n",
       "    </tr>\n",
       "    <tr>\n",
       "      <th>featuretools</th>\n",
       "      <td>0 days 00:04:27.009351</td>\n",
       "      <td>59</td>\n",
       "      <td>0.220966</td>\n",
       "      <td>55.551676</td>\n",
       "      <td>434.066948</td>\n",
       "      <td>0.974582</td>\n",
       "      <td>317.519976</td>\n",
       "      <td>210.198793</td>\n",
       "    </tr>\n",
       "  </tbody>\n",
       "</table>\n",
       "</div>"
      ],
      "text/plain": [
       "                               runtime  num_features  features_per_second  \\\n",
       "getML: FastProp 0 days 00:00:04.806504           461            95.914061   \n",
       "featuretools    0 days 00:04:27.009351            59             0.220966   \n",
       "\n",
       "                 normalized_runtime  normalized_runtime_per_feature  rsquared  \\\n",
       "getML: FastProp            1.000000                        1.000000  0.982678   \n",
       "featuretools              55.551676                      434.066948  0.974582   \n",
       "\n",
       "                       rmse         mae  \n",
       "getML: FastProp  261.938873  180.486734  \n",
       "featuretools     317.519976  210.198793  "
      ]
     },
     "execution_count": 31,
     "metadata": {},
     "output_type": "execute_result"
    }
   ],
   "source": [
    "comparison"
   ]
  },
  {
   "cell_type": "code",
   "execution_count": 32,
   "metadata": {},
   "outputs": [],
   "source": [
    "comparison.to_csv(\"comparisons/interstate94.csv\")"
   ]
  },
  {
   "cell_type": "code",
   "execution_count": null,
   "metadata": {},
   "outputs": [],
   "source": [
    "getml.engine.shutdown()"
   ]
  }
 ],
 "metadata": {
  "jupytext": {
   "encoding": "# -*- coding: utf-8 -*-",
   "formats": "ipynb,py:percent,md"
  },
  "kernelspec": {
   "display_name": "Python 3 (ipykernel)",
   "language": "python",
   "name": "python3"
  },
  "language_info": {
   "codemirror_mode": {
    "name": "ipython",
    "version": 3
   },
   "file_extension": ".py",
   "mimetype": "text/x-python",
   "name": "python",
   "nbconvert_exporter": "python",
   "pygments_lexer": "ipython3",
   "version": "3.11.9"
  },
  "toc": {
   "base_numbering": 1,
   "nav_menu": {},
   "number_sections": false,
   "sideBar": true,
   "skip_h1_title": false,
   "title_cell": "Table of Contents",
   "title_sidebar": "Contents",
   "toc_cell": false,
   "toc_position": {},
   "toc_section_display": true,
   "toc_window_display": true
  }
 },
 "nbformat": 4,
 "nbformat_minor": 4
}
