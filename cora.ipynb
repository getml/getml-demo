{
 "cells": [
  {
   "cell_type": "markdown",
   "metadata": {},
   "source": [
    "# CORA - Categorizing academic publications using getML\n",
    "\n",
    "In this notebook, we compare getML against extant approaches in the relational learning literature on the CORA data set, which is often used for benchmarking. We demonstrate that getML outperforms the state of the art in the relational learning literature on this data set. Beyond the benchmarking aspects, this notebooks showcases getML's excellent capabilities in dealing with categorical data.\n",
    "\n",
    "Summary:\n",
    "\n",
    "- Prediction type: __Classification model__\n",
    "- Domain: __Academia__\n",
    "- Prediction target: __The category of a paper__ \n",
    "- Population size: __2708__\n",
    "\n",
    "_Author: Dr. Patrick Urbanke_"
   ]
  },
  {
   "cell_type": "markdown",
   "metadata": {},
   "source": [
    " "
   ]
  },
  {
   "cell_type": "markdown",
   "metadata": {},
   "source": [
    "# Background\n",
    "\n",
    "CORA is a well-known benchmarking dataset in the academic literature on relational learning. The dataset contains 2708 scientific publications on machine learning. The papers are divided into 7 categories. The challenge is to predict the category of a paper based on the papers it cites, the papers it is cited by and keywords contained in the paper.\n",
    "\n",
    "It has been downloaded from the [CTU Prague relational learning repository](https://relational.fit.cvut.cz/dataset/CORA) (Motl and Schulte, 2015)."
   ]
  },
  {
   "cell_type": "markdown",
   "metadata": {},
   "source": [
    " "
   ]
  },
  {
   "cell_type": "markdown",
   "metadata": {},
   "source": [
    "### A web frontend for getML\n",
    "\n",
    "The getML monitor is a frontend built to support your work with getML. The getML monitor displays information such as the imported data frames, trained pipelines and allows easy data and feature exploration. You can launch the getML monitor [here](http://localhost:1709)."
   ]
  },
  {
   "cell_type": "markdown",
   "metadata": {},
   "source": [
    " "
   ]
  },
  {
   "cell_type": "markdown",
   "metadata": {},
   "source": [
    "### Where is this running?\n",
    "\n",
    "Your getML live session is running inside a docker container on [mybinder.org](https://mybinder.org/), a service built by the Jupyter community and funded by Google Cloud, OVH, GESIS Notebooks and the Turing Institute. As it is a free service, this session will shut down after 10 minutes of inactivity."
   ]
  },
  {
   "cell_type": "markdown",
   "metadata": {},
   "source": [
    " "
   ]
  },
  {
   "cell_type": "markdown",
   "metadata": {},
   "source": [
    "# Analysis"
   ]
  },
  {
   "cell_type": "markdown",
   "metadata": {},
   "source": [
    "Let's get started with the analysis and set up your session:"
   ]
  },
  {
   "cell_type": "code",
   "execution_count": 1,
   "metadata": {},
   "outputs": [
    {
     "name": "stdout",
     "output_type": "stream",
     "text": [
      "\n",
      "Connected to project 'cora'\n"
     ]
    }
   ],
   "source": [
    "import copy\n",
    "import os\n",
    "from urllib import request\n",
    "\n",
    "import numpy as np\n",
    "import pandas as pd\n",
    "from IPython.display import Image\n",
    "import matplotlib.pyplot as plt\n",
    "plt.style.use('seaborn')\n",
    "%matplotlib inline  \n",
    "\n",
    "import getml\n",
    "\n",
    "getml.engine.set_project('cora')"
   ]
  },
  {
   "cell_type": "markdown",
   "metadata": {},
   "source": [
    " "
   ]
  },
  {
   "cell_type": "markdown",
   "metadata": {},
   "source": [
    "## 1. Loading data"
   ]
  },
  {
   "cell_type": "markdown",
   "metadata": {},
   "source": [
    "### 1.1 Download from source\n",
    "\n",
    "We begin by downloading the data from the source file:"
   ]
  },
  {
   "cell_type": "code",
   "execution_count": 2,
   "metadata": {},
   "outputs": [
    {
     "data": {
      "text/plain": [
       "Connection(conn_id='default', dbname='CORA', dialect='mysql', \n",
       "           host='relational.fit.cvut.cz', port=3306)"
      ]
     },
     "execution_count": 2,
     "metadata": {},
     "output_type": "execute_result"
    }
   ],
   "source": [
    "conn = getml.database.connect_mariadb(\n",
    "    host=\"relational.fit.cvut.cz\",\n",
    "    dbname=\"CORA\",\n",
    "    port=3306,\n",
    "    user=\"guest\",\n",
    "    password=\"relational\"\n",
    ")\n",
    "\n",
    "conn"
   ]
  },
  {
   "cell_type": "code",
   "execution_count": 3,
   "metadata": {},
   "outputs": [],
   "source": [
    "def load_if_needed(name):\n",
    "    \"\"\"\n",
    "    Loads the data from the relational learning\n",
    "    repository, if the data frame has not already\n",
    "    been loaded.\n",
    "    \"\"\"\n",
    "    if not getml.data.exists(name):\n",
    "        data_frame = getml.data.DataFrame.from_db(\n",
    "            name=name,\n",
    "            table_name=name,\n",
    "            conn=conn\n",
    "        )\n",
    "        data_frame.save()\n",
    "    else:\n",
    "        data_frame = getml.data.load_data_frame(name)\n",
    "    return data_frame"
   ]
  },
  {
   "cell_type": "code",
   "execution_count": 4,
   "metadata": {},
   "outputs": [],
   "source": [
    "paper = load_if_needed(\"paper\")\n",
    "cites = load_if_needed(\"cites\")\n",
    "content = load_if_needed(\"content\")"
   ]
  },
  {
   "cell_type": "code",
   "execution_count": 5,
   "metadata": {},
   "outputs": [
    {
     "data": {
      "text/html": [
       "<table class=\"dataframe\"><thead><tr style=\"border-bottom:1pt solid LightGray;\"><th style=\"text-align: left;border-right:1pt solid LightGray;\">Name</th><th style=\"text-align: right;\">paper_id</th><th style=\"text-align: right;\">class_label</th></tr><tr><th style=\"text-align: left;border-right:1pt solid LightGray;\">Role</th><td style=\"text-align: right;\"><i>join_key</i></td><td style=\"text-align: right;\"><i>categorical</i></td></tr></thead><tbody><tr style=\"border-top:1pt solid LightGray;\"><td style=\"border-right:1pt solid LightGray;\"><b>0</b></td><td>35</td><td>Genetic_Algorithms</td></tr><tr><td style=\"border-right:1pt solid LightGray;\"><b>1</b></td><td>40</td><td>Genetic_Algorithms</td></tr><tr><td style=\"border-right:1pt solid LightGray;\"><b>2</b></td><td>114</td><td>Reinforcement_Learning</td></tr><tr><td style=\"border-right:1pt solid LightGray;\"><b>3</b></td><td>117</td><td>Reinforcement_Learning</td></tr><tr><td style=\"border-right:1pt solid LightGray;\"><b>4</b></td><td>128</td><td>Reinforcement_Learning</td></tr><tr><td style=\"border-right:1pt solid LightGray;\"><b> </b></td><td>...</td><td>...</td></tr><tr><td style=\"border-right:1pt solid LightGray;\"><b>2703</b></td><td>1154500</td><td>Case_Based</td></tr><tr><td style=\"border-right:1pt solid LightGray;\"><b>2704</b></td><td>1154520</td><td>Neural_Networks</td></tr><tr><td style=\"border-right:1pt solid LightGray;\"><b>2705</b></td><td>1154524</td><td>Rule_Learning</td></tr><tr><td style=\"border-right:1pt solid LightGray;\"><b>2706</b></td><td>1154525</td><td>Rule_Learning</td></tr><tr><td style=\"border-right:1pt solid LightGray;\"><b>2707</b></td><td>1155073</td><td>Rule_Learning</td></tr></tbody></table><br>2708 rows x 2 columns<br>memory usage: 0.02 MB<br>name: paper<br>type: getml.data.DataFrame<br>url: <a href=\"http://localhost:1709/#/getdataframe/cora/paper/\" target=\"_blank\">http://localhost:1709/#/getdataframe/cora/paper/</a>"
      ],
      "text/plain": [
       "Name   paper_id              class_label   \n",
       "Role   join_key              categorical   \n",
       "0      35         Genetic_Algorithms       \n",
       "1      40         Genetic_Algorithms       \n",
       "2      114        Reinforcement_Learning   \n",
       "3      117        Reinforcement_Learning   \n",
       "4      128        Reinforcement_Learning   \n",
       "       ...        ...                      \n",
       "2703   1154500    Case_Based               \n",
       "2704   1154520    Neural_Networks          \n",
       "2705   1154524    Rule_Learning            \n",
       "2706   1154525    Rule_Learning            \n",
       "2707   1155073    Rule_Learning            \n",
       "\n",
       "2708 rows x 2 columns\n",
       "memory usage: 0.02 MB\n",
       "name: paper\n",
       "type: getml.data.DataFrame\n",
       "url: http://localhost:1709/#/getdataframe/cora/paper/"
      ]
     },
     "execution_count": 5,
     "metadata": {},
     "output_type": "execute_result"
    }
   ],
   "source": [
    "paper"
   ]
  },
  {
   "cell_type": "code",
   "execution_count": 6,
   "metadata": {},
   "outputs": [
    {
     "data": {
      "text/html": [
       "<table class=\"dataframe\"><thead><tr style=\"border-bottom:1pt solid LightGray;\"><th style=\"text-align: left;border-right:1pt solid LightGray;\">Name</th><th style=\"text-align: right;\">cited_paper_id</th><th style=\"text-align: right;\">citing_paper_id</th></tr><tr><th style=\"text-align: left;border-right:1pt solid LightGray;\">Role</th><td style=\"text-align: right;\"><i>join_key</i></td><td style=\"text-align: right;\"><i>join_key</i></td></tr></thead><tbody><tr style=\"border-top:1pt solid LightGray;\"><td style=\"border-right:1pt solid LightGray;\"><b>0</b></td><td>35</td><td>887</td></tr><tr><td style=\"border-right:1pt solid LightGray;\"><b>1</b></td><td>35</td><td>1033</td></tr><tr><td style=\"border-right:1pt solid LightGray;\"><b>2</b></td><td>35</td><td>1688</td></tr><tr><td style=\"border-right:1pt solid LightGray;\"><b>3</b></td><td>35</td><td>1956</td></tr><tr><td style=\"border-right:1pt solid LightGray;\"><b>4</b></td><td>35</td><td>8865</td></tr><tr><td style=\"border-right:1pt solid LightGray;\"><b> </b></td><td>...</td><td>...</td></tr><tr><td style=\"border-right:1pt solid LightGray;\"><b>5424</b></td><td>853116</td><td>19621</td></tr><tr><td style=\"border-right:1pt solid LightGray;\"><b>5425</b></td><td>853116</td><td>853155</td></tr><tr><td style=\"border-right:1pt solid LightGray;\"><b>5426</b></td><td>853118</td><td>1140289</td></tr><tr><td style=\"border-right:1pt solid LightGray;\"><b>5427</b></td><td>853155</td><td>853118</td></tr><tr><td style=\"border-right:1pt solid LightGray;\"><b>5428</b></td><td>954315</td><td>1155073</td></tr></tbody></table><br>5429 rows x 2 columns<br>memory usage: 0.04 MB<br>name: cites<br>type: getml.data.DataFrame<br>url: <a href=\"http://localhost:1709/#/getdataframe/cora/cites/\" target=\"_blank\">http://localhost:1709/#/getdataframe/cora/cites/</a>"
      ],
      "text/plain": [
       "Name   cited_paper_id   citing_paper_id   \n",
       "Role         join_key          join_key   \n",
       "0      35               887               \n",
       "1      35               1033              \n",
       "2      35               1688              \n",
       "3      35               1956              \n",
       "4      35               8865              \n",
       "       ...              ...               \n",
       "5424   853116           19621             \n",
       "5425   853116           853155            \n",
       "5426   853118           1140289           \n",
       "5427   853155           853118            \n",
       "5428   954315           1155073           \n",
       "\n",
       "5429 rows x 2 columns\n",
       "memory usage: 0.04 MB\n",
       "name: cites\n",
       "type: getml.data.DataFrame\n",
       "url: http://localhost:1709/#/getdataframe/cora/cites/"
      ]
     },
     "execution_count": 6,
     "metadata": {},
     "output_type": "execute_result"
    }
   ],
   "source": [
    "cites"
   ]
  },
  {
   "cell_type": "code",
   "execution_count": 7,
   "metadata": {},
   "outputs": [
    {
     "data": {
      "text/html": [
       "<table class=\"dataframe\"><thead><tr style=\"border-bottom:1pt solid LightGray;\"><th style=\"text-align: left;border-right:1pt solid LightGray;\">Name </th><th style=\"text-align: right;\">paper_id</th><th style=\"text-align: right;\">word_cited_id</th></tr><tr><th style=\"text-align: left;border-right:1pt solid LightGray;\">Role </th><td style=\"text-align: right;\"><i>join_key</i></td><td style=\"text-align: right;\"><i>categorical</i></td></tr></thead><tbody><tr style=\"border-top:1pt solid LightGray;\"><td style=\"border-right:1pt solid LightGray;\"><b>0</b></td><td>35</td><td>word100</td></tr><tr><td style=\"border-right:1pt solid LightGray;\"><b>1</b></td><td>35</td><td>word1152</td></tr><tr><td style=\"border-right:1pt solid LightGray;\"><b>2</b></td><td>35</td><td>word1175</td></tr><tr><td style=\"border-right:1pt solid LightGray;\"><b>3</b></td><td>35</td><td>word1228</td></tr><tr><td style=\"border-right:1pt solid LightGray;\"><b>4</b></td><td>35</td><td>word1248</td></tr><tr><td style=\"border-right:1pt solid LightGray;\"><b> </b></td><td>...</td><td>...</td></tr><tr><td style=\"border-right:1pt solid LightGray;\"><b>49211</b></td><td>1155073</td><td>word75</td></tr><tr><td style=\"border-right:1pt solid LightGray;\"><b>49212</b></td><td>1155073</td><td>word759</td></tr><tr><td style=\"border-right:1pt solid LightGray;\"><b>49213</b></td><td>1155073</td><td>word789</td></tr><tr><td style=\"border-right:1pt solid LightGray;\"><b>49214</b></td><td>1155073</td><td>word815</td></tr><tr><td style=\"border-right:1pt solid LightGray;\"><b>49215</b></td><td>1155073</td><td>word979</td></tr></tbody></table><br>49216 rows x 2 columns<br>memory usage: 0.39 MB<br>name: content<br>type: getml.data.DataFrame<br>url: <a href=\"http://localhost:1709/#/getdataframe/cora/content/\" target=\"_blank\">http://localhost:1709/#/getdataframe/cora/content/</a>"
      ],
      "text/plain": [
       "Name    paper_id   word_cited_id   \n",
       "Role    join_key     categorical   \n",
       "0       35         word100         \n",
       "1       35         word1152        \n",
       "2       35         word1175        \n",
       "3       35         word1228        \n",
       "4       35         word1248        \n",
       "        ...        ...             \n",
       "49211   1155073    word75          \n",
       "49212   1155073    word759         \n",
       "49213   1155073    word789         \n",
       "49214   1155073    word815         \n",
       "49215   1155073    word979         \n",
       "\n",
       "49216 rows x 2 columns\n",
       "memory usage: 0.39 MB\n",
       "name: content\n",
       "type: getml.data.DataFrame\n",
       "url: http://localhost:1709/#/getdataframe/cora/content/"
      ]
     },
     "execution_count": 7,
     "metadata": {},
     "output_type": "execute_result"
    }
   ],
   "source": [
    "content"
   ]
  },
  {
   "cell_type": "markdown",
   "metadata": {},
   "source": [
    " "
   ]
  },
  {
   "cell_type": "markdown",
   "metadata": {},
   "source": [
    "### 1.2 Prepare data for getML"
   ]
  },
  {
   "cell_type": "markdown",
   "metadata": {},
   "source": [
    " "
   ]
  },
  {
   "cell_type": "markdown",
   "metadata": {},
   "source": [
    "getML requires that we define *roles* for each of the columns."
   ]
  },
  {
   "cell_type": "code",
   "execution_count": 8,
   "metadata": {},
   "outputs": [
    {
     "data": {
      "text/html": [
       "<table class=\"dataframe\"><thead><tr style=\"border-bottom:1pt solid LightGray;\"><th style=\"text-align: left;border-right:1pt solid LightGray;\">Name</th><th style=\"text-align: right;\">paper_id</th><th style=\"text-align: right;\">class_label</th></tr><tr><th style=\"text-align: left;border-right:1pt solid LightGray;\">Role</th><td style=\"text-align: right;\"><i>join_key</i></td><td style=\"text-align: right;\"><i>categorical</i></td></tr></thead><tbody><tr style=\"border-top:1pt solid LightGray;\"><td style=\"border-right:1pt solid LightGray;\"><b>0</b></td><td>35</td><td>Genetic_Algorithms</td></tr><tr><td style=\"border-right:1pt solid LightGray;\"><b>1</b></td><td>40</td><td>Genetic_Algorithms</td></tr><tr><td style=\"border-right:1pt solid LightGray;\"><b>2</b></td><td>114</td><td>Reinforcement_Learning</td></tr><tr><td style=\"border-right:1pt solid LightGray;\"><b>3</b></td><td>117</td><td>Reinforcement_Learning</td></tr><tr><td style=\"border-right:1pt solid LightGray;\"><b>4</b></td><td>128</td><td>Reinforcement_Learning</td></tr><tr><td style=\"border-right:1pt solid LightGray;\"><b> </b></td><td>...</td><td>...</td></tr><tr><td style=\"border-right:1pt solid LightGray;\"><b>2703</b></td><td>1154500</td><td>Case_Based</td></tr><tr><td style=\"border-right:1pt solid LightGray;\"><b>2704</b></td><td>1154520</td><td>Neural_Networks</td></tr><tr><td style=\"border-right:1pt solid LightGray;\"><b>2705</b></td><td>1154524</td><td>Rule_Learning</td></tr><tr><td style=\"border-right:1pt solid LightGray;\"><b>2706</b></td><td>1154525</td><td>Rule_Learning</td></tr><tr><td style=\"border-right:1pt solid LightGray;\"><b>2707</b></td><td>1155073</td><td>Rule_Learning</td></tr></tbody></table><br>2708 rows x 2 columns<br>memory usage: 0.02 MB<br>name: paper<br>type: getml.data.DataFrame<br>url: <a href=\"http://localhost:1709/#/getdataframe/cora/paper/\" target=\"_blank\">http://localhost:1709/#/getdataframe/cora/paper/</a>"
      ],
      "text/plain": [
       "Name   paper_id              class_label   \n",
       "Role   join_key              categorical   \n",
       "0      35         Genetic_Algorithms       \n",
       "1      40         Genetic_Algorithms       \n",
       "2      114        Reinforcement_Learning   \n",
       "3      117        Reinforcement_Learning   \n",
       "4      128        Reinforcement_Learning   \n",
       "       ...        ...                      \n",
       "2703   1154500    Case_Based               \n",
       "2704   1154520    Neural_Networks          \n",
       "2705   1154524    Rule_Learning            \n",
       "2706   1154525    Rule_Learning            \n",
       "2707   1155073    Rule_Learning            \n",
       "\n",
       "2708 rows x 2 columns\n",
       "memory usage: 0.02 MB\n",
       "name: paper\n",
       "type: getml.data.DataFrame\n",
       "url: http://localhost:1709/#/getdataframe/cora/paper/"
      ]
     },
     "execution_count": 8,
     "metadata": {},
     "output_type": "execute_result"
    }
   ],
   "source": [
    "paper.set_role(\"paper_id\", getml.data.roles.join_key)\n",
    "paper.set_role(\"class_label\", getml.data.roles.categorical)\n",
    "paper"
   ]
  },
  {
   "cell_type": "code",
   "execution_count": 9,
   "metadata": {},
   "outputs": [
    {
     "data": {
      "text/html": [
       "<table class=\"dataframe\"><thead><tr style=\"border-bottom:1pt solid LightGray;\"><th style=\"text-align: left;border-right:1pt solid LightGray;\">Name</th><th style=\"text-align: right;\">cited_paper_id</th><th style=\"text-align: right;\">citing_paper_id</th></tr><tr><th style=\"text-align: left;border-right:1pt solid LightGray;\">Role</th><td style=\"text-align: right;\"><i>join_key</i></td><td style=\"text-align: right;\"><i>join_key</i></td></tr></thead><tbody><tr style=\"border-top:1pt solid LightGray;\"><td style=\"border-right:1pt solid LightGray;\"><b>0</b></td><td>35</td><td>887</td></tr><tr><td style=\"border-right:1pt solid LightGray;\"><b>1</b></td><td>35</td><td>1033</td></tr><tr><td style=\"border-right:1pt solid LightGray;\"><b>2</b></td><td>35</td><td>1688</td></tr><tr><td style=\"border-right:1pt solid LightGray;\"><b>3</b></td><td>35</td><td>1956</td></tr><tr><td style=\"border-right:1pt solid LightGray;\"><b>4</b></td><td>35</td><td>8865</td></tr><tr><td style=\"border-right:1pt solid LightGray;\"><b> </b></td><td>...</td><td>...</td></tr><tr><td style=\"border-right:1pt solid LightGray;\"><b>5424</b></td><td>853116</td><td>19621</td></tr><tr><td style=\"border-right:1pt solid LightGray;\"><b>5425</b></td><td>853116</td><td>853155</td></tr><tr><td style=\"border-right:1pt solid LightGray;\"><b>5426</b></td><td>853118</td><td>1140289</td></tr><tr><td style=\"border-right:1pt solid LightGray;\"><b>5427</b></td><td>853155</td><td>853118</td></tr><tr><td style=\"border-right:1pt solid LightGray;\"><b>5428</b></td><td>954315</td><td>1155073</td></tr></tbody></table><br>5429 rows x 2 columns<br>memory usage: 0.04 MB<br>name: cites<br>type: getml.data.DataFrame<br>url: <a href=\"http://localhost:1709/#/getdataframe/cora/cites/\" target=\"_blank\">http://localhost:1709/#/getdataframe/cora/cites/</a>"
      ],
      "text/plain": [
       "Name   cited_paper_id   citing_paper_id   \n",
       "Role         join_key          join_key   \n",
       "0      35               887               \n",
       "1      35               1033              \n",
       "2      35               1688              \n",
       "3      35               1956              \n",
       "4      35               8865              \n",
       "       ...              ...               \n",
       "5424   853116           19621             \n",
       "5425   853116           853155            \n",
       "5426   853118           1140289           \n",
       "5427   853155           853118            \n",
       "5428   954315           1155073           \n",
       "\n",
       "5429 rows x 2 columns\n",
       "memory usage: 0.04 MB\n",
       "name: cites\n",
       "type: getml.data.DataFrame\n",
       "url: http://localhost:1709/#/getdataframe/cora/cites/"
      ]
     },
     "execution_count": 9,
     "metadata": {},
     "output_type": "execute_result"
    }
   ],
   "source": [
    "cites.set_role([\"cited_paper_id\", \"citing_paper_id\"], getml.data.roles.join_key)\n",
    "cites"
   ]
  },
  {
   "cell_type": "markdown",
   "metadata": {},
   "source": [
    "We need to separate our data set into a training, testing and validation set:"
   ]
  },
  {
   "cell_type": "code",
   "execution_count": 10,
   "metadata": {},
   "outputs": [
    {
     "data": {
      "text/html": [
       "<table class=\"dataframe\"><thead><tr style=\"border-bottom:1pt solid LightGray;\"><th style=\"text-align: left;border-right:1pt solid LightGray;\">Name </th><th style=\"text-align: right;\">paper_id</th><th style=\"text-align: right;\">word_cited_id</th></tr><tr><th style=\"text-align: left;border-right:1pt solid LightGray;\">Role </th><td style=\"text-align: right;\"><i>join_key</i></td><td style=\"text-align: right;\"><i>categorical</i></td></tr></thead><tbody><tr style=\"border-top:1pt solid LightGray;\"><td style=\"border-right:1pt solid LightGray;\"><b>0</b></td><td>35</td><td>word100</td></tr><tr><td style=\"border-right:1pt solid LightGray;\"><b>1</b></td><td>35</td><td>word1152</td></tr><tr><td style=\"border-right:1pt solid LightGray;\"><b>2</b></td><td>35</td><td>word1175</td></tr><tr><td style=\"border-right:1pt solid LightGray;\"><b>3</b></td><td>35</td><td>word1228</td></tr><tr><td style=\"border-right:1pt solid LightGray;\"><b>4</b></td><td>35</td><td>word1248</td></tr><tr><td style=\"border-right:1pt solid LightGray;\"><b> </b></td><td>...</td><td>...</td></tr><tr><td style=\"border-right:1pt solid LightGray;\"><b>49211</b></td><td>1155073</td><td>word75</td></tr><tr><td style=\"border-right:1pt solid LightGray;\"><b>49212</b></td><td>1155073</td><td>word759</td></tr><tr><td style=\"border-right:1pt solid LightGray;\"><b>49213</b></td><td>1155073</td><td>word789</td></tr><tr><td style=\"border-right:1pt solid LightGray;\"><b>49214</b></td><td>1155073</td><td>word815</td></tr><tr><td style=\"border-right:1pt solid LightGray;\"><b>49215</b></td><td>1155073</td><td>word979</td></tr></tbody></table><br>49216 rows x 2 columns<br>memory usage: 0.39 MB<br>name: content<br>type: getml.data.DataFrame<br>url: <a href=\"http://localhost:1709/#/getdataframe/cora/content/\" target=\"_blank\">http://localhost:1709/#/getdataframe/cora/content/</a>"
      ],
      "text/plain": [
       "Name    paper_id   word_cited_id   \n",
       "Role    join_key     categorical   \n",
       "0       35         word100         \n",
       "1       35         word1152        \n",
       "2       35         word1175        \n",
       "3       35         word1228        \n",
       "4       35         word1248        \n",
       "        ...        ...             \n",
       "49211   1155073    word75          \n",
       "49212   1155073    word759         \n",
       "49213   1155073    word789         \n",
       "49214   1155073    word815         \n",
       "49215   1155073    word979         \n",
       "\n",
       "49216 rows x 2 columns\n",
       "memory usage: 0.39 MB\n",
       "name: content\n",
       "type: getml.data.DataFrame\n",
       "url: http://localhost:1709/#/getdataframe/cora/content/"
      ]
     },
     "execution_count": 10,
     "metadata": {},
     "output_type": "execute_result"
    }
   ],
   "source": [
    "content.set_role(\"paper_id\", getml.data.roles.join_key)\n",
    "content.set_role(\"word_cited_id\", getml.data.roles.categorical)\n",
    "content"
   ]
  },
  {
   "cell_type": "markdown",
   "metadata": {},
   "source": [
    "We also have to separate the data set into a training and testing set:"
   ]
  },
  {
   "cell_type": "code",
   "execution_count": 11,
   "metadata": {},
   "outputs": [],
   "source": [
    "random = paper.random()\n",
    "\n",
    "is_training = (random < 0.7)\n",
    "is_test = (~is_training)\n",
    "\n",
    "data_train = paper.where(\"data_train\", is_training)\n",
    "data_test = paper.where(\"data_test\", is_test)"
   ]
  },
  {
   "cell_type": "markdown",
   "metadata": {},
   "source": [
    "The goal is to predict seven different labels. We generate a target column for each of those labels:"
   ]
  },
  {
   "cell_type": "code",
   "execution_count": 12,
   "metadata": {},
   "outputs": [
    {
     "data": {
      "text/plain": [
       "array(['Case_Based', 'Genetic_Algorithms', 'Neural_Networks',\n",
       "       'Probabilistic_Methods', 'Reinforcement_Learning', 'Rule_Learning',\n",
       "       'Theory'], dtype='<U22')"
      ]
     },
     "execution_count": 12,
     "metadata": {},
     "output_type": "execute_result"
    }
   ],
   "source": [
    "class_label = np.unique(paper.class_label.to_numpy())\n",
    "class_label"
   ]
  },
  {
   "cell_type": "code",
   "execution_count": 13,
   "metadata": {},
   "outputs": [],
   "source": [
    "def make_target_columns(data_frame):\n",
    "    for label in class_label:\n",
    "        name = \"class_label=\" + label\n",
    "        data_frame[name] = (data_frame.class_label == label)\n",
    "        data_frame.set_role(name, getml.data.roles.target)\n",
    "    data_frame.set_role(\"class_label\", getml.data.roles.unused_string)"
   ]
  },
  {
   "cell_type": "code",
   "execution_count": 14,
   "metadata": {},
   "outputs": [],
   "source": [
    "make_target_columns(data_train)\n",
    "make_target_columns(data_test)"
   ]
  },
  {
   "cell_type": "code",
   "execution_count": 15,
   "metadata": {},
   "outputs": [
    {
     "data": {
      "text/html": [
       "<table class=\"dataframe\"><thead><tr style=\"border-bottom:1pt solid LightGray;\"><th style=\"text-align: left;border-right:1pt solid LightGray;\">Name</th><th style=\"text-align: right;\">paper_id</th><th style=\"text-align: right;\">class_label=Case_Based</th><th style=\"text-align: right;\">class_label=Genetic_Algorithms</th><th style=\"text-align: right;\">class_label=Neural_Networks</th><th style=\"text-align: right;\">class_label=Probabilistic_Methods</th><th style=\"text-align: right;\">class_label=Reinforcement_Learning</th><th style=\"text-align: right;\">class_label=Rule_Learning</th><th style=\"text-align: right;\">class_label=Theory</th><th style=\"text-align: right;\">class_label</th></tr><tr><th style=\"text-align: left;border-right:1pt solid LightGray;\">Role</th><td style=\"text-align: right;\"><i>join_key</i></td><td style=\"text-align: right;\"><i>target</i></td><td style=\"text-align: right;\"><i>target</i></td><td style=\"text-align: right;\"><i>target</i></td><td style=\"text-align: right;\"><i>target</i></td><td style=\"text-align: right;\"><i>target</i></td><td style=\"text-align: right;\"><i>target</i></td><td style=\"text-align: right;\"><i>target</i></td><td style=\"text-align: right;\"><i>unused_string</i></td></tr></thead><tbody><tr style=\"border-top:1pt solid LightGray;\"><td style=\"border-right:1pt solid LightGray;\"><b>0</b></td><td>35</td><td>0</td><td>1</td><td>0</td><td>0</td><td>0</td><td>0</td><td>0</td><td>Genetic_Algorithms</td></tr><tr><td style=\"border-right:1pt solid LightGray;\"><b>1</b></td><td>114</td><td>0</td><td>0</td><td>0</td><td>0</td><td>1</td><td>0</td><td>0</td><td>Reinforcement_Learning</td></tr><tr><td style=\"border-right:1pt solid LightGray;\"><b>2</b></td><td>130</td><td>0</td><td>0</td><td>0</td><td>0</td><td>1</td><td>0</td><td>0</td><td>Reinforcement_Learning</td></tr><tr><td style=\"border-right:1pt solid LightGray;\"><b>3</b></td><td>288</td><td>0</td><td>0</td><td>0</td><td>0</td><td>1</td><td>0</td><td>0</td><td>Reinforcement_Learning</td></tr><tr><td style=\"border-right:1pt solid LightGray;\"><b>4</b></td><td>424</td><td>0</td><td>0</td><td>0</td><td>0</td><td>0</td><td>1</td><td>0</td><td>Rule_Learning</td></tr><tr><td style=\"border-right:1pt solid LightGray;\"><b> </b></td><td>...</td><td>...</td><td>...</td><td>...</td><td>...</td><td>...</td><td>...</td><td>...</td><td>...</td></tr><tr><td style=\"border-right:1pt solid LightGray;\"><b>1882</b></td><td>1154276</td><td>0</td><td>0</td><td>1</td><td>0</td><td>0</td><td>0</td><td>0</td><td>Neural_Networks</td></tr><tr><td style=\"border-right:1pt solid LightGray;\"><b>1883</b></td><td>1154459</td><td>0</td><td>1</td><td>0</td><td>0</td><td>0</td><td>0</td><td>0</td><td>Genetic_Algorithms</td></tr><tr><td style=\"border-right:1pt solid LightGray;\"><b>1884</b></td><td>1154500</td><td>1</td><td>0</td><td>0</td><td>0</td><td>0</td><td>0</td><td>0</td><td>Case_Based</td></tr><tr><td style=\"border-right:1pt solid LightGray;\"><b>1885</b></td><td>1154524</td><td>0</td><td>0</td><td>0</td><td>0</td><td>0</td><td>1</td><td>0</td><td>Rule_Learning</td></tr><tr><td style=\"border-right:1pt solid LightGray;\"><b>1886</b></td><td>1155073</td><td>0</td><td>0</td><td>0</td><td>0</td><td>0</td><td>1</td><td>0</td><td>Rule_Learning</td></tr></tbody></table><br>1887 rows x 9 columns<br>memory usage: 0.16 MB<br>name: data_train<br>type: getml.data.DataFrame<br>url: <a href=\"http://localhost:1709/#/getdataframe/cora/data_train/\" target=\"_blank\">http://localhost:1709/#/getdataframe/cora/data_train/</a>"
      ],
      "text/plain": [
       "Name   paper_id   class_label=Case_Based   class_label=Genetic_Algorithms   \n",
       "Role   join_key                   target                           target   \n",
       "0      35         0                        1                                \n",
       "1      114        0                        0                                \n",
       "2      130        0                        0                                \n",
       "3      288        0                        0                                \n",
       "4      424        0                        0                                \n",
       "       ...        ...                      ...                              \n",
       "1882   1154276    0                        0                                \n",
       "1883   1154459    0                        1                                \n",
       "1884   1154500    1                        0                                \n",
       "1885   1154524    0                        0                                \n",
       "1886   1155073    0                        0                                \n",
       "\n",
       "\n",
       "\n",
       "Name   class_label=Probabilistic_Methods   ...   class_label=Reinforcement_Learning   \n",
       "Role                              target   ...                               target   \n",
       "0      0                                   ...   0                                    \n",
       "1      0                                   ...   1                                    \n",
       "2      0                                   ...   1                                    \n",
       "3      0                                   ...   1                                    \n",
       "4      0                                   ...   0                                    \n",
       "       ...                                 ...   ...                                  \n",
       "1882   0                                   ...   0                                    \n",
       "1883   0                                   ...   0                                    \n",
       "1884   0                                   ...   0                                    \n",
       "1885   0                                   ...   0                                    \n",
       "1886   0                                   ...   0                                    \n",
       "\n",
       "\n",
       "\n",
       "Name   class_label=Rule_Learning   class_label=Theory              class_label   \n",
       "Role                      target               target            unused_string   \n",
       "0      0                           0                    Genetic_Algorithms       \n",
       "1      0                           0                    Reinforcement_Learning   \n",
       "2      0                           0                    Reinforcement_Learning   \n",
       "3      0                           0                    Reinforcement_Learning   \n",
       "4      1                           0                    Rule_Learning            \n",
       "       ...                         ...                  ...                      \n",
       "1882   0                           0                    Neural_Networks          \n",
       "1883   0                           0                    Genetic_Algorithms       \n",
       "1884   0                           0                    Case_Based               \n",
       "1885   1                           0                    Rule_Learning            \n",
       "1886   1                           0                    Rule_Learning            \n",
       "\n",
       "1887 rows x 9 columns\n",
       "memory usage: 0.16 MB\n",
       "name: data_train\n",
       "type: getml.data.DataFrame\n",
       "url: http://localhost:1709/#/getdataframe/cora/data_train/"
      ]
     },
     "execution_count": 15,
     "metadata": {},
     "output_type": "execute_result"
    }
   ],
   "source": [
    "data_train"
   ]
  },
  {
   "cell_type": "code",
   "execution_count": 16,
   "metadata": {},
   "outputs": [
    {
     "data": {
      "text/html": [
       "<table class=\"dataframe\"><thead><tr style=\"border-bottom:1pt solid LightGray;\"><th style=\"text-align: left;border-right:1pt solid LightGray;\">Name</th><th style=\"text-align: right;\">paper_id</th><th style=\"text-align: right;\">class_label=Case_Based</th><th style=\"text-align: right;\">class_label=Genetic_Algorithms</th><th style=\"text-align: right;\">class_label=Neural_Networks</th><th style=\"text-align: right;\">class_label=Probabilistic_Methods</th><th style=\"text-align: right;\">class_label=Reinforcement_Learning</th><th style=\"text-align: right;\">class_label=Rule_Learning</th><th style=\"text-align: right;\">class_label=Theory</th><th style=\"text-align: right;\">class_label</th></tr><tr><th style=\"text-align: left;border-right:1pt solid LightGray;\">Role</th><td style=\"text-align: right;\"><i>join_key</i></td><td style=\"text-align: right;\"><i>target</i></td><td style=\"text-align: right;\"><i>target</i></td><td style=\"text-align: right;\"><i>target</i></td><td style=\"text-align: right;\"><i>target</i></td><td style=\"text-align: right;\"><i>target</i></td><td style=\"text-align: right;\"><i>target</i></td><td style=\"text-align: right;\"><i>target</i></td><td style=\"text-align: right;\"><i>unused_string</i></td></tr></thead><tbody><tr style=\"border-top:1pt solid LightGray;\"><td style=\"border-right:1pt solid LightGray;\"><b>0</b></td><td>40</td><td>0</td><td>1</td><td>0</td><td>0</td><td>0</td><td>0</td><td>0</td><td>Genetic_Algorithms</td></tr><tr><td style=\"border-right:1pt solid LightGray;\"><b>1</b></td><td>117</td><td>0</td><td>0</td><td>0</td><td>0</td><td>1</td><td>0</td><td>0</td><td>Reinforcement_Learning</td></tr><tr><td style=\"border-right:1pt solid LightGray;\"><b>2</b></td><td>128</td><td>0</td><td>0</td><td>0</td><td>0</td><td>1</td><td>0</td><td>0</td><td>Reinforcement_Learning</td></tr><tr><td style=\"border-right:1pt solid LightGray;\"><b>3</b></td><td>164</td><td>0</td><td>0</td><td>0</td><td>0</td><td>0</td><td>0</td><td>1</td><td>Theory</td></tr><tr><td style=\"border-right:1pt solid LightGray;\"><b>4</b></td><td>463</td><td>1</td><td>0</td><td>0</td><td>0</td><td>0</td><td>0</td><td>0</td><td>Case_Based</td></tr><tr><td style=\"border-right:1pt solid LightGray;\"><b> </b></td><td>...</td><td>...</td><td>...</td><td>...</td><td>...</td><td>...</td><td>...</td><td>...</td><td>...</td></tr><tr><td style=\"border-right:1pt solid LightGray;\"><b>816</b></td><td>1154173</td><td>0</td><td>0</td><td>0</td><td>1</td><td>0</td><td>0</td><td>0</td><td>Probabilistic_Methods</td></tr><tr><td style=\"border-right:1pt solid LightGray;\"><b>817</b></td><td>1154229</td><td>0</td><td>0</td><td>0</td><td>1</td><td>0</td><td>0</td><td>0</td><td>Probabilistic_Methods</td></tr><tr><td style=\"border-right:1pt solid LightGray;\"><b>818</b></td><td>1154233</td><td>0</td><td>0</td><td>0</td><td>1</td><td>0</td><td>0</td><td>0</td><td>Probabilistic_Methods</td></tr><tr><td style=\"border-right:1pt solid LightGray;\"><b>819</b></td><td>1154520</td><td>0</td><td>0</td><td>1</td><td>0</td><td>0</td><td>0</td><td>0</td><td>Neural_Networks</td></tr><tr><td style=\"border-right:1pt solid LightGray;\"><b>820</b></td><td>1154525</td><td>0</td><td>0</td><td>0</td><td>0</td><td>0</td><td>1</td><td>0</td><td>Rule_Learning</td></tr></tbody></table><br>821 rows x 9 columns<br>memory usage: 0.07 MB<br>name: data_test<br>type: getml.data.DataFrame<br>url: <a href=\"http://localhost:1709/#/getdataframe/cora/data_test/\" target=\"_blank\">http://localhost:1709/#/getdataframe/cora/data_test/</a>"
      ],
      "text/plain": [
       "Name   paper_id   class_label=Case_Based   class_label=Genetic_Algorithms   \n",
       "Role   join_key                   target                           target   \n",
       "0      40         0                        1                                \n",
       "1      117        0                        0                                \n",
       "2      128        0                        0                                \n",
       "3      164        0                        0                                \n",
       "4      463        1                        0                                \n",
       "       ...        ...                      ...                              \n",
       "816    1154173    0                        0                                \n",
       "817    1154229    0                        0                                \n",
       "818    1154233    0                        0                                \n",
       "819    1154520    0                        0                                \n",
       "820    1154525    0                        0                                \n",
       "\n",
       "\n",
       "\n",
       "Name   class_label=Probabilistic_Methods   ...   class_label=Reinforcement_Learning   \n",
       "Role                              target   ...                               target   \n",
       "0      0                                   ...   0                                    \n",
       "1      0                                   ...   1                                    \n",
       "2      0                                   ...   1                                    \n",
       "3      0                                   ...   0                                    \n",
       "4      0                                   ...   0                                    \n",
       "       ...                                 ...   ...                                  \n",
       "816    1                                   ...   0                                    \n",
       "817    1                                   ...   0                                    \n",
       "818    1                                   ...   0                                    \n",
       "819    0                                   ...   0                                    \n",
       "820    0                                   ...   0                                    \n",
       "\n",
       "\n",
       "\n",
       "Name   class_label=Rule_Learning   class_label=Theory              class_label   \n",
       "Role                      target               target            unused_string   \n",
       "0      0                           0                    Genetic_Algorithms       \n",
       "1      0                           0                    Reinforcement_Learning   \n",
       "2      0                           0                    Reinforcement_Learning   \n",
       "3      0                           1                    Theory                   \n",
       "4      0                           0                    Case_Based               \n",
       "       ...                         ...                  ...                      \n",
       "816    0                           0                    Probabilistic_Methods    \n",
       "817    0                           0                    Probabilistic_Methods    \n",
       "818    0                           0                    Probabilistic_Methods    \n",
       "819    0                           0                    Neural_Networks          \n",
       "820    1                           0                    Rule_Learning            \n",
       "\n",
       "821 rows x 9 columns\n",
       "memory usage: 0.07 MB\n",
       "name: data_test\n",
       "type: getml.data.DataFrame\n",
       "url: http://localhost:1709/#/getdataframe/cora/data_test/"
      ]
     },
     "execution_count": 16,
     "metadata": {},
     "output_type": "execute_result"
    }
   ],
   "source": [
    "data_test"
   ]
  },
  {
   "cell_type": "markdown",
   "metadata": {},
   "source": [
    " "
   ]
  },
  {
   "cell_type": "markdown",
   "metadata": {},
   "source": [
    "## 2. Predictive modelling\n",
    "\n",
    "We loaded the data and defined the roles and units. Next, we create a getML pipeline for relational learning."
   ]
  },
  {
   "cell_type": "markdown",
   "metadata": {},
   "source": [
    "### 2.1 Define relational model\n",
    "\n",
    "To get started with relational learning, we need to specify the data model. Even though the data set itself is quite simple with only three tables and six columns in total, the resulting data model is actually quite complicated.\n",
    "\n",
    "That is because the class label can be predicting using three different pieces of information:\n",
    "\n",
    "- The keywords used by the paper\n",
    "- The keywords used by papers it cites and by papers that cite the paper\n",
    "- The class label of papers it cites and by papers that cite the paper"
   ]
  },
  {
   "cell_type": "code",
   "execution_count": 17,
   "metadata": {},
   "outputs": [
    {
     "data": {
      "text/html": [
       "<div style=\"height:540px;width:1160px;position:relative;\"><svg height=\"530\" width=\"1150\"><rect y=\"0\" x=\"0\" rx=\"10\" ry=\"10\" width=\"150\" height=\"90\" style=\"fill:#6829c2;stroke-width:0;\" /><text y=\"73.8\"\" x=\"75.0\" dominant-baseline=\"middle\" text-anchor=\"middle\" fill=\"white\">content</text><rect x=\"51\" y=\"10\" rx=\"4\" ry=\"4\" width=\"48\" height=\"48\" style=\" fill:#6829c2;stroke:#ffffff;stroke-width:3;\" /><line x1=\"67.0\" y1=\"10\" x2=\"67.0\" y2=\"58\" style=\"stroke:white;stroke-width:3\" /><line x1=\"83.0\" y1=\"10\" x2=\"83.0\" y2=\"58\" style=\"stroke:white;stroke-width:3\" /><line x1=\"51\" y1=\"26.0\" x2=\"99\" y2=\"26.0\" style=\"stroke:white;stroke-width:3\" /><line x1=\"51\" y1=\"42.0\" x2=\"99\" y2=\"42.0\" style=\"stroke:white;stroke-width:3\" /><rect y=\"110\" x=\"0\" rx=\"10\" ry=\"10\" width=\"150\" height=\"90\" style=\"fill:#6829c2;stroke-width:0;\" /><text y=\"183.8\"\" x=\"75.0\" dominant-baseline=\"middle\" text-anchor=\"middle\" fill=\"white\">paper</text><rect x=\"51\" y=\"120\" rx=\"4\" ry=\"4\" width=\"48\" height=\"48\" style=\" fill:#6829c2;stroke:#ffffff;stroke-width:3;\" /><line x1=\"67.0\" y1=\"120\" x2=\"67.0\" y2=\"168\" style=\"stroke:white;stroke-width:3\" /><line x1=\"83.0\" y1=\"120\" x2=\"83.0\" y2=\"168\" style=\"stroke:white;stroke-width:3\" /><line x1=\"51\" y1=\"136.0\" x2=\"99\" y2=\"136.0\" style=\"stroke:white;stroke-width:3\" /><line x1=\"51\" y1=\"152.0\" x2=\"99\" y2=\"152.0\" style=\"stroke:white;stroke-width:3\" /><rect y=\"110\" x=\"500\" rx=\"10\" ry=\"10\" width=\"150\" height=\"90\" style=\"fill:#6829c2;stroke-width:0;\" /><text y=\"183.8\"\" x=\"575.0\" dominant-baseline=\"middle\" text-anchor=\"middle\" fill=\"white\">cites</text><rect x=\"551\" y=\"120\" rx=\"4\" ry=\"4\" width=\"48\" height=\"48\" style=\" fill:#6829c2;stroke:#ffffff;stroke-width:3;\" /><line x1=\"567.0\" y1=\"120\" x2=\"567.0\" y2=\"168\" style=\"stroke:white;stroke-width:3\" /><line x1=\"583.0\" y1=\"120\" x2=\"583.0\" y2=\"168\" style=\"stroke:white;stroke-width:3\" /><line x1=\"551\" y1=\"136.0\" x2=\"599\" y2=\"136.0\" style=\"stroke:white;stroke-width:3\" /><line x1=\"551\" y1=\"152.0\" x2=\"599\" y2=\"152.0\" style=\"stroke:white;stroke-width:3\" /><rect y=\"220\" x=\"0\" rx=\"10\" ry=\"10\" width=\"150\" height=\"90\" style=\"fill:#6829c2;stroke-width:0;\" /><text y=\"293.8\"\" x=\"75.0\" dominant-baseline=\"middle\" text-anchor=\"middle\" fill=\"white\">content</text><rect x=\"51\" y=\"230\" rx=\"4\" ry=\"4\" width=\"48\" height=\"48\" style=\" fill:#6829c2;stroke:#ffffff;stroke-width:3;\" /><line x1=\"67.0\" y1=\"230\" x2=\"67.0\" y2=\"278\" style=\"stroke:white;stroke-width:3\" /><line x1=\"83.0\" y1=\"230\" x2=\"83.0\" y2=\"278\" style=\"stroke:white;stroke-width:3\" /><line x1=\"51\" y1=\"246.0\" x2=\"99\" y2=\"246.0\" style=\"stroke:white;stroke-width:3\" /><line x1=\"51\" y1=\"262.0\" x2=\"99\" y2=\"262.0\" style=\"stroke:white;stroke-width:3\" /><rect y=\"330\" x=\"0\" rx=\"10\" ry=\"10\" width=\"150\" height=\"90\" style=\"fill:#6829c2;stroke-width:0;\" /><text y=\"403.8\"\" x=\"75.0\" dominant-baseline=\"middle\" text-anchor=\"middle\" fill=\"white\">paper</text><rect x=\"51\" y=\"340\" rx=\"4\" ry=\"4\" width=\"48\" height=\"48\" style=\" fill:#6829c2;stroke:#ffffff;stroke-width:3;\" /><line x1=\"67.0\" y1=\"340\" x2=\"67.0\" y2=\"388\" style=\"stroke:white;stroke-width:3\" /><line x1=\"83.0\" y1=\"340\" x2=\"83.0\" y2=\"388\" style=\"stroke:white;stroke-width:3\" /><line x1=\"51\" y1=\"356.0\" x2=\"99\" y2=\"356.0\" style=\"stroke:white;stroke-width:3\" /><line x1=\"51\" y1=\"372.0\" x2=\"99\" y2=\"372.0\" style=\"stroke:white;stroke-width:3\" /><rect y=\"330\" x=\"500\" rx=\"10\" ry=\"10\" width=\"150\" height=\"90\" style=\"fill:#6829c2;stroke-width:0;\" /><text y=\"403.8\"\" x=\"575.0\" dominant-baseline=\"middle\" text-anchor=\"middle\" fill=\"white\">cites</text><rect x=\"551\" y=\"340\" rx=\"4\" ry=\"4\" width=\"48\" height=\"48\" style=\" fill:#6829c2;stroke:#ffffff;stroke-width:3;\" /><line x1=\"567.0\" y1=\"340\" x2=\"567.0\" y2=\"388\" style=\"stroke:white;stroke-width:3\" /><line x1=\"583.0\" y1=\"340\" x2=\"583.0\" y2=\"388\" style=\"stroke:white;stroke-width:3\" /><line x1=\"551\" y1=\"356.0\" x2=\"599\" y2=\"356.0\" style=\"stroke:white;stroke-width:3\" /><line x1=\"551\" y1=\"372.0\" x2=\"599\" y2=\"372.0\" style=\"stroke:white;stroke-width:3\" /><rect y=\"440\" x=\"500\" rx=\"10\" ry=\"10\" width=\"150\" height=\"90\" style=\"fill:#6829c2;stroke-width:0;\" /><text y=\"513.8\"\" x=\"575.0\" dominant-baseline=\"middle\" text-anchor=\"middle\" fill=\"white\">content</text><rect x=\"551\" y=\"450\" rx=\"4\" ry=\"4\" width=\"48\" height=\"48\" style=\" fill:#6829c2;stroke:#ffffff;stroke-width:3;\" /><line x1=\"567.0\" y1=\"450\" x2=\"567.0\" y2=\"498\" style=\"stroke:white;stroke-width:3\" /><line x1=\"583.0\" y1=\"450\" x2=\"583.0\" y2=\"498\" style=\"stroke:white;stroke-width:3\" /><line x1=\"551\" y1=\"466.0\" x2=\"599\" y2=\"466.0\" style=\"stroke:white;stroke-width:3\" /><line x1=\"551\" y1=\"482.0\" x2=\"599\" y2=\"482.0\" style=\"stroke:white;stroke-width:3\" /><rect y=\"440\" x=\"1000\" rx=\"10\" ry=\"10\" width=\"150\" height=\"90\" style=\"fill:#6829c2;stroke-width:0;\" /><text y=\"513.8\"\" x=\"1075.0\" dominant-baseline=\"middle\" text-anchor=\"middle\" fill=\"white\">population</text><rect x=\"1051\" y=\"450\" rx=\"4\" ry=\"4\" width=\"48\" height=\"48\" style=\" fill:#6829c2;stroke:#ffffff;stroke-width:3;\" /><line x1=\"1067.0\" y1=\"450\" x2=\"1067.0\" y2=\"498\" style=\"stroke:white;stroke-width:3\" /><line x1=\"1083.0\" y1=\"450\" x2=\"1083.0\" y2=\"498\" style=\"stroke:white;stroke-width:3\" /><line x1=\"1051\" y1=\"466.0\" x2=\"1099\" y2=\"466.0\" style=\"stroke:white;stroke-width:3\" /><line x1=\"1051\" y1=\"482.0\" x2=\"1099\" y2=\"482.0\" style=\"stroke:white;stroke-width:3\" /><line x1=\"150\" y1=\"43.0\" x2=\"573.0\" y2=\"43.0\" style=\"stroke:#808080;;stroke-width:4\" /><line x1=\"573.0\" y1=\"41.0\" x2=\"573.0\" y2=\"100\" style=\"stroke:#808080;;stroke-width:4\" /><polygon points=\"573.0, 110 567.0, 100 579.0, 100 \" style=\"fill:#808080;;stroke-width:0;\" /><rect y=\"10.0\" x=\"249.0\" rx=\"10\" ry=\"10\" width=\"150\" height=\"70\" style=\"fill:#6829c2;stroke-width:0;\" /><text dominant-baseline=\"middle\" text-anchor=\"middle\" fill=\"white\"><tspan y=\"45.0\"\" x=\"324.0\" font-size=\"7pt\" >paper_id = citing_paper_id</tspan></text><line x1=\"150\" y1=\"153.0\" x2=\"490\" y2=\"153.0\" style=\"stroke:#808080;;stroke-width:4\" /><polygon points=\"500, 153.0 490, 147.0 490, 159.0 \" style=\"fill:#808080;;stroke-width:0;\" /><rect y=\"120.0\" x=\"249.0\" rx=\"10\" ry=\"10\" width=\"150\" height=\"70\" style=\"fill:#6829c2;stroke-width:0;\" /><text dominant-baseline=\"middle\" text-anchor=\"middle\" fill=\"white\"><tspan y=\"150.0\"\" x=\"324.0\" font-size=\"7pt\" >paper_id = citing_paper_id</tspan><tspan y=\"160.0\"\" x=\"324.0\" font-size=\"7pt\" >Relationship: many-to-one</tspan></text><line x1=\"150\" y1=\"263.0\" x2=\"573.0\" y2=\"263.0\" style=\"stroke:#808080;;stroke-width:4\" /><line x1=\"573.0\" y1=\"261.0\" x2=\"573.0\" y2=\"320\" style=\"stroke:#808080;;stroke-width:4\" /><polygon points=\"573.0, 330 567.0, 320 579.0, 320 \" style=\"fill:#808080;;stroke-width:0;\" /><rect y=\"230.0\" x=\"249.0\" rx=\"10\" ry=\"10\" width=\"150\" height=\"70\" style=\"fill:#6829c2;stroke-width:0;\" /><text dominant-baseline=\"middle\" text-anchor=\"middle\" fill=\"white\"><tspan y=\"265.0\"\" x=\"324.0\" font-size=\"7pt\" >paper_id = cited_paper_id</tspan></text><line x1=\"150\" y1=\"373.0\" x2=\"490\" y2=\"373.0\" style=\"stroke:#808080;;stroke-width:4\" /><polygon points=\"500, 373.0 490, 367.0 490, 379.0 \" style=\"fill:#808080;;stroke-width:0;\" /><rect y=\"340.0\" x=\"249.0\" rx=\"10\" ry=\"10\" width=\"150\" height=\"70\" style=\"fill:#6829c2;stroke-width:0;\" /><text dominant-baseline=\"middle\" text-anchor=\"middle\" fill=\"white\"><tspan y=\"370.0\"\" x=\"324.0\" font-size=\"7pt\" >paper_id = cited_paper_id</tspan><tspan y=\"380.0\"\" x=\"324.0\" font-size=\"7pt\" >Relationship: many-to-one</tspan></text><line x1=\"650\" y1=\"153.0\" x2=\"1073.0\" y2=\"153.0\" style=\"stroke:#808080;;stroke-width:4\" /><line x1=\"1073.0\" y1=\"151.0\" x2=\"1073.0\" y2=\"430\" style=\"stroke:#808080;;stroke-width:4\" /><polygon points=\"1073.0, 440 1067.0, 430 1079.0, 430 \" style=\"fill:#808080;;stroke-width:0;\" /><rect y=\"120.0\" x=\"749.0\" rx=\"10\" ry=\"10\" width=\"150\" height=\"70\" style=\"fill:#6829c2;stroke-width:0;\" /><text dominant-baseline=\"middle\" text-anchor=\"middle\" fill=\"white\"><tspan y=\"155.0\"\" x=\"824.0\" font-size=\"7pt\" >cited_paper_id = paper_id</tspan></text><line x1=\"650\" y1=\"373.0\" x2=\"1073.0\" y2=\"373.0\" style=\"stroke:#808080;;stroke-width:4\" /><line x1=\"1073.0\" y1=\"371.0\" x2=\"1073.0\" y2=\"430\" style=\"stroke:#808080;;stroke-width:4\" /><polygon points=\"1073.0, 440 1067.0, 430 1079.0, 430 \" style=\"fill:#808080;;stroke-width:0;\" /><rect y=\"340.0\" x=\"749.0\" rx=\"10\" ry=\"10\" width=\"150\" height=\"70\" style=\"fill:#6829c2;stroke-width:0;\" /><text dominant-baseline=\"middle\" text-anchor=\"middle\" fill=\"white\"><tspan y=\"375.0\"\" x=\"824.0\" font-size=\"7pt\" >citing_paper_id = paper_id</tspan></text><line x1=\"650\" y1=\"483.0\" x2=\"990\" y2=\"483.0\" style=\"stroke:#808080;;stroke-width:4\" /><polygon points=\"1000, 483.0 990, 477.0 990, 489.0 \" style=\"fill:#808080;;stroke-width:0;\" /><rect y=\"450.0\" x=\"749.0\" rx=\"10\" ry=\"10\" width=\"150\" height=\"70\" style=\"fill:#6829c2;stroke-width:0;\" /><text dominant-baseline=\"middle\" text-anchor=\"middle\" fill=\"white\"><tspan y=\"485.0\"\" x=\"824.0\" font-size=\"7pt\" >paper_id = paper_id</tspan></text></svg></div>"
      ],
      "text/plain": [
       "placeholder   other placeholder   allow lagged targets   horizon    join keys used   memory   \n",
       "population    cites               False                  0.0       paper_id          0.0      \n",
       "population    cites               False                  0.0       paper_id          0.0      \n",
       "population    content             False                  0.0       paper_id          0.0      \n",
       "cites         content             False                  0.0       citing_paper_id   0.0      \n",
       "cites         paper               False                  0.0       citing_paper_id   0.0      \n",
       "cites         content             False                  0.0       cited_paper_id    0.0      \n",
       "cites         paper               False                  0.0       cited_paper_id    0.0      \n",
       "\n",
       "\n",
       "\n",
       "other join keys used   other time stamps used   relationship   time stamps used   \n",
       "cited_paper_id                                  many-to-many                      \n",
       "citing_paper_id                                 many-to-many                      \n",
       "paper_id                                        many-to-many                      \n",
       "paper_id                                        many-to-many                      \n",
       "paper_id                                        many-to-one                       \n",
       "paper_id                                        many-to-many                      \n",
       "paper_id                                        many-to-one                       \n",
       "\n",
       "\n",
       "\n",
       "other join keys used   upper time stamps used   \n",
       "cited_paper_id                                  \n",
       "citing_paper_id                                 \n",
       "paper_id                                        \n",
       "paper_id                                        \n",
       "paper_id                                        \n",
       "paper_id                                        \n",
       "paper_id                                        "
      ]
     },
     "execution_count": 17,
     "metadata": {},
     "output_type": "execute_result"
    }
   ],
   "source": [
    "population_ph = getml.data.Placeholder('population')\n",
    "cites_ph = getml.data.Placeholder('cites')\n",
    "cites2_ph = getml.data.Placeholder('cites')\n",
    "content_ph = getml.data.Placeholder('content')\n",
    "paper_ph = getml.data.Placeholder('paper')\n",
    "\n",
    "population_ph.join(\n",
    "    cites_ph,\n",
    "    join_key='paper_id',\n",
    "    other_join_key='cited_paper_id'\n",
    ")\n",
    "\n",
    "cites_ph.join(\n",
    "    content_ph,\n",
    "    join_key='citing_paper_id',\n",
    "    other_join_key='paper_id',\n",
    ")\n",
    "\n",
    "cites_ph.join(\n",
    "    paper_ph,\n",
    "    join_key='citing_paper_id',\n",
    "    other_join_key='paper_id',\n",
    "    relationship=getml.data.relationship.many_to_one\n",
    ")\n",
    "\n",
    "population_ph.join(\n",
    "    cites2_ph,\n",
    "    join_key='paper_id',\n",
    "    other_join_key='citing_paper_id'\n",
    ")\n",
    "\n",
    "cites2_ph.join(\n",
    "    content_ph,\n",
    "    join_key='cited_paper_id',\n",
    "    other_join_key='paper_id'\n",
    ")\n",
    "\n",
    "cites2_ph.join(\n",
    "    paper_ph,\n",
    "    join_key='cited_paper_id',\n",
    "    other_join_key='paper_id',\n",
    "    relationship=getml.data.relationship.many_to_one\n",
    ")\n",
    "\n",
    "population_ph.join(\n",
    "    content_ph,\n",
    "    join_key='paper_id'\n",
    ")\n",
    "\n",
    "population_ph"
   ]
  },
  {
   "cell_type": "markdown",
   "metadata": {},
   "source": [
    " "
   ]
  },
  {
   "cell_type": "markdown",
   "metadata": {},
   "source": [
    "### 2.2 getML pipeline"
   ]
  },
  {
   "cell_type": "markdown",
   "metadata": {},
   "source": [
    "<!-- #### 2.1.1  -->\n",
    "__Set-up the feature learner & predictor__"
   ]
  },
  {
   "cell_type": "markdown",
   "metadata": {},
   "source": [
    "We use the relboost algorithms for this problem. Because of the large number of keywords, we regularize the model a bit by requiring a minimum support for the keywords (`min_num_samples`)."
   ]
  },
  {
   "cell_type": "code",
   "execution_count": 18,
   "metadata": {},
   "outputs": [],
   "source": [
    "relboost = getml.feature_learning.RelboostModel(\n",
    "    num_features=10,\n",
    "    num_subfeatures=10,\n",
    "    loss_function=getml.feature_learning.loss_functions.CrossEntropyLoss,\n",
    "    seed=4367,\n",
    "    num_threads=1,\n",
    "    min_num_samples=30\n",
    ")\n",
    "\n",
    "predictor = getml.predictors.XGBoostClassifier()"
   ]
  },
  {
   "cell_type": "markdown",
   "metadata": {},
   "source": [
    "__Build the pipeline__"
   ]
  },
  {
   "cell_type": "code",
   "execution_count": 19,
   "metadata": {},
   "outputs": [],
   "source": [
    "peripheral_ph = [cites_ph, content_ph, paper_ph]\n",
    "\n",
    "pipe = getml.pipeline.Pipeline(\n",
    "    tags=['relboost'],\n",
    "    population=population_ph,\n",
    "    peripheral=peripheral_ph,\n",
    "    feature_learners=[relboost],\n",
    "    predictors=[predictor]\n",
    ")"
   ]
  },
  {
   "cell_type": "markdown",
   "metadata": {},
   "source": [
    " "
   ]
  },
  {
   "cell_type": "markdown",
   "metadata": {},
   "source": [
    "### 2.3 Model training"
   ]
  },
  {
   "cell_type": "code",
   "execution_count": 20,
   "metadata": {},
   "outputs": [],
   "source": [
    "peripheral = {\n",
    "    \"cites\": cites, \n",
    "    \"content\": content, \n",
    "    \"paper\": paper\n",
    "}"
   ]
  },
  {
   "cell_type": "code",
   "execution_count": 21,
   "metadata": {},
   "outputs": [
    {
     "name": "stderr",
     "output_type": "stream",
     "text": [
      "INFO [MIGHT TAKE LONG]: The number of unique entries in column 'word_cited_id' in  data frame 'content' is 1432. This might take a long time to fit. You should consider setting its role to unused_string or using it for comparison only (you can do the latter by setting a unit that contains 'comparison only').\n",
      "INFO [JOIN KEYS NOT FOUND]: When joining  data frame 'population' and the composite data frame 'cites'-'paper' that has been created by many-to-one joins or one-to-one joins over 'paper_id' and 'cited_paper_id', there are no corresponding entries for 41.759406% of entries in 'paper_id' in ' data frame 'population''. You might want to double-check your join keys.\n",
      "INFO [JOIN KEYS NOT FOUND]: When joining  data frame 'population' and the composite data frame 'cites'-'paper' that has been created by many-to-one joins or one-to-one joins over 'paper_id' and 'citing_paper_id', there are no corresponding entries for 17.700053% of entries in 'paper_id' in ' data frame 'population''. You might want to double-check your join keys.\n"
     ]
    },
    {
     "name": "stdout",
     "output_type": "stream",
     "text": [
      "Checking data model...\n"
     ]
    }
   ],
   "source": [
    "pipe.check(data_train, peripheral)"
   ]
  },
  {
   "cell_type": "markdown",
   "metadata": {},
   "source": [
    "The training process seems a bit intimidating. That is because the relboost algorithms needs to train separate models for each class label. This is due to the nature of the generated features."
   ]
  },
  {
   "cell_type": "code",
   "execution_count": 22,
   "metadata": {},
   "outputs": [
    {
     "name": "stderr",
     "output_type": "stream",
     "text": [
      "INFO [MIGHT TAKE LONG]: The number of unique entries in column 'word_cited_id' in  data frame 'content' is 1432. This might take a long time to fit. You should consider setting its role to unused_string or using it for comparison only (you can do the latter by setting a unit that contains 'comparison only').\n",
      "INFO [JOIN KEYS NOT FOUND]: When joining  data frame 'population' and the composite data frame 'cites'-'paper' that has been created by many-to-one joins or one-to-one joins over 'paper_id' and 'cited_paper_id', there are no corresponding entries for 41.759406% of entries in 'paper_id' in ' data frame 'population''. You might want to double-check your join keys.\n",
      "INFO [JOIN KEYS NOT FOUND]: When joining  data frame 'population' and the composite data frame 'cites'-'paper' that has been created by many-to-one joins or one-to-one joins over 'paper_id' and 'citing_paper_id', there are no corresponding entries for 17.700053% of entries in 'paper_id' in ' data frame 'population''. You might want to double-check your join keys.\n"
     ]
    },
    {
     "name": "stdout",
     "output_type": "stream",
     "text": [
      "Checking data model...\n",
      "\n",
      "Relboost: Training subfeatures...\n",
      "[========================================] 100%\n",
      "\n",
      "Relboost: Training subfeatures...\n",
      "[========================================] 100%\n",
      "\n",
      "Relboost: Training subfeatures...\n",
      "[========================================] 100%\n",
      "\n",
      "Relboost: Training subfeatures...\n",
      "[========================================] 100%\n",
      "\n",
      "Relboost: Building subfeatures...\n",
      "[========================================] 100%\n",
      "\n",
      "Relboost: Building subfeatures...\n",
      "[========================================] 100%\n",
      "\n",
      "Relboost: Building subfeatures...\n",
      "[========================================] 100%\n",
      "\n",
      "Relboost: Building subfeatures...\n",
      "[========================================] 100%\n",
      "\n",
      "Relboost: Training features...\n",
      "[========================================] 100%\n",
      "\n",
      "Relboost: Training subfeatures...\n",
      "[========================================] 100%\n",
      "\n",
      "Relboost: Training subfeatures...\n",
      "[========================================] 100%\n",
      "\n",
      "Relboost: Training subfeatures...\n",
      "[========================================] 100%\n",
      "\n",
      "Relboost: Training subfeatures...\n",
      "[========================================] 100%\n",
      "\n",
      "Relboost: Building subfeatures...\n",
      "[========================================] 100%\n",
      "\n",
      "Relboost: Building subfeatures...\n",
      "[========================================] 100%\n",
      "\n",
      "Relboost: Building subfeatures...\n",
      "[========================================] 100%\n",
      "\n",
      "Relboost: Building subfeatures...\n",
      "[========================================] 100%\n",
      "\n",
      "Relboost: Training features...\n",
      "[========================================] 100%\n",
      "\n",
      "Relboost: Training subfeatures...\n",
      "[========================================] 100%\n",
      "\n",
      "Relboost: Training subfeatures...\n",
      "[========================================] 100%\n",
      "\n",
      "Relboost: Training subfeatures...\n",
      "[========================================] 100%\n",
      "\n",
      "Relboost: Training subfeatures...\n",
      "[========================================] 100%\n",
      "\n",
      "Relboost: Building subfeatures...\n",
      "[========================================] 100%\n",
      "\n",
      "Relboost: Building subfeatures...\n",
      "[========================================] 100%\n",
      "\n",
      "Relboost: Building subfeatures...\n",
      "[========================================] 100%\n",
      "\n",
      "Relboost: Building subfeatures...\n",
      "[========================================] 100%\n",
      "\n",
      "Relboost: Training features...\n",
      "[========================================] 100%\n",
      "\n",
      "Relboost: Training subfeatures...\n",
      "[========================================] 100%\n",
      "\n",
      "Relboost: Training subfeatures...\n",
      "[========================================] 100%\n",
      "\n",
      "Relboost: Training subfeatures...\n",
      "[========================================] 100%\n",
      "\n",
      "Relboost: Training subfeatures...\n",
      "[========================================] 100%\n",
      "\n",
      "Relboost: Building subfeatures...\n",
      "[========================================] 100%\n",
      "\n",
      "Relboost: Building subfeatures...\n",
      "[========================================] 100%\n",
      "\n",
      "Relboost: Building subfeatures...\n",
      "[========================================] 100%\n",
      "\n",
      "Relboost: Building subfeatures...\n",
      "[========================================] 100%\n",
      "\n",
      "Relboost: Training features...\n",
      "[========================================] 100%\n",
      "\n",
      "Relboost: Training subfeatures...\n",
      "[========================================] 100%\n",
      "\n",
      "Relboost: Training subfeatures...\n",
      "[========================================] 100%\n",
      "\n",
      "Relboost: Training subfeatures...\n",
      "[========================================] 100%\n",
      "\n",
      "Relboost: Training subfeatures...\n",
      "[========================================] 100%\n",
      "\n",
      "Relboost: Building subfeatures...\n",
      "[========================================] 100%\n",
      "\n",
      "Relboost: Building subfeatures...\n",
      "[========================================] 100%\n",
      "\n",
      "Relboost: Building subfeatures...\n",
      "[========================================] 100%\n",
      "\n",
      "Relboost: Building subfeatures...\n",
      "[========================================] 100%\n",
      "\n",
      "Relboost: Training features...\n",
      "[========================================] 100%\n",
      "\n",
      "Relboost: Training subfeatures...\n",
      "[========================================] 100%\n",
      "\n",
      "Relboost: Training subfeatures...\n",
      "[========================================] 100%\n",
      "\n",
      "Relboost: Training subfeatures...\n",
      "[========================================] 100%\n",
      "\n",
      "Relboost: Training subfeatures...\n",
      "[========================================] 100%\n",
      "\n",
      "Relboost: Building subfeatures...\n",
      "[========================================] 100%\n",
      "\n",
      "Relboost: Building subfeatures...\n",
      "[========================================] 100%\n",
      "\n",
      "Relboost: Building subfeatures...\n",
      "[========================================] 100%\n",
      "\n",
      "Relboost: Building subfeatures...\n",
      "[========================================] 100%\n",
      "\n",
      "Relboost: Training features...\n",
      "[========================================] 100%\n",
      "\n",
      "Relboost: Training subfeatures...\n",
      "[========================================] 100%\n",
      "\n",
      "Relboost: Training subfeatures...\n",
      "[========================================] 100%\n",
      "\n",
      "Relboost: Training subfeatures...\n",
      "[========================================] 100%\n",
      "\n",
      "Relboost: Training subfeatures...\n",
      "[========================================] 100%\n",
      "\n",
      "Relboost: Building subfeatures...\n",
      "[========================================] 100%\n",
      "\n",
      "Relboost: Building subfeatures...\n",
      "[========================================] 100%\n",
      "\n",
      "Relboost: Building subfeatures...\n",
      "[========================================] 100%\n",
      "\n",
      "Relboost: Building subfeatures...\n",
      "[========================================] 100%\n",
      "\n",
      "Relboost: Training features...\n",
      "[========================================] 100%\n",
      "\n",
      "Relboost: Building subfeatures...\n",
      "[========================================] 100%\n",
      "\n",
      "Relboost: Building subfeatures...\n",
      "[========================================] 100%\n",
      "\n",
      "Relboost: Building subfeatures...\n",
      "[========================================] 100%\n",
      "\n",
      "Relboost: Building subfeatures...\n",
      "[========================================] 100%\n",
      "\n",
      "Relboost: Building features...\n",
      "[========================================] 100%\n",
      "\n",
      "Relboost: Building subfeatures...\n",
      "[========================================] 100%\n",
      "\n",
      "Relboost: Building subfeatures...\n",
      "[========================================] 100%\n",
      "\n",
      "Relboost: Building subfeatures...\n",
      "[========================================] 100%\n",
      "\n",
      "Relboost: Building subfeatures...\n",
      "[========================================] 100%\n",
      "\n",
      "Relboost: Building features...\n",
      "[========================================] 100%\n",
      "\n",
      "Relboost: Building subfeatures...\n",
      "[========================================] 100%\n",
      "\n",
      "Relboost: Building subfeatures...\n",
      "[========================================] 100%\n",
      "\n",
      "Relboost: Building subfeatures...\n",
      "[========================================] 100%\n",
      "\n",
      "Relboost: Building subfeatures...\n",
      "[========================================] 100%\n",
      "\n",
      "Relboost: Building features...\n",
      "[========================================] 100%\n",
      "\n",
      "Relboost: Building subfeatures...\n",
      "[========================================] 100%\n",
      "\n",
      "Relboost: Building subfeatures...\n",
      "[========================================] 100%\n",
      "\n",
      "Relboost: Building subfeatures...\n",
      "[========================================] 100%\n",
      "\n",
      "Relboost: Building subfeatures...\n",
      "[========================================] 100%\n",
      "\n",
      "Relboost: Building features...\n",
      "[========================================] 100%\n",
      "\n",
      "Relboost: Building subfeatures...\n",
      "[========================================] 100%\n",
      "\n",
      "Relboost: Building subfeatures...\n",
      "[========================================] 100%\n",
      "\n",
      "Relboost: Building subfeatures...\n",
      "[========================================] 100%\n",
      "\n",
      "Relboost: Building subfeatures...\n",
      "[========================================] 100%\n",
      "\n",
      "Relboost: Building features...\n",
      "[========================================] 100%\n",
      "\n",
      "Relboost: Building subfeatures...\n",
      "[========================================] 100%\n",
      "\n",
      "Relboost: Building subfeatures...\n",
      "[========================================] 100%\n",
      "\n",
      "Relboost: Building subfeatures...\n",
      "[========================================] 100%\n",
      "\n",
      "Relboost: Building subfeatures...\n",
      "[========================================] 100%\n",
      "\n",
      "Relboost: Building features...\n",
      "[========================================] 100%\n",
      "\n",
      "Relboost: Building subfeatures...\n",
      "[========================================] 100%\n",
      "\n",
      "Relboost: Building subfeatures...\n",
      "[========================================] 100%\n",
      "\n",
      "Relboost: Building subfeatures...\n",
      "[========================================] 100%\n",
      "\n",
      "Relboost: Building subfeatures...\n",
      "[========================================] 100%\n",
      "\n",
      "Relboost: Building features...\n",
      "[========================================] 100%\n",
      "\n",
      "XGBoost: Training as predictor...\n"
     ]
    },
    {
     "name": "stdout",
     "output_type": "stream",
     "text": [
      "[========================================] 100%\n",
      "\n",
      "XGBoost: Training as predictor...\n",
      "[========================================] 100%\n",
      "\n",
      "XGBoost: Training as predictor...\n",
      "[========================================] 100%\n",
      "\n",
      "XGBoost: Training as predictor...\n",
      "[========================================] 100%\n",
      "\n",
      "XGBoost: Training as predictor...\n",
      "[========================================] 100%\n",
      "\n",
      "XGBoost: Training as predictor...\n",
      "[========================================] 100%\n",
      "\n",
      "XGBoost: Training as predictor...\n",
      "[========================================] 100%\n",
      "\n",
      "Trained pipeline.\n",
      "Time taken: 0h:1m:56.199889\n",
      "\n"
     ]
    },
    {
     "data": {
      "text/html": [
       "<pre>Pipeline(preprocessors=[], feature_learners=['RelboostModel'], <br>         feature_selectors=[], include_categorical=False, <br>         peripheral=['cites', 'content', 'paper'], population='population', <br>         predictors=['XGBoostClassifier'], tags=['relboost'], <br>         share_selected_features=0.5)</pre><br><pre>url: <a href=\"http://localhost:1709/#/getpipeline/cora/MpiPV2/0/\" target=\"_blank\">http://localhost:1709/#/getpipeline/cora/MpiPV2/0/</a></pre>"
      ],
      "text/plain": [
       "Pipeline(preprocessors=[], feature_learners=['RelboostModel'], \n",
       "         feature_selectors=[], include_categorical=False, \n",
       "         peripheral=['cites', 'content', 'paper'], population='population', \n",
       "         predictors=['XGBoostClassifier'], tags=['relboost'], \n",
       "         share_selected_features=0.5)\n",
       "\n",
       "url: http://localhost:1709/#/getpipeline/cora/MpiPV2/0/"
      ]
     },
     "execution_count": 22,
     "metadata": {},
     "output_type": "execute_result"
    }
   ],
   "source": [
    "pipe.fit(data_train, peripheral)"
   ]
  },
  {
   "cell_type": "markdown",
   "metadata": {},
   "source": [
    " "
   ]
  },
  {
   "cell_type": "markdown",
   "metadata": {},
   "source": [
    "### 2.4 Model evaluation"
   ]
  },
  {
   "cell_type": "code",
   "execution_count": 23,
   "metadata": {
    "lines_to_next_cell": 0
   },
   "outputs": [
    {
     "name": "stdout",
     "output_type": "stream",
     "text": [
      "\n",
      "Relboost: Building subfeatures...\n",
      "[========================================] 100%\n",
      "\n",
      "Relboost: Building subfeatures...\n",
      "[========================================] 100%\n",
      "\n",
      "Relboost: Building subfeatures...\n",
      "[========================================] 100%\n",
      "\n",
      "Relboost: Building subfeatures...\n",
      "[========================================] 100%\n",
      "\n",
      "Relboost: Building features...\n",
      "[========================================] 100%\n",
      "\n",
      "Relboost: Building subfeatures...\n",
      "[========================================] 100%\n",
      "\n",
      "Relboost: Building subfeatures...\n",
      "[========================================] 100%\n",
      "\n",
      "Relboost: Building subfeatures...\n",
      "[========================================] 100%\n",
      "\n",
      "Relboost: Building subfeatures...\n",
      "[========================================] 100%\n",
      "\n",
      "Relboost: Building features...\n",
      "[========================================] 100%\n",
      "\n",
      "Relboost: Building subfeatures...\n",
      "[========================================] 100%\n",
      "\n",
      "Relboost: Building subfeatures...\n",
      "[========================================] 100%\n",
      "\n",
      "Relboost: Building subfeatures...\n",
      "[========================================] 100%\n",
      "\n",
      "Relboost: Building subfeatures...\n",
      "[========================================] 100%\n",
      "\n",
      "Relboost: Building features...\n",
      "[========================================] 100%\n",
      "\n",
      "Relboost: Building subfeatures...\n",
      "[========================================] 100%\n",
      "\n",
      "Relboost: Building subfeatures...\n",
      "[========================================] 100%\n",
      "\n",
      "Relboost: Building subfeatures...\n",
      "[========================================] 100%\n",
      "\n",
      "Relboost: Building subfeatures...\n",
      "[========================================] 100%\n",
      "\n",
      "Relboost: Building features...\n",
      "[========================================] 100%\n",
      "\n",
      "Relboost: Building subfeatures...\n",
      "[========================================] 100%\n",
      "\n",
      "Relboost: Building subfeatures...\n",
      "[========================================] 100%\n",
      "\n",
      "Relboost: Building subfeatures...\n",
      "[========================================] 100%\n",
      "\n",
      "Relboost: Building subfeatures...\n",
      "[========================================] 100%\n",
      "\n",
      "Relboost: Building features...\n",
      "[========================================] 100%\n",
      "\n",
      "Relboost: Building subfeatures...\n",
      "[========================================] 100%\n",
      "\n",
      "Relboost: Building subfeatures...\n",
      "[========================================] 100%\n",
      "\n",
      "Relboost: Building subfeatures...\n",
      "[========================================] 100%\n",
      "\n",
      "Relboost: Building subfeatures...\n",
      "[========================================] 100%\n",
      "\n",
      "Relboost: Building features...\n",
      "[========================================] 100%\n",
      "\n",
      "Relboost: Building subfeatures...\n",
      "[========================================] 100%\n",
      "\n",
      "Relboost: Building subfeatures...\n",
      "[========================================] 100%\n",
      "\n",
      "Relboost: Building subfeatures...\n",
      "[========================================] 100%\n",
      "\n",
      "Relboost: Building subfeatures...\n",
      "[========================================] 100%\n",
      "\n",
      "Relboost: Building features...\n",
      "[========================================] 100%\n",
      "\n"
     ]
    },
    {
     "data": {
      "text/html": [
       "<table class=\"dataframe\"><thead><tr style=\"border-bottom:1pt solid LightGray;\"><th style=\"text-align: left;border-right:1pt solid LightGray;\">  </th><th style=\"text-align: right;\">date time          </th><th style=\"text-align: right;\">set used  </th><th style=\"text-align: right;\">target                            </th><th style=\"text-align: right;\">accuracy          </th><th style=\"text-align: right;\">     auc</th><th style=\"text-align: right;\">cross entropy</th></tr></thead><tbody><tr style=\"border-top:1pt solid LightGray;\"><td style=\"border-right:1pt solid LightGray;\"><b> 0</b></td><td>2021-02-17 12:47:22</td><td>data_train</td><td>class_label=Case_Based            </td><td>                 1</td><td> 1.00000</td><td>      0.00837</td></tr><tr><td style=\"border-right:1pt solid LightGray;\"><b> 1</b></td><td>2021-02-17 12:47:22</td><td>data_train</td><td>class_label=Genetic_Algorithms    </td><td>                 1</td><td> 1.00000</td><td>      0.00418</td></tr><tr><td style=\"border-right:1pt solid LightGray;\"><b> 2</b></td><td>2021-02-17 12:47:22</td><td>data_train</td><td>class_label=Neural_Networks       </td><td>0.9925808161102279</td><td> 0.99949</td><td>      0.03748</td></tr><tr><td style=\"border-right:1pt solid LightGray;\"><b> 3</b></td><td>2021-02-17 12:47:22</td><td>data_train</td><td>class_label=Probabilistic_Methods </td><td>0.9978802331743508</td><td> 0.99997</td><td>      0.01420</td></tr><tr><td style=\"border-right:1pt solid LightGray;\"><b> 4</b></td><td>2021-02-17 12:47:22</td><td>data_train</td><td>class_label=Reinforcement_Learning</td><td>                 1</td><td> 1.00000</td><td>      0.00434</td></tr><tr><td style=\"border-right:1pt solid LightGray;\"><b> 5</b></td><td>2021-02-17 12:47:22</td><td>data_train</td><td>class_label=Rule_Learning         </td><td>                 1</td><td> 1.00000</td><td>      0.00305</td></tr><tr><td style=\"border-right:1pt solid LightGray;\"><b> 6</b></td><td>2021-02-17 12:47:22</td><td>data_train</td><td>class_label=Theory                </td><td>0.9973502914679385</td><td> 0.99982</td><td>      0.02350</td></tr><tr><td style=\"border-right:1pt solid LightGray;\"><b> 7</b></td><td>2021-02-17 12:47:24</td><td>data_test </td><td>class_label=Case_Based            </td><td>0.9756394640682094</td><td> 0.98008</td><td>      0.10383</td></tr><tr><td style=\"border-right:1pt solid LightGray;\"><b> 8</b></td><td>2021-02-17 12:47:24</td><td>data_test </td><td>class_label=Genetic_Algorithms    </td><td>0.9914738124238733</td><td> 0.99915</td><td>      0.03394</td></tr><tr><td style=\"border-right:1pt solid LightGray;\"><b> 9</b></td><td>2021-02-17 12:47:24</td><td>data_test </td><td>class_label=Neural_Networks       </td><td>0.9390986601705238</td><td> 0.98015</td><td>      0.18299</td></tr><tr><td style=\"border-right:1pt solid LightGray;\"><b>10</b></td><td>2021-02-17 12:47:24</td><td>data_test </td><td>class_label=Probabilistic_Methods </td><td>0.9732034104750305</td><td> 0.98735</td><td>      0.09040</td></tr><tr><td style=\"border-right:1pt solid LightGray;\"><b>11</b></td><td>2021-02-17 12:47:24</td><td>data_test </td><td>class_label=Reinforcement_Learning</td><td>0.9817295980511571</td><td> 0.97788</td><td>      0.07796</td></tr><tr><td style=\"border-right:1pt solid LightGray;\"><b>12</b></td><td>2021-02-17 12:47:24</td><td>data_test </td><td>class_label=Rule_Learning         </td><td>0.9817295980511571</td><td> 0.99183</td><td>      0.06703</td></tr><tr><td style=\"border-right:1pt solid LightGray;\"><b>13</b></td><td>2021-02-17 12:47:24</td><td>data_test </td><td>class_label=Theory                </td><td>0.9500609013398295</td><td> 0.96602</td><td>      0.16415</td></tr></tbody></table>"
      ],
      "text/plain": [
       "     date time             set used     target                               accuracy                  auc   cross entropy\n",
       " 0   2021-02-17 12:47:22   data_train   class_label=Case_Based                                1    1.00000         0.00837\n",
       " 1   2021-02-17 12:47:22   data_train   class_label=Genetic_Algorithms                        1    1.00000         0.00418\n",
       " 2   2021-02-17 12:47:22   data_train   class_label=Neural_Networks          0.9925808161102279    0.99949         0.03748\n",
       " 3   2021-02-17 12:47:22   data_train   class_label=Probabilistic_Methods    0.9978802331743508    0.99997         0.01420\n",
       " 4   2021-02-17 12:47:22   data_train   class_label=Reinforcement_Learning                    1    1.00000         0.00434\n",
       " 5   2021-02-17 12:47:22   data_train   class_label=Rule_Learning                             1    1.00000         0.00305\n",
       " 6   2021-02-17 12:47:22   data_train   class_label=Theory                   0.9973502914679385    0.99982         0.02350\n",
       " 7   2021-02-17 12:47:24   data_test    class_label=Case_Based               0.9756394640682094    0.98008         0.10383\n",
       " 8   2021-02-17 12:47:24   data_test    class_label=Genetic_Algorithms       0.9914738124238733    0.99915         0.03394\n",
       " 9   2021-02-17 12:47:24   data_test    class_label=Neural_Networks          0.9390986601705238    0.98015         0.18299\n",
       "10   2021-02-17 12:47:24   data_test    class_label=Probabilistic_Methods    0.9732034104750305    0.98735         0.09040\n",
       "11   2021-02-17 12:47:24   data_test    class_label=Reinforcement_Learning   0.9817295980511571    0.97788         0.07796\n",
       "12   2021-02-17 12:47:24   data_test    class_label=Rule_Learning            0.9817295980511571    0.99183         0.06703\n",
       "13   2021-02-17 12:47:24   data_test    class_label=Theory                   0.9500609013398295    0.96602         0.16415"
      ]
     },
     "execution_count": 23,
     "metadata": {},
     "output_type": "execute_result"
    }
   ],
   "source": [
    "pipe.score(data_test, peripheral)"
   ]
  },
  {
   "cell_type": "markdown",
   "metadata": {},
   "source": [
    "To make things a bit easier, we just look at our test results."
   ]
  },
  {
   "cell_type": "code",
   "execution_count": 24,
   "metadata": {},
   "outputs": [
    {
     "data": {
      "text/html": [
       "<table class=\"dataframe\"><thead><tr style=\"border-bottom:1pt solid LightGray;\"><th style=\"text-align: left;border-right:1pt solid LightGray;\"> </th><th style=\"text-align: right;\">date time          </th><th style=\"text-align: right;\">set used </th><th style=\"text-align: right;\">target                            </th><th style=\"text-align: right;\">accuracy</th><th style=\"text-align: right;\">     auc</th><th style=\"text-align: right;\">cross entropy</th></tr></thead><tbody><tr style=\"border-top:1pt solid LightGray;\"><td style=\"border-right:1pt solid LightGray;\"><b>0</b></td><td>2021-02-17 12:47:24</td><td>data_test</td><td>class_label=Case_Based            </td><td> 0.97564</td><td> 0.98008</td><td>      0.10383</td></tr><tr><td style=\"border-right:1pt solid LightGray;\"><b>1</b></td><td>2021-02-17 12:47:24</td><td>data_test</td><td>class_label=Genetic_Algorithms    </td><td> 0.99147</td><td> 0.99915</td><td>      0.03394</td></tr><tr><td style=\"border-right:1pt solid LightGray;\"><b>2</b></td><td>2021-02-17 12:47:24</td><td>data_test</td><td>class_label=Neural_Networks       </td><td> 0.93910</td><td> 0.98015</td><td>      0.18299</td></tr><tr><td style=\"border-right:1pt solid LightGray;\"><b>3</b></td><td>2021-02-17 12:47:24</td><td>data_test</td><td>class_label=Probabilistic_Methods </td><td> 0.97320</td><td> 0.98735</td><td>      0.09040</td></tr><tr><td style=\"border-right:1pt solid LightGray;\"><b>4</b></td><td>2021-02-17 12:47:24</td><td>data_test</td><td>class_label=Reinforcement_Learning</td><td> 0.98173</td><td> 0.97788</td><td>      0.07796</td></tr><tr><td style=\"border-right:1pt solid LightGray;\"><b>5</b></td><td>2021-02-17 12:47:24</td><td>data_test</td><td>class_label=Rule_Learning         </td><td> 0.98173</td><td> 0.99183</td><td>      0.06703</td></tr><tr><td style=\"border-right:1pt solid LightGray;\"><b>6</b></td><td>2021-02-17 12:47:24</td><td>data_test</td><td>class_label=Theory                </td><td> 0.95006</td><td> 0.96602</td><td>      0.16415</td></tr></tbody></table>"
      ],
      "text/plain": [
       "    date time             set used    target                               accuracy        auc   cross entropy\n",
       "0   2021-02-17 12:47:24   data_test   class_label=Case_Based                0.97564    0.98008         0.10383\n",
       "1   2021-02-17 12:47:24   data_test   class_label=Genetic_Algorithms        0.99147    0.99915         0.03394\n",
       "2   2021-02-17 12:47:24   data_test   class_label=Neural_Networks           0.93910    0.98015         0.18299\n",
       "3   2021-02-17 12:47:24   data_test   class_label=Probabilistic_Methods     0.97320    0.98735         0.09040\n",
       "4   2021-02-17 12:47:24   data_test   class_label=Reinforcement_Learning    0.98173    0.97788         0.07796\n",
       "5   2021-02-17 12:47:24   data_test   class_label=Rule_Learning             0.98173    0.99183         0.06703\n",
       "6   2021-02-17 12:47:24   data_test   class_label=Theory                    0.95006    0.96602         0.16415"
      ]
     },
     "execution_count": 24,
     "metadata": {},
     "output_type": "execute_result"
    }
   ],
   "source": [
    "pipe.scores.filter(lambda score: score.set_used == \"data_test\")"
   ]
  },
  {
   "cell_type": "markdown",
   "metadata": {},
   "source": [
    "We take the average of the AUC values, which is also the value that appears in the getML monitor (http://localhost:1709/#/listpipelines/cora)."
   ]
  },
  {
   "cell_type": "code",
   "execution_count": 25,
   "metadata": {},
   "outputs": [
    {
     "data": {
      "text/plain": [
       "0.9832101980839714"
      ]
     },
     "execution_count": 25,
     "metadata": {},
     "output_type": "execute_result"
    }
   ],
   "source": [
    "np.mean(pipe.auc)"
   ]
  },
  {
   "cell_type": "markdown",
   "metadata": {},
   "source": [
    "The accuracy for multiple targets can be calculated using one of two methods. The first method is to simply take the average of the pair-wise accuracy values, which is also the value that appears in the getML monitor (http://localhost:1709/#/listpipelines/cora)."
   ]
  },
  {
   "cell_type": "code",
   "execution_count": 26,
   "metadata": {},
   "outputs": [
    {
     "data": {
      "text/plain": [
       "0.9704193492256828"
      ]
     },
     "execution_count": 26,
     "metadata": {},
     "output_type": "execute_result"
    }
   ],
   "source": [
    "np.mean(pipe.accuracy)"
   ]
  },
  {
   "cell_type": "markdown",
   "metadata": {},
   "source": [
    "However, the benchmarking papers actually use a different approach: \n",
    "\n",
    "- They first generate probabilities for each of the labels:"
   ]
  },
  {
   "cell_type": "code",
   "execution_count": 27,
   "metadata": {},
   "outputs": [
    {
     "name": "stdout",
     "output_type": "stream",
     "text": [
      "\n",
      "Relboost: Building subfeatures...\n",
      "[========================================] 100%\n",
      "\n",
      "Relboost: Building subfeatures...\n",
      "[========================================] 100%\n",
      "\n",
      "Relboost: Building subfeatures...\n",
      "[========================================] 100%\n",
      "\n",
      "Relboost: Building subfeatures...\n",
      "[========================================] 100%\n",
      "\n",
      "Relboost: Building features...\n",
      "[========================================] 100%\n",
      "\n",
      "Relboost: Building subfeatures...\n",
      "[========================================] 100%\n",
      "\n",
      "Relboost: Building subfeatures...\n",
      "[========================================] 100%\n",
      "\n",
      "Relboost: Building subfeatures...\n",
      "[========================================] 100%\n",
      "\n",
      "Relboost: Building subfeatures...\n",
      "[========================================] 100%\n",
      "\n",
      "Relboost: Building features...\n",
      "[========================================] 100%\n",
      "\n",
      "Relboost: Building subfeatures...\n",
      "[========================================] 100%\n",
      "\n",
      "Relboost: Building subfeatures...\n",
      "[========================================] 100%\n",
      "\n",
      "Relboost: Building subfeatures...\n",
      "[========================================] 100%\n",
      "\n",
      "Relboost: Building subfeatures...\n",
      "[========================================] 100%\n",
      "\n",
      "Relboost: Building features...\n",
      "[========================================] 100%\n",
      "\n",
      "Relboost: Building subfeatures...\n",
      "[========================================] 100%\n",
      "\n",
      "Relboost: Building subfeatures...\n",
      "[========================================] 100%\n",
      "\n",
      "Relboost: Building subfeatures...\n",
      "[========================================] 100%\n",
      "\n",
      "Relboost: Building subfeatures...\n",
      "[========================================] 100%\n",
      "\n",
      "Relboost: Building features...\n",
      "[========================================] 100%\n",
      "\n",
      "Relboost: Building subfeatures...\n",
      "[========================================] 100%\n",
      "\n",
      "Relboost: Building subfeatures...\n",
      "[========================================] 100%\n",
      "\n",
      "Relboost: Building subfeatures...\n",
      "[========================================] 100%\n",
      "\n",
      "Relboost: Building subfeatures...\n",
      "[========================================] 100%\n",
      "\n",
      "Relboost: Building features...\n",
      "[========================================] 100%\n",
      "\n",
      "Relboost: Building subfeatures...\n",
      "[========================================] 100%\n",
      "\n",
      "Relboost: Building subfeatures...\n",
      "[========================================] 100%\n",
      "\n",
      "Relboost: Building subfeatures...\n",
      "[========================================] 100%\n",
      "\n",
      "Relboost: Building subfeatures...\n",
      "[========================================] 100%\n",
      "\n",
      "Relboost: Building features...\n",
      "[========================================] 100%\n",
      "\n",
      "Relboost: Building subfeatures...\n",
      "[========================================] 100%\n",
      "\n",
      "Relboost: Building subfeatures...\n",
      "[========================================] 100%\n",
      "\n",
      "Relboost: Building subfeatures...\n",
      "[========================================] 100%\n",
      "\n",
      "Relboost: Building subfeatures...\n",
      "[========================================] 100%\n",
      "\n",
      "Relboost: Building features...\n",
      "[========================================] 100%\n",
      "\n"
     ]
    }
   ],
   "source": [
    "probabilities = pipe.predict(data_test, peripheral)"
   ]
  },
  {
   "cell_type": "markdown",
   "metadata": {},
   "source": [
    "- They then find the class label with the highest probability:"
   ]
  },
  {
   "cell_type": "code",
   "execution_count": 28,
   "metadata": {},
   "outputs": [],
   "source": [
    "ix_max = np.argmax(probabilities, axis=1)\n",
    "predicted_labels = np.asarray([class_label[ix] for ix in ix_max])"
   ]
  },
  {
   "cell_type": "markdown",
   "metadata": {},
   "source": [
    "- They then compare that value to the actual class label:"
   ]
  },
  {
   "cell_type": "code",
   "execution_count": 29,
   "metadata": {},
   "outputs": [
    {
     "name": "stdout",
     "output_type": "stream",
     "text": [
      "Share of accurately predicted class labels:\n"
     ]
    },
    {
     "data": {
      "text/plain": [
       "0.8989037758830695"
      ]
     },
     "execution_count": 29,
     "metadata": {},
     "output_type": "execute_result"
    }
   ],
   "source": [
    "actual_labels = data_test.class_label.to_numpy()\n",
    "\n",
    "print(\"Share of accurately predicted class labels:\")\n",
    "(actual_labels == predicted_labels).sum() / len(predicted_labels)"
   ]
  },
  {
   "cell_type": "markdown",
   "metadata": {},
   "source": [
    "Since this is the method the benchmark papers use, this is the accuracy score we will report as well."
   ]
  },
  {
   "cell_type": "markdown",
   "metadata": {},
   "source": [
    " "
   ]
  },
  {
   "cell_type": "markdown",
   "metadata": {},
   "source": [
    "### 2.6 Studying features"
   ]
  },
  {
   "cell_type": "markdown",
   "metadata": {},
   "source": [
    "__Feature correlations__\n",
    "\n",
    "We want to analyze how the features are correlated with the target variables."
   ]
  },
  {
   "cell_type": "code",
   "execution_count": 30,
   "metadata": {},
   "outputs": [],
   "source": [
    "TARGET_NUM = 0"
   ]
  },
  {
   "cell_type": "code",
   "execution_count": 31,
   "metadata": {},
   "outputs": [
    {
     "data": {
      "image/png": "[encoded data removed]",
      "text/plain": [
       "<Figure size 1440x720 with 1 Axes>"
      ]
     },
     "metadata": {
      "needs_background": "light"
     },
     "output_type": "display_data"
    }
   ],
   "source": [
    "names, correlations = pipe.features.correlations(target_num=TARGET_NUM)\n",
    "\n",
    "plt.subplots(figsize=(20, 10))\n",
    "\n",
    "plt.bar(names, correlations, color='#6829c2')\n",
    "\n",
    "plt.title('Feature correlations with class label ' + class_label[TARGET_NUM])\n",
    "plt.xlabel('Features')\n",
    "plt.ylabel('Correlations')\n",
    "plt.xticks(rotation='vertical')\n",
    "plt.show()"
   ]
  },
  {
   "cell_type": "markdown",
   "metadata": {},
   "source": [
    " "
   ]
  },
  {
   "cell_type": "markdown",
   "metadata": {},
   "source": [
    "__Feature importances__\n",
    " \n",
    "Feature importances are calculated by analyzing the improvement in predictive accuracy on each node of the trees in the XGBoost predictor. They are then normalized, so that all importances add up to 100%."
   ]
  },
  {
   "cell_type": "code",
   "execution_count": 32,
   "metadata": {
    "lines_to_next_cell": 0
   },
   "outputs": [
    {
     "data": {
      "image/png": "[encoded data removed]",
      "text/plain": [
       "<Figure size 1440x720 with 1 Axes>"
      ]
     },
     "metadata": {
      "needs_background": "light"
     },
     "output_type": "display_data"
    }
   ],
   "source": [
    "names, importances = pipe.features.importances()\n",
    "\n",
    "plt.subplots(figsize=(20, 10))\n",
    "\n",
    "plt.bar(names, importances, color='#6829c2')\n",
    "\n",
    "plt.title('Feature importances for class label ' + class_label[TARGET_NUM])\n",
    "plt.xlabel('Features')\n",
    "plt.ylabel('Importances')\n",
    "plt.xticks(rotation='vertical')\n",
    "plt.show()"
   ]
  },
  {
   "cell_type": "markdown",
   "metadata": {},
   "source": [
    "  "
   ]
  },
  {
   "cell_type": "markdown",
   "metadata": {},
   "source": [
    "__Column importances__\n",
    "\n",
    "Because getML uses relational learning, we can apply the principles we used to calculate the feature importances to individual columns as well."
   ]
  },
  {
   "cell_type": "code",
   "execution_count": 33,
   "metadata": {},
   "outputs": [
    {
     "data": {
      "image/png": "[encoded data removed]",
      "text/plain": [
       "<Figure size 1440x720 with 1 Axes>"
      ]
     },
     "metadata": {
      "needs_background": "light"
     },
     "output_type": "display_data"
    }
   ],
   "source": [
    "names, importances = pipe.columns.importances(target_num=TARGET_NUM)\n",
    "\n",
    "plt.subplots(figsize=(20, 10))\n",
    "\n",
    "plt.bar(names, importances, color='#6829c2')\n",
    "\n",
    "plt.title('Columns importances for class label ' + class_label[TARGET_NUM])\n",
    "plt.xlabel('Columns')\n",
    "plt.ylabel('Importances')\n",
    "plt.xticks(rotation='vertical')\n",
    "plt.show()"
   ]
  },
  {
   "cell_type": "markdown",
   "metadata": {},
   "source": [
    " "
   ]
  },
  {
   "cell_type": "markdown",
   "metadata": {},
   "source": [
    "__Transpiling the learned features__\n",
    "\n",
    "We can also transpile the learned features to SQLite3 code. We want to show the two most important features. That is why we call the `.features.importances().` method again. The names that are returned are already sorted by importance."
   ]
  },
  {
   "cell_type": "markdown",
   "metadata": {},
   "source": [
    " "
   ]
  },
  {
   "cell_type": "code",
   "execution_count": 34,
   "metadata": {},
   "outputs": [
    {
     "data": {
      "text/markdown": [
       "```sql\n",
       "DROP TABLE IF EXISTS \"FEATURE_1_1\";\n",
       "\n",
       "CREATE TABLE \"FEATURE_1_1\" AS\n",
       "SELECT AVG( \n",
       "    CASE\n",
       "        WHEN ( COALESCE( f_1_2_16.\"feature_1_2_16\", 0.0 ) > 0.368488 ) AND ( COALESCE( f_1_2_20.\"feature_1_2_20\", 0.0 ) > 0.050289 ) AND ( COALESCE( f_1_2_7.\"feature_1_2_7\", 0.0 ) > 0.525850 ) THEN 9.387655661844962\n",
       "        WHEN ( COALESCE( f_1_2_16.\"feature_1_2_16\", 0.0 ) > 0.368488 ) AND ( COALESCE( f_1_2_20.\"feature_1_2_20\", 0.0 ) > 0.050289 ) AND ( COALESCE( f_1_2_7.\"feature_1_2_7\", 0.0 ) <= 0.525850 ) THEN 4.405980327050423\n",
       "        WHEN ( COALESCE( f_1_2_16.\"feature_1_2_16\", 0.0 ) > 0.368488 ) AND ( COALESCE( f_1_2_20.\"feature_1_2_20\", 0.0 ) <= 0.050289 ) AND ( COALESCE( f_1_2_1.\"feature_1_2_1\", 0.0 ) > 7.954124 ) THEN 7.429453275937131\n",
       "        WHEN ( COALESCE( f_1_2_16.\"feature_1_2_16\", 0.0 ) > 0.368488 ) AND ( COALESCE( f_1_2_20.\"feature_1_2_20\", 0.0 ) <= 0.050289 ) AND ( COALESCE( f_1_2_1.\"feature_1_2_1\", 0.0 ) <= 7.954124 ) THEN 2.292384363060746\n",
       "        WHEN ( COALESCE( f_1_2_16.\"feature_1_2_16\", 0.0 ) <= 0.368488 ) AND ( COALESCE( f_1_2_2.\"feature_1_2_2\", 0.0 ) > 1.624385 ) THEN 1.728736714829381\n",
       "        WHEN ( COALESCE( f_1_2_16.\"feature_1_2_16\", 0.0 ) <= 0.368488 ) AND ( COALESCE( f_1_2_2.\"feature_1_2_2\", 0.0 ) <= 1.624385 ) AND ( COALESCE( f_1_2_15.\"feature_1_2_15\", 0.0 ) > -0.003670 ) THEN -0.8026712567997233\n",
       "        WHEN ( COALESCE( f_1_2_16.\"feature_1_2_16\", 0.0 ) <= 0.368488 ) AND ( COALESCE( f_1_2_2.\"feature_1_2_2\", 0.0 ) <= 1.624385 ) AND ( COALESCE( f_1_2_15.\"feature_1_2_15\", 0.0 ) <= -0.003670 ) THEN -1.45965517276281\n",
       "        ELSE NULL\n",
       "    END\n",
       ") AS \"feature_1_1\",\n",
       "     t1.rowid AS \"rownum\"\n",
       "FROM \"population\" t1\n",
       "LEFT JOIN \"cites\" t2\n",
       "ON t1.\"paper_id\" = t2.\"citing_paper_id\"\n",
       "LEFT JOIN \"paper\" t4\n",
       "ON t2.\"cited_paper_id\" = t4.\"paper_id\"\n",
       "LEFT JOIN \"FEATURE_1_2_1\" f_1_2_1\n",
       "ON t2.rowid = f_1_2_1.\"rownum\"\n",
       "LEFT JOIN \"FEATURE_1_2_2\" f_1_2_2\n",
       "ON t2.rowid = f_1_2_2.\"rownum\"\n",
       "LEFT JOIN \"FEATURE_1_2_7\" f_1_2_7\n",
       "ON t2.rowid = f_1_2_7.\"rownum\"\n",
       "LEFT JOIN \"FEATURE_1_2_15\" f_1_2_15\n",
       "ON t2.rowid = f_1_2_15.\"rownum\"\n",
       "LEFT JOIN \"FEATURE_1_2_16\" f_1_2_16\n",
       "ON t2.rowid = f_1_2_16.\"rownum\"\n",
       "LEFT JOIN \"FEATURE_1_2_20\" f_1_2_20\n",
       "ON t2.rowid = f_1_2_20.\"rownum\"\n",
       "GROUP BY t1.rowid;\n",
       "```"
      ],
      "text/plain": [
       "DROP TABLE IF EXISTS \"FEATURE_1_1\";\n",
       "\n",
       "CREATE TABLE \"FEATURE_1_1\" AS\n",
       "SELECT AVG( \n",
       "    CASE\n",
       "        WHEN ( COALESCE( f_1_2_16.\"feature_1_2_16\", 0.0 ) > 0.368488 ) AND ( COALESCE( f_1_2_20.\"feature_1_2_20\", 0.0 ) > 0.050289 ) AND ( COALESCE( f_1_2_7.\"feature_1_2_7\", 0.0 ) > 0.525850 ) THEN 9.387655661844962\n",
       "        WHEN ( COALESCE( f_1_2_16.\"feature_1_2_16\", 0.0 ) > 0.368488 ) AND ( COALESCE( f_1_2_20.\"feature_1_2_20\", 0.0 ) > 0.050289 ) AND ( COALESCE( f_1_2_7.\"feature_1_2_7\", 0.0 ) <= 0.525850 ) THEN 4.405980327050423\n",
       "        WHEN ( COALESCE( f_1_2_16.\"feature_1_2_16\", 0.0 ) > 0.368488 ) AND ( COALESCE( f_1_2_20.\"feature_1_2_20\", 0.0 ) <= 0.050289 ) AND ( COALESCE( f_1_2_1.\"feature_1_2_1\", 0.0 ) > 7.954124 ) THEN 7.429453275937131\n",
       "        WHEN ( COALESCE( f_1_2_16.\"feature_1_2_16\", 0.0 ) > 0.368488 ) AND ( COALESCE( f_1_2_20.\"feature_1_2_20\", 0.0 ) <= 0.050289 ) AND ( COALESCE( f_1_2_1.\"feature_1_2_1\", 0.0 ) <= 7.954124 ) THEN 2.292384363060746\n",
       "        WHEN ( COALESCE( f_1_2_16.\"feature_1_2_16\", 0.0 ) <= 0.368488 ) AND ( COALESCE( f_1_2_2.\"feature_1_2_2\", 0.0 ) > 1.624385 ) THEN 1.728736714829381\n",
       "        WHEN ( COALESCE( f_1_2_16.\"feature_1_2_16\", 0.0 ) <= 0.368488 ) AND ( COALESCE( f_1_2_2.\"feature_1_2_2\", 0.0 ) <= 1.624385 ) AND ( COALESCE( f_1_2_15.\"feature_1_2_15\", 0.0 ) > -0.003670 ) THEN -0.8026712567997233\n",
       "        WHEN ( COALESCE( f_1_2_16.\"feature_1_2_16\", 0.0 ) <= 0.368488 ) AND ( COALESCE( f_1_2_2.\"feature_1_2_2\", 0.0 ) <= 1.624385 ) AND ( COALESCE( f_1_2_15.\"feature_1_2_15\", 0.0 ) <= -0.003670 ) THEN -1.45965517276281\n",
       "        ELSE NULL\n",
       "    END\n",
       ") AS \"feature_1_1\",\n",
       "     t1.rowid AS \"rownum\"\n",
       "FROM \"population\" t1\n",
       "LEFT JOIN \"cites\" t2\n",
       "ON t1.\"paper_id\" = t2.\"citing_paper_id\"\n",
       "LEFT JOIN \"paper\" t4\n",
       "ON t2.\"cited_paper_id\" = t4.\"paper_id\"\n",
       "LEFT JOIN \"FEATURE_1_2_1\" f_1_2_1\n",
       "ON t2.rowid = f_1_2_1.\"rownum\"\n",
       "LEFT JOIN \"FEATURE_1_2_2\" f_1_2_2\n",
       "ON t2.rowid = f_1_2_2.\"rownum\"\n",
       "LEFT JOIN \"FEATURE_1_2_7\" f_1_2_7\n",
       "ON t2.rowid = f_1_2_7.\"rownum\"\n",
       "LEFT JOIN \"FEATURE_1_2_15\" f_1_2_15\n",
       "ON t2.rowid = f_1_2_15.\"rownum\"\n",
       "LEFT JOIN \"FEATURE_1_2_16\" f_1_2_16\n",
       "ON t2.rowid = f_1_2_16.\"rownum\"\n",
       "LEFT JOIN \"FEATURE_1_2_20\" f_1_2_20\n",
       "ON t2.rowid = f_1_2_20.\"rownum\"\n",
       "GROUP BY t1.rowid;"
      ]
     },
     "execution_count": 34,
     "metadata": {},
     "output_type": "execute_result"
    }
   ],
   "source": [
    "names, _ = pipe.features.importances(target_num=TARGET_NUM)\n",
    "\n",
    "pipe.features.to_sql()[names[0]]"
   ]
  },
  {
   "cell_type": "code",
   "execution_count": 35,
   "metadata": {},
   "outputs": [
    {
     "data": {
      "text/markdown": [
       "```sql\n",
       "DROP TABLE IF EXISTS \"FEATURE_1_2_1\";\n",
       "\n",
       "CREATE TABLE \"FEATURE_1_2_1\" AS\n",
       "SELECT AVG( \n",
       "    CASE\n",
       "        WHEN ( t4.\"class_label\" IN ( 'Case_Based' ) ) AND ( t2.\"word_cited_id\" IN ( 'word508', 'word1076', 'word1150', 'word1204' ) ) AND ( t2.\"word_cited_id\" IN ( 'word508', 'word1150' ) ) THEN -33.15652041576344\n",
       "        WHEN ( t4.\"class_label\" IN ( 'Case_Based' ) ) AND ( t2.\"word_cited_id\" IN ( 'word508', 'word1076', 'word1150', 'word1204' ) ) AND ( t2.\"word_cited_id\" NOT IN ( 'word508', 'word1150' ) ) THEN -19.0593646925699\n",
       "        WHEN ( t4.\"class_label\" IN ( 'Case_Based' ) ) AND ( t2.\"word_cited_id\" NOT IN ( 'word508', 'word1076', 'word1150', 'word1204' ) ) AND ( t2.\"word_cited_id\" IN ( 'word1398' ) ) THEN 52.37624909130534\n",
       "        WHEN ( t4.\"class_label\" IN ( 'Case_Based' ) ) AND ( t2.\"word_cited_id\" NOT IN ( 'word508', 'word1076', 'word1150', 'word1204' ) ) AND ( t2.\"word_cited_id\" NOT IN ( 'word1398' ) ) THEN 9.72784397318795\n",
       "        WHEN ( t4.\"class_label\" NOT IN ( 'Case_Based' ) ) AND ( t2.\"word_cited_id\" IN ( 'word100', 'word1228', 'word1248', 'word1250', 'word1306', 'word141', 'word20', 'word386', 'word465', 'word496', 'word639', 'word661', 'word749', 'word775', 'word866', 'word1006', 'word1139', 'word1171', 'word1178', 'word1275', 'word1293', 'word293', 'word730', 'word1133', 'word264', 'word332', 'word1072', 'word1210', 'word1329', 'word213', 'word238', 'word511', 'word649', 'word778', 'word875', 'word916', 'word960', 'word1231', 'word1394', 'word188', 'word42', 'word506', 'word582', 'word127', 'word1309', 'word1382', 'word204', 'word285', 'word1260', 'word1339', 'word759', 'word922', 'word1300', 'word1350', 'word136', 'word724', 'word781', 'word1349', 'word1055', 'word1061', 'word1292', 'word667', 'word1315', 'word60', 'word725', 'word813', 'word1424', 'word3', 'word52', 'word703', 'word784', 'word1080', 'word40', 'word475', 'word65', 'word66', 'word764', 'word1067', 'word1340', 'word1357', 'word158', 'word457', 'word534', 'word472', 'word565', 'word587', 'word68', 'word82', 'word1209', 'word1332', 'word1073', 'word39', 'word396', 'word625', 'word750', 'word779', 'word1390', 'word169', 'word177', 'word697', 'word79', 'word930', 'word1291', 'word1180', 'word549', 'word895', 'word98', 'word300', 'word379', 'word626', 'word912', 'word974', 'word861', 'word90', 'word1393', 'word702', 'word820', 'word828', 'word1356', 'word592', 'word206', 'word399', 'word1273', 'word1296', 'word1358', 'word1362', 'word1385', 'word446', 'word544', 'word559', 'word86', 'word448', 'word1167', 'word1036', 'word1098', 'word1110', 'word137', 'word403', 'word447', 'word598', 'word695', 'word78', 'word698', 'word765', 'word1432', 'word611', 'word214', 'word1331', 'word946', 'word641', 'word59', 'word1387', 'word53', 'word81', 'word699', 'word811', 'word1235', 'word1206', 'word927', 'word1335', 'word368', 'word99', 'word1028', 'word180', 'word331', 'word435', 'word817', 'word855', 'word129', 'word515', 'word62', 'word925', 'word1274', 'word1361', 'word913', 'word968', 'word1118', 'word537', 'word878', 'word1188', 'word1427', 'word239', 'word932', 'word1145', 'word1173', 'word510', 'word193', 'word1377', 'word662', 'word1414', 'word1157', 'word132', 'word152', 'word147', 'word818', 'word700', 'word1115', 'word134', 'word923', 'word27', 'word306', 'word694', 'word752', 'word535', 'word809', 'word97', 'word4', 'word251', 'word522', 'word1023', 'word958', 'word979', 'word987', 'word1082', 'word1425', 'word248', 'word1092', 'word1053', 'word394', 'word1074', 'word938', 'word1392', 'word924', 'word1237', 'word195', 'word58', 'word787', 'word1256', 'word255', 'word654', 'word940', 'word972', 'word426', 'word988', 'word1176', 'word1346', 'word686', 'word480', 'word1225', 'word795', 'word822', 'word1413', 'word1415', 'word683', 'word1430' ) ) AND ( t2.\"word_cited_id\" IN ( 'word1006', 'word1171', 'word1178', 'word730', 'word1133', 'word264', 'word332', 'word213', 'word511', 'word1231', 'word42', 'word506', 'word582', 'word127', 'word1309', 'word1382', 'word204', 'word1260', 'word922', 'word724', 'word781', 'word1055', 'word1315', 'word725', 'word3', 'word703', 'word784', 'word475', 'word65', 'word66', 'word764', 'word1067', 'word1357', 'word534', 'word472', 'word565', 'word68', 'word82', 'word1332', 'word1073', 'word39', 'word750', 'word779', 'word697', 'word79', 'word1291', 'word1180', 'word549', 'word895', 'word626', 'word861', 'word1393', 'word702', 'word820', 'word828', 'word206', 'word399', 'word1167', 'word1036', 'word1098', 'word698', 'word765', 'word214', 'word1331', 'word946', 'word59', 'word1387', 'word53', 'word1206', 'word368', 'word99', 'word180', 'word331', 'word129', 'word515', 'word62', 'word1361', 'word913', 'word537', 'word1427', 'word239', 'word932', 'word1173', 'word510', 'word193', 'word1377', 'word1414', 'word1157', 'word818', 'word700', 'word1115', 'word134', 'word923', 'word27', 'word306', 'word535', 'word97', 'word958', 'word979', 'word987', 'word1425', 'word394', 'word1074', 'word195', 'word58', 'word787', 'word940', 'word426', 'word988', 'word480', 'word1225' ) ) THEN -5.282206527287332\n",
       "        WHEN ( t4.\"class_label\" NOT IN ( 'Case_Based' ) ) AND ( t2.\"word_cited_id\" IN ( 'word100', 'word1228', 'word1248', 'word1250', 'word1306', 'word141', 'word20', 'word386', 'word465', 'word496', 'word639', 'word661', 'word749', 'word775', 'word866', 'word1006', 'word1139', 'word1171', 'word1178', 'word1275', 'word1293', 'word293', 'word730', 'word1133', 'word264', 'word332', 'word1072', 'word1210', 'word1329', 'word213', 'word238', 'word511', 'word649', 'word778', 'word875', 'word916', 'word960', 'word1231', 'word1394', 'word188', 'word42', 'word506', 'word582', 'word127', 'word1309', 'word1382', 'word204', 'word285', 'word1260', 'word1339', 'word759', 'word922', 'word1300', 'word1350', 'word136', 'word724', 'word781', 'word1349', 'word1055', 'word1061', 'word1292', 'word667', 'word1315', 'word60', 'word725', 'word813', 'word1424', 'word3', 'word52', 'word703', 'word784', 'word1080', 'word40', 'word475', 'word65', 'word66', 'word764', 'word1067', 'word1340', 'word1357', 'word158', 'word457', 'word534', 'word472', 'word565', 'word587', 'word68', 'word82', 'word1209', 'word1332', 'word1073', 'word39', 'word396', 'word625', 'word750', 'word779', 'word1390', 'word169', 'word177', 'word697', 'word79', 'word930', 'word1291', 'word1180', 'word549', 'word895', 'word98', 'word300', 'word379', 'word626', 'word912', 'word974', 'word861', 'word90', 'word1393', 'word702', 'word820', 'word828', 'word1356', 'word592', 'word206', 'word399', 'word1273', 'word1296', 'word1358', 'word1362', 'word1385', 'word446', 'word544', 'word559', 'word86', 'word448', 'word1167', 'word1036', 'word1098', 'word1110', 'word137', 'word403', 'word447', 'word598', 'word695', 'word78', 'word698', 'word765', 'word1432', 'word611', 'word214', 'word1331', 'word946', 'word641', 'word59', 'word1387', 'word53', 'word81', 'word699', 'word811', 'word1235', 'word1206', 'word927', 'word1335', 'word368', 'word99', 'word1028', 'word180', 'word331', 'word435', 'word817', 'word855', 'word129', 'word515', 'word62', 'word925', 'word1274', 'word1361', 'word913', 'word968', 'word1118', 'word537', 'word878', 'word1188', 'word1427', 'word239', 'word932', 'word1145', 'word1173', 'word510', 'word193', 'word1377', 'word662', 'word1414', 'word1157', 'word132', 'word152', 'word147', 'word818', 'word700', 'word1115', 'word134', 'word923', 'word27', 'word306', 'word694', 'word752', 'word535', 'word809', 'word97', 'word4', 'word251', 'word522', 'word1023', 'word958', 'word979', 'word987', 'word1082', 'word1425', 'word248', 'word1092', 'word1053', 'word394', 'word1074', 'word938', 'word1392', 'word924', 'word1237', 'word195', 'word58', 'word787', 'word1256', 'word255', 'word654', 'word940', 'word972', 'word426', 'word988', 'word1176', 'word1346', 'word686', 'word480', 'word1225', 'word795', 'word822', 'word1413', 'word1415', 'word683', 'word1430' ) ) AND ( t2.\"word_cited_id\" NOT IN ( 'word1006', 'word1171', 'word1178', 'word730', 'word1133', 'word264', 'word332', 'word213', 'word511', 'word1231', 'word42', 'word506', 'word582', 'word127', 'word1309', 'word1382', 'word204', 'word1260', 'word922', 'word724', 'word781', 'word1055', 'word1315', 'word725', 'word3', 'word703', 'word784', 'word475', 'word65', 'word66', 'word764', 'word1067', 'word1357', 'word534', 'word472', 'word565', 'word68', 'word82', 'word1332', 'word1073', 'word39', 'word750', 'word779', 'word697', 'word79', 'word1291', 'word1180', 'word549', 'word895', 'word626', 'word861', 'word1393', 'word702', 'word820', 'word828', 'word206', 'word399', 'word1167', 'word1036', 'word1098', 'word698', 'word765', 'word214', 'word1331', 'word946', 'word59', 'word1387', 'word53', 'word1206', 'word368', 'word99', 'word180', 'word331', 'word129', 'word515', 'word62', 'word1361', 'word913', 'word537', 'word1427', 'word239', 'word932', 'word1173', 'word510', 'word193', 'word1377', 'word1414', 'word1157', 'word818', 'word700', 'word1115', 'word134', 'word923', 'word27', 'word306', 'word535', 'word97', 'word958', 'word979', 'word987', 'word1425', 'word394', 'word1074', 'word195', 'word58', 'word787', 'word940', 'word426', 'word988', 'word480', 'word1225' ) ) THEN -1.778052583320366\n",
       "        WHEN ( t4.\"class_label\" NOT IN ( 'Case_Based' ) ) AND ( t2.\"word_cited_id\" NOT IN ( 'word100', 'word1228', 'word1248', 'word1250', 'word1306', 'word141', 'word20', 'word386', 'word465', 'word496', 'word639', 'word661', 'word749', 'word775', 'word866', 'word1006', 'word1139', 'word1171', 'word1178', 'word1275', 'word1293', 'word293', 'word730', 'word1133', 'word264', 'word332', 'word1072', 'word1210', 'word1329', 'word213', 'word238', 'word511', 'word649', 'word778', 'word875', 'word916', 'word960', 'word1231', 'word1394', 'word188', 'word42', 'word506', 'word582', 'word127', 'word1309', 'word1382', 'word204', 'word285', 'word1260', 'word1339', 'word759', 'word922', 'word1300', 'word1350', 'word136', 'word724', 'word781', 'word1349', 'word1055', 'word1061', 'word1292', 'word667', 'word1315', 'word60', 'word725', 'word813', 'word1424', 'word3', 'word52', 'word703', 'word784', 'word1080', 'word40', 'word475', 'word65', 'word66', 'word764', 'word1067', 'word1340', 'word1357', 'word158', 'word457', 'word534', 'word472', 'word565', 'word587', 'word68', 'word82', 'word1209', 'word1332', 'word1073', 'word39', 'word396', 'word625', 'word750', 'word779', 'word1390', 'word169', 'word177', 'word697', 'word79', 'word930', 'word1291', 'word1180', 'word549', 'word895', 'word98', 'word300', 'word379', 'word626', 'word912', 'word974', 'word861', 'word90', 'word1393', 'word702', 'word820', 'word828', 'word1356', 'word592', 'word206', 'word399', 'word1273', 'word1296', 'word1358', 'word1362', 'word1385', 'word446', 'word544', 'word559', 'word86', 'word448', 'word1167', 'word1036', 'word1098', 'word1110', 'word137', 'word403', 'word447', 'word598', 'word695', 'word78', 'word698', 'word765', 'word1432', 'word611', 'word214', 'word1331', 'word946', 'word641', 'word59', 'word1387', 'word53', 'word81', 'word699', 'word811', 'word1235', 'word1206', 'word927', 'word1335', 'word368', 'word99', 'word1028', 'word180', 'word331', 'word435', 'word817', 'word855', 'word129', 'word515', 'word62', 'word925', 'word1274', 'word1361', 'word913', 'word968', 'word1118', 'word537', 'word878', 'word1188', 'word1427', 'word239', 'word932', 'word1145', 'word1173', 'word510', 'word193', 'word1377', 'word662', 'word1414', 'word1157', 'word132', 'word152', 'word147', 'word818', 'word700', 'word1115', 'word134', 'word923', 'word27', 'word306', 'word694', 'word752', 'word535', 'word809', 'word97', 'word4', 'word251', 'word522', 'word1023', 'word958', 'word979', 'word987', 'word1082', 'word1425', 'word248', 'word1092', 'word1053', 'word394', 'word1074', 'word938', 'word1392', 'word924', 'word1237', 'word195', 'word58', 'word787', 'word1256', 'word255', 'word654', 'word940', 'word972', 'word426', 'word988', 'word1176', 'word1346', 'word686', 'word480', 'word1225', 'word795', 'word822', 'word1413', 'word1415', 'word683', 'word1430' ) ) AND ( t2.\"word_cited_id\" IN ( 'word1152', 'word1175', 'word192', 'word508', 'word581', 'word1076', 'word1132', 'word1150', 'word126', 'word1307', 'word1264', 'word735', 'word1172', 'word212', 'word989', 'word1267', 'word133', 'word337', 'word360', 'word94', 'word1258', 'word1263', 'word756', 'word89', 'word1144', 'word1353', 'word1077', 'word1281', 'word275', 'word541', 'word620', 'word704', 'word736', 'word755', 'word815', 'word1050', 'word1204', 'word1302', 'word624', 'word1119', 'word1398', 'word936', 'word5', 'word531', 'word1333', 'word1097', 'word757', 'word1111', 'word1423', 'word423', 'word726', 'word727', 'word83', 'word370', 'word378', 'word174', 'word311', 'word369', 'word1012', 'word1124', 'word1380', 'word1208', 'word1354', 'word589', 'word1297', 'word1304', 'word1321', 'word616', 'word676', 'word716', 'word876', 'word1179', 'word1255', 'word235', 'word1426', 'word1160', 'word970', 'word1370', 'word1262', 'word761', 'word1026', 'word648', 'word832', 'word1213', 'word1207', 'word1268', 'word1334', 'word417', 'word476', 'word262', 'word282', 'word87', 'word26', 'word1328', 'word1337', 'word229', 'word1199', 'word470', 'word131', 'word382', 'word119', 'word418', 'word719', 'word906' ) ) THEN 3.588043142902754\n",
       "        WHEN ( t4.\"class_label\" NOT IN ( 'Case_Based' ) ) AND ( t2.\"word_cited_id\" NOT IN ( 'word100', 'word1228', 'word1248', 'word1250', 'word1306', 'word141', 'word20', 'word386', 'word465', 'word496', 'word639', 'word661', 'word749', 'word775', 'word866', 'word1006', 'word1139', 'word1171', 'word1178', 'word1275', 'word1293', 'word293', 'word730', 'word1133', 'word264', 'word332', 'word1072', 'word1210', 'word1329', 'word213', 'word238', 'word511', 'word649', 'word778', 'word875', 'word916', 'word960', 'word1231', 'word1394', 'word188', 'word42', 'word506', 'word582', 'word127', 'word1309', 'word1382', 'word204', 'word285', 'word1260', 'word1339', 'word759', 'word922', 'word1300', 'word1350', 'word136', 'word724', 'word781', 'word1349', 'word1055', 'word1061', 'word1292', 'word667', 'word1315', 'word60', 'word725', 'word813', 'word1424', 'word3', 'word52', 'word703', 'word784', 'word1080', 'word40', 'word475', 'word65', 'word66', 'word764', 'word1067', 'word1340', 'word1357', 'word158', 'word457', 'word534', 'word472', 'word565', 'word587', 'word68', 'word82', 'word1209', 'word1332', 'word1073', 'word39', 'word396', 'word625', 'word750', 'word779', 'word1390', 'word169', 'word177', 'word697', 'word79', 'word930', 'word1291', 'word1180', 'word549', 'word895', 'word98', 'word300', 'word379', 'word626', 'word912', 'word974', 'word861', 'word90', 'word1393', 'word702', 'word820', 'word828', 'word1356', 'word592', 'word206', 'word399', 'word1273', 'word1296', 'word1358', 'word1362', 'word1385', 'word446', 'word544', 'word559', 'word86', 'word448', 'word1167', 'word1036', 'word1098', 'word1110', 'word137', 'word403', 'word447', 'word598', 'word695', 'word78', 'word698', 'word765', 'word1432', 'word611', 'word214', 'word1331', 'word946', 'word641', 'word59', 'word1387', 'word53', 'word81', 'word699', 'word811', 'word1235', 'word1206', 'word927', 'word1335', 'word368', 'word99', 'word1028', 'word180', 'word331', 'word435', 'word817', 'word855', 'word129', 'word515', 'word62', 'word925', 'word1274', 'word1361', 'word913', 'word968', 'word1118', 'word537', 'word878', 'word1188', 'word1427', 'word239', 'word932', 'word1145', 'word1173', 'word510', 'word193', 'word1377', 'word662', 'word1414', 'word1157', 'word132', 'word152', 'word147', 'word818', 'word700', 'word1115', 'word134', 'word923', 'word27', 'word306', 'word694', 'word752', 'word535', 'word809', 'word97', 'word4', 'word251', 'word522', 'word1023', 'word958', 'word979', 'word987', 'word1082', 'word1425', 'word248', 'word1092', 'word1053', 'word394', 'word1074', 'word938', 'word1392', 'word924', 'word1237', 'word195', 'word58', 'word787', 'word1256', 'word255', 'word654', 'word940', 'word972', 'word426', 'word988', 'word1176', 'word1346', 'word686', 'word480', 'word1225', 'word795', 'word822', 'word1413', 'word1415', 'word683', 'word1430' ) ) AND ( t2.\"word_cited_id\" NOT IN ( 'word1152', 'word1175', 'word192', 'word508', 'word581', 'word1076', 'word1132', 'word1150', 'word126', 'word1307', 'word1264', 'word735', 'word1172', 'word212', 'word989', 'word1267', 'word133', 'word337', 'word360', 'word94', 'word1258', 'word1263', 'word756', 'word89', 'word1144', 'word1353', 'word1077', 'word1281', 'word275', 'word541', 'word620', 'word704', 'word736', 'word755', 'word815', 'word1050', 'word1204', 'word1302', 'word624', 'word1119', 'word1398', 'word936', 'word5', 'word531', 'word1333', 'word1097', 'word757', 'word1111', 'word1423', 'word423', 'word726', 'word727', 'word83', 'word370', 'word378', 'word174', 'word311', 'word369', 'word1012', 'word1124', 'word1380', 'word1208', 'word1354', 'word589', 'word1297', 'word1304', 'word1321', 'word616', 'word676', 'word716', 'word876', 'word1179', 'word1255', 'word235', 'word1426', 'word1160', 'word970', 'word1370', 'word1262', 'word761', 'word1026', 'word648', 'word832', 'word1213', 'word1207', 'word1268', 'word1334', 'word417', 'word476', 'word262', 'word282', 'word87', 'word26', 'word1328', 'word1337', 'word229', 'word1199', 'word470', 'word131', 'word382', 'word119', 'word418', 'word719', 'word906' ) ) THEN -0.05393981502907996\n",
       "        ELSE NULL\n",
       "    END\n",
       ") AS \"feature_1_2_1\",\n",
       "     t1.rowid AS \"rownum\"\n",
       "FROM \"cites\" t1\n",
       "LEFT JOIN \"content\" t2\n",
       "ON t1.\"cited_paper_id\" = t2.\"paper_id\"\n",
       "LEFT JOIN \"paper\" t4\n",
       "ON t1.\"cited_paper_id\" = t4.\"paper_id\"\n",
       "GROUP BY t1.rowid;\n",
       "```"
      ],
      "text/plain": [
       "DROP TABLE IF EXISTS \"FEATURE_1_2_1\";\n",
       "\n",
       "CREATE TABLE \"FEATURE_1_2_1\" AS\n",
       "SELECT AVG( \n",
       "    CASE\n",
       "        WHEN ( t4.\"class_label\" IN ( 'Case_Based' ) ) AND ( t2.\"word_cited_id\" IN ( 'word508', 'word1076', 'word1150', 'word1204' ) ) AND ( t2.\"word_cited_id\" IN ( 'word508', 'word1150' ) ) THEN -33.15652041576344\n",
       "        WHEN ( t4.\"class_label\" IN ( 'Case_Based' ) ) AND ( t2.\"word_cited_id\" IN ( 'word508', 'word1076', 'word1150', 'word1204' ) ) AND ( t2.\"word_cited_id\" NOT IN ( 'word508', 'word1150' ) ) THEN -19.0593646925699\n",
       "        WHEN ( t4.\"class_label\" IN ( 'Case_Based' ) ) AND ( t2.\"word_cited_id\" NOT IN ( 'word508', 'word1076', 'word1150', 'word1204' ) ) AND ( t2.\"word_cited_id\" IN ( 'word1398' ) ) THEN 52.37624909130534\n",
       "        WHEN ( t4.\"class_label\" IN ( 'Case_Based' ) ) AND ( t2.\"word_cited_id\" NOT IN ( 'word508', 'word1076', 'word1150', 'word1204' ) ) AND ( t2.\"word_cited_id\" NOT IN ( 'word1398' ) ) THEN 9.72784397318795\n",
       "        WHEN ( t4.\"class_label\" NOT IN ( 'Case_Based' ) ) AND ( t2.\"word_cited_id\" IN ( 'word100', 'word1228', 'word1248', 'word1250', 'word1306', 'word141', 'word20', 'word386', 'word465', 'word496', 'word639', 'word661', 'word749', 'word775', 'word866', 'word1006', 'word1139', 'word1171', 'word1178', 'word1275', 'word1293', 'word293', 'word730', 'word1133', 'word264', 'word332', 'word1072', 'word1210', 'word1329', 'word213', 'word238', 'word511', 'word649', 'word778', 'word875', 'word916', 'word960', 'word1231', 'word1394', 'word188', 'word42', 'word506', 'word582', 'word127', 'word1309', 'word1382', 'word204', 'word285', 'word1260', 'word1339', 'word759', 'word922', 'word1300', 'word1350', 'word136', 'word724', 'word781', 'word1349', 'word1055', 'word1061', 'word1292', 'word667', 'word1315', 'word60', 'word725', 'word813', 'word1424', 'word3', 'word52', 'word703', 'word784', 'word1080', 'word40', 'word475', 'word65', 'word66', 'word764', 'word1067', 'word1340', 'word1357', 'word158', 'word457', 'word534', 'word472', 'word565', 'word587', 'word68', 'word82', 'word1209', 'word1332', 'word1073', 'word39', 'word396', 'word625', 'word750', 'word779', 'word1390', 'word169', 'word177', 'word697', 'word79', 'word930', 'word1291', 'word1180', 'word549', 'word895', 'word98', 'word300', 'word379', 'word626', 'word912', 'word974', 'word861', 'word90', 'word1393', 'word702', 'word820', 'word828', 'word1356', 'word592', 'word206', 'word399', 'word1273', 'word1296', 'word1358', 'word1362', 'word1385', 'word446', 'word544', 'word559', 'word86', 'word448', 'word1167', 'word1036', 'word1098', 'word1110', 'word137', 'word403', 'word447', 'word598', 'word695', 'word78', 'word698', 'word765', 'word1432', 'word611', 'word214', 'word1331', 'word946', 'word641', 'word59', 'word1387', 'word53', 'word81', 'word699', 'word811', 'word1235', 'word1206', 'word927', 'word1335', 'word368', 'word99', 'word1028', 'word180', 'word331', 'word435', 'word817', 'word855', 'word129', 'word515', 'word62', 'word925', 'word1274', 'word1361', 'word913', 'word968', 'word1118', 'word537', 'word878', 'word1188', 'word1427', 'word239', 'word932', 'word1145', 'word1173', 'word510', 'word193', 'word1377', 'word662', 'word1414', 'word1157', 'word132', 'word152', 'word147', 'word818', 'word700', 'word1115', 'word134', 'word923', 'word27', 'word306', 'word694', 'word752', 'word535', 'word809', 'word97', 'word4', 'word251', 'word522', 'word1023', 'word958', 'word979', 'word987', 'word1082', 'word1425', 'word248', 'word1092', 'word1053', 'word394', 'word1074', 'word938', 'word1392', 'word924', 'word1237', 'word195', 'word58', 'word787', 'word1256', 'word255', 'word654', 'word940', 'word972', 'word426', 'word988', 'word1176', 'word1346', 'word686', 'word480', 'word1225', 'word795', 'word822', 'word1413', 'word1415', 'word683', 'word1430' ) ) AND ( t2.\"word_cited_id\" IN ( 'word1006', 'word1171', 'word1178', 'word730', 'word1133', 'word264', 'word332', 'word213', 'word511', 'word1231', 'word42', 'word506', 'word582', 'word127', 'word1309', 'word1382', 'word204', 'word1260', 'word922', 'word724', 'word781', 'word1055', 'word1315', 'word725', 'word3', 'word703', 'word784', 'word475', 'word65', 'word66', 'word764', 'word1067', 'word1357', 'word534', 'word472', 'word565', 'word68', 'word82', 'word1332', 'word1073', 'word39', 'word750', 'word779', 'word697', 'word79', 'word1291', 'word1180', 'word549', 'word895', 'word626', 'word861', 'word1393', 'word702', 'word820', 'word828', 'word206', 'word399', 'word1167', 'word1036', 'word1098', 'word698', 'word765', 'word214', 'word1331', 'word946', 'word59', 'word1387', 'word53', 'word1206', 'word368', 'word99', 'word180', 'word331', 'word129', 'word515', 'word62', 'word1361', 'word913', 'word537', 'word1427', 'word239', 'word932', 'word1173', 'word510', 'word193', 'word1377', 'word1414', 'word1157', 'word818', 'word700', 'word1115', 'word134', 'word923', 'word27', 'word306', 'word535', 'word97', 'word958', 'word979', 'word987', 'word1425', 'word394', 'word1074', 'word195', 'word58', 'word787', 'word940', 'word426', 'word988', 'word480', 'word1225' ) ) THEN -5.282206527287332\n",
       "        WHEN ( t4.\"class_label\" NOT IN ( 'Case_Based' ) ) AND ( t2.\"word_cited_id\" IN ( 'word100', 'word1228', 'word1248', 'word1250', 'word1306', 'word141', 'word20', 'word386', 'word465', 'word496', 'word639', 'word661', 'word749', 'word775', 'word866', 'word1006', 'word1139', 'word1171', 'word1178', 'word1275', 'word1293', 'word293', 'word730', 'word1133', 'word264', 'word332', 'word1072', 'word1210', 'word1329', 'word213', 'word238', 'word511', 'word649', 'word778', 'word875', 'word916', 'word960', 'word1231', 'word1394', 'word188', 'word42', 'word506', 'word582', 'word127', 'word1309', 'word1382', 'word204', 'word285', 'word1260', 'word1339', 'word759', 'word922', 'word1300', 'word1350', 'word136', 'word724', 'word781', 'word1349', 'word1055', 'word1061', 'word1292', 'word667', 'word1315', 'word60', 'word725', 'word813', 'word1424', 'word3', 'word52', 'word703', 'word784', 'word1080', 'word40', 'word475', 'word65', 'word66', 'word764', 'word1067', 'word1340', 'word1357', 'word158', 'word457', 'word534', 'word472', 'word565', 'word587', 'word68', 'word82', 'word1209', 'word1332', 'word1073', 'word39', 'word396', 'word625', 'word750', 'word779', 'word1390', 'word169', 'word177', 'word697', 'word79', 'word930', 'word1291', 'word1180', 'word549', 'word895', 'word98', 'word300', 'word379', 'word626', 'word912', 'word974', 'word861', 'word90', 'word1393', 'word702', 'word820', 'word828', 'word1356', 'word592', 'word206', 'word399', 'word1273', 'word1296', 'word1358', 'word1362', 'word1385', 'word446', 'word544', 'word559', 'word86', 'word448', 'word1167', 'word1036', 'word1098', 'word1110', 'word137', 'word403', 'word447', 'word598', 'word695', 'word78', 'word698', 'word765', 'word1432', 'word611', 'word214', 'word1331', 'word946', 'word641', 'word59', 'word1387', 'word53', 'word81', 'word699', 'word811', 'word1235', 'word1206', 'word927', 'word1335', 'word368', 'word99', 'word1028', 'word180', 'word331', 'word435', 'word817', 'word855', 'word129', 'word515', 'word62', 'word925', 'word1274', 'word1361', 'word913', 'word968', 'word1118', 'word537', 'word878', 'word1188', 'word1427', 'word239', 'word932', 'word1145', 'word1173', 'word510', 'word193', 'word1377', 'word662', 'word1414', 'word1157', 'word132', 'word152', 'word147', 'word818', 'word700', 'word1115', 'word134', 'word923', 'word27', 'word306', 'word694', 'word752', 'word535', 'word809', 'word97', 'word4', 'word251', 'word522', 'word1023', 'word958', 'word979', 'word987', 'word1082', 'word1425', 'word248', 'word1092', 'word1053', 'word394', 'word1074', 'word938', 'word1392', 'word924', 'word1237', 'word195', 'word58', 'word787', 'word1256', 'word255', 'word654', 'word940', 'word972', 'word426', 'word988', 'word1176', 'word1346', 'word686', 'word480', 'word1225', 'word795', 'word822', 'word1413', 'word1415', 'word683', 'word1430' ) ) AND ( t2.\"word_cited_id\" NOT IN ( 'word1006', 'word1171', 'word1178', 'word730', 'word1133', 'word264', 'word332', 'word213', 'word511', 'word1231', 'word42', 'word506', 'word582', 'word127', 'word1309', 'word1382', 'word204', 'word1260', 'word922', 'word724', 'word781', 'word1055', 'word1315', 'word725', 'word3', 'word703', 'word784', 'word475', 'word65', 'word66', 'word764', 'word1067', 'word1357', 'word534', 'word472', 'word565', 'word68', 'word82', 'word1332', 'word1073', 'word39', 'word750', 'word779', 'word697', 'word79', 'word1291', 'word1180', 'word549', 'word895', 'word626', 'word861', 'word1393', 'word702', 'word820', 'word828', 'word206', 'word399', 'word1167', 'word1036', 'word1098', 'word698', 'word765', 'word214', 'word1331', 'word946', 'word59', 'word1387', 'word53', 'word1206', 'word368', 'word99', 'word180', 'word331', 'word129', 'word515', 'word62', 'word1361', 'word913', 'word537', 'word1427', 'word239', 'word932', 'word1173', 'word510', 'word193', 'word1377', 'word1414', 'word1157', 'word818', 'word700', 'word1115', 'word134', 'word923', 'word27', 'word306', 'word535', 'word97', 'word958', 'word979', 'word987', 'word1425', 'word394', 'word1074', 'word195', 'word58', 'word787', 'word940', 'word426', 'word988', 'word480', 'word1225' ) ) THEN -1.778052583320366\n",
       "        WHEN ( t4.\"class_label\" NOT IN ( 'Case_Based' ) ) AND ( t2.\"word_cited_id\" NOT IN ( 'word100', 'word1228', 'word1248', 'word1250', 'word1306', 'word141', 'word20', 'word386', 'word465', 'word496', 'word639', 'word661', 'word749', 'word775', 'word866', 'word1006', 'word1139', 'word1171', 'word1178', 'word1275', 'word1293', 'word293', 'word730', 'word1133', 'word264', 'word332', 'word1072', 'word1210', 'word1329', 'word213', 'word238', 'word511', 'word649', 'word778', 'word875', 'word916', 'word960', 'word1231', 'word1394', 'word188', 'word42', 'word506', 'word582', 'word127', 'word1309', 'word1382', 'word204', 'word285', 'word1260', 'word1339', 'word759', 'word922', 'word1300', 'word1350', 'word136', 'word724', 'word781', 'word1349', 'word1055', 'word1061', 'word1292', 'word667', 'word1315', 'word60', 'word725', 'word813', 'word1424', 'word3', 'word52', 'word703', 'word784', 'word1080', 'word40', 'word475', 'word65', 'word66', 'word764', 'word1067', 'word1340', 'word1357', 'word158', 'word457', 'word534', 'word472', 'word565', 'word587', 'word68', 'word82', 'word1209', 'word1332', 'word1073', 'word39', 'word396', 'word625', 'word750', 'word779', 'word1390', 'word169', 'word177', 'word697', 'word79', 'word930', 'word1291', 'word1180', 'word549', 'word895', 'word98', 'word300', 'word379', 'word626', 'word912', 'word974', 'word861', 'word90', 'word1393', 'word702', 'word820', 'word828', 'word1356', 'word592', 'word206', 'word399', 'word1273', 'word1296', 'word1358', 'word1362', 'word1385', 'word446', 'word544', 'word559', 'word86', 'word448', 'word1167', 'word1036', 'word1098', 'word1110', 'word137', 'word403', 'word447', 'word598', 'word695', 'word78', 'word698', 'word765', 'word1432', 'word611', 'word214', 'word1331', 'word946', 'word641', 'word59', 'word1387', 'word53', 'word81', 'word699', 'word811', 'word1235', 'word1206', 'word927', 'word1335', 'word368', 'word99', 'word1028', 'word180', 'word331', 'word435', 'word817', 'word855', 'word129', 'word515', 'word62', 'word925', 'word1274', 'word1361', 'word913', 'word968', 'word1118', 'word537', 'word878', 'word1188', 'word1427', 'word239', 'word932', 'word1145', 'word1173', 'word510', 'word193', 'word1377', 'word662', 'word1414', 'word1157', 'word132', 'word152', 'word147', 'word818', 'word700', 'word1115', 'word134', 'word923', 'word27', 'word306', 'word694', 'word752', 'word535', 'word809', 'word97', 'word4', 'word251', 'word522', 'word1023', 'word958', 'word979', 'word987', 'word1082', 'word1425', 'word248', 'word1092', 'word1053', 'word394', 'word1074', 'word938', 'word1392', 'word924', 'word1237', 'word195', 'word58', 'word787', 'word1256', 'word255', 'word654', 'word940', 'word972', 'word426', 'word988', 'word1176', 'word1346', 'word686', 'word480', 'word1225', 'word795', 'word822', 'word1413', 'word1415', 'word683', 'word1430' ) ) AND ( t2.\"word_cited_id\" IN ( 'word1152', 'word1175', 'word192', 'word508', 'word581', 'word1076', 'word1132', 'word1150', 'word126', 'word1307', 'word1264', 'word735', 'word1172', 'word212', 'word989', 'word1267', 'word133', 'word337', 'word360', 'word94', 'word1258', 'word1263', 'word756', 'word89', 'word1144', 'word1353', 'word1077', 'word1281', 'word275', 'word541', 'word620', 'word704', 'word736', 'word755', 'word815', 'word1050', 'word1204', 'word1302', 'word624', 'word1119', 'word1398', 'word936', 'word5', 'word531', 'word1333', 'word1097', 'word757', 'word1111', 'word1423', 'word423', 'word726', 'word727', 'word83', 'word370', 'word378', 'word174', 'word311', 'word369', 'word1012', 'word1124', 'word1380', 'word1208', 'word1354', 'word589', 'word1297', 'word1304', 'word1321', 'word616', 'word676', 'word716', 'word876', 'word1179', 'word1255', 'word235', 'word1426', 'word1160', 'word970', 'word1370', 'word1262', 'word761', 'word1026', 'word648', 'word832', 'word1213', 'word1207', 'word1268', 'word1334', 'word417', 'word476', 'word262', 'word282', 'word87', 'word26', 'word1328', 'word1337', 'word229', 'word1199', 'word470', 'word131', 'word382', 'word119', 'word418', 'word719', 'word906' ) ) THEN 3.588043142902754\n",
       "        WHEN ( t4.\"class_label\" NOT IN ( 'Case_Based' ) ) AND ( t2.\"word_cited_id\" NOT IN ( 'word100', 'word1228', 'word1248', 'word1250', 'word1306', 'word141', 'word20', 'word386', 'word465', 'word496', 'word639', 'word661', 'word749', 'word775', 'word866', 'word1006', 'word1139', 'word1171', 'word1178', 'word1275', 'word1293', 'word293', 'word730', 'word1133', 'word264', 'word332', 'word1072', 'word1210', 'word1329', 'word213', 'word238', 'word511', 'word649', 'word778', 'word875', 'word916', 'word960', 'word1231', 'word1394', 'word188', 'word42', 'word506', 'word582', 'word127', 'word1309', 'word1382', 'word204', 'word285', 'word1260', 'word1339', 'word759', 'word922', 'word1300', 'word1350', 'word136', 'word724', 'word781', 'word1349', 'word1055', 'word1061', 'word1292', 'word667', 'word1315', 'word60', 'word725', 'word813', 'word1424', 'word3', 'word52', 'word703', 'word784', 'word1080', 'word40', 'word475', 'word65', 'word66', 'word764', 'word1067', 'word1340', 'word1357', 'word158', 'word457', 'word534', 'word472', 'word565', 'word587', 'word68', 'word82', 'word1209', 'word1332', 'word1073', 'word39', 'word396', 'word625', 'word750', 'word779', 'word1390', 'word169', 'word177', 'word697', 'word79', 'word930', 'word1291', 'word1180', 'word549', 'word895', 'word98', 'word300', 'word379', 'word626', 'word912', 'word974', 'word861', 'word90', 'word1393', 'word702', 'word820', 'word828', 'word1356', 'word592', 'word206', 'word399', 'word1273', 'word1296', 'word1358', 'word1362', 'word1385', 'word446', 'word544', 'word559', 'word86', 'word448', 'word1167', 'word1036', 'word1098', 'word1110', 'word137', 'word403', 'word447', 'word598', 'word695', 'word78', 'word698', 'word765', 'word1432', 'word611', 'word214', 'word1331', 'word946', 'word641', 'word59', 'word1387', 'word53', 'word81', 'word699', 'word811', 'word1235', 'word1206', 'word927', 'word1335', 'word368', 'word99', 'word1028', 'word180', 'word331', 'word435', 'word817', 'word855', 'word129', 'word515', 'word62', 'word925', 'word1274', 'word1361', 'word913', 'word968', 'word1118', 'word537', 'word878', 'word1188', 'word1427', 'word239', 'word932', 'word1145', 'word1173', 'word510', 'word193', 'word1377', 'word662', 'word1414', 'word1157', 'word132', 'word152', 'word147', 'word818', 'word700', 'word1115', 'word134', 'word923', 'word27', 'word306', 'word694', 'word752', 'word535', 'word809', 'word97', 'word4', 'word251', 'word522', 'word1023', 'word958', 'word979', 'word987', 'word1082', 'word1425', 'word248', 'word1092', 'word1053', 'word394', 'word1074', 'word938', 'word1392', 'word924', 'word1237', 'word195', 'word58', 'word787', 'word1256', 'word255', 'word654', 'word940', 'word972', 'word426', 'word988', 'word1176', 'word1346', 'word686', 'word480', 'word1225', 'word795', 'word822', 'word1413', 'word1415', 'word683', 'word1430' ) ) AND ( t2.\"word_cited_id\" NOT IN ( 'word1152', 'word1175', 'word192', 'word508', 'word581', 'word1076', 'word1132', 'word1150', 'word126', 'word1307', 'word1264', 'word735', 'word1172', 'word212', 'word989', 'word1267', 'word133', 'word337', 'word360', 'word94', 'word1258', 'word1263', 'word756', 'word89', 'word1144', 'word1353', 'word1077', 'word1281', 'word275', 'word541', 'word620', 'word704', 'word736', 'word755', 'word815', 'word1050', 'word1204', 'word1302', 'word624', 'word1119', 'word1398', 'word936', 'word5', 'word531', 'word1333', 'word1097', 'word757', 'word1111', 'word1423', 'word423', 'word726', 'word727', 'word83', 'word370', 'word378', 'word174', 'word311', 'word369', 'word1012', 'word1124', 'word1380', 'word1208', 'word1354', 'word589', 'word1297', 'word1304', 'word1321', 'word616', 'word676', 'word716', 'word876', 'word1179', 'word1255', 'word235', 'word1426', 'word1160', 'word970', 'word1370', 'word1262', 'word761', 'word1026', 'word648', 'word832', 'word1213', 'word1207', 'word1268', 'word1334', 'word417', 'word476', 'word262', 'word282', 'word87', 'word26', 'word1328', 'word1337', 'word229', 'word1199', 'word470', 'word131', 'word382', 'word119', 'word418', 'word719', 'word906' ) ) THEN -0.05393981502907996\n",
       "        ELSE NULL\n",
       "    END\n",
       ") AS \"feature_1_2_1\",\n",
       "     t1.rowid AS \"rownum\"\n",
       "FROM \"cites\" t1\n",
       "LEFT JOIN \"content\" t2\n",
       "ON t1.\"cited_paper_id\" = t2.\"paper_id\"\n",
       "LEFT JOIN \"paper\" t4\n",
       "ON t1.\"cited_paper_id\" = t4.\"paper_id\"\n",
       "GROUP BY t1.rowid;"
      ]
     },
     "execution_count": 35,
     "metadata": {},
     "output_type": "execute_result"
    }
   ],
   "source": [
    "pipe.features.to_sql()[\"feature_1_2_1\"]"
   ]
  },
  {
   "cell_type": "markdown",
   "metadata": {},
   "source": [
    " "
   ]
  },
  {
   "cell_type": "markdown",
   "metadata": {},
   "source": [
    "### 2.7 Benchmarks"
   ]
  },
  {
   "cell_type": "markdown",
   "metadata": {},
   "source": [
    "State-of-the-art approaches on this data set perform as follows:\n",
    "\n",
    "| Approach                      | Study                      | Accuracy     | AUC     |\n",
    "| :--------------------------   | :------------------------  | -----------: | ------: |\n",
    "| RelF                          | Dinh et al (2012)          | 85.7%        |     --  |\n",
    "| LBP                           | Dinh et al (2012)          | 85.0%        |     --  |\n",
    "| EPRN                          | Preisach and Thieme (2006) | 84.0%        |     --  |\n",
    "| PRN                           | Preisach and Thieme (2006) | 81.0%        |     --  |\n",
    "| ACORA                         | Perlich and Provost (2006) | --           |   97.0% |\n",
    "\n",
    "\n",
    "As we can see, the performance of the relboost algorithm, as used in this notebook, compares favorably to these benchmarks.\n",
    "\n",
    "| Approach                      | Accuracy     | AUC     |\n",
    "| :---------------------------- | -----------: | ------: |\n",
    "| relboost                      | 89.9%        | 98.3%   |\n"
   ]
  },
  {
   "cell_type": "markdown",
   "metadata": {},
   "source": [
    "## 3. Conclusion\n",
    "\n",
    "In this notebook we have demonstrated that getML outperforms state-of-the-art relational learning algorithms on the CORA dataset."
   ]
  },
  {
   "cell_type": "markdown",
   "metadata": {},
   "source": [
    " "
   ]
  },
  {
   "cell_type": "markdown",
   "metadata": {},
   "source": [
    "## References\n",
    "\n",
    "Dinh, Quang-Thang, Christel Vrain, and Matthieu Exbrayat. \"A Link-Based Method for Propositionalization.\" ILP (Late Breaking Papers). 2012.\n",
    "\n",
    "Motl, Jan, and Oliver Schulte. \"The CTU prague relational learning repository.\" arXiv preprint arXiv:1511.03086 (2015).\n",
    "\n",
    "Perlich, Claudia, and Foster Provost. \"Distribution-based aggregation for relational learning with identifier attributes.\" Machine Learning 62.1-2 (2006): 65-105.\n",
    "\n",
    "Preisach, Christine, and Lars Schmidt-Thieme. \"Relational ensemble classification.\" Sixth International Conference on Data Mining (ICDM'06). IEEE, 2006."
   ]
  },
  {
   "cell_type": "markdown",
   "metadata": {},
   "source": [
    " "
   ]
  },
  {
   "cell_type": "markdown",
   "metadata": {},
   "source": [
    "# Next Steps\n",
    "\n",
    "This tutorial benchmarked getML against academic state-of-the-art algorithms from relational learning literature and getML's qualities with respect to categorical data.\n",
    "\n",
    "If you are interested in further real-world applications of getML, head back to the [notebook overview](welcome.md) and choose one of the remaining examples.\n",
    "\n",
    "Here is some additional material from our [documentation](https://docs.getml.com/latest/) if you want to learn more about getML:\n",
    "* [Feature learning with Multirel](https://docs.getml.com/latest/user_guide/feature_engineering/feature_engineering.html#multirel)\n",
    "* [Feature learning with Relboost](https://docs.getml.com/latest/user_guide/feature_engineering/feature_engineering.html#relboost)"
   ]
  },
  {
   "cell_type": "markdown",
   "metadata": {},
   "source": [
    "# Get in contact\n",
    "\n",
    "If you have any question schedule a [call with Alex](https://go.getml.com/meetings/alexander-uhlig/getml-demo), the co-founder of getML, or write us an [email](team@getml.com). Prefer a private demo of getML? Just contact us to make an appointment."
   ]
  },
  {
   "cell_type": "markdown",
   "metadata": {},
   "source": [
    " "
   ]
  }
 ],
 "metadata": {
  "jupytext": {
   "encoding": "# -*- coding: utf-8 -*-",
   "formats": "ipynb,py:percent,md"
  },
  "kernelspec": {
   "display_name": "Python 3",
   "language": "python",
   "name": "python3"
  },
  "language_info": {
   "codemirror_mode": {
    "name": "ipython",
    "version": 3
   },
   "file_extension": ".py",
   "mimetype": "text/x-python",
   "name": "python",
   "nbconvert_exporter": "python",
   "pygments_lexer": "ipython3",
   "version": "3.8.5"
  },
  "toc": {
   "base_numbering": 1,
   "nav_menu": {},
   "number_sections": false,
   "sideBar": true,
   "skip_h1_title": false,
   "title_cell": "Table of Contents",
   "title_sidebar": "Contents",
   "toc_cell": false,
   "toc_position": {},
   "toc_section_display": true,
   "toc_window_display": true
  }
 },
 "nbformat": 4,
 "nbformat_minor": 4
}
