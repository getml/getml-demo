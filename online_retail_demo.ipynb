{
 "cells": [
  {
   "cell_type": "markdown",
   "metadata": {},
   "source": [
    "# Predicting order cancellations using getML\n",
    "\n",
    "\n",
    "In this tutorial, we demonstrate how getML can be applied in an e-commerce context. Using a dataset of about 400,000 orders, our goal is to predict whether an order will be cancelled.\n",
    "\n",
    "We also show that we can significantly improve our results by using getML's built-in hyperparameter tuning routines.\n",
    "\n",
    "Summary:\n",
    "\n",
    "- Prediction type: __Classification model__\n",
    "- Domain: __E-commerce__\n",
    "- Prediction target: __Whether an order will be cancelled__ \n",
    "- Population size: __397925__\n",
    "\n",
    "_Author: Dr. Patrick Urbanke_"
   ]
  },
  {
   "cell_type": "markdown",
   "metadata": {},
   "source": [
    " "
   ]
  },
  {
   "cell_type": "markdown",
   "metadata": {},
   "source": [
    "# Background\n",
    "\n",
    "The data set contains about 400,000 orders from a British online retailer. Each order consists of a product that has been ordered and a corresponding quantity. Several orders can be summarized onto a single invoice. The goal is to predict whether an order will be cancelled.\n",
    "\n",
    "Because the company mainly sells to other businesses, the cancellation rate is relatively low, namely 1.83%.\n",
    "\n",
    "The data set has been originally collected for this study:\n",
    "\n",
    "Daqing Chen, Sai Liang Sain, and Kun Guo, Data mining for the online retail industry: A case study of RFM model-based customer segmentation using data mining, Journal of Database Marketing and Customer Strategy Management, Vol. 19, No. 3, pp. 197-208, 2012 (Published online before print: 27 August 2012. doi: 10.1057/dbm.2012.17).\n",
    "\n",
    "It has been downloaded from the UCI Machine Learning Repository:\n",
    "\n",
    "Dua, D. and Graff, C. (2019). UCI Machine Learning Repository [http://archive.ics.uci.edu/ml]. Irvine, CA: University of California, School of Information and Computer Science."
   ]
  },
  {
   "cell_type": "markdown",
   "metadata": {},
   "source": [
    " "
   ]
  },
  {
   "cell_type": "markdown",
   "metadata": {},
   "source": [
    "### A web frontend for getML\n",
    "\n",
    "The getML monitor is a frontend built to support your work with getML. The getML monitor displays information such as the imported data frames, trained pipelines and allows easy data and feature exploration. You can launch the getML monitor [here](http://localhost:1709)."
   ]
  },
  {
   "cell_type": "markdown",
   "metadata": {},
   "source": [
    " "
   ]
  },
  {
   "cell_type": "markdown",
   "metadata": {},
   "source": [
    "### Where is this running?\n",
    "\n",
    "Your getML live session is running inside a docker container on [mybinder.org](https://mybinder.org/), a service built by the Jupyter community and funded by Google Cloud, OVH, GESIS Notebooks and the Turing Institute. As it is a free service, this session will shut down after 10 minutes of inactivity."
   ]
  },
  {
   "cell_type": "markdown",
   "metadata": {},
   "source": [
    " "
   ]
  },
  {
   "cell_type": "markdown",
   "metadata": {},
   "source": [
    "# Analysis"
   ]
  },
  {
   "cell_type": "markdown",
   "metadata": {},
   "source": [
    "Let's get started with the analysis and set up your session:"
   ]
  },
  {
   "cell_type": "code",
   "execution_count": 1,
   "metadata": {},
   "outputs": [
    {
     "name": "stdout",
     "output_type": "stream",
     "text": [
      "\n",
      "Connected to project 'online-retail'\n"
     ]
    }
   ],
   "source": [
    "import copy\n",
    "import os\n",
    "from urllib import request\n",
    "\n",
    "import numpy as np\n",
    "import pandas as pd\n",
    "from IPython.display import Image\n",
    "import matplotlib.pyplot as plt\n",
    "plt.style.use('seaborn')\n",
    "%matplotlib inline  \n",
    "\n",
    "import getml\n",
    "\n",
    "getml.engine.set_project('online-retail')"
   ]
  },
  {
   "cell_type": "markdown",
   "metadata": {},
   "source": [
    "Tuning is effective at improving our results, but it takes quite long, so we want to make it optional:"
   ]
  },
  {
   "cell_type": "code",
   "execution_count": 2,
   "metadata": {},
   "outputs": [],
   "source": [
    "ALLOW_TUNING = False"
   ]
  },
  {
   "cell_type": "markdown",
   "metadata": {},
   "source": [
    " "
   ]
  },
  {
   "cell_type": "markdown",
   "metadata": {},
   "source": [
    "## 1. Loading data"
   ]
  },
  {
   "cell_type": "markdown",
   "metadata": {},
   "source": [
    "### 1.1 Download from source\n",
    "\n",
    "We begin by downloading the data from the source file:"
   ]
  },
  {
   "cell_type": "code",
   "execution_count": 3,
   "metadata": {},
   "outputs": [],
   "source": [
    "fname = \"online_retail.csv\"\n",
    "\n",
    "if not os.path.exists(fname):\n",
    "    fname, res = request.urlretrieve(\n",
    "        \"https://static.getml.com/datasets/online_retail/\" + fname, \n",
    "        fname\n",
    "    )\n",
    "    \n",
    "full_data_pandas = pd.read_csv(fname, sep=\"|\")"
   ]
  },
  {
   "cell_type": "markdown",
   "metadata": {},
   "source": [
    " "
   ]
  },
  {
   "cell_type": "markdown",
   "metadata": {},
   "source": [
    "### 1.2 Data preparation\n",
    "\n",
    "The invoice dates are in a somewhat unusual format, fo we need to rectify that."
   ]
  },
  {
   "cell_type": "code",
   "execution_count": 4,
   "metadata": {},
   "outputs": [],
   "source": [
    "def add_zero(string):\n",
    "    if len(string) == 1:\n",
    "        return \"0\" + string\n",
    "    return string"
   ]
  },
  {
   "cell_type": "code",
   "execution_count": 5,
   "metadata": {},
   "outputs": [],
   "source": [
    "def format_date(string):\n",
    "    datetime = string.split(\" \")\n",
    "    assert len(datetime) == 2, \"Expected date and time\"\n",
    "    \n",
    "    date_components = datetime[0].split(\"/\")\n",
    "    assert len(date_components) == 3, \"Expected three date components\"\n",
    "    \n",
    "    date_components = [add_zero(x) for x in date_components]\n",
    "    \n",
    "    return \"-\".join(date_components) + \" \" + datetime[1] "
   ]
  },
  {
   "cell_type": "code",
   "execution_count": 6,
   "metadata": {},
   "outputs": [],
   "source": [
    "full_data_pandas[\"InvoiceDate\"] = [\n",
    "    format_date(string) for string in np.asarray(full_data_pandas[\"InvoiceDate\"])\n",
    "]"
   ]
  },
  {
   "cell_type": "code",
   "execution_count": 7,
   "metadata": {},
   "outputs": [
    {
     "data": {
      "text/html": [
       "<div>\n",
       "<style scoped>\n",
       "    .dataframe tbody tr th:only-of-type {\n",
       "        vertical-align: middle;\n",
       "    }\n",
       "\n",
       "    .dataframe tbody tr th {\n",
       "        vertical-align: top;\n",
       "    }\n",
       "\n",
       "    .dataframe thead th {\n",
       "        text-align: right;\n",
       "    }\n",
       "</style>\n",
       "<table border=\"1\" class=\"dataframe\">\n",
       "  <thead>\n",
       "    <tr style=\"text-align: right;\">\n",
       "      <th></th>\n",
       "      <th>Invoice</th>\n",
       "      <th>StockCode</th>\n",
       "      <th>Description</th>\n",
       "      <th>Quantity</th>\n",
       "      <th>InvoiceDate</th>\n",
       "      <th>Price</th>\n",
       "      <th>Customer ID</th>\n",
       "      <th>Country</th>\n",
       "    </tr>\n",
       "  </thead>\n",
       "  <tbody>\n",
       "    <tr>\n",
       "      <th>0</th>\n",
       "      <td>536365</td>\n",
       "      <td>85123A</td>\n",
       "      <td>WHITE HANGING HEART T-LIGHT HOLDER</td>\n",
       "      <td>6</td>\n",
       "      <td>2010-12-01 08:26</td>\n",
       "      <td>2.55</td>\n",
       "      <td>17850.0</td>\n",
       "      <td>United Kingdom</td>\n",
       "    </tr>\n",
       "    <tr>\n",
       "      <th>1</th>\n",
       "      <td>536365</td>\n",
       "      <td>71053</td>\n",
       "      <td>WHITE METAL LANTERN</td>\n",
       "      <td>6</td>\n",
       "      <td>2010-12-01 08:26</td>\n",
       "      <td>3.39</td>\n",
       "      <td>17850.0</td>\n",
       "      <td>United Kingdom</td>\n",
       "    </tr>\n",
       "    <tr>\n",
       "      <th>2</th>\n",
       "      <td>536365</td>\n",
       "      <td>84406B</td>\n",
       "      <td>CREAM CUPID HEARTS COAT HANGER</td>\n",
       "      <td>8</td>\n",
       "      <td>2010-12-01 08:26</td>\n",
       "      <td>2.75</td>\n",
       "      <td>17850.0</td>\n",
       "      <td>United Kingdom</td>\n",
       "    </tr>\n",
       "    <tr>\n",
       "      <th>3</th>\n",
       "      <td>536365</td>\n",
       "      <td>84029G</td>\n",
       "      <td>KNITTED UNION FLAG HOT WATER BOTTLE</td>\n",
       "      <td>6</td>\n",
       "      <td>2010-12-01 08:26</td>\n",
       "      <td>3.39</td>\n",
       "      <td>17850.0</td>\n",
       "      <td>United Kingdom</td>\n",
       "    </tr>\n",
       "    <tr>\n",
       "      <th>4</th>\n",
       "      <td>536365</td>\n",
       "      <td>84029E</td>\n",
       "      <td>RED WOOLLY HOTTIE WHITE HEART.</td>\n",
       "      <td>6</td>\n",
       "      <td>2010-12-01 08:26</td>\n",
       "      <td>3.39</td>\n",
       "      <td>17850.0</td>\n",
       "      <td>United Kingdom</td>\n",
       "    </tr>\n",
       "    <tr>\n",
       "      <th>5</th>\n",
       "      <td>536365</td>\n",
       "      <td>22752</td>\n",
       "      <td>SET 7 BABUSHKA NESTING BOXES</td>\n",
       "      <td>2</td>\n",
       "      <td>2010-12-01 08:26</td>\n",
       "      <td>7.65</td>\n",
       "      <td>17850.0</td>\n",
       "      <td>United Kingdom</td>\n",
       "    </tr>\n",
       "    <tr>\n",
       "      <th>6</th>\n",
       "      <td>536365</td>\n",
       "      <td>21730</td>\n",
       "      <td>GLASS STAR FROSTED T-LIGHT HOLDER</td>\n",
       "      <td>6</td>\n",
       "      <td>2010-12-01 08:26</td>\n",
       "      <td>4.25</td>\n",
       "      <td>17850.0</td>\n",
       "      <td>United Kingdom</td>\n",
       "    </tr>\n",
       "    <tr>\n",
       "      <th>7</th>\n",
       "      <td>536366</td>\n",
       "      <td>22633</td>\n",
       "      <td>HAND WARMER UNION JACK</td>\n",
       "      <td>6</td>\n",
       "      <td>2010-12-01 08:28</td>\n",
       "      <td>1.85</td>\n",
       "      <td>17850.0</td>\n",
       "      <td>United Kingdom</td>\n",
       "    </tr>\n",
       "    <tr>\n",
       "      <th>8</th>\n",
       "      <td>536366</td>\n",
       "      <td>22632</td>\n",
       "      <td>HAND WARMER RED POLKA DOT</td>\n",
       "      <td>6</td>\n",
       "      <td>2010-12-01 08:28</td>\n",
       "      <td>1.85</td>\n",
       "      <td>17850.0</td>\n",
       "      <td>United Kingdom</td>\n",
       "    </tr>\n",
       "    <tr>\n",
       "      <th>9</th>\n",
       "      <td>536368</td>\n",
       "      <td>22960</td>\n",
       "      <td>JAM MAKING SET WITH JARS</td>\n",
       "      <td>6</td>\n",
       "      <td>2010-12-01 08:34</td>\n",
       "      <td>4.25</td>\n",
       "      <td>13047.0</td>\n",
       "      <td>United Kingdom</td>\n",
       "    </tr>\n",
       "    <tr>\n",
       "      <th>10</th>\n",
       "      <td>536368</td>\n",
       "      <td>22913</td>\n",
       "      <td>RED COAT RACK PARIS FASHION</td>\n",
       "      <td>3</td>\n",
       "      <td>2010-12-01 08:34</td>\n",
       "      <td>4.95</td>\n",
       "      <td>13047.0</td>\n",
       "      <td>United Kingdom</td>\n",
       "    </tr>\n",
       "    <tr>\n",
       "      <th>11</th>\n",
       "      <td>536368</td>\n",
       "      <td>22912</td>\n",
       "      <td>YELLOW COAT RACK PARIS FASHION</td>\n",
       "      <td>3</td>\n",
       "      <td>2010-12-01 08:34</td>\n",
       "      <td>4.95</td>\n",
       "      <td>13047.0</td>\n",
       "      <td>United Kingdom</td>\n",
       "    </tr>\n",
       "    <tr>\n",
       "      <th>12</th>\n",
       "      <td>536368</td>\n",
       "      <td>22914</td>\n",
       "      <td>BLUE COAT RACK PARIS FASHION</td>\n",
       "      <td>3</td>\n",
       "      <td>2010-12-01 08:34</td>\n",
       "      <td>4.95</td>\n",
       "      <td>13047.0</td>\n",
       "      <td>United Kingdom</td>\n",
       "    </tr>\n",
       "    <tr>\n",
       "      <th>13</th>\n",
       "      <td>536367</td>\n",
       "      <td>84879</td>\n",
       "      <td>ASSORTED COLOUR BIRD ORNAMENT</td>\n",
       "      <td>32</td>\n",
       "      <td>2010-12-01 08:34</td>\n",
       "      <td>1.69</td>\n",
       "      <td>13047.0</td>\n",
       "      <td>United Kingdom</td>\n",
       "    </tr>\n",
       "    <tr>\n",
       "      <th>14</th>\n",
       "      <td>536367</td>\n",
       "      <td>22745</td>\n",
       "      <td>POPPY'S PLAYHOUSE BEDROOM</td>\n",
       "      <td>6</td>\n",
       "      <td>2010-12-01 08:34</td>\n",
       "      <td>2.10</td>\n",
       "      <td>13047.0</td>\n",
       "      <td>United Kingdom</td>\n",
       "    </tr>\n",
       "    <tr>\n",
       "      <th>15</th>\n",
       "      <td>536367</td>\n",
       "      <td>22748</td>\n",
       "      <td>POPPY'S PLAYHOUSE KITCHEN</td>\n",
       "      <td>6</td>\n",
       "      <td>2010-12-01 08:34</td>\n",
       "      <td>2.10</td>\n",
       "      <td>13047.0</td>\n",
       "      <td>United Kingdom</td>\n",
       "    </tr>\n",
       "    <tr>\n",
       "      <th>16</th>\n",
       "      <td>536367</td>\n",
       "      <td>22749</td>\n",
       "      <td>FELTCRAFT PRINCESS CHARLOTTE DOLL</td>\n",
       "      <td>8</td>\n",
       "      <td>2010-12-01 08:34</td>\n",
       "      <td>3.75</td>\n",
       "      <td>13047.0</td>\n",
       "      <td>United Kingdom</td>\n",
       "    </tr>\n",
       "    <tr>\n",
       "      <th>17</th>\n",
       "      <td>536367</td>\n",
       "      <td>22310</td>\n",
       "      <td>IVORY KNITTED MUG COSY</td>\n",
       "      <td>6</td>\n",
       "      <td>2010-12-01 08:34</td>\n",
       "      <td>1.65</td>\n",
       "      <td>13047.0</td>\n",
       "      <td>United Kingdom</td>\n",
       "    </tr>\n",
       "    <tr>\n",
       "      <th>18</th>\n",
       "      <td>536367</td>\n",
       "      <td>84969</td>\n",
       "      <td>BOX OF 6 ASSORTED COLOUR TEASPOONS</td>\n",
       "      <td>6</td>\n",
       "      <td>2010-12-01 08:34</td>\n",
       "      <td>4.25</td>\n",
       "      <td>13047.0</td>\n",
       "      <td>United Kingdom</td>\n",
       "    </tr>\n",
       "    <tr>\n",
       "      <th>19</th>\n",
       "      <td>536367</td>\n",
       "      <td>22623</td>\n",
       "      <td>BOX OF VINTAGE JIGSAW BLOCKS</td>\n",
       "      <td>3</td>\n",
       "      <td>2010-12-01 08:34</td>\n",
       "      <td>4.95</td>\n",
       "      <td>13047.0</td>\n",
       "      <td>United Kingdom</td>\n",
       "    </tr>\n",
       "    <tr>\n",
       "      <th>20</th>\n",
       "      <td>536367</td>\n",
       "      <td>22622</td>\n",
       "      <td>BOX OF VINTAGE ALPHABET BLOCKS</td>\n",
       "      <td>2</td>\n",
       "      <td>2010-12-01 08:34</td>\n",
       "      <td>9.95</td>\n",
       "      <td>13047.0</td>\n",
       "      <td>United Kingdom</td>\n",
       "    </tr>\n",
       "    <tr>\n",
       "      <th>21</th>\n",
       "      <td>536367</td>\n",
       "      <td>21754</td>\n",
       "      <td>HOME BUILDING BLOCK WORD</td>\n",
       "      <td>3</td>\n",
       "      <td>2010-12-01 08:34</td>\n",
       "      <td>5.95</td>\n",
       "      <td>13047.0</td>\n",
       "      <td>United Kingdom</td>\n",
       "    </tr>\n",
       "    <tr>\n",
       "      <th>22</th>\n",
       "      <td>536367</td>\n",
       "      <td>21755</td>\n",
       "      <td>LOVE BUILDING BLOCK WORD</td>\n",
       "      <td>3</td>\n",
       "      <td>2010-12-01 08:34</td>\n",
       "      <td>5.95</td>\n",
       "      <td>13047.0</td>\n",
       "      <td>United Kingdom</td>\n",
       "    </tr>\n",
       "    <tr>\n",
       "      <th>23</th>\n",
       "      <td>536367</td>\n",
       "      <td>21777</td>\n",
       "      <td>RECIPE BOX WITH METAL HEART</td>\n",
       "      <td>4</td>\n",
       "      <td>2010-12-01 08:34</td>\n",
       "      <td>7.95</td>\n",
       "      <td>13047.0</td>\n",
       "      <td>United Kingdom</td>\n",
       "    </tr>\n",
       "    <tr>\n",
       "      <th>24</th>\n",
       "      <td>536367</td>\n",
       "      <td>48187</td>\n",
       "      <td>DOORMAT NEW ENGLAND</td>\n",
       "      <td>4</td>\n",
       "      <td>2010-12-01 08:34</td>\n",
       "      <td>7.95</td>\n",
       "      <td>13047.0</td>\n",
       "      <td>United Kingdom</td>\n",
       "    </tr>\n",
       "    <tr>\n",
       "      <th>25</th>\n",
       "      <td>536369</td>\n",
       "      <td>21756</td>\n",
       "      <td>BATH BUILDING BLOCK WORD</td>\n",
       "      <td>3</td>\n",
       "      <td>2010-12-01 08:35</td>\n",
       "      <td>5.95</td>\n",
       "      <td>13047.0</td>\n",
       "      <td>United Kingdom</td>\n",
       "    </tr>\n",
       "    <tr>\n",
       "      <th>26</th>\n",
       "      <td>536370</td>\n",
       "      <td>22728</td>\n",
       "      <td>ALARM CLOCK BAKELIKE PINK</td>\n",
       "      <td>24</td>\n",
       "      <td>2010-12-01 08:45</td>\n",
       "      <td>3.75</td>\n",
       "      <td>12583.0</td>\n",
       "      <td>France</td>\n",
       "    </tr>\n",
       "    <tr>\n",
       "      <th>27</th>\n",
       "      <td>536370</td>\n",
       "      <td>22727</td>\n",
       "      <td>ALARM CLOCK BAKELIKE RED</td>\n",
       "      <td>24</td>\n",
       "      <td>2010-12-01 08:45</td>\n",
       "      <td>3.75</td>\n",
       "      <td>12583.0</td>\n",
       "      <td>France</td>\n",
       "    </tr>\n",
       "    <tr>\n",
       "      <th>28</th>\n",
       "      <td>536370</td>\n",
       "      <td>22726</td>\n",
       "      <td>ALARM CLOCK BAKELIKE GREEN</td>\n",
       "      <td>12</td>\n",
       "      <td>2010-12-01 08:45</td>\n",
       "      <td>3.75</td>\n",
       "      <td>12583.0</td>\n",
       "      <td>France</td>\n",
       "    </tr>\n",
       "    <tr>\n",
       "      <th>29</th>\n",
       "      <td>536370</td>\n",
       "      <td>21724</td>\n",
       "      <td>PANDA AND BUNNIES STICKER SHEET</td>\n",
       "      <td>12</td>\n",
       "      <td>2010-12-01 08:45</td>\n",
       "      <td>0.85</td>\n",
       "      <td>12583.0</td>\n",
       "      <td>France</td>\n",
       "    </tr>\n",
       "    <tr>\n",
       "      <th>...</th>\n",
       "      <td>...</td>\n",
       "      <td>...</td>\n",
       "      <td>...</td>\n",
       "      <td>...</td>\n",
       "      <td>...</td>\n",
       "      <td>...</td>\n",
       "      <td>...</td>\n",
       "      <td>...</td>\n",
       "    </tr>\n",
       "    <tr>\n",
       "      <th>541880</th>\n",
       "      <td>581585</td>\n",
       "      <td>22727</td>\n",
       "      <td>ALARM CLOCK BAKELIKE RED</td>\n",
       "      <td>4</td>\n",
       "      <td>2011-12-09 12:31</td>\n",
       "      <td>3.75</td>\n",
       "      <td>15804.0</td>\n",
       "      <td>United Kingdom</td>\n",
       "    </tr>\n",
       "    <tr>\n",
       "      <th>541881</th>\n",
       "      <td>581585</td>\n",
       "      <td>16016</td>\n",
       "      <td>LARGE CHINESE STYLE SCISSOR</td>\n",
       "      <td>10</td>\n",
       "      <td>2011-12-09 12:31</td>\n",
       "      <td>0.85</td>\n",
       "      <td>15804.0</td>\n",
       "      <td>United Kingdom</td>\n",
       "    </tr>\n",
       "    <tr>\n",
       "      <th>541882</th>\n",
       "      <td>581585</td>\n",
       "      <td>21916</td>\n",
       "      <td>SET 12 RETRO WHITE CHALK STICKS</td>\n",
       "      <td>24</td>\n",
       "      <td>2011-12-09 12:31</td>\n",
       "      <td>0.42</td>\n",
       "      <td>15804.0</td>\n",
       "      <td>United Kingdom</td>\n",
       "    </tr>\n",
       "    <tr>\n",
       "      <th>541883</th>\n",
       "      <td>581585</td>\n",
       "      <td>84692</td>\n",
       "      <td>BOX OF 24 COCKTAIL PARASOLS</td>\n",
       "      <td>25</td>\n",
       "      <td>2011-12-09 12:31</td>\n",
       "      <td>0.42</td>\n",
       "      <td>15804.0</td>\n",
       "      <td>United Kingdom</td>\n",
       "    </tr>\n",
       "    <tr>\n",
       "      <th>541884</th>\n",
       "      <td>581585</td>\n",
       "      <td>84946</td>\n",
       "      <td>ANTIQUE SILVER T-LIGHT GLASS</td>\n",
       "      <td>12</td>\n",
       "      <td>2011-12-09 12:31</td>\n",
       "      <td>1.25</td>\n",
       "      <td>15804.0</td>\n",
       "      <td>United Kingdom</td>\n",
       "    </tr>\n",
       "    <tr>\n",
       "      <th>541885</th>\n",
       "      <td>581585</td>\n",
       "      <td>21684</td>\n",
       "      <td>SMALL MEDINA STAMPED METAL BOWL</td>\n",
       "      <td>12</td>\n",
       "      <td>2011-12-09 12:31</td>\n",
       "      <td>0.85</td>\n",
       "      <td>15804.0</td>\n",
       "      <td>United Kingdom</td>\n",
       "    </tr>\n",
       "    <tr>\n",
       "      <th>541886</th>\n",
       "      <td>581585</td>\n",
       "      <td>22398</td>\n",
       "      <td>MAGNETS PACK OF 4 SWALLOWS</td>\n",
       "      <td>12</td>\n",
       "      <td>2011-12-09 12:31</td>\n",
       "      <td>0.39</td>\n",
       "      <td>15804.0</td>\n",
       "      <td>United Kingdom</td>\n",
       "    </tr>\n",
       "    <tr>\n",
       "      <th>541887</th>\n",
       "      <td>581585</td>\n",
       "      <td>23328</td>\n",
       "      <td>SET 6 SCHOOL MILK BOTTLES IN CRATE</td>\n",
       "      <td>4</td>\n",
       "      <td>2011-12-09 12:31</td>\n",
       "      <td>3.75</td>\n",
       "      <td>15804.0</td>\n",
       "      <td>United Kingdom</td>\n",
       "    </tr>\n",
       "    <tr>\n",
       "      <th>541888</th>\n",
       "      <td>581585</td>\n",
       "      <td>23145</td>\n",
       "      <td>ZINC T-LIGHT HOLDER STAR LARGE</td>\n",
       "      <td>12</td>\n",
       "      <td>2011-12-09 12:31</td>\n",
       "      <td>0.95</td>\n",
       "      <td>15804.0</td>\n",
       "      <td>United Kingdom</td>\n",
       "    </tr>\n",
       "    <tr>\n",
       "      <th>541889</th>\n",
       "      <td>581585</td>\n",
       "      <td>22466</td>\n",
       "      <td>FAIRY TALE COTTAGE NIGHT LIGHT</td>\n",
       "      <td>12</td>\n",
       "      <td>2011-12-09 12:31</td>\n",
       "      <td>1.95</td>\n",
       "      <td>15804.0</td>\n",
       "      <td>United Kingdom</td>\n",
       "    </tr>\n",
       "    <tr>\n",
       "      <th>541890</th>\n",
       "      <td>581586</td>\n",
       "      <td>22061</td>\n",
       "      <td>LARGE CAKE STAND  HANGING STRAWBERY</td>\n",
       "      <td>8</td>\n",
       "      <td>2011-12-09 12:49</td>\n",
       "      <td>2.95</td>\n",
       "      <td>13113.0</td>\n",
       "      <td>United Kingdom</td>\n",
       "    </tr>\n",
       "    <tr>\n",
       "      <th>541891</th>\n",
       "      <td>581586</td>\n",
       "      <td>23275</td>\n",
       "      <td>SET OF 3 HANGING OWLS OLLIE BEAK</td>\n",
       "      <td>24</td>\n",
       "      <td>2011-12-09 12:49</td>\n",
       "      <td>1.25</td>\n",
       "      <td>13113.0</td>\n",
       "      <td>United Kingdom</td>\n",
       "    </tr>\n",
       "    <tr>\n",
       "      <th>541892</th>\n",
       "      <td>581586</td>\n",
       "      <td>21217</td>\n",
       "      <td>RED RETROSPOT ROUND CAKE TINS</td>\n",
       "      <td>24</td>\n",
       "      <td>2011-12-09 12:49</td>\n",
       "      <td>8.95</td>\n",
       "      <td>13113.0</td>\n",
       "      <td>United Kingdom</td>\n",
       "    </tr>\n",
       "    <tr>\n",
       "      <th>541893</th>\n",
       "      <td>581586</td>\n",
       "      <td>20685</td>\n",
       "      <td>DOORMAT RED RETROSPOT</td>\n",
       "      <td>10</td>\n",
       "      <td>2011-12-09 12:49</td>\n",
       "      <td>7.08</td>\n",
       "      <td>13113.0</td>\n",
       "      <td>United Kingdom</td>\n",
       "    </tr>\n",
       "    <tr>\n",
       "      <th>541894</th>\n",
       "      <td>581587</td>\n",
       "      <td>22631</td>\n",
       "      <td>CIRCUS PARADE LUNCH BOX</td>\n",
       "      <td>12</td>\n",
       "      <td>2011-12-09 12:50</td>\n",
       "      <td>1.95</td>\n",
       "      <td>12680.0</td>\n",
       "      <td>France</td>\n",
       "    </tr>\n",
       "    <tr>\n",
       "      <th>541895</th>\n",
       "      <td>581587</td>\n",
       "      <td>22556</td>\n",
       "      <td>PLASTERS IN TIN CIRCUS PARADE</td>\n",
       "      <td>12</td>\n",
       "      <td>2011-12-09 12:50</td>\n",
       "      <td>1.65</td>\n",
       "      <td>12680.0</td>\n",
       "      <td>France</td>\n",
       "    </tr>\n",
       "    <tr>\n",
       "      <th>541896</th>\n",
       "      <td>581587</td>\n",
       "      <td>22555</td>\n",
       "      <td>PLASTERS IN TIN STRONGMAN</td>\n",
       "      <td>12</td>\n",
       "      <td>2011-12-09 12:50</td>\n",
       "      <td>1.65</td>\n",
       "      <td>12680.0</td>\n",
       "      <td>France</td>\n",
       "    </tr>\n",
       "    <tr>\n",
       "      <th>541897</th>\n",
       "      <td>581587</td>\n",
       "      <td>22728</td>\n",
       "      <td>ALARM CLOCK BAKELIKE PINK</td>\n",
       "      <td>4</td>\n",
       "      <td>2011-12-09 12:50</td>\n",
       "      <td>3.75</td>\n",
       "      <td>12680.0</td>\n",
       "      <td>France</td>\n",
       "    </tr>\n",
       "    <tr>\n",
       "      <th>541898</th>\n",
       "      <td>581587</td>\n",
       "      <td>22727</td>\n",
       "      <td>ALARM CLOCK BAKELIKE RED</td>\n",
       "      <td>4</td>\n",
       "      <td>2011-12-09 12:50</td>\n",
       "      <td>3.75</td>\n",
       "      <td>12680.0</td>\n",
       "      <td>France</td>\n",
       "    </tr>\n",
       "    <tr>\n",
       "      <th>541899</th>\n",
       "      <td>581587</td>\n",
       "      <td>22726</td>\n",
       "      <td>ALARM CLOCK BAKELIKE GREEN</td>\n",
       "      <td>4</td>\n",
       "      <td>2011-12-09 12:50</td>\n",
       "      <td>3.75</td>\n",
       "      <td>12680.0</td>\n",
       "      <td>France</td>\n",
       "    </tr>\n",
       "    <tr>\n",
       "      <th>541900</th>\n",
       "      <td>581587</td>\n",
       "      <td>22730</td>\n",
       "      <td>ALARM CLOCK BAKELIKE IVORY</td>\n",
       "      <td>4</td>\n",
       "      <td>2011-12-09 12:50</td>\n",
       "      <td>3.75</td>\n",
       "      <td>12680.0</td>\n",
       "      <td>France</td>\n",
       "    </tr>\n",
       "    <tr>\n",
       "      <th>541901</th>\n",
       "      <td>581587</td>\n",
       "      <td>22367</td>\n",
       "      <td>CHILDRENS APRON SPACEBOY DESIGN</td>\n",
       "      <td>8</td>\n",
       "      <td>2011-12-09 12:50</td>\n",
       "      <td>1.95</td>\n",
       "      <td>12680.0</td>\n",
       "      <td>France</td>\n",
       "    </tr>\n",
       "    <tr>\n",
       "      <th>541902</th>\n",
       "      <td>581587</td>\n",
       "      <td>22629</td>\n",
       "      <td>SPACEBOY LUNCH BOX</td>\n",
       "      <td>12</td>\n",
       "      <td>2011-12-09 12:50</td>\n",
       "      <td>1.95</td>\n",
       "      <td>12680.0</td>\n",
       "      <td>France</td>\n",
       "    </tr>\n",
       "    <tr>\n",
       "      <th>541903</th>\n",
       "      <td>581587</td>\n",
       "      <td>23256</td>\n",
       "      <td>CHILDRENS CUTLERY SPACEBOY</td>\n",
       "      <td>4</td>\n",
       "      <td>2011-12-09 12:50</td>\n",
       "      <td>4.15</td>\n",
       "      <td>12680.0</td>\n",
       "      <td>France</td>\n",
       "    </tr>\n",
       "    <tr>\n",
       "      <th>541904</th>\n",
       "      <td>581587</td>\n",
       "      <td>22613</td>\n",
       "      <td>PACK OF 20 SPACEBOY NAPKINS</td>\n",
       "      <td>12</td>\n",
       "      <td>2011-12-09 12:50</td>\n",
       "      <td>0.85</td>\n",
       "      <td>12680.0</td>\n",
       "      <td>France</td>\n",
       "    </tr>\n",
       "    <tr>\n",
       "      <th>541905</th>\n",
       "      <td>581587</td>\n",
       "      <td>22899</td>\n",
       "      <td>CHILDREN'S APRON DOLLY GIRL</td>\n",
       "      <td>6</td>\n",
       "      <td>2011-12-09 12:50</td>\n",
       "      <td>2.10</td>\n",
       "      <td>12680.0</td>\n",
       "      <td>France</td>\n",
       "    </tr>\n",
       "    <tr>\n",
       "      <th>541906</th>\n",
       "      <td>581587</td>\n",
       "      <td>23254</td>\n",
       "      <td>CHILDRENS CUTLERY DOLLY GIRL</td>\n",
       "      <td>4</td>\n",
       "      <td>2011-12-09 12:50</td>\n",
       "      <td>4.15</td>\n",
       "      <td>12680.0</td>\n",
       "      <td>France</td>\n",
       "    </tr>\n",
       "    <tr>\n",
       "      <th>541907</th>\n",
       "      <td>581587</td>\n",
       "      <td>23255</td>\n",
       "      <td>CHILDRENS CUTLERY CIRCUS PARADE</td>\n",
       "      <td>4</td>\n",
       "      <td>2011-12-09 12:50</td>\n",
       "      <td>4.15</td>\n",
       "      <td>12680.0</td>\n",
       "      <td>France</td>\n",
       "    </tr>\n",
       "    <tr>\n",
       "      <th>541908</th>\n",
       "      <td>581587</td>\n",
       "      <td>22138</td>\n",
       "      <td>BAKING SET 9 PIECE RETROSPOT</td>\n",
       "      <td>3</td>\n",
       "      <td>2011-12-09 12:50</td>\n",
       "      <td>4.95</td>\n",
       "      <td>12680.0</td>\n",
       "      <td>France</td>\n",
       "    </tr>\n",
       "    <tr>\n",
       "      <th>541909</th>\n",
       "      <td>581587</td>\n",
       "      <td>POST</td>\n",
       "      <td>POSTAGE</td>\n",
       "      <td>1</td>\n",
       "      <td>2011-12-09 12:50</td>\n",
       "      <td>18.00</td>\n",
       "      <td>12680.0</td>\n",
       "      <td>France</td>\n",
       "    </tr>\n",
       "  </tbody>\n",
       "</table>\n",
       "<p>541910 rows × 8 columns</p>\n",
       "</div>"
      ],
      "text/plain": [
       "       Invoice StockCode                          Description  Quantity  \\\n",
       "0       536365    85123A   WHITE HANGING HEART T-LIGHT HOLDER         6   \n",
       "1       536365     71053                  WHITE METAL LANTERN         6   \n",
       "2       536365    84406B       CREAM CUPID HEARTS COAT HANGER         8   \n",
       "3       536365    84029G  KNITTED UNION FLAG HOT WATER BOTTLE         6   \n",
       "4       536365    84029E       RED WOOLLY HOTTIE WHITE HEART.         6   \n",
       "5       536365     22752         SET 7 BABUSHKA NESTING BOXES         2   \n",
       "6       536365     21730    GLASS STAR FROSTED T-LIGHT HOLDER         6   \n",
       "7       536366     22633               HAND WARMER UNION JACK         6   \n",
       "8       536366     22632            HAND WARMER RED POLKA DOT         6   \n",
       "9       536368     22960             JAM MAKING SET WITH JARS         6   \n",
       "10      536368     22913          RED COAT RACK PARIS FASHION         3   \n",
       "11      536368     22912       YELLOW COAT RACK PARIS FASHION         3   \n",
       "12      536368     22914         BLUE COAT RACK PARIS FASHION         3   \n",
       "13      536367     84879        ASSORTED COLOUR BIRD ORNAMENT        32   \n",
       "14      536367     22745           POPPY'S PLAYHOUSE BEDROOM          6   \n",
       "15      536367     22748            POPPY'S PLAYHOUSE KITCHEN         6   \n",
       "16      536367     22749    FELTCRAFT PRINCESS CHARLOTTE DOLL         8   \n",
       "17      536367     22310              IVORY KNITTED MUG COSY          6   \n",
       "18      536367     84969   BOX OF 6 ASSORTED COLOUR TEASPOONS         6   \n",
       "19      536367     22623        BOX OF VINTAGE JIGSAW BLOCKS          3   \n",
       "20      536367     22622       BOX OF VINTAGE ALPHABET BLOCKS         2   \n",
       "21      536367     21754             HOME BUILDING BLOCK WORD         3   \n",
       "22      536367     21755             LOVE BUILDING BLOCK WORD         3   \n",
       "23      536367     21777          RECIPE BOX WITH METAL HEART         4   \n",
       "24      536367     48187                  DOORMAT NEW ENGLAND         4   \n",
       "25      536369     21756             BATH BUILDING BLOCK WORD         3   \n",
       "26      536370     22728            ALARM CLOCK BAKELIKE PINK        24   \n",
       "27      536370     22727            ALARM CLOCK BAKELIKE RED         24   \n",
       "28      536370     22726           ALARM CLOCK BAKELIKE GREEN        12   \n",
       "29      536370     21724      PANDA AND BUNNIES STICKER SHEET        12   \n",
       "...        ...       ...                                  ...       ...   \n",
       "541880  581585     22727            ALARM CLOCK BAKELIKE RED          4   \n",
       "541881  581585     16016          LARGE CHINESE STYLE SCISSOR        10   \n",
       "541882  581585     21916      SET 12 RETRO WHITE CHALK STICKS        24   \n",
       "541883  581585     84692          BOX OF 24 COCKTAIL PARASOLS        25   \n",
       "541884  581585     84946         ANTIQUE SILVER T-LIGHT GLASS        12   \n",
       "541885  581585     21684     SMALL MEDINA STAMPED METAL BOWL         12   \n",
       "541886  581585     22398           MAGNETS PACK OF 4 SWALLOWS        12   \n",
       "541887  581585     23328   SET 6 SCHOOL MILK BOTTLES IN CRATE         4   \n",
       "541888  581585     23145       ZINC T-LIGHT HOLDER STAR LARGE        12   \n",
       "541889  581585     22466       FAIRY TALE COTTAGE NIGHT LIGHT        12   \n",
       "541890  581586     22061  LARGE CAKE STAND  HANGING STRAWBERY         8   \n",
       "541891  581586     23275     SET OF 3 HANGING OWLS OLLIE BEAK        24   \n",
       "541892  581586     21217        RED RETROSPOT ROUND CAKE TINS        24   \n",
       "541893  581586     20685                DOORMAT RED RETROSPOT        10   \n",
       "541894  581587     22631             CIRCUS PARADE LUNCH BOX         12   \n",
       "541895  581587     22556       PLASTERS IN TIN CIRCUS PARADE         12   \n",
       "541896  581587     22555            PLASTERS IN TIN STRONGMAN        12   \n",
       "541897  581587     22728            ALARM CLOCK BAKELIKE PINK         4   \n",
       "541898  581587     22727            ALARM CLOCK BAKELIKE RED          4   \n",
       "541899  581587     22726           ALARM CLOCK BAKELIKE GREEN         4   \n",
       "541900  581587     22730           ALARM CLOCK BAKELIKE IVORY         4   \n",
       "541901  581587     22367      CHILDRENS APRON SPACEBOY DESIGN         8   \n",
       "541902  581587     22629                  SPACEBOY LUNCH BOX         12   \n",
       "541903  581587     23256          CHILDRENS CUTLERY SPACEBOY          4   \n",
       "541904  581587     22613          PACK OF 20 SPACEBOY NAPKINS        12   \n",
       "541905  581587     22899         CHILDREN'S APRON DOLLY GIRL          6   \n",
       "541906  581587     23254        CHILDRENS CUTLERY DOLLY GIRL          4   \n",
       "541907  581587     23255      CHILDRENS CUTLERY CIRCUS PARADE         4   \n",
       "541908  581587     22138        BAKING SET 9 PIECE RETROSPOT          3   \n",
       "541909  581587      POST                              POSTAGE         1   \n",
       "\n",
       "             InvoiceDate  Price  Customer ID         Country  \n",
       "0       2010-12-01 08:26   2.55      17850.0  United Kingdom  \n",
       "1       2010-12-01 08:26   3.39      17850.0  United Kingdom  \n",
       "2       2010-12-01 08:26   2.75      17850.0  United Kingdom  \n",
       "3       2010-12-01 08:26   3.39      17850.0  United Kingdom  \n",
       "4       2010-12-01 08:26   3.39      17850.0  United Kingdom  \n",
       "5       2010-12-01 08:26   7.65      17850.0  United Kingdom  \n",
       "6       2010-12-01 08:26   4.25      17850.0  United Kingdom  \n",
       "7       2010-12-01 08:28   1.85      17850.0  United Kingdom  \n",
       "8       2010-12-01 08:28   1.85      17850.0  United Kingdom  \n",
       "9       2010-12-01 08:34   4.25      13047.0  United Kingdom  \n",
       "10      2010-12-01 08:34   4.95      13047.0  United Kingdom  \n",
       "11      2010-12-01 08:34   4.95      13047.0  United Kingdom  \n",
       "12      2010-12-01 08:34   4.95      13047.0  United Kingdom  \n",
       "13      2010-12-01 08:34   1.69      13047.0  United Kingdom  \n",
       "14      2010-12-01 08:34   2.10      13047.0  United Kingdom  \n",
       "15      2010-12-01 08:34   2.10      13047.0  United Kingdom  \n",
       "16      2010-12-01 08:34   3.75      13047.0  United Kingdom  \n",
       "17      2010-12-01 08:34   1.65      13047.0  United Kingdom  \n",
       "18      2010-12-01 08:34   4.25      13047.0  United Kingdom  \n",
       "19      2010-12-01 08:34   4.95      13047.0  United Kingdom  \n",
       "20      2010-12-01 08:34   9.95      13047.0  United Kingdom  \n",
       "21      2010-12-01 08:34   5.95      13047.0  United Kingdom  \n",
       "22      2010-12-01 08:34   5.95      13047.0  United Kingdom  \n",
       "23      2010-12-01 08:34   7.95      13047.0  United Kingdom  \n",
       "24      2010-12-01 08:34   7.95      13047.0  United Kingdom  \n",
       "25      2010-12-01 08:35   5.95      13047.0  United Kingdom  \n",
       "26      2010-12-01 08:45   3.75      12583.0          France  \n",
       "27      2010-12-01 08:45   3.75      12583.0          France  \n",
       "28      2010-12-01 08:45   3.75      12583.0          France  \n",
       "29      2010-12-01 08:45   0.85      12583.0          France  \n",
       "...                  ...    ...          ...             ...  \n",
       "541880  2011-12-09 12:31   3.75      15804.0  United Kingdom  \n",
       "541881  2011-12-09 12:31   0.85      15804.0  United Kingdom  \n",
       "541882  2011-12-09 12:31   0.42      15804.0  United Kingdom  \n",
       "541883  2011-12-09 12:31   0.42      15804.0  United Kingdom  \n",
       "541884  2011-12-09 12:31   1.25      15804.0  United Kingdom  \n",
       "541885  2011-12-09 12:31   0.85      15804.0  United Kingdom  \n",
       "541886  2011-12-09 12:31   0.39      15804.0  United Kingdom  \n",
       "541887  2011-12-09 12:31   3.75      15804.0  United Kingdom  \n",
       "541888  2011-12-09 12:31   0.95      15804.0  United Kingdom  \n",
       "541889  2011-12-09 12:31   1.95      15804.0  United Kingdom  \n",
       "541890  2011-12-09 12:49   2.95      13113.0  United Kingdom  \n",
       "541891  2011-12-09 12:49   1.25      13113.0  United Kingdom  \n",
       "541892  2011-12-09 12:49   8.95      13113.0  United Kingdom  \n",
       "541893  2011-12-09 12:49   7.08      13113.0  United Kingdom  \n",
       "541894  2011-12-09 12:50   1.95      12680.0          France  \n",
       "541895  2011-12-09 12:50   1.65      12680.0          France  \n",
       "541896  2011-12-09 12:50   1.65      12680.0          France  \n",
       "541897  2011-12-09 12:50   3.75      12680.0          France  \n",
       "541898  2011-12-09 12:50   3.75      12680.0          France  \n",
       "541899  2011-12-09 12:50   3.75      12680.0          France  \n",
       "541900  2011-12-09 12:50   3.75      12680.0          France  \n",
       "541901  2011-12-09 12:50   1.95      12680.0          France  \n",
       "541902  2011-12-09 12:50   1.95      12680.0          France  \n",
       "541903  2011-12-09 12:50   4.15      12680.0          France  \n",
       "541904  2011-12-09 12:50   0.85      12680.0          France  \n",
       "541905  2011-12-09 12:50   2.10      12680.0          France  \n",
       "541906  2011-12-09 12:50   4.15      12680.0          France  \n",
       "541907  2011-12-09 12:50   4.15      12680.0          France  \n",
       "541908  2011-12-09 12:50   4.95      12680.0          France  \n",
       "541909  2011-12-09 12:50  18.00      12680.0          France  \n",
       "\n",
       "[541910 rows x 8 columns]"
      ]
     },
     "execution_count": 7,
     "metadata": {},
     "output_type": "execute_result"
    }
   ],
   "source": [
    "full_data_pandas"
   ]
  },
  {
   "cell_type": "markdown",
   "metadata": {},
   "source": [
    "In this data set, the targets aren't as clearly defined as we would like to, so we have do define them ourselves."
   ]
  },
  {
   "cell_type": "code",
   "execution_count": 8,
   "metadata": {},
   "outputs": [],
   "source": [
    "def add_target(df):\n",
    "    df = df.sort_values(by=[\"Customer ID\", \"InvoiceDate\"])\n",
    "    \n",
    "    cancelled = np.zeros(df.shape[0])\n",
    "\n",
    "    invoice = np.asarray(df[\"Invoice\"])\n",
    "    stock_code = np.asarray(df[\"StockCode\"])\n",
    "    customer_id = np.asarray(df[\"Customer ID\"])\n",
    "\n",
    "    for i in range(len(invoice)):\n",
    "        if (invoice[i][0] == 'C') or (i == len(invoice) - 1):\n",
    "            continue\n",
    "\n",
    "        j = i + 1\n",
    "\n",
    "        while customer_id[j] == customer_id[i]:\n",
    "            if (invoice[j][0] == 'C') and (stock_code[i] == stock_code[j]):\n",
    "                cancelled[i] = 1.0\n",
    "                break\n",
    "\n",
    "            if stock_code[i] == stock_code[j]:\n",
    "                break\n",
    "\n",
    "            j += 1\n",
    "    \n",
    "    df[\"cancelled\"] = cancelled\n",
    "    \n",
    "    return df"
   ]
  },
  {
   "cell_type": "markdown",
   "metadata": {},
   "source": [
    "Also, we want to remove any orders in the data set that are actually cancellations."
   ]
  },
  {
   "cell_type": "code",
   "execution_count": 9,
   "metadata": {},
   "outputs": [],
   "source": [
    "def remove_cancellations(df):\n",
    "    invoice = np.asarray(df[\"Invoice\"])\n",
    "\n",
    "    is_order = [inv[0] != 'C' for inv in invoice]\n",
    "    \n",
    "    df = df[is_order]\n",
    "    \n",
    "    return df"
   ]
  },
  {
   "cell_type": "code",
   "execution_count": 10,
   "metadata": {},
   "outputs": [],
   "source": [
    "full_data_pandas = add_target(full_data_pandas)\n",
    "full_data_pandas = remove_cancellations(full_data_pandas)"
   ]
  },
  {
   "cell_type": "markdown",
   "metadata": {},
   "source": [
    "Finally, there are some order for which we do not have a customer ID. We want to remove those."
   ]
  },
  {
   "cell_type": "code",
   "execution_count": 11,
   "metadata": {},
   "outputs": [],
   "source": [
    "full_data_pandas = full_data_pandas[~np.isnan(full_data_pandas[\"Customer ID\"])]"
   ]
  },
  {
   "cell_type": "markdown",
   "metadata": {},
   "source": [
    "Now we can upload the data to getML."
   ]
  },
  {
   "cell_type": "code",
   "execution_count": 12,
   "metadata": {},
   "outputs": [
    {
     "data": {
      "text/html": [
       "<table class=\"dataframe\"><thead><tr style=\"border-bottom:1pt solid LightGray;\"><th style=\"text-align: left;border-right:1pt solid LightGray;\">Name  </th><th style=\"text-align: right;\">Quantity</th><th style=\"text-align: right;\">Price</th><th style=\"text-align: right;\">Customer ID</th><th style=\"text-align: right;\">cancelled</th><th style=\"text-align: right;\">Invoice</th><th style=\"text-align: right;\">StockCode</th><th style=\"text-align: right;\">Description</th><th style=\"text-align: right;\">InvoiceDate</th><th style=\"text-align: right;\">Country</th></tr><tr><th style=\"text-align: left;border-right:1pt solid LightGray;\">Role  </th><td style=\"text-align: right;\"><i>unused_float</i></td><td style=\"text-align: right;\"><i>unused_float</i></td><td style=\"text-align: right;\"><i>unused_float</i></td><td style=\"text-align: right;\"><i>unused_float</i></td><td style=\"text-align: right;\"><i>unused_string</i></td><td style=\"text-align: right;\"><i>unused_string</i></td><td style=\"text-align: right;\"><i>unused_string</i></td><td style=\"text-align: right;\"><i>unused_string</i></td><td style=\"text-align: right;\"><i>unused_string</i></td></tr></thead><tbody><tr style=\"border-top:1pt solid LightGray;\"><td style=\"border-right:1pt solid LightGray;\"><b>0</b></td><td>74215</td><td>1.04</td><td>12346</td><td>1</td><td>541431</td><td>23166</td><td>MEDIUM CERAMIC TOP STORAGE JAR</td><td>2011-01-18 10:01</td><td>United Kingdom</td></tr><tr><td style=\"border-right:1pt solid LightGray;\"><b>1</b></td><td>12</td><td>2.1</td><td>12347</td><td>0</td><td>537626</td><td>85116</td><td>BLACK CANDELABRA T-LIGHT HOLDER</td><td>2010-12-07 14:57</td><td>Iceland</td></tr><tr><td style=\"border-right:1pt solid LightGray;\"><b>2</b></td><td>4</td><td>4.25</td><td>12347</td><td>0</td><td>537626</td><td>22375</td><td>AIRLINE BAG VINTAGE JET SET BROWN</td><td>2010-12-07 14:57</td><td>Iceland</td></tr><tr><td style=\"border-right:1pt solid LightGray;\"><b>3</b></td><td>12</td><td>3.25</td><td>12347</td><td>0</td><td>537626</td><td>71477</td><td>COLOUR GLASS. STAR T-LIGHT HOLDER</td><td>2010-12-07 14:57</td><td>Iceland</td></tr><tr><td style=\"border-right:1pt solid LightGray;\"><b>4</b></td><td>36</td><td>0.65</td><td>12347</td><td>0</td><td>537626</td><td>22492</td><td>MINI PAINT SET VINTAGE </td><td>2010-12-07 14:57</td><td>Iceland</td></tr><tr><td style=\"border-right:1pt solid LightGray;\"><b> </b></td><td>...</td><td>...</td><td>...</td><td>...</td><td>...</td><td>...</td><td>...</td><td>...</td><td>...</td></tr><tr><td style=\"border-right:1pt solid LightGray;\"><b>397920</b></td><td>12</td><td>0.42</td><td>18287</td><td>0</td><td>570715</td><td>22419</td><td>LIPSTICK PEN RED</td><td>2011-10-12 10:23</td><td>United Kingdom</td></tr><tr><td style=\"border-right:1pt solid LightGray;\"><b>397921</b></td><td>12</td><td>2.1</td><td>18287</td><td>0</td><td>570715</td><td>22866</td><td>HAND WARMER SCOTTY DOG DESIGN</td><td>2011-10-12 10:23</td><td>United Kingdom</td></tr><tr><td style=\"border-right:1pt solid LightGray;\"><b>397922</b></td><td>36</td><td>1.25</td><td>18287</td><td>0</td><td>573167</td><td>23264</td><td>SET OF 3 WOODEN SLEIGH DECORATIONS</td><td>2011-10-28 09:29</td><td>United Kingdom</td></tr><tr><td style=\"border-right:1pt solid LightGray;\"><b>397923</b></td><td>48</td><td>0.39</td><td>18287</td><td>0</td><td>573167</td><td>21824</td><td>PAINTED METAL STAR WITH HOLLY BELLS</td><td>2011-10-28 09:29</td><td>United Kingdom</td></tr><tr><td style=\"border-right:1pt solid LightGray;\"><b>397924</b></td><td>24</td><td>0.29</td><td>18287</td><td>0</td><td>573167</td><td>21014</td><td>SWISS CHALET TREE DECORATION </td><td>2011-10-28 09:29</td><td>United Kingdom</td></tr></tbody></table><br>397925 rows x 9 columns<br>memory usage: 57.28 MB<br>name: full_data<br>type: getml.data.DataFrame<br>url: <a href=\"http://localhost:1709/#/getdataframe/online-retail/full_data/\" target=\"_blank\">http://localhost:1709/#/getdataframe/online-retail/full_data/</a>"
      ],
      "text/plain": [
       "Name         Quantity          Price    Customer ID         Invoice   ...       StockCode   \n",
       "Role     unused_float   unused_float   unused_float   unused_string   ...   unused_string   \n",
       "0        74215          1.04           12346          541431          ...   23166           \n",
       "1        12             2.1            12347          537626          ...   85116           \n",
       "2        4              4.25           12347          537626          ...   22375           \n",
       "3        12             3.25           12347          537626          ...   71477           \n",
       "4        36             0.65           12347          537626          ...   22492           \n",
       "         ...            ...            ...            ...             ...   ...             \n",
       "397920   12             0.42           18287          570715          ...   22419           \n",
       "397921   12             2.1            18287          570715          ...   22866           \n",
       "397922   36             1.25           18287          573167          ...   23264           \n",
       "397923   48             0.39           18287          573167          ...   21824           \n",
       "397924   24             0.29           18287          573167          ...   21014           \n",
       "\n",
       "\n",
       "\n",
       "Name                             Description        InvoiceDate          Country   \n",
       "Role                           unused_string      unused_string    unused_string   \n",
       "0        MEDIUM CERAMIC TOP STORAGE JAR        2011-01-18 10:01   United Kingdom   \n",
       "1        BLACK CANDELABRA T-LIGHT HOLDER       2010-12-07 14:57   Iceland          \n",
       "2        AIRLINE BAG VINTAGE JET SET BROWN     2010-12-07 14:57   Iceland          \n",
       "3        COLOUR GLASS. STAR T-LIGHT HOLDER     2010-12-07 14:57   Iceland          \n",
       "4        MINI PAINT SET VINTAGE                2010-12-07 14:57   Iceland          \n",
       "         ...                                   ...                ...              \n",
       "397920   LIPSTICK PEN RED                      2011-10-12 10:23   United Kingdom   \n",
       "397921   HAND WARMER SCOTTY DOG DESIGN         2011-10-12 10:23   United Kingdom   \n",
       "397922   SET OF 3 WOODEN SLEIGH DECORATIONS    2011-10-28 09:29   United Kingdom   \n",
       "397923   PAINTED METAL STAR WITH HOLLY BELLS   2011-10-28 09:29   United Kingdom   \n",
       "397924   SWISS CHALET TREE DECORATION          2011-10-28 09:29   United Kingdom   \n",
       "\n",
       "397925 rows x 9 columns\n",
       "memory usage: 57.28 MB\n",
       "name: full_data\n",
       "type: getml.data.DataFrame\n",
       "url: http://localhost:1709/#/getdataframe/online-retail/full_data/"
      ]
     },
     "execution_count": 12,
     "metadata": {},
     "output_type": "execute_result"
    }
   ],
   "source": [
    "full_data = getml.data.DataFrame.from_pandas(full_data_pandas, \"full_data\")\n",
    "\n",
    "full_data"
   ]
  },
  {
   "cell_type": "markdown",
   "metadata": {},
   "source": [
    " "
   ]
  },
  {
   "cell_type": "markdown",
   "metadata": {},
   "source": [
    "### 1.3 Prepare data for getML"
   ]
  },
  {
   "cell_type": "markdown",
   "metadata": {},
   "source": [
    " "
   ]
  },
  {
   "cell_type": "markdown",
   "metadata": {},
   "source": [
    "getML requires that we define *roles* for each of the columns."
   ]
  },
  {
   "cell_type": "code",
   "execution_count": 13,
   "metadata": {},
   "outputs": [],
   "source": [
    "full_data.set_role(\"InvoiceDate\", getml.data.roles.time_stamp, time_formats=['%Y-%m-%d %H:%M'])\n",
    "full_data.set_role([\"Customer ID\", \"Invoice\"], getml.data.roles.join_key)\n",
    "full_data.set_role([\"cancelled\"], getml.data.roles.target)\n",
    "full_data.set_role([\"Quantity\", \"Price\"], getml.data.roles.numerical)\n",
    "full_data.set_role(\"Country\", getml.data.roles.categorical)"
   ]
  },
  {
   "cell_type": "markdown",
   "metadata": {},
   "source": [
    "The *StockCode* is a 5-digit code that uniquely defines a product. It is hierarchical, meaning that every digit has a meaning. We want to make use of that, so we assign a unit to the stock code, which we can reference in our preprocessors."
   ]
  },
  {
   "cell_type": "code",
   "execution_count": 14,
   "metadata": {},
   "outputs": [],
   "source": [
    "full_data.set_unit(\"StockCode\", \"code\")"
   ]
  },
  {
   "cell_type": "markdown",
   "metadata": {},
   "source": [
    "Let's take a look at what we have done so far:"
   ]
  },
  {
   "cell_type": "code",
   "execution_count": 15,
   "metadata": {},
   "outputs": [
    {
     "data": {
      "text/html": [
       "<table class=\"dataframe\"><thead><tr style=\"border-bottom:1pt solid LightGray;\"><th style=\"text-align: left;border-right:1pt solid LightGray;\">Name  </th><th style=\"text-align: right;\">InvoiceDate</th><th style=\"text-align: right;\">Customer ID</th><th style=\"text-align: right;\">Invoice</th><th style=\"text-align: right;\">cancelled</th><th style=\"text-align: right;\">Country</th><th style=\"text-align: right;\">Quantity</th><th style=\"text-align: right;\">Price</th><th style=\"text-align: right;\">Description</th><th style=\"text-align: right;\">StockCode</th></tr><tr><th style=\"text-align: left;border-right:1pt solid LightGray;\">Role  </th><td style=\"text-align: right;\"><i>time_stamp</i></td><td style=\"text-align: right;\"><i>join_key</i></td><td style=\"text-align: right;\"><i>join_key</i></td><td style=\"text-align: right;\"><i>target</i></td><td style=\"text-align: right;\"><i>categorical</i></td><td style=\"text-align: right;\"><i>numerical</i></td><td style=\"text-align: right;\"><i>numerical</i></td><td style=\"text-align: right;\"><i>unused_string</i></td><td style=\"text-align: right;\"><i>unused_string</i></td></tr><tr><th style=\"text-align: left;border-right:1pt solid LightGray;\">Unit  </th><td style=\"text-align: right;\"><i>time stamp, comparison only</i></td><td style=\"text-align: right;\"><i></i></td><td style=\"text-align: right;\"><i></i></td><td style=\"text-align: right;\"><i></i></td><td style=\"text-align: right;\"><i></i></td><td style=\"text-align: right;\"><i></i></td><td style=\"text-align: right;\"><i></i></td><td style=\"text-align: right;\"><i></i></td><td style=\"text-align: right;\"><i>code</i></td></tr></thead><tbody><tr style=\"border-top:1pt solid LightGray;\"><td style=\"border-right:1pt solid LightGray;\"><b>0</b></td><td>2011-01-18T10:01:00.000000Z</td><td>12346</td><td>541431</td><td>1</td><td>United Kingdom</td><td>74215</td><td>1.04</td><td>MEDIUM CERAMIC TOP STORAGE JAR</td><td>23166</td></tr><tr><td style=\"border-right:1pt solid LightGray;\"><b>1</b></td><td>2010-12-07T14:57:00.000000Z</td><td>12347</td><td>537626</td><td>0</td><td>Iceland</td><td>12</td><td>2.1</td><td>BLACK CANDELABRA T-LIGHT HOLDER</td><td>85116</td></tr><tr><td style=\"border-right:1pt solid LightGray;\"><b>2</b></td><td>2010-12-07T14:57:00.000000Z</td><td>12347</td><td>537626</td><td>0</td><td>Iceland</td><td>4</td><td>4.25</td><td>AIRLINE BAG VINTAGE JET SET BROWN</td><td>22375</td></tr><tr><td style=\"border-right:1pt solid LightGray;\"><b>3</b></td><td>2010-12-07T14:57:00.000000Z</td><td>12347</td><td>537626</td><td>0</td><td>Iceland</td><td>12</td><td>3.25</td><td>COLOUR GLASS. STAR T-LIGHT HOLDER</td><td>71477</td></tr><tr><td style=\"border-right:1pt solid LightGray;\"><b>4</b></td><td>2010-12-07T14:57:00.000000Z</td><td>12347</td><td>537626</td><td>0</td><td>Iceland</td><td>36</td><td>0.65</td><td>MINI PAINT SET VINTAGE </td><td>22492</td></tr><tr><td style=\"border-right:1pt solid LightGray;\"><b> </b></td><td>...</td><td>...</td><td>...</td><td>...</td><td>...</td><td>...</td><td>...</td><td>...</td><td>...</td></tr><tr><td style=\"border-right:1pt solid LightGray;\"><b>397920</b></td><td>2011-10-12T10:23:00.000000Z</td><td>18287</td><td>570715</td><td>0</td><td>United Kingdom</td><td>12</td><td>0.42</td><td>LIPSTICK PEN RED</td><td>22419</td></tr><tr><td style=\"border-right:1pt solid LightGray;\"><b>397921</b></td><td>2011-10-12T10:23:00.000000Z</td><td>18287</td><td>570715</td><td>0</td><td>United Kingdom</td><td>12</td><td>2.1</td><td>HAND WARMER SCOTTY DOG DESIGN</td><td>22866</td></tr><tr><td style=\"border-right:1pt solid LightGray;\"><b>397922</b></td><td>2011-10-28T09:29:00.000000Z</td><td>18287</td><td>573167</td><td>0</td><td>United Kingdom</td><td>36</td><td>1.25</td><td>SET OF 3 WOODEN SLEIGH DECORATIONS</td><td>23264</td></tr><tr><td style=\"border-right:1pt solid LightGray;\"><b>397923</b></td><td>2011-10-28T09:29:00.000000Z</td><td>18287</td><td>573167</td><td>0</td><td>United Kingdom</td><td>48</td><td>0.39</td><td>PAINTED METAL STAR WITH HOLLY BELLS</td><td>21824</td></tr><tr><td style=\"border-right:1pt solid LightGray;\"><b>397924</b></td><td>2011-10-28T09:29:00.000000Z</td><td>18287</td><td>573167</td><td>0</td><td>United Kingdom</td><td>24</td><td>0.29</td><td>SWISS CHALET TREE DECORATION </td><td>21014</td></tr></tbody></table><br>397925 rows x 9 columns<br>memory usage: 37.31 MB<br>name: full_data<br>type: getml.data.DataFrame<br>url: <a href=\"http://localhost:1709/#/getdataframe/online-retail/full_data/\" target=\"_blank\">http://localhost:1709/#/getdataframe/online-retail/full_data/</a>"
      ],
      "text/plain": [
       "Name                     InvoiceDate   Customer ID    Invoice          Country   ...    Quantity       Price   \n",
       "Role                      time_stamp      join_key   join_key      categorical   ...   numerical   numerical   \n",
       "Unit     time stamp, comparison only                                             ...                           \n",
       "0        2011-01-18T10:01:00.000000Z   12346         541431     United Kingdom   ...   74215       1.04        \n",
       "1        2010-12-07T14:57:00.000000Z   12347         537626     Iceland          ...   12          2.1         \n",
       "2        2010-12-07T14:57:00.000000Z   12347         537626     Iceland          ...   4           4.25        \n",
       "3        2010-12-07T14:57:00.000000Z   12347         537626     Iceland          ...   12          3.25        \n",
       "4        2010-12-07T14:57:00.000000Z   12347         537626     Iceland          ...   36          0.65        \n",
       "         ...                           ...           ...        ...              ...   ...         ...         \n",
       "397920   2011-10-12T10:23:00.000000Z   18287         570715     United Kingdom   ...   12          0.42        \n",
       "397921   2011-10-12T10:23:00.000000Z   18287         570715     United Kingdom   ...   12          2.1         \n",
       "397922   2011-10-28T09:29:00.000000Z   18287         573167     United Kingdom   ...   36          1.25        \n",
       "397923   2011-10-28T09:29:00.000000Z   18287         573167     United Kingdom   ...   48          0.39        \n",
       "397924   2011-10-28T09:29:00.000000Z   18287         573167     United Kingdom   ...   24          0.29        \n",
       "\n",
       "\n",
       "\n",
       "Name                             Description       StockCode   \n",
       "Role                           unused_string   unused_string   \n",
       "Unit                                                    code   \n",
       "0        MEDIUM CERAMIC TOP STORAGE JAR        23166           \n",
       "1        BLACK CANDELABRA T-LIGHT HOLDER       85116           \n",
       "2        AIRLINE BAG VINTAGE JET SET BROWN     22375           \n",
       "3        COLOUR GLASS. STAR T-LIGHT HOLDER     71477           \n",
       "4        MINI PAINT SET VINTAGE                22492           \n",
       "         ...                                   ...             \n",
       "397920   LIPSTICK PEN RED                      22419           \n",
       "397921   HAND WARMER SCOTTY DOG DESIGN         22866           \n",
       "397922   SET OF 3 WOODEN SLEIGH DECORATIONS    23264           \n",
       "397923   PAINTED METAL STAR WITH HOLLY BELLS   21824           \n",
       "397924   SWISS CHALET TREE DECORATION          21014           \n",
       "\n",
       "397925 rows x 9 columns\n",
       "memory usage: 37.31 MB\n",
       "name: full_data\n",
       "type: getml.data.DataFrame\n",
       "url: http://localhost:1709/#/getdataframe/online-retail/full_data/"
      ]
     },
     "execution_count": 15,
     "metadata": {},
     "output_type": "execute_result"
    }
   ],
   "source": [
    "full_data"
   ]
  },
  {
   "cell_type": "code",
   "execution_count": 16,
   "metadata": {},
   "outputs": [],
   "source": [
    "random = full_data.random()\n",
    "\n",
    "is_training = (random < 0.7)\n",
    "is_validation = (~is_training & (random < 0.85))\n",
    "is_test = (~is_training & ~is_validation)\n",
    "\n",
    "data_train = full_data.where(\"data_train\", is_training)\n",
    "data_validation = full_data.where(\"data_validation\", is_validation)\n",
    "data_test = full_data.where(\"data_test\", is_test)"
   ]
  },
  {
   "cell_type": "markdown",
   "metadata": {},
   "source": [
    " "
   ]
  },
  {
   "cell_type": "markdown",
   "metadata": {},
   "source": [
    "## 2. Predictive modelling\n",
    "\n",
    "We loaded the data and defined the roles and units. Next, we create a getML pipeline for relational learning."
   ]
  },
  {
   "cell_type": "markdown",
   "metadata": {},
   "source": [
    "### 2.1 Define relational model\n",
    "\n",
    "To get started with relational learning, we need to specify the data model.\n",
    "\n",
    "In our case, there are two joins we are interested in: \n",
    "\n",
    "1) We want to take a look at all of the other orders on the same invoice.\n",
    "\n",
    "2) We want to check out how often a certain customer has cancelled orders in the past. Here, we limit ourselves to the last 90 days. To avoid data leaks, we set a horizon of one day."
   ]
  },
  {
   "cell_type": "code",
   "execution_count": 17,
   "metadata": {},
   "outputs": [
    {
     "data": {
      "text/html": [
       "<div style=\"height:210px;width:660px;position:relative;\"><svg height=\"200\" width=\"650\"><rect y=\"0\" x=\"0\" rx=\"10\" ry=\"10\" width=\"150\" height=\"90\" style=\"fill:#6829c2;stroke-width:0;\" /><text y=\"73.8\"\" x=\"75.0\" dominant-baseline=\"middle\" text-anchor=\"middle\" fill=\"white\">peripheral</text><rect x=\"51\" y=\"10\" rx=\"4\" ry=\"4\" width=\"48\" height=\"48\" style=\" fill:#6829c2;stroke:#ffffff;stroke-width:3;\" /><line x1=\"67.0\" y1=\"10\" x2=\"67.0\" y2=\"58\" style=\"stroke:white;stroke-width:3\" /><line x1=\"83.0\" y1=\"10\" x2=\"83.0\" y2=\"58\" style=\"stroke:white;stroke-width:3\" /><line x1=\"51\" y1=\"26.0\" x2=\"99\" y2=\"26.0\" style=\"stroke:white;stroke-width:3\" /><line x1=\"51\" y1=\"42.0\" x2=\"99\" y2=\"42.0\" style=\"stroke:white;stroke-width:3\" /><rect y=\"110\" x=\"0\" rx=\"10\" ry=\"10\" width=\"150\" height=\"90\" style=\"fill:#6829c2;stroke-width:0;\" /><text y=\"183.8\"\" x=\"75.0\" dominant-baseline=\"middle\" text-anchor=\"middle\" fill=\"white\">peripheral</text><rect x=\"51\" y=\"120\" rx=\"4\" ry=\"4\" width=\"48\" height=\"48\" style=\" fill:#6829c2;stroke:#ffffff;stroke-width:3;\" /><line x1=\"67.0\" y1=\"120\" x2=\"67.0\" y2=\"168\" style=\"stroke:white;stroke-width:3\" /><line x1=\"83.0\" y1=\"120\" x2=\"83.0\" y2=\"168\" style=\"stroke:white;stroke-width:3\" /><line x1=\"51\" y1=\"136.0\" x2=\"99\" y2=\"136.0\" style=\"stroke:white;stroke-width:3\" /><line x1=\"51\" y1=\"152.0\" x2=\"99\" y2=\"152.0\" style=\"stroke:white;stroke-width:3\" /><rect y=\"110\" x=\"500\" rx=\"10\" ry=\"10\" width=\"150\" height=\"90\" style=\"fill:#6829c2;stroke-width:0;\" /><text y=\"183.8\"\" x=\"575.0\" dominant-baseline=\"middle\" text-anchor=\"middle\" fill=\"white\">population</text><rect x=\"551\" y=\"120\" rx=\"4\" ry=\"4\" width=\"48\" height=\"48\" style=\" fill:#6829c2;stroke:#ffffff;stroke-width:3;\" /><line x1=\"567.0\" y1=\"120\" x2=\"567.0\" y2=\"168\" style=\"stroke:white;stroke-width:3\" /><line x1=\"583.0\" y1=\"120\" x2=\"583.0\" y2=\"168\" style=\"stroke:white;stroke-width:3\" /><line x1=\"551\" y1=\"136.0\" x2=\"599\" y2=\"136.0\" style=\"stroke:white;stroke-width:3\" /><line x1=\"551\" y1=\"152.0\" x2=\"599\" y2=\"152.0\" style=\"stroke:white;stroke-width:3\" /><line x1=\"150\" y1=\"43.0\" x2=\"573.0\" y2=\"43.0\" style=\"stroke:#808080;;stroke-width:4\" /><line x1=\"573.0\" y1=\"41.0\" x2=\"573.0\" y2=\"100\" style=\"stroke:#808080;;stroke-width:4\" /><polygon points=\"573.0, 110 567.0, 100 579.0, 100 \" style=\"fill:#808080;;stroke-width:0;\" /><rect y=\"10.0\" x=\"249.0\" rx=\"10\" ry=\"10\" width=\"150\" height=\"70\" style=\"fill:#6829c2;stroke-width:0;\" /><text dominant-baseline=\"middle\" text-anchor=\"middle\" fill=\"white\"><tspan y=\"45.0\"\" x=\"324.0\" font-size=\"7pt\" >Invoice = Invoice</tspan></text><line x1=\"150\" y1=\"153.0\" x2=\"490\" y2=\"153.0\" style=\"stroke:#808080;;stroke-width:4\" /><polygon points=\"500, 153.0 490, 147.0 490, 159.0 \" style=\"fill:#808080;;stroke-width:0;\" /><rect y=\"120.0\" x=\"249.0\" rx=\"10\" ry=\"10\" width=\"150\" height=\"70\" style=\"fill:#6829c2;stroke-width:0;\" /><text dominant-baseline=\"middle\" text-anchor=\"middle\" fill=\"white\"><tspan y=\"135.0\"\" x=\"324.0\" font-size=\"7pt\" >Customer ID = Customer ID</tspan><tspan y=\"145.0\"\" x=\"324.0\" font-size=\"7pt\" >InvoiceDate <= InvoiceDate</tspan><tspan y=\"155.0\"\" x=\"324.0\" font-size=\"7pt\" >Memory: 90.0 days</tspan><tspan y=\"165.0\"\" x=\"324.0\" font-size=\"7pt\" >Horizon: 1.0 days</tspan><tspan y=\"175.0\"\" x=\"324.0\" font-size=\"7pt\" >Lagged targets allowed</tspan></text></svg></div>"
      ],
      "text/plain": [
       "placeholder   other placeholder   allow lagged targets   horizon   join keys used   ...   \n",
       "population    peripheral          False                  0.0       Invoice          ...   \n",
       "population    peripheral          True                   86400.0   Customer ID      ...   \n",
       "\n",
       "\n",
       "\n",
       "other join keys used   other time stamps used   relationship   time stamps used   \n",
       "Invoice                                         many-to-many                      \n",
       "Customer ID            InvoiceDate              many-to-many   InvoiceDate        \n",
       "\n",
       "\n",
       "\n",
       "other join keys used   upper time stamps used   \n",
       "Invoice                                         \n",
       "Customer ID                                     "
      ]
     },
     "execution_count": 17,
     "metadata": {},
     "output_type": "execute_result"
    }
   ],
   "source": [
    "population = getml.data.Placeholder('population')\n",
    "\n",
    "peripheral = getml.data.Placeholder('peripheral')\n",
    "\n",
    "population.join(\n",
    "    peripheral,\n",
    "    join_key='Invoice',\n",
    "    allow_lagged_targets=False\n",
    ")\n",
    "\n",
    "population.join(\n",
    "    peripheral,\n",
    "    join_key='Customer ID',\n",
    "    time_stamp='InvoiceDate',\n",
    "    horizon=getml.data.time.days(1),\n",
    "    memory=getml.data.time.days(90),\n",
    "    allow_lagged_targets=True\n",
    ")\n",
    "\n",
    "population"
   ]
  },
  {
   "cell_type": "markdown",
   "metadata": {},
   "source": [
    " "
   ]
  },
  {
   "cell_type": "markdown",
   "metadata": {},
   "source": [
    "### 2.2 getML pipeline"
   ]
  },
  {
   "cell_type": "markdown",
   "metadata": {},
   "source": [
    "<!-- #### 2.1.1  -->\n",
    "__Set-up the feature learner & predictor__"
   ]
  },
  {
   "cell_type": "markdown",
   "metadata": {},
   "source": [
    "We have mentioned that the *StockCode* is a hierarchical code. To make use of that fact, we use getML's substring preprocessor, extracting the first digit, the first two digits etc. Since we have assigned the unit *code* to the *StockCode*, the preprocessors know which column they should be applied to."
   ]
  },
  {
   "cell_type": "code",
   "execution_count": 18,
   "metadata": {},
   "outputs": [],
   "source": [
    "substr1 = getml.preprocessors.Substring(0, 1, \"code\")\n",
    "substr2 = getml.preprocessors.Substring(0, 2, \"code\")\n",
    "substr3 = getml.preprocessors.Substring(0, 3, \"code\")\n",
    "\n",
    "relboost = getml.feature_learning.RelboostModel(\n",
    "    num_features=20,\n",
    "    loss_function=getml.feature_learning.loss_functions.CrossEntropyLoss,\n",
    "    seed=4367,\n",
    "    num_threads=1\n",
    ")\n",
    "\n",
    "predictor = getml.predictors.XGBoostClassifier()"
   ]
  },
  {
   "cell_type": "markdown",
   "metadata": {},
   "source": [
    "__Build the pipeline__"
   ]
  },
  {
   "cell_type": "code",
   "execution_count": 19,
   "metadata": {},
   "outputs": [],
   "source": [
    "pipe = getml.pipeline.Pipeline(\n",
    "    tags=['relboost'],\n",
    "    population=population,\n",
    "    peripheral=[peripheral],\n",
    "    preprocessors=[substr1, substr2, substr3],\n",
    "    feature_learners=[relboost],\n",
    "    predictors=[predictor],\n",
    "    include_categorical=True\n",
    ")"
   ]
  },
  {
   "cell_type": "markdown",
   "metadata": {},
   "source": [
    " "
   ]
  },
  {
   "cell_type": "markdown",
   "metadata": {},
   "source": [
    "### 2.3 Model training"
   ]
  },
  {
   "cell_type": "code",
   "execution_count": 20,
   "metadata": {},
   "outputs": [
    {
     "name": "stdout",
     "output_type": "stream",
     "text": [
      "Checking data model...\n",
      "OK.\n"
     ]
    }
   ],
   "source": [
    "pipe.check(data_train, [full_data])"
   ]
  },
  {
   "cell_type": "code",
   "execution_count": 21,
   "metadata": {},
   "outputs": [
    {
     "name": "stdout",
     "output_type": "stream",
     "text": [
      "Checking data model...\n",
      "OK.\n",
      "\n",
      "Relboost: Training features...\n",
      "[========================================] 100%\n",
      "\n",
      "Relboost: Building features...\n",
      "[========================================] 100%\n",
      "\n",
      "XGBoost: Training as predictor...\n",
      "[========================================] 100%\n",
      "\n",
      "Trained pipeline.\n",
      "Time taken: 0h:10m:22.961763\n",
      "\n"
     ]
    },
    {
     "data": {
      "text/html": [
       "<pre>Pipeline(preprocessors=['Substring', 'Substring', 'Substring'], <br>         feature_learners=['RelboostModel'], feature_selectors=[], <br>         include_categorical=True, peripheral=['peripheral'], <br>         population='population', predictors=['XGBoostClassifier'], <br>         tags=['relboost'], share_selected_features=0.5)</pre><br><pre>url: <a href=\"http://localhost:1709/#/getpipeline/online-retail/mn5hH5/0/\" target=\"_blank\">http://localhost:1709/#/getpipeline/online-retail/mn5hH5/0/</a></pre>"
      ],
      "text/plain": [
       "Pipeline(preprocessors=['Substring', 'Substring', 'Substring'], \n",
       "         feature_learners=['RelboostModel'], feature_selectors=[], \n",
       "         include_categorical=True, peripheral=['peripheral'], \n",
       "         population='population', predictors=['XGBoostClassifier'], \n",
       "         tags=['relboost'], share_selected_features=0.5)\n",
       "\n",
       "url: http://localhost:1709/#/getpipeline/online-retail/mn5hH5/0/"
      ]
     },
     "execution_count": 21,
     "metadata": {},
     "output_type": "execute_result"
    }
   ],
   "source": [
    "pipe.fit(data_train, [full_data])"
   ]
  },
  {
   "cell_type": "markdown",
   "metadata": {},
   "source": [
    " "
   ]
  },
  {
   "cell_type": "markdown",
   "metadata": {},
   "source": [
    "### 2.4 Model evaluation"
   ]
  },
  {
   "cell_type": "code",
   "execution_count": 22,
   "metadata": {
    "lines_to_next_cell": 0
   },
   "outputs": [
    {
     "name": "stdout",
     "output_type": "stream",
     "text": [
      "\n",
      "Relboost: Building features...\n",
      "[========================================] 100%\n",
      "\n"
     ]
    },
    {
     "data": {
      "text/html": [
       "<table class=\"dataframe\"><thead><tr style=\"border-bottom:1pt solid LightGray;\"><th style=\"text-align: left;border-right:1pt solid LightGray;\"> </th><th style=\"text-align: right;\">date time          </th><th style=\"text-align: right;\">set used  </th><th style=\"text-align: right;\">target   </th><th style=\"text-align: right;\">accuracy</th><th style=\"text-align: right;\">     auc</th><th style=\"text-align: right;\">cross entropy</th></tr></thead><tbody><tr style=\"border-top:1pt solid LightGray;\"><td style=\"border-right:1pt solid LightGray;\"><b>0</b></td><td>2021-01-07 14:44:50</td><td>data_train</td><td>cancelled</td><td> 0.98238</td><td> 0.81144</td><td>      0.07694</td></tr><tr><td style=\"border-right:1pt solid LightGray;\"><b>1</b></td><td>2021-01-07 14:44:58</td><td>data_test </td><td>cancelled</td><td> 0.98247</td><td> 0.79310</td><td>      0.07793</td></tr></tbody></table>"
      ],
      "text/plain": [
       "    date time             set used     target      accuracy        auc   cross entropy\n",
       "0   2021-01-07 14:44:50   data_train   cancelled    0.98238    0.81144         0.07694\n",
       "1   2021-01-07 14:44:58   data_test    cancelled    0.98247    0.79310         0.07793"
      ]
     },
     "execution_count": 22,
     "metadata": {},
     "output_type": "execute_result"
    }
   ],
   "source": [
    "pipe.score(data_test, [full_data])"
   ]
  },
  {
   "cell_type": "markdown",
   "metadata": {},
   "source": [
    " "
   ]
  },
  {
   "cell_type": "markdown",
   "metadata": {},
   "source": [
    "### 2.5 Hyperparameter tuning"
   ]
  },
  {
   "cell_type": "markdown",
   "metadata": {},
   "source": [
    "As we have seen, we can achieve and out-of-sample AUC of almost 80% using the default parameters. That is not too bad, but can we do better?\n",
    "\n",
    "Turns out we can. All we have to do is to use getML's built-in hyperparameter tuning routines. No cheating: We optimize on the validation set, which is different from the testing set."
   ]
  },
  {
   "cell_type": "code",
   "execution_count": 23,
   "metadata": {},
   "outputs": [
    {
     "name": "stdout",
     "output_type": "stream",
     "text": [
      "Checking data model...\n",
      "OK.\n",
      "\n",
      "Retrieving features (because a similar feature learner has already been fitted)...\n",
      "[========================================] 100%\n",
      "\n",
      "Relboost: Building features...\n",
      "[========================================] 100%\n",
      "\n",
      "XGBoost: Training as predictor...\n",
      "[========================================] 100%\n",
      "\n",
      "Trained pipeline.\n",
      "Time taken: 0h:3m:13.790713\n",
      "\n"
     ]
    }
   ],
   "source": [
    "if ALLOW_TUNING:\n",
    "    tuned_pipe = getml.hyperopt.tune_predictors(\n",
    "        pipeline=pipe,\n",
    "        population_table_training=data_train,\n",
    "        population_table_validation=data_validation,\n",
    "        peripheral_tables=[full_data]\n",
    "    )\n",
    "\n",
    "else: # If ALLOW_TUNING is false, use the tuned hyperparameters\n",
    "    params = {\n",
    "     'booster': 'gbtree',\n",
    "     'colsample_bylevel': 1,\n",
    "     'colsample_bytree': 0.8593709932112917,\n",
    "     'learning_rate': 0.06013502966116914,\n",
    "     'gamma': 1.9549658301717747,\n",
    "     'max_delta_step': 0,\n",
    "     'max_depth': 11,\n",
    "     'min_child_weights': 1,\n",
    "     'n_estimators': 849,\n",
    "     'normalize_type': 'tree',\n",
    "     'num_parallel_tree': 1,\n",
    "     'n_jobs': 0,\n",
    "     'objective': 'binary:logistic',\n",
    "     'one_drop': False,\n",
    "     'rate_drop': 0,\n",
    "     'reg_alpha': 0,\n",
    "     'reg_lambda': 1,\n",
    "     'sample_type': 'uniform',\n",
    "     'silent': True,\n",
    "     'skip_drop': 0,\n",
    "     'subsample': 0.8879661348440209}\n",
    "    tuned_pipe = copy.deepcopy(pipe)\n",
    "    tuned_pipe.predictors = [getml.predictors.XGBoostClassifier(**params)]\n",
    "    tuned_pipe.fit(data_train, [full_data])"
   ]
  },
  {
   "cell_type": "markdown",
   "metadata": {},
   "source": [
    "Finally, we evaluate the tuned pipeline on the testing set:"
   ]
  },
  {
   "cell_type": "code",
   "execution_count": 24,
   "metadata": {},
   "outputs": [
    {
     "name": "stdout",
     "output_type": "stream",
     "text": [
      "\n",
      "Relboost: Building features...\n",
      "[========================================] 100%\n",
      "\n"
     ]
    },
    {
     "data": {
      "text/html": [
       "<table class=\"dataframe\"><thead><tr style=\"border-bottom:1pt solid LightGray;\"><th style=\"text-align: left;border-right:1pt solid LightGray;\"> </th><th style=\"text-align: right;\">date time          </th><th style=\"text-align: right;\">set used  </th><th style=\"text-align: right;\">target   </th><th style=\"text-align: right;\">accuracy</th><th style=\"text-align: right;\">     auc</th><th style=\"text-align: right;\">cross entropy</th></tr></thead><tbody><tr style=\"border-top:1pt solid LightGray;\"><td style=\"border-right:1pt solid LightGray;\"><b>0</b></td><td>2021-01-07 14:48:13</td><td>data_train</td><td>cancelled</td><td> 0.99636</td><td> 0.99942</td><td>      0.01738</td></tr><tr><td style=\"border-right:1pt solid LightGray;\"><b>1</b></td><td>2021-01-07 14:48:27</td><td>data_test </td><td>cancelled</td><td> 0.98377</td><td> 0.85831</td><td>      0.07027</td></tr></tbody></table>"
      ],
      "text/plain": [
       "    date time             set used     target      accuracy        auc   cross entropy\n",
       "0   2021-01-07 14:48:13   data_train   cancelled    0.99636    0.99942         0.01738\n",
       "1   2021-01-07 14:48:27   data_test    cancelled    0.98377    0.85831         0.07027"
      ]
     },
     "execution_count": 24,
     "metadata": {},
     "output_type": "execute_result"
    }
   ],
   "source": [
    "tuned_pipe.score(data_test, [full_data])"
   ]
  },
  {
   "cell_type": "markdown",
   "metadata": {},
   "source": [
    "As we can see, tuning the hyperparameters can improve the out-of-sample AUC by 6 percentage points."
   ]
  },
  {
   "cell_type": "markdown",
   "metadata": {},
   "source": [
    " "
   ]
  },
  {
   "cell_type": "markdown",
   "metadata": {},
   "source": [
    "### 2.6 Studying features"
   ]
  },
  {
   "cell_type": "markdown",
   "metadata": {},
   "source": [
    "__Feature correlations__\n",
    "\n",
    "We want to analyze how the features are correlated with the target variable."
   ]
  },
  {
   "cell_type": "code",
   "execution_count": 25,
   "metadata": {},
   "outputs": [
    {
     "data": {
      "image/png": "[encoded data removed]",
      "text/plain": [
       "<Figure size 1440x720 with 1 Axes>"
      ]
     },
     "metadata": {
      "needs_background": "light"
     },
     "output_type": "display_data"
    }
   ],
   "source": [
    "names, correlations = tuned_pipe.features.correlations()\n",
    "\n",
    "plt.subplots(figsize=(20, 10))\n",
    "\n",
    "plt.bar(names, correlations, color='#6829c2')\n",
    "\n",
    "plt.title('Feature Correlations')\n",
    "plt.xlabel('Features')\n",
    "plt.ylabel('Correlations')\n",
    "plt.xticks(rotation='vertical')\n",
    "plt.show()"
   ]
  },
  {
   "cell_type": "markdown",
   "metadata": {},
   "source": [
    " "
   ]
  },
  {
   "cell_type": "markdown",
   "metadata": {},
   "source": [
    "__Feature importances__\n",
    " \n",
    "Feature importances are calculated by analyzing the improvement in predictive accuracy on each node of the trees in the XGBoost predictor. They are then normalized, so that all importances add up to 100%."
   ]
  },
  {
   "cell_type": "code",
   "execution_count": 26,
   "metadata": {
    "lines_to_next_cell": 0
   },
   "outputs": [
    {
     "data": {
      "image/png": "[encoded data removed]",
      "text/plain": [
       "<Figure size 1440x720 with 1 Axes>"
      ]
     },
     "metadata": {
      "needs_background": "light"
     },
     "output_type": "display_data"
    }
   ],
   "source": [
    "names, importances = tuned_pipe.features.importances()\n",
    "\n",
    "plt.subplots(figsize=(20, 10))\n",
    "\n",
    "plt.bar(names, importances, color='#6829c2')\n",
    "\n",
    "plt.title('Feature Importances')\n",
    "plt.xlabel('Features')\n",
    "plt.ylabel('Importances')\n",
    "plt.xticks(rotation='vertical')\n",
    "plt.show()\n",
    "\n",
    "most_important = names[0]"
   ]
  },
  {
   "cell_type": "markdown",
   "metadata": {},
   "source": [
    "  "
   ]
  },
  {
   "cell_type": "markdown",
   "metadata": {},
   "source": [
    "__Column importances__\n",
    "\n",
    "Because getML uses relational learning, we can apply the principles we used to calculate the feature importances to individual columns as well.\n",
    "\n",
    "As we can see, the *StockCode* contributes about 50% of the predictive accuracy."
   ]
  },
  {
   "cell_type": "code",
   "execution_count": 27,
   "metadata": {},
   "outputs": [
    {
     "data": {
      "image/png": "[encoded data removed]",
      "text/plain": [
       "<Figure size 1440x720 with 1 Axes>"
      ]
     },
     "metadata": {
      "needs_background": "light"
     },
     "output_type": "display_data"
    }
   ],
   "source": [
    "names, importances = tuned_pipe.columns.importances()\n",
    "\n",
    "plt.subplots(figsize=(20, 10))\n",
    "\n",
    "plt.bar(names, importances, color='#6829c2')\n",
    "\n",
    "plt.title('Columns importances')\n",
    "plt.xlabel('Columns')\n",
    "plt.ylabel('Importances')\n",
    "plt.xticks(rotation='vertical')\n",
    "plt.show()\n",
    "\n",
    "most_important = names[0]"
   ]
  },
  {
   "cell_type": "markdown",
   "metadata": {},
   "source": [
    " "
   ]
  },
  {
   "cell_type": "markdown",
   "metadata": {},
   "source": [
    "__Transpiling the learned features__\n",
    "\n",
    "We can also transpile the learned features to SQLite3 code. We want to show the two most important features. That is why we call the `.features.importances().` method again. The names that are returned are already sorted by importance."
   ]
  },
  {
   "cell_type": "markdown",
   "metadata": {},
   "source": [
    " "
   ]
  },
  {
   "cell_type": "code",
   "execution_count": 28,
   "metadata": {},
   "outputs": [
    {
     "data": {
      "text/markdown": [
       "```sql\n",
       "DROP TABLE IF EXISTS \"FEATURE_1_2\";\n",
       "\n",
       "CREATE TABLE \"FEATURE_1_2\" AS\n",
       "SELECT AVG( \n",
       "    CASE\n",
       "        WHEN ( t2.\"Country\" IN ( 'USA' ) ) AND ( substr( t2.\"StockCode\", 1, 1 ) IN ( '1' ) ) AND ( substr( t1.\"StockCode\", 1, 3 ) IN ( '212' ) ) THEN 5642.263601551945\n",
       "        WHEN ( t2.\"Country\" IN ( 'USA' ) ) AND ( substr( t2.\"StockCode\", 1, 1 ) IN ( '1' ) ) AND ( substr( t1.\"StockCode\", 1, 3 ) NOT IN ( '212' ) ) THEN 5642.263601551945\n",
       "        WHEN ( t2.\"Country\" IN ( 'USA' ) ) AND ( substr( t2.\"StockCode\", 1, 1 ) NOT IN ( '1' ) ) AND ( substr( t2.\"StockCode\", 1, 2 ) IN ( '21', '84', '20', '37', '48' ) ) THEN 0.4909869351860781\n",
       "        WHEN ( t2.\"Country\" IN ( 'USA' ) ) AND ( substr( t2.\"StockCode\", 1, 1 ) NOT IN ( '1' ) ) AND ( substr( t2.\"StockCode\", 1, 2 ) NOT IN ( '21', '84', '20', '37', '48' ) ) THEN 0.4911030445088695\n",
       "        WHEN ( t2.\"Country\" NOT IN ( 'USA' ) ) AND ( substr( t2.\"StockCode\", 1, 3 ) IN ( 'M', '211', '221', '852', '210', '845', '207', '846', '206', '225', '160', '170', '233', '234', '216', '235', '220', '359', '843', '150', '355', '161', '162', '208', '825', '847', '725', '710', '352', '356', '100', '750', '723', '474', '236', '712', 'DOT' ) ) AND ( t2.\"Quantity\" > 4.000000 ) THEN 0.3987157118539053\n",
       "        WHEN ( t2.\"Country\" NOT IN ( 'USA' ) ) AND ( substr( t2.\"StockCode\", 1, 3 ) IN ( 'M', '211', '221', '852', '210', '845', '207', '846', '206', '225', '160', '170', '233', '234', '216', '235', '220', '359', '843', '150', '355', '161', '162', '208', '825', '847', '725', '710', '352', '356', '100', '750', '723', '474', '236', '712', 'DOT' ) ) AND ( t2.\"Quantity\" <= 4.000000 OR t2.\"Quantity\" IS NULL ) THEN -2.583569603280032\n",
       "        WHEN ( t2.\"Country\" NOT IN ( 'USA' ) ) AND ( substr( t2.\"StockCode\", 1, 3 ) NOT IN ( 'M', '211', '221', '852', '210', '845', '207', '846', '206', '225', '160', '170', '233', '234', '216', '235', '220', '359', '843', '150', '355', '161', '162', '208', '825', '847', '725', '710', '352', '356', '100', '750', '723', '474', '236', '712', 'DOT' ) ) AND ( t1.\"Quantity\" > 39.000000 ) THEN 4.584253989675212\n",
       "        WHEN ( t2.\"Country\" NOT IN ( 'USA' ) ) AND ( substr( t2.\"StockCode\", 1, 3 ) NOT IN ( 'M', '211', '221', '852', '210', '845', '207', '846', '206', '225', '160', '170', '233', '234', '216', '235', '220', '359', '843', '150', '355', '161', '162', '208', '825', '847', '725', '710', '352', '356', '100', '750', '723', '474', '236', '712', 'DOT' ) ) AND ( t1.\"Quantity\" <= 39.000000 OR t1.\"Quantity\" IS NULL ) THEN 2.236036044700546\n",
       "        ELSE NULL\n",
       "    END\n",
       ") AS \"feature_1_2\",\n",
       "     t1.rowid AS \"rownum\"\n",
       "FROM \"population\" t1\n",
       "LEFT JOIN \"peripheral\" t2\n",
       "ON t1.\"Invoice\" = t2.\"Invoice\"\n",
       "GROUP BY t1.rowid;\n",
       "```"
      ],
      "text/plain": [
       "DROP TABLE IF EXISTS \"FEATURE_1_2\";\n",
       "\n",
       "CREATE TABLE \"FEATURE_1_2\" AS\n",
       "SELECT AVG( \n",
       "    CASE\n",
       "        WHEN ( t2.\"Country\" IN ( 'USA' ) ) AND ( substr( t2.\"StockCode\", 1, 1 ) IN ( '1' ) ) AND ( substr( t1.\"StockCode\", 1, 3 ) IN ( '212' ) ) THEN 5642.263601551945\n",
       "        WHEN ( t2.\"Country\" IN ( 'USA' ) ) AND ( substr( t2.\"StockCode\", 1, 1 ) IN ( '1' ) ) AND ( substr( t1.\"StockCode\", 1, 3 ) NOT IN ( '212' ) ) THEN 5642.263601551945\n",
       "        WHEN ( t2.\"Country\" IN ( 'USA' ) ) AND ( substr( t2.\"StockCode\", 1, 1 ) NOT IN ( '1' ) ) AND ( substr( t2.\"StockCode\", 1, 2 ) IN ( '21', '84', '20', '37', '48' ) ) THEN 0.4909869351860781\n",
       "        WHEN ( t2.\"Country\" IN ( 'USA' ) ) AND ( substr( t2.\"StockCode\", 1, 1 ) NOT IN ( '1' ) ) AND ( substr( t2.\"StockCode\", 1, 2 ) NOT IN ( '21', '84', '20', '37', '48' ) ) THEN 0.4911030445088695\n",
       "        WHEN ( t2.\"Country\" NOT IN ( 'USA' ) ) AND ( substr( t2.\"StockCode\", 1, 3 ) IN ( 'M', '211', '221', '852', '210', '845', '207', '846', '206', '225', '160', '170', '233', '234', '216', '235', '220', '359', '843', '150', '355', '161', '162', '208', '825', '847', '725', '710', '352', '356', '100', '750', '723', '474', '236', '712', 'DOT' ) ) AND ( t2.\"Quantity\" > 4.000000 ) THEN 0.3987157118539053\n",
       "        WHEN ( t2.\"Country\" NOT IN ( 'USA' ) ) AND ( substr( t2.\"StockCode\", 1, 3 ) IN ( 'M', '211', '221', '852', '210', '845', '207', '846', '206', '225', '160', '170', '233', '234', '216', '235', '220', '359', '843', '150', '355', '161', '162', '208', '825', '847', '725', '710', '352', '356', '100', '750', '723', '474', '236', '712', 'DOT' ) ) AND ( t2.\"Quantity\" <= 4.000000 OR t2.\"Quantity\" IS NULL ) THEN -2.583569603280032\n",
       "        WHEN ( t2.\"Country\" NOT IN ( 'USA' ) ) AND ( substr( t2.\"StockCode\", 1, 3 ) NOT IN ( 'M', '211', '221', '852', '210', '845', '207', '846', '206', '225', '160', '170', '233', '234', '216', '235', '220', '359', '843', '150', '355', '161', '162', '208', '825', '847', '725', '710', '352', '356', '100', '750', '723', '474', '236', '712', 'DOT' ) ) AND ( t1.\"Quantity\" > 39.000000 ) THEN 4.584253989675212\n",
       "        WHEN ( t2.\"Country\" NOT IN ( 'USA' ) ) AND ( substr( t2.\"StockCode\", 1, 3 ) NOT IN ( 'M', '211', '221', '852', '210', '845', '207', '846', '206', '225', '160', '170', '233', '234', '216', '235', '220', '359', '843', '150', '355', '161', '162', '208', '825', '847', '725', '710', '352', '356', '100', '750', '723', '474', '236', '712', 'DOT' ) ) AND ( t1.\"Quantity\" <= 39.000000 OR t1.\"Quantity\" IS NULL ) THEN 2.236036044700546\n",
       "        ELSE NULL\n",
       "    END\n",
       ") AS \"feature_1_2\",\n",
       "     t1.rowid AS \"rownum\"\n",
       "FROM \"population\" t1\n",
       "LEFT JOIN \"peripheral\" t2\n",
       "ON t1.\"Invoice\" = t2.\"Invoice\"\n",
       "GROUP BY t1.rowid;"
      ]
     },
     "execution_count": 28,
     "metadata": {},
     "output_type": "execute_result"
    }
   ],
   "source": [
    "names, _ = tuned_pipe.features.importances()\n",
    "\n",
    "tuned_pipe.features.to_sql()[names[0]]"
   ]
  },
  {
   "cell_type": "code",
   "execution_count": 29,
   "metadata": {},
   "outputs": [
    {
     "data": {
      "text/markdown": [
       "```sql\n",
       "DROP TABLE IF EXISTS \"FEATURE_1_6\";\n",
       "\n",
       "CREATE TABLE \"FEATURE_1_6\" AS\n",
       "SELECT AVG( \n",
       "    CASE\n",
       "        WHEN ( t2.\"Quantity\" > 3.000000 ) AND ( substr( t2.\"StockCode\", 1, 3 ) IN ( '227', '221', '845', '207', '209', '219', '218', '230', '225', '160', '170', '510', '232', '233', '234', '235', 'POS', '215', '220', '850', '840', '359', '843', '727', '714', '481', '826', '820', '161', '162', '208', '467', '841', '725', '710', '373', '352', '354', '350', '356', '722', '110', '100', '101', '721', '171', '723', '474', '400', '620', '236', '712', '711', '819', '794', '751', '771', '470', '461', '781', '440', '720', '715' ) ) AND ( substr( t1.\"StockCode\", 1, 3 ) IN ( '901' ) ) THEN 70.19551675856017\n",
       "        WHEN ( t2.\"Quantity\" > 3.000000 ) AND ( substr( t2.\"StockCode\", 1, 3 ) IN ( '227', '221', '845', '207', '209', '219', '218', '230', '225', '160', '170', '510', '232', '233', '234', '235', 'POS', '215', '220', '850', '840', '359', '843', '727', '714', '481', '826', '820', '161', '162', '208', '467', '841', '725', '710', '373', '352', '354', '350', '356', '722', '110', '100', '101', '721', '171', '723', '474', '400', '620', '236', '712', '711', '819', '794', '751', '771', '470', '461', '781', '440', '720', '715' ) ) AND ( substr( t1.\"StockCode\", 1, 3 ) NOT IN ( '901' ) ) THEN -0.7315362939863287\n",
       "        WHEN ( t2.\"Quantity\" > 3.000000 ) AND ( substr( t2.\"StockCode\", 1, 3 ) NOT IN ( '227', '221', '845', '207', '209', '219', '218', '230', '225', '160', '170', '510', '232', '233', '234', '235', 'POS', '215', '220', '850', '840', '359', '843', '727', '714', '481', '826', '820', '161', '162', '208', '467', '841', '725', '710', '373', '352', '354', '350', '356', '722', '110', '100', '101', '721', '171', '723', '474', '400', '620', '236', '712', '711', '819', '794', '751', '771', '470', '461', '781', '440', '720', '715' ) ) AND ( substr( t1.\"StockCode\", 1, 3 ) IN ( 'M', 'C2', '223', '222', '211', '852', '210', '845', '207', '846', '209', '219', '218', '206', '225', '160', '228', '510', '233', '212', '216', '475', '235', 'POS', '214', '220', '850', '840', '359', '374', '790', '843', '375', '844', '727', '355', '714', '481', '826', '820', '161', '848', '162', '180', '467', '825', '700', '842', '841', '460', '725', '710', '900', '901', '358', '473', '352', '354', '356', '793', '722', '110', '100', '101', '442', '750', '721', '171', '723', '780', '474', '400', '620', '236', '712', '819', '751', '470', '461', 'DOT', '715' ) ) THEN 1.577972633243075\n",
       "        WHEN ( t2.\"Quantity\" > 3.000000 ) AND ( substr( t2.\"StockCode\", 1, 3 ) NOT IN ( '227', '221', '845', '207', '209', '219', '218', '230', '225', '160', '170', '510', '232', '233', '234', '235', 'POS', '215', '220', '850', '840', '359', '843', '727', '714', '481', '826', '820', '161', '162', '208', '467', '841', '725', '710', '373', '352', '354', '350', '356', '722', '110', '100', '101', '721', '171', '723', '474', '400', '620', '236', '712', '711', '819', '794', '751', '771', '470', '461', '781', '440', '720', '715' ) ) AND ( substr( t1.\"StockCode\", 1, 3 ) NOT IN ( 'M', 'C2', '223', '222', '211', '852', '210', '845', '207', '846', '209', '219', '218', '206', '225', '160', '228', '510', '233', '212', '216', '475', '235', 'POS', '214', '220', '850', '840', '359', '374', '790', '843', '375', '844', '727', '355', '714', '481', '826', '820', '161', '848', '162', '180', '467', '825', '700', '842', '841', '460', '725', '710', '900', '901', '358', '473', '352', '354', '356', '793', '722', '110', '100', '101', '442', '750', '721', '171', '723', '780', '474', '400', '620', '236', '712', '819', '751', '470', '461', 'DOT', '715' ) ) THEN 4.062487310321517\n",
       "        WHEN ( t2.\"Quantity\" <= 3.000000 OR t2.\"Quantity\" IS NULL ) AND ( t2.\"Country\" IN ( 'Australia' ) ) AND ( t2.\"Price\" > 4.470000 ) THEN -6.212241485501259\n",
       "        WHEN ( t2.\"Quantity\" <= 3.000000 OR t2.\"Quantity\" IS NULL ) AND ( t2.\"Country\" IN ( 'Australia' ) ) AND ( t2.\"Price\" <= 4.470000 OR t2.\"Price\" IS NULL ) THEN 41.66538152337296\n",
       "        WHEN ( t2.\"Quantity\" <= 3.000000 OR t2.\"Quantity\" IS NULL ) AND ( t2.\"Country\" NOT IN ( 'Australia' ) ) AND ( substr( t2.\"StockCode\", 1, 3 ) IN ( 'M', 'C2', '231', '223', '851', '211', '849', '210', '845', '209', '219', '218', '206', '230', '225', '510', '232', '229', '233', '235', 'POS', '214', '220', '850', '359', '790', '791', '213', '728', '843', '375', '844', '150', '355', '824', '826', '161', '848', '208', '180', '467', '825', '700', '842', '841', '725', '710', '373', '900', '901', '358', '352', '354', '356', '722', '100', '101', '442', '750', '721', '723', '902', '620', '236', '712', '711', '819', '794', '751', '771', '470', '461', '781', 'PAD', 'DOT', '720', '715', '450' ) ) THEN -2.007152914530862\n",
       "        WHEN ( t2.\"Quantity\" <= 3.000000 OR t2.\"Quantity\" IS NULL ) AND ( t2.\"Country\" NOT IN ( 'Australia' ) ) AND ( substr( t2.\"StockCode\", 1, 3 ) NOT IN ( 'M', 'C2', '231', '223', '851', '211', '849', '210', '845', '209', '219', '218', '206', '230', '225', '510', '232', '229', '233', '235', 'POS', '214', '220', '850', '359', '790', '791', '213', '728', '843', '375', '844', '150', '355', '824', '826', '161', '848', '208', '180', '467', '825', '700', '842', '841', '725', '710', '373', '900', '901', '358', '352', '354', '356', '722', '100', '101', '442', '750', '721', '723', '902', '620', '236', '712', '711', '819', '794', '751', '771', '470', '461', '781', 'PAD', 'DOT', '720', '715', '450' ) ) THEN 1.995539321475054\n",
       "        ELSE NULL\n",
       "    END\n",
       ") AS \"feature_1_6\",\n",
       "     t1.rowid AS \"rownum\"\n",
       "FROM \"population\" t1\n",
       "LEFT JOIN \"peripheral\" t2\n",
       "ON t1.\"Invoice\" = t2.\"Invoice\"\n",
       "GROUP BY t1.rowid;\n",
       "```"
      ],
      "text/plain": [
       "DROP TABLE IF EXISTS \"FEATURE_1_6\";\n",
       "\n",
       "CREATE TABLE \"FEATURE_1_6\" AS\n",
       "SELECT AVG( \n",
       "    CASE\n",
       "        WHEN ( t2.\"Quantity\" > 3.000000 ) AND ( substr( t2.\"StockCode\", 1, 3 ) IN ( '227', '221', '845', '207', '209', '219', '218', '230', '225', '160', '170', '510', '232', '233', '234', '235', 'POS', '215', '220', '850', '840', '359', '843', '727', '714', '481', '826', '820', '161', '162', '208', '467', '841', '725', '710', '373', '352', '354', '350', '356', '722', '110', '100', '101', '721', '171', '723', '474', '400', '620', '236', '712', '711', '819', '794', '751', '771', '470', '461', '781', '440', '720', '715' ) ) AND ( substr( t1.\"StockCode\", 1, 3 ) IN ( '901' ) ) THEN 70.19551675856017\n",
       "        WHEN ( t2.\"Quantity\" > 3.000000 ) AND ( substr( t2.\"StockCode\", 1, 3 ) IN ( '227', '221', '845', '207', '209', '219', '218', '230', '225', '160', '170', '510', '232', '233', '234', '235', 'POS', '215', '220', '850', '840', '359', '843', '727', '714', '481', '826', '820', '161', '162', '208', '467', '841', '725', '710', '373', '352', '354', '350', '356', '722', '110', '100', '101', '721', '171', '723', '474', '400', '620', '236', '712', '711', '819', '794', '751', '771', '470', '461', '781', '440', '720', '715' ) ) AND ( substr( t1.\"StockCode\", 1, 3 ) NOT IN ( '901' ) ) THEN -0.7315362939863287\n",
       "        WHEN ( t2.\"Quantity\" > 3.000000 ) AND ( substr( t2.\"StockCode\", 1, 3 ) NOT IN ( '227', '221', '845', '207', '209', '219', '218', '230', '225', '160', '170', '510', '232', '233', '234', '235', 'POS', '215', '220', '850', '840', '359', '843', '727', '714', '481', '826', '820', '161', '162', '208', '467', '841', '725', '710', '373', '352', '354', '350', '356', '722', '110', '100', '101', '721', '171', '723', '474', '400', '620', '236', '712', '711', '819', '794', '751', '771', '470', '461', '781', '440', '720', '715' ) ) AND ( substr( t1.\"StockCode\", 1, 3 ) IN ( 'M', 'C2', '223', '222', '211', '852', '210', '845', '207', '846', '209', '219', '218', '206', '225', '160', '228', '510', '233', '212', '216', '475', '235', 'POS', '214', '220', '850', '840', '359', '374', '790', '843', '375', '844', '727', '355', '714', '481', '826', '820', '161', '848', '162', '180', '467', '825', '700', '842', '841', '460', '725', '710', '900', '901', '358', '473', '352', '354', '356', '793', '722', '110', '100', '101', '442', '750', '721', '171', '723', '780', '474', '400', '620', '236', '712', '819', '751', '470', '461', 'DOT', '715' ) ) THEN 1.577972633243075\n",
       "        WHEN ( t2.\"Quantity\" > 3.000000 ) AND ( substr( t2.\"StockCode\", 1, 3 ) NOT IN ( '227', '221', '845', '207', '209', '219', '218', '230', '225', '160', '170', '510', '232', '233', '234', '235', 'POS', '215', '220', '850', '840', '359', '843', '727', '714', '481', '826', '820', '161', '162', '208', '467', '841', '725', '710', '373', '352', '354', '350', '356', '722', '110', '100', '101', '721', '171', '723', '474', '400', '620', '236', '712', '711', '819', '794', '751', '771', '470', '461', '781', '440', '720', '715' ) ) AND ( substr( t1.\"StockCode\", 1, 3 ) NOT IN ( 'M', 'C2', '223', '222', '211', '852', '210', '845', '207', '846', '209', '219', '218', '206', '225', '160', '228', '510', '233', '212', '216', '475', '235', 'POS', '214', '220', '850', '840', '359', '374', '790', '843', '375', '844', '727', '355', '714', '481', '826', '820', '161', '848', '162', '180', '467', '825', '700', '842', '841', '460', '725', '710', '900', '901', '358', '473', '352', '354', '356', '793', '722', '110', '100', '101', '442', '750', '721', '171', '723', '780', '474', '400', '620', '236', '712', '819', '751', '470', '461', 'DOT', '715' ) ) THEN 4.062487310321517\n",
       "        WHEN ( t2.\"Quantity\" <= 3.000000 OR t2.\"Quantity\" IS NULL ) AND ( t2.\"Country\" IN ( 'Australia' ) ) AND ( t2.\"Price\" > 4.470000 ) THEN -6.212241485501259\n",
       "        WHEN ( t2.\"Quantity\" <= 3.000000 OR t2.\"Quantity\" IS NULL ) AND ( t2.\"Country\" IN ( 'Australia' ) ) AND ( t2.\"Price\" <= 4.470000 OR t2.\"Price\" IS NULL ) THEN 41.66538152337296\n",
       "        WHEN ( t2.\"Quantity\" <= 3.000000 OR t2.\"Quantity\" IS NULL ) AND ( t2.\"Country\" NOT IN ( 'Australia' ) ) AND ( substr( t2.\"StockCode\", 1, 3 ) IN ( 'M', 'C2', '231', '223', '851', '211', '849', '210', '845', '209', '219', '218', '206', '230', '225', '510', '232', '229', '233', '235', 'POS', '214', '220', '850', '359', '790', '791', '213', '728', '843', '375', '844', '150', '355', '824', '826', '161', '848', '208', '180', '467', '825', '700', '842', '841', '725', '710', '373', '900', '901', '358', '352', '354', '356', '722', '100', '101', '442', '750', '721', '723', '902', '620', '236', '712', '711', '819', '794', '751', '771', '470', '461', '781', 'PAD', 'DOT', '720', '715', '450' ) ) THEN -2.007152914530862\n",
       "        WHEN ( t2.\"Quantity\" <= 3.000000 OR t2.\"Quantity\" IS NULL ) AND ( t2.\"Country\" NOT IN ( 'Australia' ) ) AND ( substr( t2.\"StockCode\", 1, 3 ) NOT IN ( 'M', 'C2', '231', '223', '851', '211', '849', '210', '845', '209', '219', '218', '206', '230', '225', '510', '232', '229', '233', '235', 'POS', '214', '220', '850', '359', '790', '791', '213', '728', '843', '375', '844', '150', '355', '824', '826', '161', '848', '208', '180', '467', '825', '700', '842', '841', '725', '710', '373', '900', '901', '358', '352', '354', '356', '722', '100', '101', '442', '750', '721', '723', '902', '620', '236', '712', '711', '819', '794', '751', '771', '470', '461', '781', 'PAD', 'DOT', '720', '715', '450' ) ) THEN 1.995539321475054\n",
       "        ELSE NULL\n",
       "    END\n",
       ") AS \"feature_1_6\",\n",
       "     t1.rowid AS \"rownum\"\n",
       "FROM \"population\" t1\n",
       "LEFT JOIN \"peripheral\" t2\n",
       "ON t1.\"Invoice\" = t2.\"Invoice\"\n",
       "GROUP BY t1.rowid;"
      ]
     },
     "execution_count": 29,
     "metadata": {},
     "output_type": "execute_result"
    }
   ],
   "source": [
    "names, _ = tuned_pipe.features.importances()\n",
    "\n",
    "tuned_pipe.features.to_sql()[names[1]]"
   ]
  },
  {
   "cell_type": "markdown",
   "metadata": {},
   "source": [
    " "
   ]
  },
  {
   "cell_type": "markdown",
   "metadata": {},
   "source": [
    "## 3. Conclusion\n",
    "\n",
    "In this notebook we have demonstrated how getML can be applied to an e-commerce setting. In particular, we have seen how results can be improved using the built-in hyperparamater tuning routines."
   ]
  },
  {
   "cell_type": "markdown",
   "metadata": {},
   "source": [
    " "
   ]
  },
  {
   "cell_type": "markdown",
   "metadata": {},
   "source": [
    "# Next Steps\n",
    "\n",
    "This tutorial went through the basics of applying getML to relational data. If you want to learn more about getML, here are some additional tutorials and articles that will help you:\n",
    "\n",
    "__Tutorials:__\n",
    "* [Loan default prediction: Introduction to relational learning](loans_demo.ipynb)\n",
    "* [Occupancy detection: A multivariate time series example](occupancy_demo.ipynb)  \n",
    "* [Expenditure categorization: Why relational learning matters](consumer_expenditures_demo.ipynb)\n",
    "* [Disease lethality prediction: Feature engineering and the curse of dimensionality](atherosclerosis_demo.ipynb)\n",
    "* [Traffic volume prediction: Feature engineering on multivariate time series](interstate94_demo.ipynb)\n",
    "* [Air pollution prediction: Why feature learning outperforms brute-force approaches](air_pollution_demo.ipynb) \n",
    "\n",
    "\n",
    "__User Guides__ (from our [documentation](https://docs.getml.com/latest/)):\n",
    "* [Feature learning with Multirel](https://docs.getml.com/latest/user_guide/feature_engineering/feature_engineering.html#multirel)\n",
    "* [Feature learning with Relboost](https://docs.getml.com/latest/user_guide/feature_engineering/feature_engineering.html#relboost)\n"
   ]
  },
  {
   "cell_type": "markdown",
   "metadata": {},
   "source": [
    " "
   ]
  },
  {
   "cell_type": "markdown",
   "metadata": {},
   "source": [
    "# Get in contact\n",
    "\n",
    "If you have any question schedule a [call with Alex](https://go.getml.com/meetings/alexander-uhlig/getml-demo), the co-founder of getML, or write us an [email](team@getml.com). Prefer a private demo of getML? Just contact us to make an appointment."
   ]
  },
  {
   "cell_type": "markdown",
   "metadata": {},
   "source": [
    " "
   ]
  }
 ],
 "metadata": {
  "jupytext": {
   "encoding": "# -*- coding: utf-8 -*-",
   "formats": "ipynb,py:percent,md"
  },
  "kernelspec": {
   "display_name": "Python 3",
   "language": "python",
   "name": "python3"
  },
  "language_info": {
   "codemirror_mode": {
    "name": "ipython",
    "version": 3
   },
   "file_extension": ".py",
   "mimetype": "text/x-python",
   "name": "python",
   "nbconvert_exporter": "python",
   "pygments_lexer": "ipython3",
   "version": "3.7.2"
  },
  "toc": {
   "base_numbering": 1,
   "nav_menu": {},
   "number_sections": false,
   "sideBar": true,
   "skip_h1_title": false,
   "title_cell": "Table of Contents",
   "title_sidebar": "Contents",
   "toc_cell": false,
   "toc_position": {},
   "toc_section_display": true,
   "toc_window_display": true
  }
 },
 "nbformat": 4,
 "nbformat_minor": 4
}
