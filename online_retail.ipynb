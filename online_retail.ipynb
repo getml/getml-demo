{
 "cells": [
  {
   "cell_type": "markdown",
   "metadata": {},
   "source": [
    "# Predicting order cancellations using getML\n",
    "\n",
    "\n",
    "In this tutorial, we demonstrate how getML can be applied in an e-commerce context. Using a dataset of about 400,000 orders, our goal is to predict whether an order will be cancelled.\n",
    "\n",
    "We also show that we can significantly improve our results by using getML's built-in hyperparameter tuning routines.\n",
    "\n",
    "Summary:\n",
    "\n",
    "- Prediction type: __Classification model__\n",
    "- Domain: __E-commerce__\n",
    "- Prediction target: __Whether an order will be cancelled__ \n",
    "- Population size: __397925__\n",
    "\n",
    "_Author: Dr. Patrick Urbanke_"
   ]
  },
  {
   "cell_type": "markdown",
   "metadata": {},
   "source": [
    " "
   ]
  },
  {
   "cell_type": "markdown",
   "metadata": {},
   "source": [
    "# Background\n",
    "\n",
    "The data set contains about 400,000 orders from a British online retailer. Each order consists of a product that has been ordered and a corresponding quantity. Several orders can be summarized onto a single invoice. The goal is to predict whether an order will be cancelled.\n",
    "\n",
    "Because the company mainly sells to other businesses, the cancellation rate is relatively low, namely 1.83%.\n",
    "\n",
    "The data set has been originally collected for this study:\n",
    "\n",
    "> Daqing Chen, Sai Liang Sain, and Kun Guo, Data mining for the online retail industry: A case study of RFM model-based customer segmentation using data mining, Journal of Database Marketing and Customer Strategy Management, Vol. 19, No. 3, pp. 197-208, 2012 (Published online before print: 27 August 2012. doi: 10.1057/dbm.2012.17).\n",
    "\n",
    "It has been downloaded from the UCI Machine Learning Repository:\n",
    "\n",
    "> Dua, D. and Graff, C. (2019). UCI Machine Learning Repository [http://archive.ics.uci.edu/ml]. Irvine, CA: University of California, School of Information and Computer Science."
   ]
  },
  {
   "cell_type": "markdown",
   "metadata": {},
   "source": [
    " "
   ]
  },
  {
   "cell_type": "markdown",
   "metadata": {},
   "source": [
    "### A web frontend for getML\n",
    "\n",
    "The getML monitor is a frontend built to support your work with getML. The getML monitor displays information such as the imported data frames, trained pipelines and allows easy data and feature exploration. You can launch the getML monitor [here](http://localhost:1709)."
   ]
  },
  {
   "cell_type": "markdown",
   "metadata": {},
   "source": [
    " "
   ]
  },
  {
   "cell_type": "markdown",
   "metadata": {},
   "source": [
    "### Where is this running?\n",
    "\n",
    "Your getML live session is running inside a docker container on [mybinder.org](https://mybinder.org/), a service built by the Jupyter community and funded by Google Cloud, OVH, GESIS Notebooks and the Turing Institute. As it is a free service, this session will shut down after 10 minutes of inactivity."
   ]
  },
  {
   "cell_type": "markdown",
   "metadata": {},
   "source": [
    " "
   ]
  },
  {
   "cell_type": "markdown",
   "metadata": {},
   "source": [
    "# Analysis"
   ]
  },
  {
   "cell_type": "markdown",
   "metadata": {},
   "source": [
    "Let's get started with the analysis and set up your session:"
   ]
  },
  {
   "cell_type": "code",
   "execution_count": 1,
   "metadata": {},
   "outputs": [
    {
     "name": "stdout",
     "output_type": "stream",
     "text": [
      "\n",
      "Connected to project 'online_retail'\n"
     ]
    }
   ],
   "source": [
    "import copy\n",
    "import os\n",
    "from urllib import request\n",
    "\n",
    "import numpy as np\n",
    "import pandas as pd\n",
    "from IPython.display import Image\n",
    "import matplotlib.pyplot as plt\n",
    "plt.style.use('seaborn')\n",
    "%matplotlib inline  \n",
    "\n",
    "import getml\n",
    "\n",
    "getml.engine.set_project('online_retail')"
   ]
  },
  {
   "cell_type": "markdown",
   "metadata": {},
   "source": [
    "Tuning is effective at improving our results, but it takes quite long, so we want to make it optional:"
   ]
  },
  {
   "cell_type": "code",
   "execution_count": 2,
   "metadata": {},
   "outputs": [],
   "source": [
    "ALLOW_TUNING = False"
   ]
  },
  {
   "cell_type": "markdown",
   "metadata": {},
   "source": [
    " "
   ]
  },
  {
   "cell_type": "markdown",
   "metadata": {},
   "source": [
    "## 1. Loading data"
   ]
  },
  {
   "cell_type": "markdown",
   "metadata": {},
   "source": [
    "### 1.1 Download from source\n",
    "\n",
    "We begin by downloading the data from the source file:"
   ]
  },
  {
   "cell_type": "code",
   "execution_count": 3,
   "metadata": {},
   "outputs": [],
   "source": [
    "fname = \"online_retail.csv\"\n",
    "\n",
    "if not os.path.exists(fname):\n",
    "    fname, res = request.urlretrieve(\n",
    "        \"https://static.getml.com/datasets/online_retail/\" + fname, \n",
    "        fname\n",
    "    )\n",
    "    \n",
    "full_data_pandas = pd.read_csv(fname, sep=\"|\")"
   ]
  },
  {
   "cell_type": "markdown",
   "metadata": {},
   "source": [
    " "
   ]
  },
  {
   "cell_type": "markdown",
   "metadata": {},
   "source": [
    "### 1.2 Data preparation\n",
    "\n",
    "The invoice dates are in a somewhat unusual format, fo we need to rectify that."
   ]
  },
  {
   "cell_type": "code",
   "execution_count": 4,
   "metadata": {},
   "outputs": [],
   "source": [
    "def add_zero(string):\n",
    "    if len(string) == 1:\n",
    "        return \"0\" + string\n",
    "    return string"
   ]
  },
  {
   "cell_type": "code",
   "execution_count": 5,
   "metadata": {},
   "outputs": [],
   "source": [
    "def format_date(string):\n",
    "    datetime = string.split(\" \")\n",
    "    assert len(datetime) == 2, \"Expected date and time\"\n",
    "    \n",
    "    date_components = datetime[0].split(\"/\")\n",
    "    assert len(date_components) == 3, \"Expected three date components\"\n",
    "    \n",
    "    date_components = [add_zero(x) for x in date_components]\n",
    "    \n",
    "    return \"-\".join(date_components) + \" \" + datetime[1] "
   ]
  },
  {
   "cell_type": "code",
   "execution_count": 6,
   "metadata": {},
   "outputs": [],
   "source": [
    "full_data_pandas[\"InvoiceDate\"] = [\n",
    "    format_date(string) for string in np.asarray(full_data_pandas[\"InvoiceDate\"])\n",
    "]"
   ]
  },
  {
   "cell_type": "code",
   "execution_count": 7,
   "metadata": {},
   "outputs": [
    {
     "data": {
      "text/html": [
       "<div>\n",
       "<style scoped>\n",
       "    .dataframe tbody tr th:only-of-type {\n",
       "        vertical-align: middle;\n",
       "    }\n",
       "\n",
       "    .dataframe tbody tr th {\n",
       "        vertical-align: top;\n",
       "    }\n",
       "\n",
       "    .dataframe thead th {\n",
       "        text-align: right;\n",
       "    }\n",
       "</style>\n",
       "<table border=\"1\" class=\"dataframe\">\n",
       "  <thead>\n",
       "    <tr style=\"text-align: right;\">\n",
       "      <th></th>\n",
       "      <th>Invoice</th>\n",
       "      <th>StockCode</th>\n",
       "      <th>Description</th>\n",
       "      <th>Quantity</th>\n",
       "      <th>InvoiceDate</th>\n",
       "      <th>Price</th>\n",
       "      <th>Customer ID</th>\n",
       "      <th>Country</th>\n",
       "    </tr>\n",
       "  </thead>\n",
       "  <tbody>\n",
       "    <tr>\n",
       "      <th>0</th>\n",
       "      <td>536365</td>\n",
       "      <td>85123A</td>\n",
       "      <td>WHITE HANGING HEART T-LIGHT HOLDER</td>\n",
       "      <td>6</td>\n",
       "      <td>2010-12-01 08:26</td>\n",
       "      <td>2.55</td>\n",
       "      <td>17850.0</td>\n",
       "      <td>United Kingdom</td>\n",
       "    </tr>\n",
       "    <tr>\n",
       "      <th>1</th>\n",
       "      <td>536365</td>\n",
       "      <td>71053</td>\n",
       "      <td>WHITE METAL LANTERN</td>\n",
       "      <td>6</td>\n",
       "      <td>2010-12-01 08:26</td>\n",
       "      <td>3.39</td>\n",
       "      <td>17850.0</td>\n",
       "      <td>United Kingdom</td>\n",
       "    </tr>\n",
       "    <tr>\n",
       "      <th>2</th>\n",
       "      <td>536365</td>\n",
       "      <td>84406B</td>\n",
       "      <td>CREAM CUPID HEARTS COAT HANGER</td>\n",
       "      <td>8</td>\n",
       "      <td>2010-12-01 08:26</td>\n",
       "      <td>2.75</td>\n",
       "      <td>17850.0</td>\n",
       "      <td>United Kingdom</td>\n",
       "    </tr>\n",
       "    <tr>\n",
       "      <th>3</th>\n",
       "      <td>536365</td>\n",
       "      <td>84029G</td>\n",
       "      <td>KNITTED UNION FLAG HOT WATER BOTTLE</td>\n",
       "      <td>6</td>\n",
       "      <td>2010-12-01 08:26</td>\n",
       "      <td>3.39</td>\n",
       "      <td>17850.0</td>\n",
       "      <td>United Kingdom</td>\n",
       "    </tr>\n",
       "    <tr>\n",
       "      <th>4</th>\n",
       "      <td>536365</td>\n",
       "      <td>84029E</td>\n",
       "      <td>RED WOOLLY HOTTIE WHITE HEART.</td>\n",
       "      <td>6</td>\n",
       "      <td>2010-12-01 08:26</td>\n",
       "      <td>3.39</td>\n",
       "      <td>17850.0</td>\n",
       "      <td>United Kingdom</td>\n",
       "    </tr>\n",
       "    <tr>\n",
       "      <th>...</th>\n",
       "      <td>...</td>\n",
       "      <td>...</td>\n",
       "      <td>...</td>\n",
       "      <td>...</td>\n",
       "      <td>...</td>\n",
       "      <td>...</td>\n",
       "      <td>...</td>\n",
       "      <td>...</td>\n",
       "    </tr>\n",
       "    <tr>\n",
       "      <th>541905</th>\n",
       "      <td>581587</td>\n",
       "      <td>22899</td>\n",
       "      <td>CHILDREN'S APRON DOLLY GIRL</td>\n",
       "      <td>6</td>\n",
       "      <td>2011-12-09 12:50</td>\n",
       "      <td>2.10</td>\n",
       "      <td>12680.0</td>\n",
       "      <td>France</td>\n",
       "    </tr>\n",
       "    <tr>\n",
       "      <th>541906</th>\n",
       "      <td>581587</td>\n",
       "      <td>23254</td>\n",
       "      <td>CHILDRENS CUTLERY DOLLY GIRL</td>\n",
       "      <td>4</td>\n",
       "      <td>2011-12-09 12:50</td>\n",
       "      <td>4.15</td>\n",
       "      <td>12680.0</td>\n",
       "      <td>France</td>\n",
       "    </tr>\n",
       "    <tr>\n",
       "      <th>541907</th>\n",
       "      <td>581587</td>\n",
       "      <td>23255</td>\n",
       "      <td>CHILDRENS CUTLERY CIRCUS PARADE</td>\n",
       "      <td>4</td>\n",
       "      <td>2011-12-09 12:50</td>\n",
       "      <td>4.15</td>\n",
       "      <td>12680.0</td>\n",
       "      <td>France</td>\n",
       "    </tr>\n",
       "    <tr>\n",
       "      <th>541908</th>\n",
       "      <td>581587</td>\n",
       "      <td>22138</td>\n",
       "      <td>BAKING SET 9 PIECE RETROSPOT</td>\n",
       "      <td>3</td>\n",
       "      <td>2011-12-09 12:50</td>\n",
       "      <td>4.95</td>\n",
       "      <td>12680.0</td>\n",
       "      <td>France</td>\n",
       "    </tr>\n",
       "    <tr>\n",
       "      <th>541909</th>\n",
       "      <td>581587</td>\n",
       "      <td>POST</td>\n",
       "      <td>POSTAGE</td>\n",
       "      <td>1</td>\n",
       "      <td>2011-12-09 12:50</td>\n",
       "      <td>18.00</td>\n",
       "      <td>12680.0</td>\n",
       "      <td>France</td>\n",
       "    </tr>\n",
       "  </tbody>\n",
       "</table>\n",
       "<p>541910 rows × 8 columns</p>\n",
       "</div>"
      ],
      "text/plain": [
       "       Invoice StockCode                          Description  Quantity  \\\n",
       "0       536365    85123A   WHITE HANGING HEART T-LIGHT HOLDER         6   \n",
       "1       536365     71053                  WHITE METAL LANTERN         6   \n",
       "2       536365    84406B       CREAM CUPID HEARTS COAT HANGER         8   \n",
       "3       536365    84029G  KNITTED UNION FLAG HOT WATER BOTTLE         6   \n",
       "4       536365    84029E       RED WOOLLY HOTTIE WHITE HEART.         6   \n",
       "...        ...       ...                                  ...       ...   \n",
       "541905  581587     22899         CHILDREN'S APRON DOLLY GIRL          6   \n",
       "541906  581587     23254        CHILDRENS CUTLERY DOLLY GIRL          4   \n",
       "541907  581587     23255      CHILDRENS CUTLERY CIRCUS PARADE         4   \n",
       "541908  581587     22138        BAKING SET 9 PIECE RETROSPOT          3   \n",
       "541909  581587      POST                              POSTAGE         1   \n",
       "\n",
       "             InvoiceDate  Price  Customer ID         Country  \n",
       "0       2010-12-01 08:26   2.55      17850.0  United Kingdom  \n",
       "1       2010-12-01 08:26   3.39      17850.0  United Kingdom  \n",
       "2       2010-12-01 08:26   2.75      17850.0  United Kingdom  \n",
       "3       2010-12-01 08:26   3.39      17850.0  United Kingdom  \n",
       "4       2010-12-01 08:26   3.39      17850.0  United Kingdom  \n",
       "...                  ...    ...          ...             ...  \n",
       "541905  2011-12-09 12:50   2.10      12680.0          France  \n",
       "541906  2011-12-09 12:50   4.15      12680.0          France  \n",
       "541907  2011-12-09 12:50   4.15      12680.0          France  \n",
       "541908  2011-12-09 12:50   4.95      12680.0          France  \n",
       "541909  2011-12-09 12:50  18.00      12680.0          France  \n",
       "\n",
       "[541910 rows x 8 columns]"
      ]
     },
     "execution_count": 7,
     "metadata": {},
     "output_type": "execute_result"
    }
   ],
   "source": [
    "full_data_pandas"
   ]
  },
  {
   "cell_type": "markdown",
   "metadata": {},
   "source": [
    "In this data set, the targets aren't as clearly defined as we would like to, so we have do define them ourselves."
   ]
  },
  {
   "cell_type": "code",
   "execution_count": 8,
   "metadata": {},
   "outputs": [],
   "source": [
    "def add_target(df):\n",
    "    df = df.sort_values(by=[\"Customer ID\", \"InvoiceDate\"])\n",
    "    \n",
    "    cancelled = np.zeros(df.shape[0])\n",
    "\n",
    "    invoice = np.asarray(df[\"Invoice\"])\n",
    "    stock_code = np.asarray(df[\"StockCode\"])\n",
    "    customer_id = np.asarray(df[\"Customer ID\"])\n",
    "\n",
    "    for i in range(len(invoice)):\n",
    "        if (invoice[i][0] == 'C') or (i == len(invoice) - 1):\n",
    "            continue\n",
    "\n",
    "        j = i + 1\n",
    "\n",
    "        while customer_id[j] == customer_id[i]:\n",
    "            if (invoice[j][0] == 'C') and (stock_code[i] == stock_code[j]):\n",
    "                cancelled[i] = 1.0\n",
    "                break\n",
    "\n",
    "            if stock_code[i] == stock_code[j]:\n",
    "                break\n",
    "\n",
    "            j += 1\n",
    "    \n",
    "    df[\"cancelled\"] = cancelled\n",
    "    \n",
    "    return df"
   ]
  },
  {
   "cell_type": "markdown",
   "metadata": {},
   "source": [
    "Also, we want to remove any orders in the data set that are actually cancellations."
   ]
  },
  {
   "cell_type": "code",
   "execution_count": 9,
   "metadata": {},
   "outputs": [],
   "source": [
    "def remove_cancellations(df):\n",
    "    invoice = np.asarray(df[\"Invoice\"])\n",
    "\n",
    "    is_order = [inv[0] != 'C' for inv in invoice]\n",
    "    \n",
    "    df = df[is_order]\n",
    "    \n",
    "    return df"
   ]
  },
  {
   "cell_type": "code",
   "execution_count": 10,
   "metadata": {},
   "outputs": [],
   "source": [
    "full_data_pandas = add_target(full_data_pandas)\n",
    "full_data_pandas = remove_cancellations(full_data_pandas)"
   ]
  },
  {
   "cell_type": "markdown",
   "metadata": {},
   "source": [
    "Finally, there are some order for which we do not have a customer ID. We want to remove those."
   ]
  },
  {
   "cell_type": "code",
   "execution_count": 11,
   "metadata": {},
   "outputs": [],
   "source": [
    "full_data_pandas = full_data_pandas[~np.isnan(full_data_pandas[\"Customer ID\"])]"
   ]
  },
  {
   "cell_type": "markdown",
   "metadata": {},
   "source": [
    "Now we can upload the data to getML."
   ]
  },
  {
   "cell_type": "code",
   "execution_count": 12,
   "metadata": {},
   "outputs": [
    {
     "data": {
      "text/html": [
       "<table class=\"dataframe\"><thead><tr style=\"border-bottom:1pt solid LightGray;\"><th style=\"text-align: left;border-right:1pt solid LightGray;\">Name  </th><th style=\"text-align: right;\">Quantity</th><th style=\"text-align: right;\">Price</th><th style=\"text-align: right;\">Customer ID</th><th style=\"text-align: right;\">cancelled</th><th style=\"text-align: right;\">Invoice</th><th style=\"text-align: right;\">StockCode</th><th style=\"text-align: right;\">Description</th><th style=\"text-align: right;\">InvoiceDate</th><th style=\"text-align: right;\">Country</th></tr><tr><th style=\"text-align: left;border-right:1pt solid LightGray;\">Role  </th><td style=\"text-align: right;\"><i>unused_float</i></td><td style=\"text-align: right;\"><i>unused_float</i></td><td style=\"text-align: right;\"><i>unused_float</i></td><td style=\"text-align: right;\"><i>unused_float</i></td><td style=\"text-align: right;\"><i>unused_string</i></td><td style=\"text-align: right;\"><i>unused_string</i></td><td style=\"text-align: right;\"><i>unused_string</i></td><td style=\"text-align: right;\"><i>unused_string</i></td><td style=\"text-align: right;\"><i>unused_string</i></td></tr></thead><tbody><tr style=\"border-top:1pt solid LightGray;\"><td style=\"border-right:1pt solid LightGray;\"><b>0</b></td><td>74215</td><td>1.04</td><td>12346</td><td>1</td><td>541431</td><td>23166</td><td>MEDIUM CERAMIC TOP STORAGE JAR</td><td>2011-01-18 10:01</td><td>United Kingdom</td></tr><tr><td style=\"border-right:1pt solid LightGray;\"><b>1</b></td><td>12</td><td>2.1</td><td>12347</td><td>0</td><td>537626</td><td>85116</td><td>BLACK CANDELABRA T-LIGHT HOLDER</td><td>2010-12-07 14:57</td><td>Iceland</td></tr><tr><td style=\"border-right:1pt solid LightGray;\"><b>2</b></td><td>4</td><td>4.25</td><td>12347</td><td>0</td><td>537626</td><td>22375</td><td>AIRLINE BAG VINTAGE JET SET BROWN</td><td>2010-12-07 14:57</td><td>Iceland</td></tr><tr><td style=\"border-right:1pt solid LightGray;\"><b>3</b></td><td>12</td><td>3.25</td><td>12347</td><td>0</td><td>537626</td><td>71477</td><td>COLOUR GLASS. STAR T-LIGHT HOLDER</td><td>2010-12-07 14:57</td><td>Iceland</td></tr><tr><td style=\"border-right:1pt solid LightGray;\"><b>4</b></td><td>36</td><td>0.65</td><td>12347</td><td>0</td><td>537626</td><td>22492</td><td>MINI PAINT SET VINTAGE </td><td>2010-12-07 14:57</td><td>Iceland</td></tr><tr><td style=\"border-right:1pt solid LightGray;\"><b> </b></td><td>...</td><td>...</td><td>...</td><td>...</td><td>...</td><td>...</td><td>...</td><td>...</td><td>...</td></tr><tr><td style=\"border-right:1pt solid LightGray;\"><b>397920</b></td><td>12</td><td>0.42</td><td>18287</td><td>0</td><td>570715</td><td>22419</td><td>LIPSTICK PEN RED</td><td>2011-10-12 10:23</td><td>United Kingdom</td></tr><tr><td style=\"border-right:1pt solid LightGray;\"><b>397921</b></td><td>12</td><td>2.1</td><td>18287</td><td>0</td><td>570715</td><td>22866</td><td>HAND WARMER SCOTTY DOG DESIGN</td><td>2011-10-12 10:23</td><td>United Kingdom</td></tr><tr><td style=\"border-right:1pt solid LightGray;\"><b>397922</b></td><td>36</td><td>1.25</td><td>18287</td><td>0</td><td>573167</td><td>23264</td><td>SET OF 3 WOODEN SLEIGH DECORATIONS</td><td>2011-10-28 09:29</td><td>United Kingdom</td></tr><tr><td style=\"border-right:1pt solid LightGray;\"><b>397923</b></td><td>48</td><td>0.39</td><td>18287</td><td>0</td><td>573167</td><td>21824</td><td>PAINTED METAL STAR WITH HOLLY BELLS</td><td>2011-10-28 09:29</td><td>United Kingdom</td></tr><tr><td style=\"border-right:1pt solid LightGray;\"><b>397924</b></td><td>24</td><td>0.29</td><td>18287</td><td>0</td><td>573167</td><td>21014</td><td>SWISS CHALET TREE DECORATION </td><td>2011-10-28 09:29</td><td>United Kingdom</td></tr></tbody></table><br>397925 rows x 9 columns<br>memory usage: 57.28 MB<br>name: full_data<br>type: getml.data.DataFrame<br>url: <a href=\"http://localhost:1709/#/getdataframe/online_retail/full_data/\" target=\"_blank\">http://localhost:1709/#/getdataframe/online_retail/full_data/</a>"
      ],
      "text/plain": [
       "Name         Quantity          Price    Customer ID         Invoice   ...       StockCode   \n",
       "Role     unused_float   unused_float   unused_float   unused_string   ...   unused_string   \n",
       "0        74215          1.04           12346          541431          ...   23166           \n",
       "1        12             2.1            12347          537626          ...   85116           \n",
       "2        4              4.25           12347          537626          ...   22375           \n",
       "3        12             3.25           12347          537626          ...   71477           \n",
       "4        36             0.65           12347          537626          ...   22492           \n",
       "         ...            ...            ...            ...             ...   ...             \n",
       "397920   12             0.42           18287          570715          ...   22419           \n",
       "397921   12             2.1            18287          570715          ...   22866           \n",
       "397922   36             1.25           18287          573167          ...   23264           \n",
       "397923   48             0.39           18287          573167          ...   21824           \n",
       "397924   24             0.29           18287          573167          ...   21014           \n",
       "\n",
       "\n",
       "\n",
       "Name                             Description        InvoiceDate          Country   \n",
       "Role                           unused_string      unused_string    unused_string   \n",
       "0        MEDIUM CERAMIC TOP STORAGE JAR        2011-01-18 10:01   United Kingdom   \n",
       "1        BLACK CANDELABRA T-LIGHT HOLDER       2010-12-07 14:57   Iceland          \n",
       "2        AIRLINE BAG VINTAGE JET SET BROWN     2010-12-07 14:57   Iceland          \n",
       "3        COLOUR GLASS. STAR T-LIGHT HOLDER     2010-12-07 14:57   Iceland          \n",
       "4        MINI PAINT SET VINTAGE                2010-12-07 14:57   Iceland          \n",
       "         ...                                   ...                ...              \n",
       "397920   LIPSTICK PEN RED                      2011-10-12 10:23   United Kingdom   \n",
       "397921   HAND WARMER SCOTTY DOG DESIGN         2011-10-12 10:23   United Kingdom   \n",
       "397922   SET OF 3 WOODEN SLEIGH DECORATIONS    2011-10-28 09:29   United Kingdom   \n",
       "397923   PAINTED METAL STAR WITH HOLLY BELLS   2011-10-28 09:29   United Kingdom   \n",
       "397924   SWISS CHALET TREE DECORATION          2011-10-28 09:29   United Kingdom   \n",
       "\n",
       "397925 rows x 9 columns\n",
       "memory usage: 57.28 MB\n",
       "name: full_data\n",
       "type: getml.data.DataFrame\n",
       "url: http://localhost:1709/#/getdataframe/online_retail/full_data/"
      ]
     },
     "execution_count": 12,
     "metadata": {},
     "output_type": "execute_result"
    }
   ],
   "source": [
    "full_data = getml.data.DataFrame.from_pandas(full_data_pandas, \"full_data\")\n",
    "\n",
    "full_data"
   ]
  },
  {
   "cell_type": "markdown",
   "metadata": {},
   "source": [
    " "
   ]
  },
  {
   "cell_type": "markdown",
   "metadata": {},
   "source": [
    "### 1.3 Prepare data for getML"
   ]
  },
  {
   "cell_type": "markdown",
   "metadata": {},
   "source": [
    " "
   ]
  },
  {
   "cell_type": "markdown",
   "metadata": {},
   "source": [
    "getML requires that we define *roles* for each of the columns."
   ]
  },
  {
   "cell_type": "code",
   "execution_count": 13,
   "metadata": {},
   "outputs": [],
   "source": [
    "full_data.set_role(\"InvoiceDate\", getml.data.roles.time_stamp, time_formats=['%Y-%m-%d %H:%M'])\n",
    "full_data.set_role([\"Customer ID\", \"Invoice\"], getml.data.roles.join_key)\n",
    "full_data.set_role([\"cancelled\"], getml.data.roles.target)\n",
    "full_data.set_role([\"Quantity\", \"Price\"], getml.data.roles.numerical)\n",
    "full_data.set_role(\"Country\", getml.data.roles.categorical)"
   ]
  },
  {
   "cell_type": "markdown",
   "metadata": {},
   "source": [
    "The *StockCode* is a 5-digit code that uniquely defines a product. It is hierarchical, meaning that every digit has a meaning. We want to make use of that, so we assign a unit to the stock code, which we can reference in our preprocessors."
   ]
  },
  {
   "cell_type": "code",
   "execution_count": 14,
   "metadata": {},
   "outputs": [],
   "source": [
    "full_data.set_unit(\"StockCode\", \"code\")"
   ]
  },
  {
   "cell_type": "markdown",
   "metadata": {},
   "source": [
    "Let's take a look at what we have done so far:"
   ]
  },
  {
   "cell_type": "code",
   "execution_count": 15,
   "metadata": {},
   "outputs": [
    {
     "data": {
      "text/html": [
       "<table class=\"dataframe\"><thead><tr style=\"border-bottom:1pt solid LightGray;\"><th style=\"text-align: left;border-right:1pt solid LightGray;\">Name  </th><th style=\"text-align: right;\">InvoiceDate</th><th style=\"text-align: right;\">Customer ID</th><th style=\"text-align: right;\">Invoice</th><th style=\"text-align: right;\">cancelled</th><th style=\"text-align: right;\">Country</th><th style=\"text-align: right;\">Quantity</th><th style=\"text-align: right;\">Price</th><th style=\"text-align: right;\">Description</th><th style=\"text-align: right;\">StockCode</th></tr><tr><th style=\"text-align: left;border-right:1pt solid LightGray;\">Role  </th><td style=\"text-align: right;\"><i>time_stamp</i></td><td style=\"text-align: right;\"><i>join_key</i></td><td style=\"text-align: right;\"><i>join_key</i></td><td style=\"text-align: right;\"><i>target</i></td><td style=\"text-align: right;\"><i>categorical</i></td><td style=\"text-align: right;\"><i>numerical</i></td><td style=\"text-align: right;\"><i>numerical</i></td><td style=\"text-align: right;\"><i>unused_string</i></td><td style=\"text-align: right;\"><i>unused_string</i></td></tr><tr><th style=\"text-align: left;border-right:1pt solid LightGray;\">Unit  </th><td style=\"text-align: right;\"><i>time stamp, comparison only</i></td><td style=\"text-align: right;\"><i></i></td><td style=\"text-align: right;\"><i></i></td><td style=\"text-align: right;\"><i></i></td><td style=\"text-align: right;\"><i></i></td><td style=\"text-align: right;\"><i></i></td><td style=\"text-align: right;\"><i></i></td><td style=\"text-align: right;\"><i></i></td><td style=\"text-align: right;\"><i>code</i></td></tr></thead><tbody><tr style=\"border-top:1pt solid LightGray;\"><td style=\"border-right:1pt solid LightGray;\"><b>0</b></td><td>2011-01-18T10:01:00.000000Z</td><td>12346</td><td>541431</td><td>1</td><td>United Kingdom</td><td>74215</td><td>1.04</td><td>MEDIUM CERAMIC TOP STORAGE JAR</td><td>23166</td></tr><tr><td style=\"border-right:1pt solid LightGray;\"><b>1</b></td><td>2010-12-07T14:57:00.000000Z</td><td>12347</td><td>537626</td><td>0</td><td>Iceland</td><td>12</td><td>2.1</td><td>BLACK CANDELABRA T-LIGHT HOLDER</td><td>85116</td></tr><tr><td style=\"border-right:1pt solid LightGray;\"><b>2</b></td><td>2010-12-07T14:57:00.000000Z</td><td>12347</td><td>537626</td><td>0</td><td>Iceland</td><td>4</td><td>4.25</td><td>AIRLINE BAG VINTAGE JET SET BROWN</td><td>22375</td></tr><tr><td style=\"border-right:1pt solid LightGray;\"><b>3</b></td><td>2010-12-07T14:57:00.000000Z</td><td>12347</td><td>537626</td><td>0</td><td>Iceland</td><td>12</td><td>3.25</td><td>COLOUR GLASS. STAR T-LIGHT HOLDER</td><td>71477</td></tr><tr><td style=\"border-right:1pt solid LightGray;\"><b>4</b></td><td>2010-12-07T14:57:00.000000Z</td><td>12347</td><td>537626</td><td>0</td><td>Iceland</td><td>36</td><td>0.65</td><td>MINI PAINT SET VINTAGE </td><td>22492</td></tr><tr><td style=\"border-right:1pt solid LightGray;\"><b> </b></td><td>...</td><td>...</td><td>...</td><td>...</td><td>...</td><td>...</td><td>...</td><td>...</td><td>...</td></tr><tr><td style=\"border-right:1pt solid LightGray;\"><b>397920</b></td><td>2011-10-12T10:23:00.000000Z</td><td>18287</td><td>570715</td><td>0</td><td>United Kingdom</td><td>12</td><td>0.42</td><td>LIPSTICK PEN RED</td><td>22419</td></tr><tr><td style=\"border-right:1pt solid LightGray;\"><b>397921</b></td><td>2011-10-12T10:23:00.000000Z</td><td>18287</td><td>570715</td><td>0</td><td>United Kingdom</td><td>12</td><td>2.1</td><td>HAND WARMER SCOTTY DOG DESIGN</td><td>22866</td></tr><tr><td style=\"border-right:1pt solid LightGray;\"><b>397922</b></td><td>2011-10-28T09:29:00.000000Z</td><td>18287</td><td>573167</td><td>0</td><td>United Kingdom</td><td>36</td><td>1.25</td><td>SET OF 3 WOODEN SLEIGH DECORATIONS</td><td>23264</td></tr><tr><td style=\"border-right:1pt solid LightGray;\"><b>397923</b></td><td>2011-10-28T09:29:00.000000Z</td><td>18287</td><td>573167</td><td>0</td><td>United Kingdom</td><td>48</td><td>0.39</td><td>PAINTED METAL STAR WITH HOLLY BELLS</td><td>21824</td></tr><tr><td style=\"border-right:1pt solid LightGray;\"><b>397924</b></td><td>2011-10-28T09:29:00.000000Z</td><td>18287</td><td>573167</td><td>0</td><td>United Kingdom</td><td>24</td><td>0.29</td><td>SWISS CHALET TREE DECORATION </td><td>21014</td></tr></tbody></table><br>397925 rows x 9 columns<br>memory usage: 37.31 MB<br>name: full_data<br>type: getml.data.DataFrame<br>url: <a href=\"http://localhost:1709/#/getdataframe/online_retail/full_data/\" target=\"_blank\">http://localhost:1709/#/getdataframe/online_retail/full_data/</a>"
      ],
      "text/plain": [
       "Name                     InvoiceDate   Customer ID    Invoice          Country   ...    Quantity       Price   \n",
       "Role                      time_stamp      join_key   join_key      categorical   ...   numerical   numerical   \n",
       "Unit     time stamp, comparison only                                             ...                           \n",
       "0        2011-01-18T10:01:00.000000Z   12346         541431     United Kingdom   ...   74215       1.04        \n",
       "1        2010-12-07T14:57:00.000000Z   12347         537626     Iceland          ...   12          2.1         \n",
       "2        2010-12-07T14:57:00.000000Z   12347         537626     Iceland          ...   4           4.25        \n",
       "3        2010-12-07T14:57:00.000000Z   12347         537626     Iceland          ...   12          3.25        \n",
       "4        2010-12-07T14:57:00.000000Z   12347         537626     Iceland          ...   36          0.65        \n",
       "         ...                           ...           ...        ...              ...   ...         ...         \n",
       "397920   2011-10-12T10:23:00.000000Z   18287         570715     United Kingdom   ...   12          0.42        \n",
       "397921   2011-10-12T10:23:00.000000Z   18287         570715     United Kingdom   ...   12          2.1         \n",
       "397922   2011-10-28T09:29:00.000000Z   18287         573167     United Kingdom   ...   36          1.25        \n",
       "397923   2011-10-28T09:29:00.000000Z   18287         573167     United Kingdom   ...   48          0.39        \n",
       "397924   2011-10-28T09:29:00.000000Z   18287         573167     United Kingdom   ...   24          0.29        \n",
       "\n",
       "\n",
       "\n",
       "Name                             Description       StockCode   \n",
       "Role                           unused_string   unused_string   \n",
       "Unit                                                    code   \n",
       "0        MEDIUM CERAMIC TOP STORAGE JAR        23166           \n",
       "1        BLACK CANDELABRA T-LIGHT HOLDER       85116           \n",
       "2        AIRLINE BAG VINTAGE JET SET BROWN     22375           \n",
       "3        COLOUR GLASS. STAR T-LIGHT HOLDER     71477           \n",
       "4        MINI PAINT SET VINTAGE                22492           \n",
       "         ...                                   ...             \n",
       "397920   LIPSTICK PEN RED                      22419           \n",
       "397921   HAND WARMER SCOTTY DOG DESIGN         22866           \n",
       "397922   SET OF 3 WOODEN SLEIGH DECORATIONS    23264           \n",
       "397923   PAINTED METAL STAR WITH HOLLY BELLS   21824           \n",
       "397924   SWISS CHALET TREE DECORATION          21014           \n",
       "\n",
       "397925 rows x 9 columns\n",
       "memory usage: 37.31 MB\n",
       "name: full_data\n",
       "type: getml.data.DataFrame\n",
       "url: http://localhost:1709/#/getdataframe/online_retail/full_data/"
      ]
     },
     "execution_count": 15,
     "metadata": {},
     "output_type": "execute_result"
    }
   ],
   "source": [
    "full_data"
   ]
  },
  {
   "cell_type": "code",
   "execution_count": 16,
   "metadata": {},
   "outputs": [],
   "source": [
    "random = full_data.random()\n",
    "\n",
    "is_training = (random < 0.7)\n",
    "is_validation = (~is_training & (random < 0.85))\n",
    "is_test = (~is_training & ~is_validation)\n",
    "\n",
    "data_train = full_data.where(\"data_train\", is_training)\n",
    "data_validation = full_data.where(\"data_validation\", is_validation)\n",
    "data_test = full_data.where(\"data_test\", is_test)"
   ]
  },
  {
   "cell_type": "markdown",
   "metadata": {},
   "source": [
    " "
   ]
  },
  {
   "cell_type": "markdown",
   "metadata": {},
   "source": [
    "## 2. Predictive modelling\n",
    "\n",
    "We loaded the data and defined the roles and units. Next, we create a getML pipeline for relational learning."
   ]
  },
  {
   "cell_type": "markdown",
   "metadata": {},
   "source": [
    "### 2.1 Define relational model\n",
    "\n",
    "To get started with relational learning, we need to specify the data model.\n",
    "\n",
    "In our case, there are two joins we are interested in: \n",
    "\n",
    "1) We want to take a look at all of the other orders on the same invoice.\n",
    "\n",
    "2) We want to check out how often a certain customer has cancelled orders in the past. Here, we limit ourselves to the last 90 days. To avoid data leaks, we set a horizon of one day."
   ]
  },
  {
   "cell_type": "code",
   "execution_count": 17,
   "metadata": {},
   "outputs": [
    {
     "data": {
      "text/html": [
       "<div style=\"height:210px;width:660px;position:relative;\"><svg height=\"200\" width=\"650\"><rect y=\"0\" x=\"0\" rx=\"10\" ry=\"10\" width=\"150\" height=\"90\" style=\"fill:#6829c2;stroke-width:0;\" /><text y=\"73.8\"\" x=\"75.0\" dominant-baseline=\"middle\" text-anchor=\"middle\" fill=\"white\">peripheral</text><rect x=\"51\" y=\"10\" rx=\"4\" ry=\"4\" width=\"48\" height=\"48\" style=\" fill:#6829c2;stroke:#ffffff;stroke-width:3;\" /><line x1=\"67.0\" y1=\"10\" x2=\"67.0\" y2=\"58\" style=\"stroke:white;stroke-width:3\" /><line x1=\"83.0\" y1=\"10\" x2=\"83.0\" y2=\"58\" style=\"stroke:white;stroke-width:3\" /><line x1=\"51\" y1=\"26.0\" x2=\"99\" y2=\"26.0\" style=\"stroke:white;stroke-width:3\" /><line x1=\"51\" y1=\"42.0\" x2=\"99\" y2=\"42.0\" style=\"stroke:white;stroke-width:3\" /><rect y=\"110\" x=\"0\" rx=\"10\" ry=\"10\" width=\"150\" height=\"90\" style=\"fill:#6829c2;stroke-width:0;\" /><text y=\"183.8\"\" x=\"75.0\" dominant-baseline=\"middle\" text-anchor=\"middle\" fill=\"white\">peripheral</text><rect x=\"51\" y=\"120\" rx=\"4\" ry=\"4\" width=\"48\" height=\"48\" style=\" fill:#6829c2;stroke:#ffffff;stroke-width:3;\" /><line x1=\"67.0\" y1=\"120\" x2=\"67.0\" y2=\"168\" style=\"stroke:white;stroke-width:3\" /><line x1=\"83.0\" y1=\"120\" x2=\"83.0\" y2=\"168\" style=\"stroke:white;stroke-width:3\" /><line x1=\"51\" y1=\"136.0\" x2=\"99\" y2=\"136.0\" style=\"stroke:white;stroke-width:3\" /><line x1=\"51\" y1=\"152.0\" x2=\"99\" y2=\"152.0\" style=\"stroke:white;stroke-width:3\" /><rect y=\"110\" x=\"500\" rx=\"10\" ry=\"10\" width=\"150\" height=\"90\" style=\"fill:#6829c2;stroke-width:0;\" /><text y=\"183.8\"\" x=\"575.0\" dominant-baseline=\"middle\" text-anchor=\"middle\" fill=\"white\">population</text><rect x=\"551\" y=\"120\" rx=\"4\" ry=\"4\" width=\"48\" height=\"48\" style=\" fill:#6829c2;stroke:#ffffff;stroke-width:3;\" /><line x1=\"567.0\" y1=\"120\" x2=\"567.0\" y2=\"168\" style=\"stroke:white;stroke-width:3\" /><line x1=\"583.0\" y1=\"120\" x2=\"583.0\" y2=\"168\" style=\"stroke:white;stroke-width:3\" /><line x1=\"551\" y1=\"136.0\" x2=\"599\" y2=\"136.0\" style=\"stroke:white;stroke-width:3\" /><line x1=\"551\" y1=\"152.0\" x2=\"599\" y2=\"152.0\" style=\"stroke:white;stroke-width:3\" /><line x1=\"150\" y1=\"43.0\" x2=\"573.0\" y2=\"43.0\" style=\"stroke:#808080;;stroke-width:4\" /><line x1=\"573.0\" y1=\"41.0\" x2=\"573.0\" y2=\"100\" style=\"stroke:#808080;;stroke-width:4\" /><polygon points=\"573.0, 110 567.0, 100 579.0, 100 \" style=\"fill:#808080;;stroke-width:0;\" /><rect y=\"10.0\" x=\"249.0\" rx=\"10\" ry=\"10\" width=\"150\" height=\"70\" style=\"fill:#6829c2;stroke-width:0;\" /><text dominant-baseline=\"middle\" text-anchor=\"middle\" fill=\"white\"><tspan y=\"45.0\"\" x=\"324.0\" font-size=\"7pt\" >Invoice = Invoice</tspan></text><line x1=\"150\" y1=\"153.0\" x2=\"490\" y2=\"153.0\" style=\"stroke:#808080;;stroke-width:4\" /><polygon points=\"500, 153.0 490, 147.0 490, 159.0 \" style=\"fill:#808080;;stroke-width:0;\" /><rect y=\"120.0\" x=\"249.0\" rx=\"10\" ry=\"10\" width=\"150\" height=\"70\" style=\"fill:#6829c2;stroke-width:0;\" /><text dominant-baseline=\"middle\" text-anchor=\"middle\" fill=\"white\"><tspan y=\"135.0\"\" x=\"324.0\" font-size=\"7pt\" >Customer ID = Customer ID</tspan><tspan y=\"145.0\"\" x=\"324.0\" font-size=\"7pt\" >InvoiceDate <= InvoiceDate</tspan><tspan y=\"155.0\"\" x=\"324.0\" font-size=\"7pt\" >Memory: 90.0 days</tspan><tspan y=\"165.0\"\" x=\"324.0\" font-size=\"7pt\" >Horizon: 1.0 days</tspan><tspan y=\"175.0\"\" x=\"324.0\" font-size=\"7pt\" >Lagged targets allowed</tspan></text></svg></div>"
      ],
      "text/plain": [
       "placeholder   other placeholder   allow lagged targets   horizon   join keys used      memory   \n",
       "population    peripheral          False                  0.0       Invoice          0.0         \n",
       "population    peripheral          True                   86400.0   Customer ID      7776000.0   \n",
       "\n",
       "\n",
       "\n",
       "other join keys used   other time stamps used   relationship   time stamps used   \n",
       "Invoice                                         many-to-many                      \n",
       "Customer ID            InvoiceDate              many-to-many   InvoiceDate        \n",
       "\n",
       "\n",
       "\n",
       "other join keys used   upper time stamps used   \n",
       "Invoice                                         \n",
       "Customer ID                                     "
      ]
     },
     "execution_count": 17,
     "metadata": {},
     "output_type": "execute_result"
    }
   ],
   "source": [
    "population = getml.data.Placeholder('population')\n",
    "\n",
    "peripheral = getml.data.Placeholder('peripheral')\n",
    "\n",
    "population.join(\n",
    "    peripheral,\n",
    "    join_key='Invoice',\n",
    "    allow_lagged_targets=False\n",
    ")\n",
    "\n",
    "population.join(\n",
    "    peripheral,\n",
    "    join_key='Customer ID',\n",
    "    time_stamp='InvoiceDate',\n",
    "    horizon=getml.data.time.days(1),\n",
    "    memory=getml.data.time.days(90),\n",
    "    allow_lagged_targets=True\n",
    ")\n",
    "\n",
    "population"
   ]
  },
  {
   "cell_type": "markdown",
   "metadata": {},
   "source": [
    " "
   ]
  },
  {
   "cell_type": "markdown",
   "metadata": {},
   "source": [
    "### 2.2 getML pipeline"
   ]
  },
  {
   "cell_type": "markdown",
   "metadata": {},
   "source": [
    "<!-- #### 2.1.1  -->\n",
    "__Set-up the feature learner & predictor__"
   ]
  },
  {
   "cell_type": "markdown",
   "metadata": {},
   "source": [
    "We have mentioned that the *StockCode* is a hierarchical code. To make use of that fact, we use getML's substring preprocessor, extracting the first digit, the first two digits etc. Since we have assigned the unit *code* to the *StockCode*, the preprocessors know which column they should be applied to."
   ]
  },
  {
   "cell_type": "code",
   "execution_count": 18,
   "metadata": {},
   "outputs": [],
   "source": [
    "substr1 = getml.preprocessors.Substring(0, 1, \"code\")\n",
    "substr2 = getml.preprocessors.Substring(0, 2, \"code\")\n",
    "substr3 = getml.preprocessors.Substring(0, 3, \"code\")\n",
    "\n",
    "relboost = getml.feature_learning.RelboostModel(\n",
    "    num_features=80,\n",
    "    loss_function=getml.feature_learning.loss_functions.CrossEntropyLoss,\n",
    "    seed=4367,\n",
    "    num_threads=1\n",
    ")\n",
    "\n",
    "predictor = getml.predictors.XGBoostClassifier()"
   ]
  },
  {
   "cell_type": "markdown",
   "metadata": {},
   "source": [
    "__Build the pipeline__"
   ]
  },
  {
   "cell_type": "code",
   "execution_count": 19,
   "metadata": {},
   "outputs": [],
   "source": [
    "pipe = getml.pipeline.Pipeline(\n",
    "    tags=['relboost'],\n",
    "    population=population,\n",
    "    peripheral=[peripheral],\n",
    "    preprocessors=[substr1, substr2, substr3],\n",
    "    feature_learners=[relboost],\n",
    "    predictors=[predictor],\n",
    "    include_categorical=True\n",
    ")"
   ]
  },
  {
   "cell_type": "markdown",
   "metadata": {},
   "source": [
    " "
   ]
  },
  {
   "cell_type": "markdown",
   "metadata": {},
   "source": [
    "### 2.3 Model training"
   ]
  },
  {
   "cell_type": "code",
   "execution_count": 20,
   "metadata": {},
   "outputs": [
    {
     "name": "stdout",
     "output_type": "stream",
     "text": [
      "Checking data model...\n",
      "OK.\n"
     ]
    }
   ],
   "source": [
    "pipe.check(data_train, [full_data])"
   ]
  },
  {
   "cell_type": "code",
   "execution_count": 21,
   "metadata": {},
   "outputs": [
    {
     "name": "stdout",
     "output_type": "stream",
     "text": [
      "Checking data model...\n",
      "OK.\n",
      "\n",
      "Relboost: Training features...\n",
      "[========================================] 100%\n",
      "\n",
      "Relboost: Building features...\n",
      "[========================================] 100%\n",
      "\n",
      "XGBoost: Training as predictor...\n",
      "[========================================] 100%\n",
      "\n",
      "Trained pipeline.\n",
      "Time taken: 0h:13m:41.577843\n",
      "\n"
     ]
    },
    {
     "data": {
      "text/html": [
       "<pre>Pipeline(preprocessors=['Substring', 'Substring', 'Substring'], <br>         feature_learners=['RelboostModel'], feature_selectors=[], <br>         include_categorical=True, peripheral=['peripheral'], <br>         population='population', predictors=['XGBoostClassifier'], <br>         tags=['relboost'], share_selected_features=0.5)</pre><br><pre>url: <a href=\"http://localhost:1709/#/getpipeline/online_retail/elm7dB/0/\" target=\"_blank\">http://localhost:1709/#/getpipeline/online_retail/elm7dB/0/</a></pre>"
      ],
      "text/plain": [
       "Pipeline(preprocessors=['Substring', 'Substring', 'Substring'], \n",
       "         feature_learners=['RelboostModel'], feature_selectors=[], \n",
       "         include_categorical=True, peripheral=['peripheral'], \n",
       "         population='population', predictors=['XGBoostClassifier'], \n",
       "         tags=['relboost'], share_selected_features=0.5)\n",
       "\n",
       "url: http://localhost:1709/#/getpipeline/online_retail/elm7dB/0/"
      ]
     },
     "execution_count": 21,
     "metadata": {},
     "output_type": "execute_result"
    }
   ],
   "source": [
    "pipe.fit(data_train, [full_data])"
   ]
  },
  {
   "cell_type": "markdown",
   "metadata": {},
   "source": [
    " "
   ]
  },
  {
   "cell_type": "markdown",
   "metadata": {},
   "source": [
    "### 2.4 Model evaluation"
   ]
  },
  {
   "cell_type": "code",
   "execution_count": 22,
   "metadata": {
    "lines_to_next_cell": 0
   },
   "outputs": [
    {
     "name": "stdout",
     "output_type": "stream",
     "text": [
      "\n",
      "Relboost: Building features...\n",
      "[========================================] 100%\n",
      "\n"
     ]
    },
    {
     "data": {
      "text/html": [
       "<table class=\"dataframe\"><thead><tr style=\"border-bottom:1pt solid LightGray;\"><th style=\"text-align: left;border-right:1pt solid LightGray;\"> </th><th style=\"text-align: right;\">date time          </th><th style=\"text-align: right;\">set used  </th><th style=\"text-align: right;\">target   </th><th style=\"text-align: right;\">accuracy</th><th style=\"text-align: right;\">     auc</th><th style=\"text-align: right;\">cross entropy</th></tr></thead><tbody><tr style=\"border-top:1pt solid LightGray;\"><td style=\"border-right:1pt solid LightGray;\"><b>0</b></td><td>2021-02-16 11:17:12</td><td>data_train</td><td>cancelled</td><td> 0.98260</td><td> 0.82659</td><td>      0.07505</td></tr><tr><td style=\"border-right:1pt solid LightGray;\"><b>1</b></td><td>2021-02-16 11:17:46</td><td>data_test </td><td>cancelled</td><td> 0.98262</td><td> 0.80618</td><td>      0.07637</td></tr></tbody></table>"
      ],
      "text/plain": [
       "    date time             set used     target      accuracy        auc   cross entropy\n",
       "0   2021-02-16 11:17:12   data_train   cancelled    0.98260    0.82659         0.07505\n",
       "1   2021-02-16 11:17:46   data_test    cancelled    0.98262    0.80618         0.07637"
      ]
     },
     "execution_count": 22,
     "metadata": {},
     "output_type": "execute_result"
    }
   ],
   "source": [
    "pipe.score(data_test, [full_data])"
   ]
  },
  {
   "cell_type": "markdown",
   "metadata": {},
   "source": [
    " "
   ]
  },
  {
   "cell_type": "markdown",
   "metadata": {},
   "source": [
    "### 2.5 Hyperparameter tuning"
   ]
  },
  {
   "cell_type": "markdown",
   "metadata": {},
   "source": [
    "As we have seen, we can achieve and out-of-sample AUC of over 80% using the default parameters. That is not too bad, but can we do better?\n",
    "\n",
    "Turns out we can. All we have to do is to use getML's built-in hyperparameter tuning routines. No cheating: We optimize on the validation set, which is different from the testing set."
   ]
  },
  {
   "cell_type": "code",
   "execution_count": 23,
   "metadata": {},
   "outputs": [
    {
     "name": "stdout",
     "output_type": "stream",
     "text": [
      "Checking data model...\n",
      "OK.\n",
      "\n",
      "Retrieving features (because a similar feature learner has already been fitted)...\n",
      "[========================================] 100%\n",
      "\n",
      "Relboost: Building features...\n",
      "[========================================] 100%\n",
      "\n",
      "XGBoost: Training as predictor...\n",
      "[========================================] 100%\n",
      "\n",
      "Trained pipeline.\n",
      "Time taken: 0h:17m:39.227021\n",
      "\n"
     ]
    }
   ],
   "source": [
    "if ALLOW_TUNING:\n",
    "    tuned_pipe = getml.hyperopt.tune_predictors(\n",
    "        pipeline=pipe,\n",
    "        population_table_training=data_train,\n",
    "        population_table_validation=data_validation,\n",
    "        peripheral_tables=[full_data]\n",
    "    )\n",
    "\n",
    "else: # If ALLOW_TUNING is false, use the tuned hyperparameters\n",
    "    params = {\n",
    "     'booster': 'gbtree',\n",
    "     'colsample_bylevel': 1,\n",
    "     'colsample_bytree': 0.8593709932112917,\n",
    "     'learning_rate': 0.06013502966116914,\n",
    "     'gamma': 1.9549658301717747,\n",
    "     'max_delta_step': 0,\n",
    "     'max_depth': 11,\n",
    "     'min_child_weights': 1,\n",
    "     'n_estimators': 849,\n",
    "     'normalize_type': 'tree',\n",
    "     'num_parallel_tree': 1,\n",
    "     'n_jobs': 0,\n",
    "     'objective': 'binary:logistic',\n",
    "     'one_drop': False,\n",
    "     'rate_drop': 0,\n",
    "     'reg_alpha': 0,\n",
    "     'reg_lambda': 1,\n",
    "     'sample_type': 'uniform',\n",
    "     'silent': True,\n",
    "     'skip_drop': 0,\n",
    "     'subsample': 0.8879661348440209}\n",
    "    tuned_pipe = copy.deepcopy(pipe)\n",
    "    tuned_pipe.predictors = [getml.predictors.XGBoostClassifier(**params)]\n",
    "    tuned_pipe.fit(data_train, [full_data])"
   ]
  },
  {
   "cell_type": "markdown",
   "metadata": {},
   "source": [
    "Finally, we evaluate the tuned pipeline on the testing set:"
   ]
  },
  {
   "cell_type": "code",
   "execution_count": 24,
   "metadata": {},
   "outputs": [
    {
     "name": "stdout",
     "output_type": "stream",
     "text": [
      "\n",
      "Relboost: Building features...\n",
      "[========================================] 100%\n",
      "\n"
     ]
    },
    {
     "data": {
      "text/html": [
       "<table class=\"dataframe\"><thead><tr style=\"border-bottom:1pt solid LightGray;\"><th style=\"text-align: left;border-right:1pt solid LightGray;\"> </th><th style=\"text-align: right;\">date time          </th><th style=\"text-align: right;\">set used  </th><th style=\"text-align: right;\">target   </th><th style=\"text-align: right;\">accuracy</th><th style=\"text-align: right;\">     auc</th><th style=\"text-align: right;\">cross entropy</th></tr></thead><tbody><tr style=\"border-top:1pt solid LightGray;\"><td style=\"border-right:1pt solid LightGray;\"><b>0</b></td><td>2021-02-16 11:35:27</td><td>data_train</td><td>cancelled</td><td> 0.99689</td><td> 0.99961</td><td>      0.01390</td></tr><tr><td style=\"border-right:1pt solid LightGray;\"><b>1</b></td><td>2021-02-16 11:36:06</td><td>data_test </td><td>cancelled</td><td> 0.98377</td><td> 0.86945</td><td>      0.07162</td></tr></tbody></table>"
      ],
      "text/plain": [
       "    date time             set used     target      accuracy        auc   cross entropy\n",
       "0   2021-02-16 11:35:27   data_train   cancelled    0.99689    0.99961         0.01390\n",
       "1   2021-02-16 11:36:06   data_test    cancelled    0.98377    0.86945         0.07162"
      ]
     },
     "execution_count": 24,
     "metadata": {},
     "output_type": "execute_result"
    }
   ],
   "source": [
    "tuned_pipe.score(data_test, [full_data])"
   ]
  },
  {
   "cell_type": "markdown",
   "metadata": {},
   "source": [
    "As we can see, tuning the hyperparameters can improve the out-of-sample AUC by 6 percentage points."
   ]
  },
  {
   "cell_type": "markdown",
   "metadata": {},
   "source": [
    " "
   ]
  },
  {
   "cell_type": "markdown",
   "metadata": {},
   "source": [
    "### 2.6 Studying features"
   ]
  },
  {
   "cell_type": "markdown",
   "metadata": {},
   "source": [
    "__Feature correlations__\n",
    "\n",
    "We want to analyze how the features are correlated with the target variable."
   ]
  },
  {
   "cell_type": "code",
   "execution_count": 25,
   "metadata": {},
   "outputs": [
    {
     "data": {
      "image/png": "[encoded data removed]",
      "text/plain": [
       "<Figure size 1440x720 with 1 Axes>"
      ]
     },
     "metadata": {
      "needs_background": "light"
     },
     "output_type": "display_data"
    }
   ],
   "source": [
    "names, correlations = tuned_pipe.features.correlations()\n",
    "\n",
    "plt.subplots(figsize=(20, 10))\n",
    "\n",
    "plt.bar(names, correlations, color='#6829c2')\n",
    "\n",
    "plt.title('Feature Correlations')\n",
    "plt.xlabel('Features')\n",
    "plt.ylabel('Correlations')\n",
    "plt.xticks(rotation='vertical')\n",
    "plt.show()"
   ]
  },
  {
   "cell_type": "markdown",
   "metadata": {},
   "source": [
    " "
   ]
  },
  {
   "cell_type": "markdown",
   "metadata": {},
   "source": [
    "__Feature importances__\n",
    " \n",
    "Feature importances are calculated by analyzing the improvement in predictive accuracy on each node of the trees in the XGBoost predictor. They are then normalized, so that all importances add up to 100%."
   ]
  },
  {
   "cell_type": "code",
   "execution_count": 26,
   "metadata": {
    "lines_to_next_cell": 0
   },
   "outputs": [
    {
     "data": {
      "image/png": "[encoded data removed]",
      "text/plain": [
       "<Figure size 1440x720 with 1 Axes>"
      ]
     },
     "metadata": {
      "needs_background": "light"
     },
     "output_type": "display_data"
    }
   ],
   "source": [
    "names, importances = tuned_pipe.features.importances()\n",
    "\n",
    "plt.subplots(figsize=(20, 10))\n",
    "\n",
    "plt.bar(names, importances, color='#6829c2')\n",
    "\n",
    "plt.title('Feature Importances')\n",
    "plt.xlabel('Features')\n",
    "plt.ylabel('Importances')\n",
    "plt.xticks(rotation='vertical')\n",
    "plt.show()\n",
    "\n",
    "most_important = names[0]"
   ]
  },
  {
   "cell_type": "markdown",
   "metadata": {},
   "source": [
    "  "
   ]
  },
  {
   "cell_type": "markdown",
   "metadata": {},
   "source": [
    "__Column importances__\n",
    "\n",
    "Because getML uses relational learning, we can apply the principles we used to calculate the feature importances to individual columns as well.\n",
    "\n",
    "As we can see, the *StockCode* contributes about 50% of the predictive accuracy."
   ]
  },
  {
   "cell_type": "code",
   "execution_count": 27,
   "metadata": {},
   "outputs": [
    {
     "data": {
      "image/png": "[encoded data removed]",
      "text/plain": [
       "<Figure size 1440x720 with 1 Axes>"
      ]
     },
     "metadata": {
      "needs_background": "light"
     },
     "output_type": "display_data"
    }
   ],
   "source": [
    "names, importances = tuned_pipe.columns.importances()\n",
    "\n",
    "plt.subplots(figsize=(20, 10))\n",
    "\n",
    "plt.bar(names, importances, color='#6829c2')\n",
    "\n",
    "plt.title('Columns importances')\n",
    "plt.xlabel('Columns')\n",
    "plt.ylabel('Importances')\n",
    "plt.xticks(rotation='vertical')\n",
    "plt.show()\n",
    "\n",
    "most_important = names[0]"
   ]
  },
  {
   "cell_type": "markdown",
   "metadata": {},
   "source": [
    " "
   ]
  },
  {
   "cell_type": "markdown",
   "metadata": {},
   "source": [
    "__Transpiling the learned features__\n",
    "\n",
    "We can also transpile the learned features to SQLite3 code. We want to show the two most important features. That is why we call the `.features.importances().` method again. The names that are returned are already sorted by importance."
   ]
  },
  {
   "cell_type": "markdown",
   "metadata": {},
   "source": [
    " "
   ]
  },
  {
   "cell_type": "code",
   "execution_count": 28,
   "metadata": {},
   "outputs": [
    {
     "data": {
      "text/markdown": [
       "```sql\n",
       "DROP TABLE IF EXISTS \"FEATURE_1_14\";\n",
       "\n",
       "CREATE TABLE \"FEATURE_1_14\" AS\n",
       "SELECT AVG( \n",
       "    CASE\n",
       "        WHEN ( substr( t1.\"StockCode\", 1, 3 ) IN ( '780', '461' ) ) AND ( substr( t2.\"StockCode\", 1, 2 ) IN ( '22' ) ) AND ( substr( t1.\"StockCode\", 1, 1 ) IN ( '4' ) ) THEN -179.301626129829\n",
       "        WHEN ( substr( t1.\"StockCode\", 1, 3 ) IN ( '780', '461' ) ) AND ( substr( t2.\"StockCode\", 1, 2 ) IN ( '22' ) ) AND ( substr( t1.\"StockCode\", 1, 1 ) NOT IN ( '4' ) ) THEN -155.2646069718008\n",
       "        WHEN ( substr( t1.\"StockCode\", 1, 3 ) IN ( '780', '461' ) ) AND ( substr( t2.\"StockCode\", 1, 2 ) NOT IN ( '22' ) ) AND ( t1.\"Quantity\" > 1.000000 ) THEN 134.9174513557539\n",
       "        WHEN ( substr( t1.\"StockCode\", 1, 3 ) IN ( '780', '461' ) ) AND ( substr( t2.\"StockCode\", 1, 2 ) NOT IN ( '22' ) ) AND ( t1.\"Quantity\" <= 1.000000 OR t1.\"Quantity\" IS NULL ) THEN 133.5668229523024\n",
       "        WHEN ( substr( t1.\"StockCode\", 1, 3 ) NOT IN ( '780', '461' ) ) AND ( t2.\"Quantity\" > 3.000000 ) AND ( substr( t2.\"StockCode\", 1, 3 ) IN ( '223', '227', '222', '851', '211', '221', '852', '210', '207', '846', '209', '206', '225', '160', '170', '510', '232', '229', '233', '234', '235', 'POS', '215', '840', '359', '374', '791', '843', '375', '844', '150', '727', '355', '824', '826', '820', '161', '162', '180', '467', '825', '700', '725', '710', '373', '352', '350', '356', '722', '110', '100', '721', '171', '723', '780', '902', '400', '620', '819', '794', '751', '771', '470', '461', '781', '440', '720', '715' ) ) THEN -1.111928732863601\n",
       "        WHEN ( substr( t1.\"StockCode\", 1, 3 ) NOT IN ( '780', '461' ) ) AND ( t2.\"Quantity\" > 3.000000 ) AND ( substr( t2.\"StockCode\", 1, 3 ) NOT IN ( '223', '227', '222', '851', '211', '221', '852', '210', '207', '846', '209', '206', '225', '160', '170', '510', '232', '229', '233', '234', '235', 'POS', '215', '840', '359', '374', '791', '843', '375', '844', '150', '727', '355', '824', '826', '820', '161', '162', '180', '467', '825', '700', '725', '710', '373', '352', '350', '356', '722', '110', '100', '721', '171', '723', '780', '902', '400', '620', '819', '794', '751', '771', '470', '461', '781', '440', '720', '715' ) ) THEN 2.302100093899191\n",
       "        WHEN ( substr( t1.\"StockCode\", 1, 3 ) NOT IN ( '780', '461' ) ) AND ( t2.\"Quantity\" <= 3.000000 OR t2.\"Quantity\" IS NULL ) AND ( substr( t2.\"StockCode\", 1, 3 ) IN ( 'C2', '231', '223', '222', '851', '211', '849', '852', '210', '217', '845', '207', '209', '219', '218', '206', '230', '225', '170', '510', '232', '229', '233', '216', '226', '235', 'POS', '220', '850', '359', '374', '790', '791', '213', '728', '843', '375', '844', '150', '727', '355', '714', '826', '820', '161', '162', '208', '180', '467', '847', '700', '842', '841', '460', '725', '710', '373', '901', '358', '473', '352', '354', '356', '793', '722', '110', '100', '101', '442', '750', '721', '171', '723', '780', '620', '236', '712', '711', '819', '794', '751', '771', '470', '461', '440', 'PAD', 'DOT', '720', '450', '770' ) ) THEN -2.077854269718707\n",
       "        WHEN ( substr( t1.\"StockCode\", 1, 3 ) NOT IN ( '780', '461' ) ) AND ( t2.\"Quantity\" <= 3.000000 OR t2.\"Quantity\" IS NULL ) AND ( substr( t2.\"StockCode\", 1, 3 ) NOT IN ( 'C2', '231', '223', '222', '851', '211', '849', '852', '210', '217', '845', '207', '209', '219', '218', '206', '230', '225', '170', '510', '232', '229', '233', '216', '226', '235', 'POS', '220', '850', '359', '374', '790', '791', '213', '728', '843', '375', '844', '150', '727', '355', '714', '826', '820', '161', '162', '208', '180', '467', '847', '700', '842', '841', '460', '725', '710', '373', '901', '358', '473', '352', '354', '356', '793', '722', '110', '100', '101', '442', '750', '721', '171', '723', '780', '620', '236', '712', '711', '819', '794', '751', '771', '470', '461', '440', 'PAD', 'DOT', '720', '450', '770' ) ) THEN 1.4022206243511\n",
       "        ELSE NULL\n",
       "    END\n",
       ") AS \"feature_1_14\",\n",
       "     t1.rowid AS \"rownum\"\n",
       "FROM \"population\" t1\n",
       "LEFT JOIN \"peripheral\" t2\n",
       "ON t1.\"Invoice\" = t2.\"Invoice\"\n",
       "GROUP BY t1.rowid;\n",
       "```"
      ],
      "text/plain": [
       "DROP TABLE IF EXISTS \"FEATURE_1_14\";\n",
       "\n",
       "CREATE TABLE \"FEATURE_1_14\" AS\n",
       "SELECT AVG( \n",
       "    CASE\n",
       "        WHEN ( substr( t1.\"StockCode\", 1, 3 ) IN ( '780', '461' ) ) AND ( substr( t2.\"StockCode\", 1, 2 ) IN ( '22' ) ) AND ( substr( t1.\"StockCode\", 1, 1 ) IN ( '4' ) ) THEN -179.301626129829\n",
       "        WHEN ( substr( t1.\"StockCode\", 1, 3 ) IN ( '780', '461' ) ) AND ( substr( t2.\"StockCode\", 1, 2 ) IN ( '22' ) ) AND ( substr( t1.\"StockCode\", 1, 1 ) NOT IN ( '4' ) ) THEN -155.2646069718008\n",
       "        WHEN ( substr( t1.\"StockCode\", 1, 3 ) IN ( '780', '461' ) ) AND ( substr( t2.\"StockCode\", 1, 2 ) NOT IN ( '22' ) ) AND ( t1.\"Quantity\" > 1.000000 ) THEN 134.9174513557539\n",
       "        WHEN ( substr( t1.\"StockCode\", 1, 3 ) IN ( '780', '461' ) ) AND ( substr( t2.\"StockCode\", 1, 2 ) NOT IN ( '22' ) ) AND ( t1.\"Quantity\" <= 1.000000 OR t1.\"Quantity\" IS NULL ) THEN 133.5668229523024\n",
       "        WHEN ( substr( t1.\"StockCode\", 1, 3 ) NOT IN ( '780', '461' ) ) AND ( t2.\"Quantity\" > 3.000000 ) AND ( substr( t2.\"StockCode\", 1, 3 ) IN ( '223', '227', '222', '851', '211', '221', '852', '210', '207', '846', '209', '206', '225', '160', '170', '510', '232', '229', '233', '234', '235', 'POS', '215', '840', '359', '374', '791', '843', '375', '844', '150', '727', '355', '824', '826', '820', '161', '162', '180', '467', '825', '700', '725', '710', '373', '352', '350', '356', '722', '110', '100', '721', '171', '723', '780', '902', '400', '620', '819', '794', '751', '771', '470', '461', '781', '440', '720', '715' ) ) THEN -1.111928732863601\n",
       "        WHEN ( substr( t1.\"StockCode\", 1, 3 ) NOT IN ( '780', '461' ) ) AND ( t2.\"Quantity\" > 3.000000 ) AND ( substr( t2.\"StockCode\", 1, 3 ) NOT IN ( '223', '227', '222', '851', '211', '221', '852', '210', '207', '846', '209', '206', '225', '160', '170', '510', '232', '229', '233', '234', '235', 'POS', '215', '840', '359', '374', '791', '843', '375', '844', '150', '727', '355', '824', '826', '820', '161', '162', '180', '467', '825', '700', '725', '710', '373', '352', '350', '356', '722', '110', '100', '721', '171', '723', '780', '902', '400', '620', '819', '794', '751', '771', '470', '461', '781', '440', '720', '715' ) ) THEN 2.302100093899191\n",
       "        WHEN ( substr( t1.\"StockCode\", 1, 3 ) NOT IN ( '780', '461' ) ) AND ( t2.\"Quantity\" <= 3.000000 OR t2.\"Quantity\" IS NULL ) AND ( substr( t2.\"StockCode\", 1, 3 ) IN ( 'C2', '231', '223', '222', '851', '211', '849', '852', '210', '217', '845', '207', '209', '219', '218', '206', '230', '225', '170', '510', '232', '229', '233', '216', '226', '235', 'POS', '220', '850', '359', '374', '790', '791', '213', '728', '843', '375', '844', '150', '727', '355', '714', '826', '820', '161', '162', '208', '180', '467', '847', '700', '842', '841', '460', '725', '710', '373', '901', '358', '473', '352', '354', '356', '793', '722', '110', '100', '101', '442', '750', '721', '171', '723', '780', '620', '236', '712', '711', '819', '794', '751', '771', '470', '461', '440', 'PAD', 'DOT', '720', '450', '770' ) ) THEN -2.077854269718707\n",
       "        WHEN ( substr( t1.\"StockCode\", 1, 3 ) NOT IN ( '780', '461' ) ) AND ( t2.\"Quantity\" <= 3.000000 OR t2.\"Quantity\" IS NULL ) AND ( substr( t2.\"StockCode\", 1, 3 ) NOT IN ( 'C2', '231', '223', '222', '851', '211', '849', '852', '210', '217', '845', '207', '209', '219', '218', '206', '230', '225', '170', '510', '232', '229', '233', '216', '226', '235', 'POS', '220', '850', '359', '374', '790', '791', '213', '728', '843', '375', '844', '150', '727', '355', '714', '826', '820', '161', '162', '208', '180', '467', '847', '700', '842', '841', '460', '725', '710', '373', '901', '358', '473', '352', '354', '356', '793', '722', '110', '100', '101', '442', '750', '721', '171', '723', '780', '620', '236', '712', '711', '819', '794', '751', '771', '470', '461', '440', 'PAD', 'DOT', '720', '450', '770' ) ) THEN 1.4022206243511\n",
       "        ELSE NULL\n",
       "    END\n",
       ") AS \"feature_1_14\",\n",
       "     t1.rowid AS \"rownum\"\n",
       "FROM \"population\" t1\n",
       "LEFT JOIN \"peripheral\" t2\n",
       "ON t1.\"Invoice\" = t2.\"Invoice\"\n",
       "GROUP BY t1.rowid;"
      ]
     },
     "execution_count": 28,
     "metadata": {},
     "output_type": "execute_result"
    }
   ],
   "source": [
    "names, _ = tuned_pipe.features.importances()\n",
    "\n",
    "tuned_pipe.features.to_sql()[names[0]]"
   ]
  },
  {
   "cell_type": "code",
   "execution_count": 29,
   "metadata": {},
   "outputs": [
    {
     "data": {
      "text/markdown": [
       "```sql\n",
       "DROP TABLE IF EXISTS \"FEATURE_1_5\";\n",
       "\n",
       "CREATE TABLE \"FEATURE_1_5\" AS\n",
       "SELECT AVG( \n",
       "    CASE\n",
       "        WHEN ( t2.\"Quantity\" > 5.000000 ) AND ( substr( t2.\"StockCode\", 1, 3 ) IN ( 'M', '223', '227', '211', '852', '217', '845', '207', '846', '225', '160', '228', '170', '510', '232', '233', '234', '216', '226', '235', 'POS', '215', '220', '850', '359', '843', '375', '150', '727', '355', '714', '481', '820', '161', '162', '208', '467', '847', '842', '841', '725', '710', '373', '900', '358', '352', '354', '350', '356', '722', '100', '101', '442', '750', '721', '171', '723', '780', '474', '902', '400', '236', '712', '711', '819', '794', '751', '771', '470', '461', '440', '720', '715' ) ) AND ( substr( t1.\"StockCode\", 1, 3 ) IN ( 'M', 'C2', '222', '211', '221', '210', '845', '846', '209', '219', '218', '206', '225', '160', '228', '170', '229', '233', '475', '235', 'POS', '215', '214', '220', '840', '359', '374', '790', '728', '843', '375', '844', '150', '727', '355', '714', '481', '824', '820', '161', '848', '162', '180', '467', '825', '847', '700', '842', '841', '460', '710', '373', '900', '901', '358', '473', '352', '354', '350', '356', '722', '110', '101', '442', '750', '721', '171', '723', '474', '400', '236', '712', '819', '794', '751', '771', '461', '440' ) ) THEN 1.44309322409388\n",
       "        WHEN ( t2.\"Quantity\" > 5.000000 ) AND ( substr( t2.\"StockCode\", 1, 3 ) IN ( 'M', '223', '227', '211', '852', '217', '845', '207', '846', '225', '160', '228', '170', '510', '232', '233', '234', '216', '226', '235', 'POS', '215', '220', '850', '359', '843', '375', '150', '727', '355', '714', '481', '820', '161', '162', '208', '467', '847', '842', '841', '725', '710', '373', '900', '358', '352', '354', '350', '356', '722', '100', '101', '442', '750', '721', '171', '723', '780', '474', '902', '400', '236', '712', '711', '819', '794', '751', '771', '470', '461', '440', '720', '715' ) ) AND ( substr( t1.\"StockCode\", 1, 3 ) NOT IN ( 'M', 'C2', '222', '211', '221', '210', '845', '846', '209', '219', '218', '206', '225', '160', '228', '170', '229', '233', '475', '235', 'POS', '215', '214', '220', '840', '359', '374', '790', '728', '843', '375', '844', '150', '727', '355', '714', '481', '824', '820', '161', '848', '162', '180', '467', '825', '847', '700', '842', '841', '460', '710', '373', '900', '901', '358', '473', '352', '354', '350', '356', '722', '110', '101', '442', '750', '721', '171', '723', '474', '400', '236', '712', '819', '794', '751', '771', '461', '440' ) ) THEN 3.548650717844529\n",
       "        WHEN ( t2.\"Quantity\" > 5.000000 ) AND ( substr( t2.\"StockCode\", 1, 3 ) NOT IN ( 'M', '223', '227', '211', '852', '217', '845', '207', '846', '225', '160', '228', '170', '510', '232', '233', '234', '216', '226', '235', 'POS', '215', '220', '850', '359', '843', '375', '150', '727', '355', '714', '481', '820', '161', '162', '208', '467', '847', '842', '841', '725', '710', '373', '900', '358', '352', '354', '350', '356', '722', '100', '101', '442', '750', '721', '171', '723', '780', '474', '902', '400', '236', '712', '711', '819', '794', '751', '771', '470', '461', '440', '720', '715' ) ) AND ( substr( t1.\"StockCode\", 1, 3 ) IN ( 'M', 'C2', '231', '223', '227', '222', '851', '211', '210', '217', '845', '207', '219', '206', '230', '160', '228', '170', '232', '233', '234', '212', '216', '475', '235', 'POS', '215', '214', '850', '359', '790', '728', '843', '375', '844', '150', '727', '355', '481', '820', '161', '848', '162', '180', '467', '825', '847', '700', '842', '841', '460', '710', '373', '900', '901', '358', '473', '354', '350', '356', '793', '722', '110', '101', '442', '750', '721', '171', '723', '474', '400', '236', '712', '819', '794', '751', '771', '461', '440' ) ) THEN 5.571790139692287\n",
       "        WHEN ( t2.\"Quantity\" > 5.000000 ) AND ( substr( t2.\"StockCode\", 1, 3 ) NOT IN ( 'M', '223', '227', '211', '852', '217', '845', '207', '846', '225', '160', '228', '170', '510', '232', '233', '234', '216', '226', '235', 'POS', '215', '220', '850', '359', '843', '375', '150', '727', '355', '714', '481', '820', '161', '162', '208', '467', '847', '842', '841', '725', '710', '373', '900', '358', '352', '354', '350', '356', '722', '100', '101', '442', '750', '721', '171', '723', '780', '474', '902', '400', '236', '712', '711', '819', '794', '751', '771', '470', '461', '440', '720', '715' ) ) AND ( substr( t1.\"StockCode\", 1, 3 ) NOT IN ( 'M', 'C2', '231', '223', '227', '222', '851', '211', '210', '217', '845', '207', '219', '206', '230', '160', '228', '170', '232', '233', '234', '212', '216', '475', '235', 'POS', '215', '214', '850', '359', '790', '728', '843', '375', '844', '150', '727', '355', '481', '820', '161', '848', '162', '180', '467', '825', '847', '700', '842', '841', '460', '710', '373', '900', '901', '358', '473', '354', '350', '356', '793', '722', '110', '101', '442', '750', '721', '171', '723', '474', '400', '236', '712', '819', '794', '751', '771', '461', '440' ) ) THEN 9.047061662642962\n",
       "        WHEN ( t2.\"Quantity\" <= 5.000000 OR t2.\"Quantity\" IS NULL ) AND ( t2.\"Country\" IN ( 'Australia' ) ) AND ( substr( t1.\"StockCode\", 1, 3 ) IN ( '231', '223', '221', '849', '224', '217', '207', '219', '229', '212', '216', '475', '226', '843' ) ) THEN -0.2764965964665417\n",
       "        WHEN ( t2.\"Quantity\" <= 5.000000 OR t2.\"Quantity\" IS NULL ) AND ( t2.\"Country\" IN ( 'Australia' ) ) AND ( substr( t1.\"StockCode\", 1, 3 ) NOT IN ( '231', '223', '221', '849', '224', '217', '207', '219', '229', '212', '216', '475', '226', '843' ) ) THEN 63.21650091752007\n",
       "        WHEN ( t2.\"Quantity\" <= 5.000000 OR t2.\"Quantity\" IS NULL ) AND ( t2.\"Country\" NOT IN ( 'Australia' ) ) AND ( t2.\"Country\" IN ( 'Italy' ) ) THEN 32.46900724700613\n",
       "        WHEN ( t2.\"Quantity\" <= 5.000000 OR t2.\"Quantity\" IS NULL ) AND ( t2.\"Country\" NOT IN ( 'Australia' ) ) AND ( t2.\"Country\" NOT IN ( 'Italy' ) ) THEN 2.882473569120685\n",
       "        ELSE NULL\n",
       "    END\n",
       ") AS \"feature_1_5\",\n",
       "     t1.rowid AS \"rownum\"\n",
       "FROM \"population\" t1\n",
       "LEFT JOIN \"peripheral\" t2\n",
       "ON t1.\"Invoice\" = t2.\"Invoice\"\n",
       "GROUP BY t1.rowid;\n",
       "```"
      ],
      "text/plain": [
       "DROP TABLE IF EXISTS \"FEATURE_1_5\";\n",
       "\n",
       "CREATE TABLE \"FEATURE_1_5\" AS\n",
       "SELECT AVG( \n",
       "    CASE\n",
       "        WHEN ( t2.\"Quantity\" > 5.000000 ) AND ( substr( t2.\"StockCode\", 1, 3 ) IN ( 'M', '223', '227', '211', '852', '217', '845', '207', '846', '225', '160', '228', '170', '510', '232', '233', '234', '216', '226', '235', 'POS', '215', '220', '850', '359', '843', '375', '150', '727', '355', '714', '481', '820', '161', '162', '208', '467', '847', '842', '841', '725', '710', '373', '900', '358', '352', '354', '350', '356', '722', '100', '101', '442', '750', '721', '171', '723', '780', '474', '902', '400', '236', '712', '711', '819', '794', '751', '771', '470', '461', '440', '720', '715' ) ) AND ( substr( t1.\"StockCode\", 1, 3 ) IN ( 'M', 'C2', '222', '211', '221', '210', '845', '846', '209', '219', '218', '206', '225', '160', '228', '170', '229', '233', '475', '235', 'POS', '215', '214', '220', '840', '359', '374', '790', '728', '843', '375', '844', '150', '727', '355', '714', '481', '824', '820', '161', '848', '162', '180', '467', '825', '847', '700', '842', '841', '460', '710', '373', '900', '901', '358', '473', '352', '354', '350', '356', '722', '110', '101', '442', '750', '721', '171', '723', '474', '400', '236', '712', '819', '794', '751', '771', '461', '440' ) ) THEN 1.44309322409388\n",
       "        WHEN ( t2.\"Quantity\" > 5.000000 ) AND ( substr( t2.\"StockCode\", 1, 3 ) IN ( 'M', '223', '227', '211', '852', '217', '845', '207', '846', '225', '160', '228', '170', '510', '232', '233', '234', '216', '226', '235', 'POS', '215', '220', '850', '359', '843', '375', '150', '727', '355', '714', '481', '820', '161', '162', '208', '467', '847', '842', '841', '725', '710', '373', '900', '358', '352', '354', '350', '356', '722', '100', '101', '442', '750', '721', '171', '723', '780', '474', '902', '400', '236', '712', '711', '819', '794', '751', '771', '470', '461', '440', '720', '715' ) ) AND ( substr( t1.\"StockCode\", 1, 3 ) NOT IN ( 'M', 'C2', '222', '211', '221', '210', '845', '846', '209', '219', '218', '206', '225', '160', '228', '170', '229', '233', '475', '235', 'POS', '215', '214', '220', '840', '359', '374', '790', '728', '843', '375', '844', '150', '727', '355', '714', '481', '824', '820', '161', '848', '162', '180', '467', '825', '847', '700', '842', '841', '460', '710', '373', '900', '901', '358', '473', '352', '354', '350', '356', '722', '110', '101', '442', '750', '721', '171', '723', '474', '400', '236', '712', '819', '794', '751', '771', '461', '440' ) ) THEN 3.548650717844529\n",
       "        WHEN ( t2.\"Quantity\" > 5.000000 ) AND ( substr( t2.\"StockCode\", 1, 3 ) NOT IN ( 'M', '223', '227', '211', '852', '217', '845', '207', '846', '225', '160', '228', '170', '510', '232', '233', '234', '216', '226', '235', 'POS', '215', '220', '850', '359', '843', '375', '150', '727', '355', '714', '481', '820', '161', '162', '208', '467', '847', '842', '841', '725', '710', '373', '900', '358', '352', '354', '350', '356', '722', '100', '101', '442', '750', '721', '171', '723', '780', '474', '902', '400', '236', '712', '711', '819', '794', '751', '771', '470', '461', '440', '720', '715' ) ) AND ( substr( t1.\"StockCode\", 1, 3 ) IN ( 'M', 'C2', '231', '223', '227', '222', '851', '211', '210', '217', '845', '207', '219', '206', '230', '160', '228', '170', '232', '233', '234', '212', '216', '475', '235', 'POS', '215', '214', '850', '359', '790', '728', '843', '375', '844', '150', '727', '355', '481', '820', '161', '848', '162', '180', '467', '825', '847', '700', '842', '841', '460', '710', '373', '900', '901', '358', '473', '354', '350', '356', '793', '722', '110', '101', '442', '750', '721', '171', '723', '474', '400', '236', '712', '819', '794', '751', '771', '461', '440' ) ) THEN 5.571790139692287\n",
       "        WHEN ( t2.\"Quantity\" > 5.000000 ) AND ( substr( t2.\"StockCode\", 1, 3 ) NOT IN ( 'M', '223', '227', '211', '852', '217', '845', '207', '846', '225', '160', '228', '170', '510', '232', '233', '234', '216', '226', '235', 'POS', '215', '220', '850', '359', '843', '375', '150', '727', '355', '714', '481', '820', '161', '162', '208', '467', '847', '842', '841', '725', '710', '373', '900', '358', '352', '354', '350', '356', '722', '100', '101', '442', '750', '721', '171', '723', '780', '474', '902', '400', '236', '712', '711', '819', '794', '751', '771', '470', '461', '440', '720', '715' ) ) AND ( substr( t1.\"StockCode\", 1, 3 ) NOT IN ( 'M', 'C2', '231', '223', '227', '222', '851', '211', '210', '217', '845', '207', '219', '206', '230', '160', '228', '170', '232', '233', '234', '212', '216', '475', '235', 'POS', '215', '214', '850', '359', '790', '728', '843', '375', '844', '150', '727', '355', '481', '820', '161', '848', '162', '180', '467', '825', '847', '700', '842', '841', '460', '710', '373', '900', '901', '358', '473', '354', '350', '356', '793', '722', '110', '101', '442', '750', '721', '171', '723', '474', '400', '236', '712', '819', '794', '751', '771', '461', '440' ) ) THEN 9.047061662642962\n",
       "        WHEN ( t2.\"Quantity\" <= 5.000000 OR t2.\"Quantity\" IS NULL ) AND ( t2.\"Country\" IN ( 'Australia' ) ) AND ( substr( t1.\"StockCode\", 1, 3 ) IN ( '231', '223', '221', '849', '224', '217', '207', '219', '229', '212', '216', '475', '226', '843' ) ) THEN -0.2764965964665417\n",
       "        WHEN ( t2.\"Quantity\" <= 5.000000 OR t2.\"Quantity\" IS NULL ) AND ( t2.\"Country\" IN ( 'Australia' ) ) AND ( substr( t1.\"StockCode\", 1, 3 ) NOT IN ( '231', '223', '221', '849', '224', '217', '207', '219', '229', '212', '216', '475', '226', '843' ) ) THEN 63.21650091752007\n",
       "        WHEN ( t2.\"Quantity\" <= 5.000000 OR t2.\"Quantity\" IS NULL ) AND ( t2.\"Country\" NOT IN ( 'Australia' ) ) AND ( t2.\"Country\" IN ( 'Italy' ) ) THEN 32.46900724700613\n",
       "        WHEN ( t2.\"Quantity\" <= 5.000000 OR t2.\"Quantity\" IS NULL ) AND ( t2.\"Country\" NOT IN ( 'Australia' ) ) AND ( t2.\"Country\" NOT IN ( 'Italy' ) ) THEN 2.882473569120685\n",
       "        ELSE NULL\n",
       "    END\n",
       ") AS \"feature_1_5\",\n",
       "     t1.rowid AS \"rownum\"\n",
       "FROM \"population\" t1\n",
       "LEFT JOIN \"peripheral\" t2\n",
       "ON t1.\"Invoice\" = t2.\"Invoice\"\n",
       "GROUP BY t1.rowid;"
      ]
     },
     "execution_count": 29,
     "metadata": {},
     "output_type": "execute_result"
    }
   ],
   "source": [
    "names, _ = tuned_pipe.features.importances()\n",
    "\n",
    "tuned_pipe.features.to_sql()[names[1]]"
   ]
  },
  {
   "cell_type": "markdown",
   "metadata": {},
   "source": [
    " "
   ]
  },
  {
   "cell_type": "markdown",
   "metadata": {},
   "source": [
    "## 3. Conclusion\n",
    "\n",
    "In this notebook we have demonstrated how getML can be applied to an e-commerce setting. In particular, we have seen how results can be improved using the built-in hyperparamater tuning routines."
   ]
  },
  {
   "cell_type": "markdown",
   "metadata": {},
   "source": [
    " "
   ]
  },
  {
   "cell_type": "markdown",
   "metadata": {},
   "source": [
    "# Next Steps\n",
    "\n",
    "This tutorial presented an application of getML in the e-commerce context. \n",
    "\n",
    "If you are interested in further real-world applications of getML, head back to the [notebook overview](welcome.md) and choose one of the remaining examples. \n",
    "\n",
    "Here is some additional material from our [documentation](https://docs.getml.com/latest/) if you want to learn more about getML:\n",
    "* [Feature learning with Multirel](https://docs.getml.com/latest/user_guide/feature_engineering/feature_engineering.html#multirel)\n",
    "* [Feature learning with Relboost](https://docs.getml.com/latest/user_guide/feature_engineering/feature_engineering.html#relboost)"
   ]
  },
  {
   "cell_type": "markdown",
   "metadata": {},
   "source": [
    " "
   ]
  },
  {
   "cell_type": "markdown",
   "metadata": {},
   "source": [
    "# Get in contact\n",
    "\n",
    "If you have any question schedule a [call with Alex](https://go.getml.com/meetings/alexander-uhlig/getml-demo), the co-founder of getML, or write us an [email](team@getml.com). Prefer a private demo of getML? Just contact us to make an appointment."
   ]
  },
  {
   "cell_type": "markdown",
   "metadata": {},
   "source": [
    " "
   ]
  }
 ],
 "metadata": {
  "jupytext": {
   "cell_metadata_filter": "-all",
   "encoding": "# -*- coding: utf-8 -*-",
   "notebook_metadata_filter": "-all"
  },
  "kernelspec": {
   "display_name": "Python 3",
   "language": "python",
   "name": "python3"
  },
  "language_info": {
   "codemirror_mode": {
    "name": "ipython",
    "version": 3
   },
   "file_extension": ".py",
   "mimetype": "text/x-python",
   "name": "python",
   "nbconvert_exporter": "python",
   "pygments_lexer": "ipython3",
   "version": "3.8.5"
  },
  "toc": {
   "base_numbering": 1,
   "nav_menu": {},
   "number_sections": false,
   "sideBar": true,
   "skip_h1_title": false,
   "title_cell": "Table of Contents",
   "title_sidebar": "Contents",
   "toc_cell": false,
   "toc_position": {},
   "toc_section_display": true,
   "toc_window_display": true
  }
 },
 "nbformat": 4,
 "nbformat_minor": 4
}
