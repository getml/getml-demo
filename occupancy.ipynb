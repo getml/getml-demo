{
 "cells": [
  {
   "cell_type": "markdown",
   "metadata": {
    "slideshow": {
     "slide_type": "slide"
    },
    "tags": [
     "hide_input"
    ]
   },
   "source": [
    "# Occupancy detection\n",
    "\n",
    "### A multivariate time series example\n",
    "\n",
    "In this tutorial, you will learn how to apply getML to multivariate time series. It also demonstrates how to use getML's [high-level interface for hyperparameter tuning](https://docs.getml.com/latest/user_guide/hyperopt/hyperopt.html#tuning-routines).\n",
    "\n",
    "Summary:\n",
    "\n",
    "- Prediction type: __Binary classification__\n",
    "- Domain: __Energy__\n",
    "- Prediction target: __Room occupancy__ \n",
    "- Source data: __1 table, 32k rows__\n",
    "- Population size: __32k__\n",
    "\n",
    "_Author: Dr. Johannes King_"
   ]
  },
  {
   "cell_type": "markdown",
   "metadata": {},
   "source": [
    " "
   ]
  },
  {
   "cell_type": "markdown",
   "metadata": {},
   "source": [
    "# Background"
   ]
  },
  {
   "cell_type": "markdown",
   "metadata": {
    "slideshow": {
     "slide_type": "slide"
    }
   },
   "source": [
    "Our use case is a public domain data set for predicting room occupancy from sensor data. The results achieved using getML outperform all published results on this data set. Note that this is not only a neat use case for machine learning algorithms, but a real-world application with tangible consequences: If room occupancy is known with sufficient certainty, it can be applied to the control systems of a building. Such as system can reduce the energy consumption by [up to 50 %](https://ieeexplore.ieee.org/document/7566062).\n",
    "\n",
    "\n",
    "### Introduction to occupancy prediction\n",
    "\n",
    "Usually, getML is considered to be a tool for feature engineering and machine learning on relational data sets. How can we apply it to (multivariate) time series?\n",
    "\n",
    "The key is a _self-join_. Instead of creating features by merging and aggregating peripheral tables in a relational data model, for a time-series, we perform the same operations on the population table itself. This results in features like these:\n",
    "\n",
    "* Aggregations over time, such as the average value of some column for the last 3 days.\n",
    "\n",
    "* Seasonal effects, such as today is a Wednesday, so let's get the average value for the last four Wednesdays.\n",
    "\n",
    "* Lag variables, such as get the value of some column from two hours ago.\n",
    "\n",
    "Using getML's algorithms for relational learning, we can extract all of these features automatically. Having created a flat table of such features, we can then apply state-of-the-art machine learning algorithms, like xgboost. As you will see in this example, this performs better than traditional time series analysis.\n",
    "\n",
    "The present analysis is based on a public domain time series dataset. It is available in the [UC Irvine Machine Learning Repository](http://archive.ics.uci.edu/ml/datasets/Occupancy+Detection+). The challenge is straightforward: We want to predict whether an office room is occupied at a given moment in time using sensor data. The data is measured about once a minute. Ground-truth occupancy was obtained from time-stamped pictures. The available columns are\n",
    "\n",
    "* Date, year-month-day hour:minute:second\n",
    "* Temperature, in Celsius\n",
    "* Relative Humidity, %\n",
    "* Light, in Lux\n",
    "* CO2, in ppm\n",
    "* Humidity Ratio, Derived quantity from temperature and relative humidity, in kgwater-vapor/kg-air\n",
    "* Occupancy, 0 or 1, 0 for not occupied, 1 for occupied status\n",
    "\n",
    "As a reference and benchmark, we use [this paper](https://www.sciencedirect.com/science/article/abs/pii/S0378778815304357):\n",
    "\n",
    "> Accurate occupancy detection of an office room from light, temperature, humidity and CO2 measurements using statistical learning models. Luis M. Candanedo, Veronique Feldheim. Energy and Buildings. Volume 112, 15 January 2016, Pages 28-39.\n",
    "\n",
    "The authors apply various artifical neural networks algorithms to the data set at hand and achieved accuracies between 80.324% (batch back algorithm) and 99.061% (limited memory quasi-Newton algorithm)."
   ]
  },
  {
   "cell_type": "markdown",
   "metadata": {},
   "source": [
    " "
   ]
  },
  {
   "cell_type": "markdown",
   "metadata": {
    "slideshow": {
     "slide_type": "fragment"
    }
   },
   "source": [
    "### A web frontend for getML\n",
    "\n",
    "The getML monitor is a frontend built to support your work with getML. The getML monitor displays information such as the imported data frames, trained pipelines and allows easy data and feature exploration. You can launch the getML monitor [here](http://localhost:1709)."
   ]
  },
  {
   "cell_type": "markdown",
   "metadata": {},
   "source": [
    " "
   ]
  },
  {
   "cell_type": "markdown",
   "metadata": {
    "slideshow": {
     "slide_type": "slide"
    }
   },
   "source": [
    "### Where is this running?\n",
    "\n",
    "Your getML live session is running inside a docker container on [mybinder.org](https://mybinder.org/), a service built by the Jupyter community and funded by Google Cloud, OVH, GESIS Notebooks and the Turing Institute. As it is a free service, this session will shut down after 10 minutes of inactivity."
   ]
  },
  {
   "cell_type": "markdown",
   "metadata": {},
   "source": [
    " "
   ]
  },
  {
   "cell_type": "markdown",
   "metadata": {},
   "source": [
    "# Analysis"
   ]
  },
  {
   "cell_type": "markdown",
   "metadata": {},
   "source": [
    "Let's get started with the analysis and set-up your session:"
   ]
  },
  {
   "cell_type": "code",
   "execution_count": 1,
   "metadata": {},
   "outputs": [
    {
     "name": "stdout",
     "output_type": "stream",
     "text": [
      "getML API version: 0.15.0\n",
      "\n",
      "\n",
      "Loading pipelines...\n",
      "[========================================] 100%\n",
      "\n",
      "Connected to project 'occupancy'\n"
     ]
    }
   ],
   "source": [
    "import os\n",
    "import numpy as np\n",
    "import pandas as pd\n",
    "from urllib import request\n",
    "from IPython.display import Image, Markdown\n",
    "import matplotlib.pyplot as plt\n",
    "plt.style.use('seaborn')\n",
    "%matplotlib inline  \n",
    "\n",
    "import getml\n",
    "\n",
    "print(f\"getML API version: {getml.__version__}\\n\")\n",
    "\n",
    "getml.engine.set_project('occupancy')"
   ]
  },
  {
   "cell_type": "markdown",
   "metadata": {},
   "source": [
    " "
   ]
  },
  {
   "cell_type": "markdown",
   "metadata": {},
   "source": [
    "## 1. Loading data\n"
   ]
  },
  {
   "cell_type": "markdown",
   "metadata": {},
   "source": [
    "The data set can be downloaded directly from GitHub. It is conveniently separated into a training, a validation and a testing set. This allows us to directly benchmark our results against the results of the original paper later."
   ]
  },
  {
   "cell_type": "code",
   "execution_count": 2,
   "metadata": {},
   "outputs": [],
   "source": [
    "directory = '.temp/'\n",
    "\n",
    "fnames = [\n",
    "    'datatraining.txt',\n",
    "    'datatest.txt',\n",
    "    'datatest2.txt'\n",
    "]\n",
    "\n",
    "if not os.path.exists(directory):\n",
    "    os.makedirs(directory)\n",
    "\n",
    "for fname in fnames:\n",
    "    if not os.path.exists(directory + fname):\n",
    "        fname, res = request.urlretrieve(\n",
    "            \"https://raw.githubusercontent.com/LuisM78/Occupancy-detection-data/master/\" + fname, \n",
    "            directory + fname\n",
    "        )\n"
   ]
  },
  {
   "cell_type": "markdown",
   "metadata": {},
   "source": [
    "The data file contain the row number Because the data files are not valid CSV, we first load them into pandas before uploading them to the getML engine."
   ]
  },
  {
   "cell_type": "code",
   "execution_count": 3,
   "metadata": {},
   "outputs": [],
   "source": [
    "datatraining_pandas = pd.read_csv(directory + 'datatraining.txt')\n",
    "datatest_pandas = pd.read_csv(directory + 'datatest.txt')\n",
    "datatest2_pandas = pd.read_csv(directory + 'datatest2.txt')\n",
    "\n",
    "data_train = getml.data.DataFrame.from_pandas(datatraining_pandas, name='data_train')\n",
    "data_validate = getml.data.DataFrame.from_pandas(datatest_pandas, name='data_validate')\n",
    "data_test = getml.data.DataFrame.from_pandas(datatest2_pandas, name='data_test')"
   ]
  },
  {
   "cell_type": "markdown",
   "metadata": {},
   "source": [
    "The training set looks like this:"
   ]
  },
  {
   "cell_type": "code",
   "execution_count": 4,
   "metadata": {
    "tags": [
     "hide_input"
    ]
   },
   "outputs": [
    {
     "data": {
      "text/html": [
       "<table class=\"dataframe\"><thead><tr style=\"border-bottom:1pt solid LightGray;\"><th style=\"text-align: left;border-right:1pt solid LightGray;\">Name</th><th style=\"text-align: right;\">Temperature</th><th style=\"text-align: right;\">Humidity</th><th style=\"text-align: right;\">Light</th><th style=\"text-align: right;\">CO2</th><th style=\"text-align: right;\">HumidityRatio</th><th style=\"text-align: right;\">Occupancy</th><th style=\"text-align: right;\">date</th></tr><tr><th style=\"text-align: left;border-right:1pt solid LightGray;\">Role</th><td style=\"text-align: right;\"><i>unused_float</i></td><td style=\"text-align: right;\"><i>unused_float</i></td><td style=\"text-align: right;\"><i>unused_float</i></td><td style=\"text-align: right;\"><i>unused_float</i></td><td style=\"text-align: right;\"><i>unused_float</i></td><td style=\"text-align: right;\"><i>unused_float</i></td><td style=\"text-align: right;\"><i>unused_string</i></td></tr></thead><tbody><tr style=\"border-top:1pt solid LightGray;\"><td style=\"border-right:1pt solid LightGray;\"><b>0</b></td><td>23.18</td><td>27.272</td><td>426</td><td>721.25</td><td>0.00479299</td><td>1</td><td>2015-02-04 17:51:00</td></tr><tr><td style=\"border-right:1pt solid LightGray;\"><b>1</b></td><td>23.15</td><td>27.2675</td><td>429.5</td><td>714</td><td>0.00478344</td><td>1</td><td>2015-02-04 17:51:59</td></tr><tr><td style=\"border-right:1pt solid LightGray;\"><b>2</b></td><td>23.15</td><td>27.245</td><td>426</td><td>713.5</td><td>0.00477946</td><td>1</td><td>2015-02-04 17:53:00</td></tr><tr><td style=\"border-right:1pt solid LightGray;\"><b>3</b></td><td>23.15</td><td>27.2</td><td>426</td><td>708.25</td><td>0.00477151</td><td>1</td><td>2015-02-04 17:54:00</td></tr><tr><td style=\"border-right:1pt solid LightGray;\"><b>4</b></td><td>23.1</td><td>27.2</td><td>426</td><td>704.5</td><td>0.00475699</td><td>1</td><td>2015-02-04 17:55:00</td></tr><tr><td style=\"border-right:1pt solid LightGray;\"><b> </b></td><td>...</td><td>...</td><td>...</td><td>...</td><td>...</td><td>...</td><td>...</td></tr><tr><td style=\"border-right:1pt solid LightGray;\"><b>8138</b></td><td>21.05</td><td>36.0975</td><td>433</td><td>787.25</td><td>0.00557871</td><td>1</td><td>2015-02-10 09:29:00</td></tr><tr><td style=\"border-right:1pt solid LightGray;\"><b>8139</b></td><td>21.05</td><td>35.995</td><td>433</td><td>789.5</td><td>0.00556273</td><td>1</td><td>2015-02-10 09:29:59</td></tr><tr><td style=\"border-right:1pt solid LightGray;\"><b>8140</b></td><td>21.1</td><td>36.095</td><td>433</td><td>798.5</td><td>0.00559564</td><td>1</td><td>2015-02-10 09:30:59</td></tr><tr><td style=\"border-right:1pt solid LightGray;\"><b>8141</b></td><td>21.1</td><td>36.26</td><td>433</td><td>820.333</td><td>0.00562145</td><td>1</td><td>2015-02-10 09:32:00</td></tr><tr><td style=\"border-right:1pt solid LightGray;\"><b>8142</b></td><td>21.1</td><td>36.2</td><td>447</td><td>821</td><td>0.00561206</td><td>1</td><td>2015-02-10 09:33:00</td></tr></tbody></table><br>8143 rows x 7 columns<br>memory usage: 0.62 MB<br>name: data_train<br>type: getml.data.DataFrame<br>url: <a href=\"http://localhost:1709/#/getdataframe/occupancy/data_train/\" target=\"_blank\">http://localhost:1709/#/getdataframe/occupancy/data_train/</a>"
      ],
      "text/plain": [
       "Name    Temperature       Humidity          Light            CO2   HumidityRatio      Occupancy   \n",
       "Role   unused_float   unused_float   unused_float   unused_float    unused_float   unused_float   \n",
       "0      23.18          27.272         426            721.25         0.00479299      1              \n",
       "1      23.15          27.2675        429.5          714            0.00478344      1              \n",
       "2      23.15          27.245         426            713.5          0.00477946      1              \n",
       "3      23.15          27.2           426            708.25         0.00477151      1              \n",
       "4      23.1           27.2           426            704.5          0.00475699      1              \n",
       "       ...            ...            ...            ...            ...             ...            \n",
       "8138   21.05          36.0975        433            787.25         0.00557871      1              \n",
       "8139   21.05          35.995         433            789.5          0.00556273      1              \n",
       "8140   21.1           36.095         433            798.5          0.00559564      1              \n",
       "8141   21.1           36.26          433            820.333        0.00562145      1              \n",
       "8142   21.1           36.2           447            821            0.00561206      1              \n",
       "\n",
       "\n",
       "\n",
       "Name                  date   \n",
       "Role         unused_string   \n",
       "0      2015-02-04 17:51:00   \n",
       "1      2015-02-04 17:51:59   \n",
       "2      2015-02-04 17:53:00   \n",
       "3      2015-02-04 17:54:00   \n",
       "4      2015-02-04 17:55:00   \n",
       "       ...                   \n",
       "8138   2015-02-10 09:29:00   \n",
       "8139   2015-02-10 09:29:59   \n",
       "8140   2015-02-10 09:30:59   \n",
       "8141   2015-02-10 09:32:00   \n",
       "8142   2015-02-10 09:33:00   \n",
       "\n",
       "8143 rows x 7 columns\n",
       "memory usage: 0.62 MB\n",
       "name: data_train\n",
       "type: getml.data.DataFrame\n",
       "url: http://localhost:1709/#/getdataframe/occupancy/data_train/"
      ]
     },
     "execution_count": 4,
     "metadata": {},
     "output_type": "execute_result"
    }
   ],
   "source": [
    "data_train"
   ]
  },
  {
   "cell_type": "markdown",
   "metadata": {},
   "source": [
    "We also assign roles to each column. To learn more about what roles do and why we need them, check out the [official documentation](https://docs.getml.com/latest/user_guide/annotating_data/annotating_data.html)."
   ]
  },
  {
   "cell_type": "code",
   "execution_count": 5,
   "metadata": {},
   "outputs": [
    {
     "data": {
      "text/html": [
       "<table class=\"dataframe\"><thead><tr style=\"border-bottom:1pt solid LightGray;\"><th style=\"text-align: left;border-right:1pt solid LightGray;\">Name</th><th style=\"text-align: right;\">date</th><th style=\"text-align: right;\">Occupancy</th><th style=\"text-align: right;\">Temperature</th><th style=\"text-align: right;\">Humidity</th><th style=\"text-align: right;\">Light</th><th style=\"text-align: right;\">CO2</th><th style=\"text-align: right;\">HumidityRatio</th></tr><tr><th style=\"text-align: left;border-right:1pt solid LightGray;\">Role</th><td style=\"text-align: right;\"><i>time_stamp</i></td><td style=\"text-align: right;\"><i>target</i></td><td style=\"text-align: right;\"><i>numerical</i></td><td style=\"text-align: right;\"><i>numerical</i></td><td style=\"text-align: right;\"><i>numerical</i></td><td style=\"text-align: right;\"><i>numerical</i></td><td style=\"text-align: right;\"><i>numerical</i></td></tr><tr><th style=\"text-align: left;border-right:1pt solid LightGray;\">Unit</th><td style=\"text-align: right;\"><i>time stamp, comparison only</i></td><td style=\"text-align: right;\"><i></i></td><td style=\"text-align: right;\"><i></i></td><td style=\"text-align: right;\"><i></i></td><td style=\"text-align: right;\"><i></i></td><td style=\"text-align: right;\"><i></i></td><td style=\"text-align: right;\"><i></i></td></tr></thead><tbody><tr style=\"border-top:1pt solid LightGray;\"><td style=\"border-right:1pt solid LightGray;\"><b>0</b></td><td>2015-02-04T17:51:00.000000Z</td><td>1</td><td>23.18</td><td>27.272</td><td>426</td><td>721.25</td><td>0.00479299</td></tr><tr><td style=\"border-right:1pt solid LightGray;\"><b>1</b></td><td>2015-02-04T17:51:59.000000Z</td><td>1</td><td>23.15</td><td>27.2675</td><td>429.5</td><td>714</td><td>0.00478344</td></tr><tr><td style=\"border-right:1pt solid LightGray;\"><b>2</b></td><td>2015-02-04T17:53:00.000000Z</td><td>1</td><td>23.15</td><td>27.245</td><td>426</td><td>713.5</td><td>0.00477946</td></tr><tr><td style=\"border-right:1pt solid LightGray;\"><b>3</b></td><td>2015-02-04T17:54:00.000000Z</td><td>1</td><td>23.15</td><td>27.2</td><td>426</td><td>708.25</td><td>0.00477151</td></tr><tr><td style=\"border-right:1pt solid LightGray;\"><b>4</b></td><td>2015-02-04T17:55:00.000000Z</td><td>1</td><td>23.1</td><td>27.2</td><td>426</td><td>704.5</td><td>0.00475699</td></tr><tr><td style=\"border-right:1pt solid LightGray;\"><b> </b></td><td>...</td><td>...</td><td>...</td><td>...</td><td>...</td><td>...</td><td>...</td></tr><tr><td style=\"border-right:1pt solid LightGray;\"><b>8138</b></td><td>2015-02-10T09:29:00.000000Z</td><td>1</td><td>21.05</td><td>36.0975</td><td>433</td><td>787.25</td><td>0.00557871</td></tr><tr><td style=\"border-right:1pt solid LightGray;\"><b>8139</b></td><td>2015-02-10T09:29:59.000000Z</td><td>1</td><td>21.05</td><td>35.995</td><td>433</td><td>789.5</td><td>0.00556273</td></tr><tr><td style=\"border-right:1pt solid LightGray;\"><b>8140</b></td><td>2015-02-10T09:30:59.000000Z</td><td>1</td><td>21.1</td><td>36.095</td><td>433</td><td>798.5</td><td>0.00559564</td></tr><tr><td style=\"border-right:1pt solid LightGray;\"><b>8141</b></td><td>2015-02-10T09:32:00.000000Z</td><td>1</td><td>21.1</td><td>36.26</td><td>433</td><td>820.333</td><td>0.00562145</td></tr><tr><td style=\"border-right:1pt solid LightGray;\"><b>8142</b></td><td>2015-02-10T09:33:00.000000Z</td><td>1</td><td>21.1</td><td>36.2</td><td>447</td><td>821</td><td>0.00561206</td></tr></tbody></table><br>8143 rows x 7 columns<br>memory usage: 0.46 MB<br>name: data_train<br>type: getml.data.DataFrame<br>url: <a href=\"http://localhost:1709/#/getdataframe/occupancy/data_train/\" target=\"_blank\">http://localhost:1709/#/getdataframe/occupancy/data_train/</a>"
      ],
      "text/plain": [
       "Name                          date   Occupancy   Temperature    Humidity       Light         CO2   HumidityRatio   \n",
       "Role                    time_stamp      target     numerical   numerical   numerical   numerical       numerical   \n",
       "Unit   time stamp, comparison only                                                                                 \n",
       "0      2015-02-04T17:51:00.000000Z   1           23.18         27.272      426         721.25      0.00479299      \n",
       "1      2015-02-04T17:51:59.000000Z   1           23.15         27.2675     429.5       714         0.00478344      \n",
       "2      2015-02-04T17:53:00.000000Z   1           23.15         27.245      426         713.5       0.00477946      \n",
       "3      2015-02-04T17:54:00.000000Z   1           23.15         27.2        426         708.25      0.00477151      \n",
       "4      2015-02-04T17:55:00.000000Z   1           23.1          27.2        426         704.5       0.00475699      \n",
       "       ...                           ...         ...           ...         ...         ...         ...             \n",
       "8138   2015-02-10T09:29:00.000000Z   1           21.05         36.0975     433         787.25      0.00557871      \n",
       "8139   2015-02-10T09:29:59.000000Z   1           21.05         35.995      433         789.5       0.00556273      \n",
       "8140   2015-02-10T09:30:59.000000Z   1           21.1          36.095      433         798.5       0.00559564      \n",
       "8141   2015-02-10T09:32:00.000000Z   1           21.1          36.26       433         820.333     0.00562145      \n",
       "8142   2015-02-10T09:33:00.000000Z   1           21.1          36.2        447         821         0.00561206      \n",
       "\n",
       "8143 rows x 7 columns\n",
       "memory usage: 0.46 MB\n",
       "name: data_train\n",
       "type: getml.data.DataFrame\n",
       "url: http://localhost:1709/#/getdataframe/occupancy/data_train/"
      ]
     },
     "execution_count": 5,
     "metadata": {},
     "output_type": "execute_result"
    }
   ],
   "source": [
    "for df in [data_train, data_validate, data_test]:\n",
    "    df.set_role(['Occupancy'], getml.data.roles.target)\n",
    "    df.set_role(['Temperature', 'Humidity', 'Light', 'CO2', 'HumidityRatio'], getml.data.roles.numerical)\n",
    "    df.set_role(['date'], getml.data.roles.time_stamp)\n",
    "    \n",
    "data_train"
   ]
  },
  {
   "cell_type": "markdown",
   "metadata": {},
   "source": [
    " "
   ]
  },
  {
   "cell_type": "markdown",
   "metadata": {},
   "source": [
    "## 2. Predictive modeling\n",
    "\n",
    "We loaded the data, defined the roles, units and the abstract data model. Next, we create a getML pipeline for relational learning."
   ]
  },
  {
   "cell_type": "markdown",
   "metadata": {},
   "source": [
    "### 2.1 getML Pipeline\n",
    "\n",
    "We use a [MultirelModel](https://docs.getml.com/latest/api/getml.models.MultirelModel.html) for generating the features and a simple logistic regression for prediction.\n",
    "\n",
    "We do not spend much effort on the hyperparameters and largely go with the default values. The only exception is that we add some regularization to the XGBoostClassifiers.\n",
    "\n",
    "We choose to consider data within the last 15 minutes for creating our features."
   ]
  },
  {
   "cell_type": "code",
   "execution_count": 6,
   "metadata": {},
   "outputs": [
    {
     "data": {
      "text/html": [
       "<pre>Pipeline(preprocessors=[], feature_learners=['MultirelTimeSeries'], <br>         feature_selectors=[], include_categorical=False, peripheral=[], <br>         population='POPULATION', predictors=['LogisticRegression'], <br>         tags=['memory=15', 'logistic regression'], <br>         share_selected_features=0.5)</pre>"
      ],
      "text/plain": [
       "Pipeline(preprocessors=[], feature_learners=['MultirelTimeSeries'], \n",
       "         feature_selectors=[], include_categorical=False, peripheral=[], \n",
       "         population='POPULATION', predictors=['LogisticRegression'], \n",
       "         tags=['memory=15', 'logistic regression'], \n",
       "         share_selected_features=0.5)"
      ]
     },
     "execution_count": 6,
     "metadata": {},
     "output_type": "execute_result"
    }
   ],
   "source": [
    "# Our forecast horizon is 0.\n",
    "# We do not predict the future, instead we infer \n",
    "# the present state from current and past sensor data.\n",
    "horizon = 0.0\n",
    "\n",
    "# We do not allow the time series features\n",
    "# to use target values from the past.\n",
    "# (Otherwise, we would need the horizon to\n",
    "# be greater than 0.0).\n",
    "allow_lagged_targets = False\n",
    "\n",
    "# We want our time series features to only use\n",
    "# data from the last 15 minutes\n",
    "memory = getml.data.time.minutes(15)\n",
    "\n",
    "feature_learner = getml.feature_learning.MultirelTimeSeries(\n",
    "    ts_name=\"date\",\n",
    "    horizon=horizon,\n",
    "    memory=memory,\n",
    "    allow_lagged_targets=allow_lagged_targets,\n",
    "    loss_function=getml.feature_learning.loss_functions.CrossEntropyLoss,\n",
    ")\n",
    "\n",
    "predictor = getml.predictors.LogisticRegression()\n",
    "\n",
    "pipe = getml.pipeline.Pipeline(\n",
    "    tags=[\"memory=15\", \"logistic regression\"],\n",
    "    feature_learners=[feature_learner],\n",
    "    predictors=[predictor]\n",
    ")\n",
    "\n",
    "pipe"
   ]
  },
  {
   "cell_type": "markdown",
   "metadata": {},
   "source": [
    "`.check(...)` will be automatically called by `.fit(...)`. But it is always a good idea to call `.check(...)` separately before fitting, so we still have time for some last-minute fixes."
   ]
  },
  {
   "cell_type": "code",
   "execution_count": 7,
   "metadata": {},
   "outputs": [
    {
     "name": "stdout",
     "output_type": "stream",
     "text": [
      "Checking data model...\n",
      "OK.\n"
     ]
    }
   ],
   "source": [
    "pipe.check(data_train)"
   ]
  },
  {
   "cell_type": "markdown",
   "metadata": {},
   "source": [
    " \n"
   ]
  },
  {
   "cell_type": "markdown",
   "metadata": {},
   "source": [
    "### 2.2 Model training\n",
    "\n",
    "We use a routine for automatic [hyperparameter optimization](https://docs.getml.com/latest/api_documentation/python/hyperopt.html) to find the best parameters for the predictor:"
   ]
  },
  {
   "cell_type": "code",
   "execution_count": 8,
   "metadata": {},
   "outputs": [
    {
     "name": "stdout",
     "output_type": "stream",
     "text": [
      "Checking data model...\n",
      "OK.\n",
      "\n",
      "Tuning logistic regression...\n",
      "[========================================] 100%\n",
      "\n",
      "Time taken: 0h:2m:5.325413\n",
      "\n",
      "Building final pipeline...\n",
      "\n",
      "Checking data model...\n",
      "OK.\n",
      "\n",
      "Retrieving features (because a similar feature learner has already been fitted)...\n",
      "[========================================] 100%\n",
      "\n",
      "Multirel: Building features...\n",
      "[========================================] 100%\n",
      "\n",
      "Trained pipeline.\n",
      "Time taken: 0h:0m:16.214588\n",
      "\n",
      "\n",
      "Multirel: Building features...\n",
      "[========================================] 100%\n",
      "\n"
     ]
    }
   ],
   "source": [
    "pipe = getml.hyperopt.tune_predictors(\n",
    "    pipe,\n",
    "    data_train,\n",
    "    data_validate\n",
    ")"
   ]
  },
  {
   "cell_type": "markdown",
   "metadata": {},
   "source": [
    "The logistic regression has one hyperparameter that can be optimized, namely its L2 regularization parameter. We fine-tune this parameter using the validation set. Note that the validation set is different from the testing set on which the final outcome will be evaluated."
   ]
  },
  {
   "cell_type": "markdown",
   "metadata": {},
   "source": [
    " "
   ]
  },
  {
   "cell_type": "markdown",
   "metadata": {},
   "source": [
    "### 2.3 Model evaluation"
   ]
  },
  {
   "cell_type": "markdown",
   "metadata": {},
   "source": [
    "Let's see how well we did by scoring the model on the testing set."
   ]
  },
  {
   "cell_type": "code",
   "execution_count": 9,
   "metadata": {},
   "outputs": [
    {
     "name": "stdout",
     "output_type": "stream",
     "text": [
      "\n",
      "Multirel: Building features...\n",
      "[========================================] 100%\n",
      "\n"
     ]
    },
    {
     "data": {
      "text/html": [
       "<table class=\"dataframe\"><thead><tr style=\"border-bottom:1pt solid LightGray;\"><th style=\"text-align: left;border-right:1pt solid LightGray;\"> </th><th style=\"text-align: right;\">date time          </th><th style=\"text-align: right;\">set used     </th><th style=\"text-align: right;\">target   </th><th style=\"text-align: right;\">accuracy</th><th style=\"text-align: right;\">     auc</th><th style=\"text-align: right;\">cross entropy</th></tr></thead><tbody><tr style=\"border-top:1pt solid LightGray;\"><td style=\"border-right:1pt solid LightGray;\"><b>0</b></td><td>2021-02-15 19:40:18</td><td>data_train   </td><td>Occupancy</td><td> 0.99104</td><td> 0.99742</td><td>      0.16931</td></tr><tr><td style=\"border-right:1pt solid LightGray;\"><b>1</b></td><td>2021-02-15 19:40:20</td><td>data_validate</td><td>Occupancy</td><td> 0.97861</td><td> 0.98023</td><td>      0.21360</td></tr><tr><td style=\"border-right:1pt solid LightGray;\"><b>2</b></td><td>2021-02-15 19:40:43</td><td>data_test    </td><td>Occupancy</td><td> 0.99313</td><td> 0.99787</td><td>      0.16128</td></tr></tbody></table>"
      ],
      "text/plain": [
       "    date time             set used        target      accuracy        auc   cross entropy\n",
       "0   2021-02-15 19:40:18   data_train      Occupancy    0.99104    0.99742         0.16931\n",
       "1   2021-02-15 19:40:20   data_validate   Occupancy    0.97861    0.98023         0.21360\n",
       "2   2021-02-15 19:40:43   data_test       Occupancy    0.99313    0.99787         0.16128"
      ]
     },
     "execution_count": 9,
     "metadata": {},
     "output_type": "execute_result"
    }
   ],
   "source": [
    "pipe.score(data_test)"
   ]
  },
  {
   "cell_type": "markdown",
   "metadata": {},
   "source": [
    "In the [original paper](http://www.worldresearchlibrary.org/up_proc/pdf/568-148612088816-20.pdf), the authors tried several approaches. The best out-of-sample values of all the approaches they tried are the following:\n",
    "\n",
    "* Accuracy (testing): 0.99061\n",
    "* AUC (testing): 0.99574\n",
    "\n",
    "Note that our results outperform the best approach from the original paper, both in terms of accuracy as well as AUC. \n",
    "This demonstrates how powerful getML's relational learning approach is also a powerful tool for time series."
   ]
  },
  {
   "cell_type": "code",
   "execution_count": 10,
   "metadata": {},
   "outputs": [
    {
     "data": {
      "image/png": "[encoded data removed]",
      "text/plain": [
       "<Figure size 1440x720 with 1 Axes>"
      ]
     },
     "metadata": {
      "needs_background": "light"
     },
     "output_type": "display_data"
    }
   ],
   "source": [
    "# Refers to the data from the last time\n",
    "# we called .score(...).\n",
    "fpr, tpr = pipe.metrics.roc_curve()\n",
    "\n",
    "plt.subplots(figsize=(20, 10))\n",
    "\n",
    "plt.plot(fpr, tpr, color='#6829c2')\n",
    "\n",
    "plt.title(\"receiver operating characteristic (ROC)\")\n",
    "plt.grid(True)\n",
    "plt.xlabel(\"false positive rate\")\n",
    "plt.ylabel(\"true positive rate\")\n",
    "\n",
    "plt.show()"
   ]
  },
  {
   "cell_type": "code",
   "execution_count": 11,
   "metadata": {},
   "outputs": [
    {
     "data": {
      "image/png": "[encoded data removed]",
      "text/plain": [
       "<Figure size 1440x720 with 1 Axes>"
      ]
     },
     "metadata": {
      "needs_background": "light"
     },
     "output_type": "display_data"
    }
   ],
   "source": [
    "# Refers to the data from the last time\n",
    "# we called .score(...).\n",
    "recall, precision = pipe.metrics.precision_recall_curve()\n",
    "\n",
    "plt.subplots(figsize=(20, 10))\n",
    "\n",
    "plt.plot(recall, precision, color='#6829c2')\n",
    "\n",
    "plt.title(\"precision-recall curve\")\n",
    "plt.grid(True)\n",
    "plt.xlabel(\"recall (true positive rate)\")\n",
    "plt.ylabel(\"precision\")\n",
    "\n",
    "plt.show()"
   ]
  },
  {
   "cell_type": "code",
   "execution_count": 12,
   "metadata": {},
   "outputs": [
    {
     "data": {
      "image/png": "[encoded data removed]",
      "text/plain": [
       "<Figure size 1440x720 with 1 Axes>"
      ]
     },
     "metadata": {
      "needs_background": "light"
     },
     "output_type": "display_data"
    }
   ],
   "source": [
    "# Refers to the data from the last time\n",
    "# we called .score(...).\n",
    "proportion, lift = pipe.metrics.lift_curve()\n",
    "\n",
    "plt.subplots(figsize=(20, 10))\n",
    "\n",
    "plt.plot(proportion, lift, color='#6829c2')\n",
    "\n",
    "plt.title(\"lift curve\")\n",
    "plt.grid(True)\n",
    "plt.xlabel(\"proportion\")\n",
    "plt.ylabel(\"lift\")\n",
    "\n",
    "plt.show()"
   ]
  },
  {
   "cell_type": "markdown",
   "metadata": {},
   "source": [
    " "
   ]
  },
  {
   "cell_type": "markdown",
   "metadata": {},
   "source": [
    "### 2.4 Studying the features\n",
    "\n",
    "It is always a good idea to study the features the relational learning algorithm has extracted. We can do so in the [feature view](https://docs.getml.com/latest/user_guide/getml_suite/monitor/models.html#feature-view) of the getML monitor. Open the monitor and select the models tab in the sidebar. You will see an overview over the trained pipelines. Select a pipeline to see the most essential summary plots. \n",
    "\n",
    "If you want to document them inside your notebook, here is how you can do that:"
   ]
  },
  {
   "cell_type": "code",
   "execution_count": 13,
   "metadata": {},
   "outputs": [
    {
     "data": {
      "text/html": [
       "<div>\n",
       "<style scoped>\n",
       "    .dataframe tbody tr th:only-of-type {\n",
       "        vertical-align: middle;\n",
       "    }\n",
       "\n",
       "    .dataframe tbody tr th {\n",
       "        vertical-align: top;\n",
       "    }\n",
       "\n",
       "    .dataframe thead th {\n",
       "        text-align: right;\n",
       "    }\n",
       "</style>\n",
       "<table border=\"1\" class=\"dataframe\">\n",
       "  <thead>\n",
       "    <tr style=\"text-align: right;\">\n",
       "      <th></th>\n",
       "      <th>names</th>\n",
       "      <th>correlations</th>\n",
       "      <th>importances</th>\n",
       "      <th>target</th>\n",
       "      <th>sql</th>\n",
       "    </tr>\n",
       "  </thead>\n",
       "  <tbody>\n",
       "    <tr>\n",
       "      <th>0</th>\n",
       "      <td>feature_1_1</td>\n",
       "      <td>0.927908</td>\n",
       "      <td>0.010047</td>\n",
       "      <td>Occupancy</td>\n",
       "      <td>DROP TABLE IF EXISTS \"FEATURE_1_1\";\\n\\nCREATE ...</td>\n",
       "    </tr>\n",
       "    <tr>\n",
       "      <th>1</th>\n",
       "      <td>feature_1_2</td>\n",
       "      <td>0.886662</td>\n",
       "      <td>0.009370</td>\n",
       "      <td>Occupancy</td>\n",
       "      <td>DROP TABLE IF EXISTS \"FEATURE_1_2\";\\n\\nCREATE ...</td>\n",
       "    </tr>\n",
       "    <tr>\n",
       "      <th>2</th>\n",
       "      <td>feature_1_3</td>\n",
       "      <td>0.903048</td>\n",
       "      <td>0.009635</td>\n",
       "      <td>Occupancy</td>\n",
       "      <td>DROP TABLE IF EXISTS \"FEATURE_1_3\";\\n\\nCREATE ...</td>\n",
       "    </tr>\n",
       "    <tr>\n",
       "      <th>3</th>\n",
       "      <td>feature_1_4</td>\n",
       "      <td>0.978384</td>\n",
       "      <td>0.009146</td>\n",
       "      <td>Occupancy</td>\n",
       "      <td>DROP TABLE IF EXISTS \"FEATURE_1_4\";\\n\\nCREATE ...</td>\n",
       "    </tr>\n",
       "    <tr>\n",
       "      <th>4</th>\n",
       "      <td>feature_1_5</td>\n",
       "      <td>0.888704</td>\n",
       "      <td>0.010031</td>\n",
       "      <td>Occupancy</td>\n",
       "      <td>DROP TABLE IF EXISTS \"FEATURE_1_5\";\\n\\nCREATE ...</td>\n",
       "    </tr>\n",
       "    <tr>\n",
       "      <th>...</th>\n",
       "      <td>...</td>\n",
       "      <td>...</td>\n",
       "      <td>...</td>\n",
       "      <td>...</td>\n",
       "      <td>...</td>\n",
       "    </tr>\n",
       "    <tr>\n",
       "      <th>100</th>\n",
       "      <td>Temperature</td>\n",
       "      <td>0.521767</td>\n",
       "      <td>0.004164</td>\n",
       "      <td>Occupancy</td>\n",
       "      <td></td>\n",
       "    </tr>\n",
       "    <tr>\n",
       "      <th>101</th>\n",
       "      <td>Humidity</td>\n",
       "      <td>-0.087768</td>\n",
       "      <td>0.001877</td>\n",
       "      <td>Occupancy</td>\n",
       "      <td></td>\n",
       "    </tr>\n",
       "    <tr>\n",
       "      <th>102</th>\n",
       "      <td>Light</td>\n",
       "      <td>0.914525</td>\n",
       "      <td>0.007905</td>\n",
       "      <td>Occupancy</td>\n",
       "      <td></td>\n",
       "    </tr>\n",
       "    <tr>\n",
       "      <th>103</th>\n",
       "      <td>CO2</td>\n",
       "      <td>0.261908</td>\n",
       "      <td>0.007859</td>\n",
       "      <td>Occupancy</td>\n",
       "      <td></td>\n",
       "    </tr>\n",
       "    <tr>\n",
       "      <th>104</th>\n",
       "      <td>HumidityRatio</td>\n",
       "      <td>0.190161</td>\n",
       "      <td>0.003218</td>\n",
       "      <td>Occupancy</td>\n",
       "      <td></td>\n",
       "    </tr>\n",
       "  </tbody>\n",
       "</table>\n",
       "<p>105 rows × 5 columns</p>\n",
       "</div>"
      ],
      "text/plain": [
       "             names  correlations  importances     target  \\\n",
       "0      feature_1_1      0.927908     0.010047  Occupancy   \n",
       "1      feature_1_2      0.886662     0.009370  Occupancy   \n",
       "2      feature_1_3      0.903048     0.009635  Occupancy   \n",
       "3      feature_1_4      0.978384     0.009146  Occupancy   \n",
       "4      feature_1_5      0.888704     0.010031  Occupancy   \n",
       "..             ...           ...          ...        ...   \n",
       "100    Temperature      0.521767     0.004164  Occupancy   \n",
       "101       Humidity     -0.087768     0.001877  Occupancy   \n",
       "102          Light      0.914525     0.007905  Occupancy   \n",
       "103            CO2      0.261908     0.007859  Occupancy   \n",
       "104  HumidityRatio      0.190161     0.003218  Occupancy   \n",
       "\n",
       "                                                   sql  \n",
       "0    DROP TABLE IF EXISTS \"FEATURE_1_1\";\\n\\nCREATE ...  \n",
       "1    DROP TABLE IF EXISTS \"FEATURE_1_2\";\\n\\nCREATE ...  \n",
       "2    DROP TABLE IF EXISTS \"FEATURE_1_3\";\\n\\nCREATE ...  \n",
       "3    DROP TABLE IF EXISTS \"FEATURE_1_4\";\\n\\nCREATE ...  \n",
       "4    DROP TABLE IF EXISTS \"FEATURE_1_5\";\\n\\nCREATE ...  \n",
       "..                                                 ...  \n",
       "100                                                     \n",
       "101                                                     \n",
       "102                                                     \n",
       "103                                                     \n",
       "104                                                     \n",
       "\n",
       "[105 rows x 5 columns]"
      ]
     },
     "execution_count": 13,
     "metadata": {},
     "output_type": "execute_result"
    }
   ],
   "source": [
    "pipe.features.to_pandas()"
   ]
  },
  {
   "cell_type": "code",
   "execution_count": 14,
   "metadata": {},
   "outputs": [
    {
     "data": {
      "image/png": "[encoded data removed]",
      "text/plain": [
       "<Figure size 1440x720 with 1 Axes>"
      ]
     },
     "metadata": {
      "needs_background": "light"
     },
     "output_type": "display_data"
    }
   ],
   "source": [
    "names, correlations = pipe.features.correlations()\n",
    "\n",
    "plt.subplots(figsize=(20, 10))\n",
    "\n",
    "plt.bar(names, correlations, color='#6829c2')\n",
    "\n",
    "plt.title(\"feature correlations\")\n",
    "plt.grid(True)\n",
    "plt.xlabel(\"features\")\n",
    "plt.ylabel(\"correlations\")\n",
    "plt.xticks(rotation='vertical')\n",
    "\n",
    "plt.show()"
   ]
  },
  {
   "cell_type": "code",
   "execution_count": 15,
   "metadata": {
    "tags": [
     "hide_input"
    ]
   },
   "outputs": [
    {
     "data": {
      "image/png": "[encoded data removed]",
      "text/plain": [
       "<Figure size 1440x720 with 1 Axes>"
      ]
     },
     "metadata": {
      "needs_background": "light"
     },
     "output_type": "display_data"
    }
   ],
   "source": [
    "names, importances = pipe.features.importances()\n",
    "\n",
    "plt.subplots(figsize=(20, 10))\n",
    "\n",
    "plt.bar(names, importances, color='#6829c2')\n",
    "\n",
    "plt.title(\"feature importances\")\n",
    "plt.grid(True)\n",
    "plt.xlabel(\"features\")\n",
    "plt.ylabel(\"importance\")\n",
    "plt.xticks(rotation='vertical')\n",
    "\n",
    "plt.show()"
   ]
  },
  {
   "cell_type": "markdown",
   "metadata": {},
   "source": [
    "The feature importance is calculated by XGBoost based on the improvement of the optimizing criterium at each split in the decision tree and is normalized to 100%. \n",
    "\n",
    "We first look at the most important feature. The names returned by feature importances are already sorted, so we can just index them, like this:"
   ]
  },
  {
   "cell_type": "code",
   "execution_count": 16,
   "metadata": {},
   "outputs": [
    {
     "data": {
      "text/markdown": [
       "```sql\n",
       "DROP TABLE IF EXISTS \"FEATURE_1_78\";\n",
       "\n",
       "CREATE TABLE \"FEATURE_1_78\" AS\n",
       "SELECT MIN( t2.\"Light\" ) AS \"feature_1_78\",\n",
       "       t1.rowid AS \"rownum\"\n",
       "FROM \"POPULATION\" t1\n",
       "LEFT JOIN \"POPULATION\" t2\n",
       "ON 1 = 1\n",
       "WHERE ( julianday( t2.\"date\" ) <= julianday( t1.\"date\" )\n",
       "AND ( julianday( t2.\"date\", '+15.000000 minutes' ) > julianday( t1.\"date\" ) OR julianday( t2.\"date\", '+15.000000 minutes' ) IS NULL )\n",
       ") AND (\n",
       "   ( ( t2.\"CO2\" > 471.862805 ) AND ( julianday( t1.\"date\" ) > julianday( t2.\"date\", '+54.484848 seconds' ) ) AND ( t1.\"Humidity\" > 26.115208 OR t1.\"Humidity\" IS NULL  ) AND ( t1.\"Light\" > 604.647619 ) )\n",
       "OR ( ( t2.\"CO2\" > 471.862805 ) AND ( julianday( t1.\"date\" ) > julianday( t2.\"date\", '+54.484848 seconds' ) ) AND ( t1.\"Humidity\" <= 26.115208 ) AND ( t2.\"CO2\" <= 994.931818 ) )\n",
       "OR ( ( t2.\"CO2\" > 471.862805 ) AND ( julianday( t1.\"date\" ) <= julianday( t2.\"date\", '+54.484848 seconds' ) ) AND ( t1.\"Temperature\" > 22.648800 OR t1.\"Temperature\" IS NULL  ) AND ( t2.\"HumidityRatio\" > 0.004593 ) )\n",
       "OR ( ( t2.\"CO2\" > 471.862805 ) AND ( julianday( t1.\"date\" ) <= julianday( t2.\"date\", '+54.484848 seconds' ) ) AND ( t1.\"Temperature\" <= 22.648800 ) AND ( t2.\"Light\" > 26.453333 ) )\n",
       "OR ( ( t2.\"CO2\" <= 471.862805 OR t2.\"CO2\" IS NULL  ) AND ( t2.\"HumidityRatio\" > 0.004893 ) AND ( julianday( t1.\"date\" ) <= julianday( t2.\"date\", '+4.666667 minutes' ) ) )\n",
       ")\n",
       "GROUP BY t1.rowid;\n",
       "```"
      ],
      "text/plain": [
       "DROP TABLE IF EXISTS \"FEATURE_1_78\";\n",
       "\n",
       "CREATE TABLE \"FEATURE_1_78\" AS\n",
       "SELECT MIN( t2.\"Light\" ) AS \"feature_1_78\",\n",
       "       t1.rowid AS \"rownum\"\n",
       "FROM \"POPULATION\" t1\n",
       "LEFT JOIN \"POPULATION\" t2\n",
       "ON 1 = 1\n",
       "WHERE ( julianday( t2.\"date\" ) <= julianday( t1.\"date\" )\n",
       "AND ( julianday( t2.\"date\", '+15.000000 minutes' ) > julianday( t1.\"date\" ) OR julianday( t2.\"date\", '+15.000000 minutes' ) IS NULL )\n",
       ") AND (\n",
       "   ( ( t2.\"CO2\" > 471.862805 ) AND ( julianday( t1.\"date\" ) > julianday( t2.\"date\", '+54.484848 seconds' ) ) AND ( t1.\"Humidity\" > 26.115208 OR t1.\"Humidity\" IS NULL  ) AND ( t1.\"Light\" > 604.647619 ) )\n",
       "OR ( ( t2.\"CO2\" > 471.862805 ) AND ( julianday( t1.\"date\" ) > julianday( t2.\"date\", '+54.484848 seconds' ) ) AND ( t1.\"Humidity\" <= 26.115208 ) AND ( t2.\"CO2\" <= 994.931818 ) )\n",
       "OR ( ( t2.\"CO2\" > 471.862805 ) AND ( julianday( t1.\"date\" ) <= julianday( t2.\"date\", '+54.484848 seconds' ) ) AND ( t1.\"Temperature\" > 22.648800 OR t1.\"Temperature\" IS NULL  ) AND ( t2.\"HumidityRatio\" > 0.004593 ) )\n",
       "OR ( ( t2.\"CO2\" > 471.862805 ) AND ( julianday( t1.\"date\" ) <= julianday( t2.\"date\", '+54.484848 seconds' ) ) AND ( t1.\"Temperature\" <= 22.648800 ) AND ( t2.\"Light\" > 26.453333 ) )\n",
       "OR ( ( t2.\"CO2\" <= 471.862805 OR t2.\"CO2\" IS NULL  ) AND ( t2.\"HumidityRatio\" > 0.004893 ) AND ( julianday( t1.\"date\" ) <= julianday( t2.\"date\", '+4.666667 minutes' ) ) )\n",
       ")\n",
       "GROUP BY t1.rowid;"
      ]
     },
     "execution_count": 16,
     "metadata": {},
     "output_type": "execute_result"
    }
   ],
   "source": [
    "pipe.features.to_sql()[names[0]]"
   ]
  },
  {
   "cell_type": "markdown",
   "metadata": {},
   "source": [
    "Let's check out the second most important feature."
   ]
  },
  {
   "cell_type": "code",
   "execution_count": 17,
   "metadata": {},
   "outputs": [
    {
     "data": {
      "text/markdown": [
       "```sql\n",
       "DROP TABLE IF EXISTS \"FEATURE_1_80\";\n",
       "\n",
       "CREATE TABLE \"FEATURE_1_80\" AS\n",
       "SELECT AVG( t2.\"Light\" ) AS \"feature_1_80\",\n",
       "       t1.rowid AS \"rownum\"\n",
       "FROM \"POPULATION\" t1\n",
       "LEFT JOIN \"POPULATION\" t2\n",
       "ON 1 = 1\n",
       "WHERE ( julianday( t2.\"date\" ) <= julianday( t1.\"date\" )\n",
       "AND ( julianday( t2.\"date\", '+15.000000 minutes' ) > julianday( t1.\"date\" ) OR julianday( t2.\"date\", '+15.000000 minutes' ) IS NULL )\n",
       ") AND (\n",
       "   ( ( t1.\"Light\" > 365.245399 ) AND ( t1.\"Temperature\" > 22.650987 OR t1.\"Temperature\" IS NULL  ) AND ( t2.\"CO2\" > 1006.363636 OR t2.\"CO2\" IS NULL  ) AND ( t2.\"Temperature\" <= 22.323000 ) )\n",
       "OR ( ( t1.\"Light\" > 365.245399 ) AND ( t1.\"Temperature\" > 22.650987 OR t1.\"Temperature\" IS NULL  ) AND ( t2.\"CO2\" <= 1006.363636 ) AND ( t2.\"Light\" <= 547.500000 ) )\n",
       "OR ( ( t1.\"Light\" > 365.245399 ) AND ( t1.\"Temperature\" <= 22.650987 ) AND ( t2.\"Light\" > 59.520000 ) AND ( t2.\"Light\" <= 544.067568 ) )\n",
       "OR ( ( t1.\"Light\" > 365.245399 ) AND ( t1.\"Temperature\" <= 22.650987 ) AND ( t2.\"Light\" <= 59.520000 OR t2.\"Light\" IS NULL  ) AND ( t1.\"Temperature\" <= 20.781818 ) )\n",
       ")\n",
       "GROUP BY t1.rowid;\n",
       "```"
      ],
      "text/plain": [
       "DROP TABLE IF EXISTS \"FEATURE_1_80\";\n",
       "\n",
       "CREATE TABLE \"FEATURE_1_80\" AS\n",
       "SELECT AVG( t2.\"Light\" ) AS \"feature_1_80\",\n",
       "       t1.rowid AS \"rownum\"\n",
       "FROM \"POPULATION\" t1\n",
       "LEFT JOIN \"POPULATION\" t2\n",
       "ON 1 = 1\n",
       "WHERE ( julianday( t2.\"date\" ) <= julianday( t1.\"date\" )\n",
       "AND ( julianday( t2.\"date\", '+15.000000 minutes' ) > julianday( t1.\"date\" ) OR julianday( t2.\"date\", '+15.000000 minutes' ) IS NULL )\n",
       ") AND (\n",
       "   ( ( t1.\"Light\" > 365.245399 ) AND ( t1.\"Temperature\" > 22.650987 OR t1.\"Temperature\" IS NULL  ) AND ( t2.\"CO2\" > 1006.363636 OR t2.\"CO2\" IS NULL  ) AND ( t2.\"Temperature\" <= 22.323000 ) )\n",
       "OR ( ( t1.\"Light\" > 365.245399 ) AND ( t1.\"Temperature\" > 22.650987 OR t1.\"Temperature\" IS NULL  ) AND ( t2.\"CO2\" <= 1006.363636 ) AND ( t2.\"Light\" <= 547.500000 ) )\n",
       "OR ( ( t1.\"Light\" > 365.245399 ) AND ( t1.\"Temperature\" <= 22.650987 ) AND ( t2.\"Light\" > 59.520000 ) AND ( t2.\"Light\" <= 544.067568 ) )\n",
       "OR ( ( t1.\"Light\" > 365.245399 ) AND ( t1.\"Temperature\" <= 22.650987 ) AND ( t2.\"Light\" <= 59.520000 OR t2.\"Light\" IS NULL  ) AND ( t1.\"Temperature\" <= 20.781818 ) )\n",
       ")\n",
       "GROUP BY t1.rowid;"
      ]
     },
     "execution_count": 17,
     "metadata": {},
     "output_type": "execute_result"
    }
   ],
   "source": [
    "pipe.features.to_sql()[names[1]]"
   ]
  },
  {
   "cell_type": "markdown",
   "metadata": {},
   "source": [
    "These two features demonstrate the power of the getML feature learning algorithms. It is very unlikely to find these features using manual, trial-and-error based methods. The general structure of features found using such methods might be similar, but you would have had to put in much more effort while getting worse results.\n",
    "\n",
    "When browsing through the remaining features, you will notice that some are columns directly taken from the original table, such as *Light* and *CO2*. But these columns are less correlated and less important than the features generated with the relational model based on self-join and upper time stamps."
   ]
  },
  {
   "cell_type": "markdown",
   "metadata": {},
   "source": [
    "Because getML uses a feature learning approach, the concept of feature importances can also be carried over to the individual columns."
   ]
  },
  {
   "cell_type": "code",
   "execution_count": 18,
   "metadata": {},
   "outputs": [
    {
     "data": {
      "image/png": "[encoded data removed]",
      "text/plain": [
       "<Figure size 1440x720 with 1 Axes>"
      ]
     },
     "metadata": {
      "needs_background": "light"
     },
     "output_type": "display_data"
    }
   ],
   "source": [
    "names, importances = pipe.columns.importances()\n",
    "\n",
    "plt.subplots(figsize=(20, 10))\n",
    "\n",
    "plt.bar(names, importances, color='#6829c2')\n",
    "\n",
    "plt.title(\"column importances\")\n",
    "plt.grid(True)\n",
    "plt.xlabel(\"columns\")\n",
    "plt.ylabel(\"importance\")\n",
    "plt.xticks(rotation='vertical')\n",
    "\n",
    "plt.show()"
   ]
  },
  {
   "cell_type": "code",
   "execution_count": 19,
   "metadata": {},
   "outputs": [
    {
     "data": {
      "text/html": [
       "<div>\n",
       "<style scoped>\n",
       "    .dataframe tbody tr th:only-of-type {\n",
       "        vertical-align: middle;\n",
       "    }\n",
       "\n",
       "    .dataframe tbody tr th {\n",
       "        vertical-align: top;\n",
       "    }\n",
       "\n",
       "    .dataframe thead th {\n",
       "        text-align: right;\n",
       "    }\n",
       "</style>\n",
       "<table border=\"1\" class=\"dataframe\">\n",
       "  <thead>\n",
       "    <tr style=\"text-align: right;\">\n",
       "      <th></th>\n",
       "      <th>population/peripheral</th>\n",
       "      <th>table</th>\n",
       "      <th>name</th>\n",
       "      <th>importance</th>\n",
       "      <th>target</th>\n",
       "    </tr>\n",
       "  </thead>\n",
       "  <tbody>\n",
       "    <tr>\n",
       "      <th>0</th>\n",
       "      <td>[POPULATION]</td>\n",
       "      <td>POPULATION</td>\n",
       "      <td>CO2</td>\n",
       "      <td>0.020979</td>\n",
       "      <td>Occupancy</td>\n",
       "    </tr>\n",
       "    <tr>\n",
       "      <th>1</th>\n",
       "      <td>[POPULATION]</td>\n",
       "      <td>POPULATION</td>\n",
       "      <td>Humidity</td>\n",
       "      <td>0.005380</td>\n",
       "      <td>Occupancy</td>\n",
       "    </tr>\n",
       "    <tr>\n",
       "      <th>2</th>\n",
       "      <td>[POPULATION]</td>\n",
       "      <td>POPULATION</td>\n",
       "      <td>HumidityRatio</td>\n",
       "      <td>0.004363</td>\n",
       "      <td>Occupancy</td>\n",
       "    </tr>\n",
       "    <tr>\n",
       "      <th>3</th>\n",
       "      <td>[POPULATION]</td>\n",
       "      <td>POPULATION</td>\n",
       "      <td>Light</td>\n",
       "      <td>0.871608</td>\n",
       "      <td>Occupancy</td>\n",
       "    </tr>\n",
       "    <tr>\n",
       "      <th>4</th>\n",
       "      <td>[POPULATION]</td>\n",
       "      <td>POPULATION</td>\n",
       "      <td>Temperature</td>\n",
       "      <td>0.073303</td>\n",
       "      <td>Occupancy</td>\n",
       "    </tr>\n",
       "    <tr>\n",
       "      <th>5</th>\n",
       "      <td>[POPULATION]</td>\n",
       "      <td>POPULATION</td>\n",
       "      <td>date</td>\n",
       "      <td>0.024368</td>\n",
       "      <td>Occupancy</td>\n",
       "    </tr>\n",
       "  </tbody>\n",
       "</table>\n",
       "</div>"
      ],
      "text/plain": [
       "  population/peripheral       table           name  importance     target\n",
       "0          [POPULATION]  POPULATION            CO2    0.020979  Occupancy\n",
       "1          [POPULATION]  POPULATION       Humidity    0.005380  Occupancy\n",
       "2          [POPULATION]  POPULATION  HumidityRatio    0.004363  Occupancy\n",
       "3          [POPULATION]  POPULATION          Light    0.871608  Occupancy\n",
       "4          [POPULATION]  POPULATION    Temperature    0.073303  Occupancy\n",
       "5          [POPULATION]  POPULATION           date    0.024368  Occupancy"
      ]
     },
     "execution_count": 19,
     "metadata": {},
     "output_type": "execute_result"
    }
   ],
   "source": [
    "pipe.columns.to_pandas()"
   ]
  },
  {
   "cell_type": "markdown",
   "metadata": {},
   "source": [
    "As we can see, about 87% of the predictive power comes from the *Light* column. The second most important column is the *Temperature* column, we contributes about 7% of the predictive power."
   ]
  },
  {
   "cell_type": "markdown",
   "metadata": {},
   "source": [
    " "
   ]
  },
  {
   "cell_type": "markdown",
   "metadata": {},
   "source": [
    "## 3. Conclusion\n",
    "\n",
    "This tutorial demonstrates that relational learning is a powerful tool for time series. We able to outperform the benchmarks for a scientific paper on a simple public domain time series data set using relatively little effort.\n",
    "\n",
    "If you want to learn more about getML, check out the [official documentation](https://getml.com/product)."
   ]
  },
  {
   "cell_type": "markdown",
   "metadata": {},
   "source": [
    " "
   ]
  },
  {
   "cell_type": "markdown",
   "metadata": {},
   "source": [
    "# Next Steps\n",
    "\n",
    "This tutorial went through the basics of applying getML to multirvariate time series and hyperparameter tuning.\n",
    "\n",
    "If you are interested in further real-world applications of getML, head back to the [notebook overview](welcome.md) and choose one of the remaining examples.\n",
    "\n",
    "Here is some additional material from our [documentation](https://docs.getml.com/latest/) if you want to learn more about getML:\n",
    "* [Feature learning with Multirel](https://docs.getml.com/latest/user_guide/feature_engineering/feature_engineering.html#multirel)\n",
    "* [Feature learning with Relboost](https://docs.getml.com/latest/user_guide/feature_engineering/feature_engineering.html#relboost)"
   ]
  },
  {
   "cell_type": "markdown",
   "metadata": {},
   "source": [
    " "
   ]
  },
  {
   "cell_type": "markdown",
   "metadata": {},
   "source": [
    "# Get in contact\n",
    "\n",
    "If you have any question schedule a [call with Alex](https://go.getml.com/meetings/alexander-uhlig/getml-demo), the co-founder of getML, or write us an [email](team@getml.com). Prefer a private demo of getML? Just contact us to make an appointment."
   ]
  },
  {
   "cell_type": "markdown",
   "metadata": {},
   "source": [
    " "
   ]
  }
 ],
 "metadata": {
  "celltoolbar": "Tags",
  "kernelspec": {
   "display_name": "Python 3",
   "language": "python",
   "name": "python3"
  },
  "language_info": {
   "codemirror_mode": {
    "name": "ipython",
    "version": 3
   },
   "file_extension": ".py",
   "mimetype": "text/x-python",
   "name": "python",
   "nbconvert_exporter": "python",
   "pygments_lexer": "ipython3",
   "version": "3.8.5"
  },
  "widgets": {
   "application/vnd.jupyter.widget-state+json": {
    "state": {},
    "version_major": 2,
    "version_minor": 0
   }
  }
 },
 "nbformat": 4,
 "nbformat_minor": 4
}
