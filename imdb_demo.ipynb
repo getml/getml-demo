{
 "cells": [
  {
   "cell_type": "markdown",
   "metadata": {},
   "source": [
    "# IMdb - Predicting actors' gender using getML\n",
    "\n",
    "\n",
    "In this tutorial, we demonstrate how getML can be applied to text fields. In relational databases, text fields are less structured and less standardized than categorical data, making it more difficult to extract useful information from them. Therefore, they are ignored in most data science projects on relational data. However, when using a relational learning tool such as getML, we can easily generate simple features from text fields and leverage the information contained therein.\n",
    "\n",
    "The point of this exercise is not to compete with modern deep-learning-based NLP approaches. The point is to develop an approach by which we can leverage fields in relational databases that would otherwise be ignored.\n",
    "\n",
    "As an example data set, we use the Internet Movie database, which has been used by previous studies in the relational learning literature. This allows us to benchmark our approach to state-of-the-art algorithms in the relational learning literature. We demonstrate that getML outperforms these state-of-the-art algorithms.\n",
    "\n",
    "Summary:\n",
    "\n",
    "- Prediction type: __Classification model__\n",
    "- Domain: __Entertainment__\n",
    "- Prediction target: __The gender of an actor__ \n",
    "- Population size: __817718__\n",
    "\n",
    "_Author: Dr. Patrick Urbanke_"
   ]
  },
  {
   "cell_type": "markdown",
   "metadata": {},
   "source": [
    " "
   ]
  },
  {
   "cell_type": "markdown",
   "metadata": {},
   "source": [
    "# Background\n",
    "\n",
    "The data set contains about 800,000 actors. The goal is to predict the gender of said actors based on other information we have about them, such as the movies they have participated in and the roles they have played in these movies.\n",
    "\n",
    "It has been downloaded from the [CTU Prague relational learning repository](https://relational.fit.cvut.cz/dataset/IMDb) (Motl and Schulte, 2015)."
   ]
  },
  {
   "cell_type": "markdown",
   "metadata": {},
   "source": [
    " "
   ]
  },
  {
   "cell_type": "markdown",
   "metadata": {},
   "source": [
    "### A web frontend for getML\n",
    "\n",
    "The getML monitor is a frontend built to support your work with getML. The getML monitor displays information such as the imported data frames, trained pipelines and allows easy data and feature exploration. You can launch the getML monitor [here](http://localhost:1709)."
   ]
  },
  {
   "cell_type": "markdown",
   "metadata": {},
   "source": [
    " "
   ]
  },
  {
   "cell_type": "markdown",
   "metadata": {},
   "source": [
    "### Where is this running?\n",
    "\n",
    "Your getML live session is running inside a docker container on [mybinder.org](https://mybinder.org/), a service built by the Jupyter community and funded by Google Cloud, OVH, GESIS Notebooks and the Turing Institute. As it is a free service, this session will shut down after 10 minutes of inactivity."
   ]
  },
  {
   "cell_type": "markdown",
   "metadata": {},
   "source": [
    " "
   ]
  },
  {
   "cell_type": "markdown",
   "metadata": {},
   "source": [
    "# Analysis"
   ]
  },
  {
   "cell_type": "markdown",
   "metadata": {},
   "source": [
    "Let's get started with the analysis and set up your session:"
   ]
  },
  {
   "cell_type": "code",
   "execution_count": 1,
   "metadata": {},
   "outputs": [
    {
     "name": "stdout",
     "output_type": "stream",
     "text": [
      "\n",
      "Connected to project 'actors'\n"
     ]
    }
   ],
   "source": [
    "import copy\n",
    "import os\n",
    "from urllib import request\n",
    "\n",
    "import numpy as np\n",
    "import pandas as pd\n",
    "from IPython.display import Image\n",
    "import matplotlib.pyplot as plt\n",
    "plt.style.use('seaborn')\n",
    "%matplotlib inline  \n",
    "\n",
    "from sklearn.feature_extraction.text import CountVectorizer\n",
    "\n",
    "import getml\n",
    "\n",
    "getml.engine.set_project('actors')"
   ]
  },
  {
   "cell_type": "markdown",
   "metadata": {},
   "source": [
    "Tuning is effective at improving our results, but it takes quite long, so we want to make it optional:"
   ]
  },
  {
   "cell_type": "code",
   "execution_count": 2,
   "metadata": {},
   "outputs": [],
   "source": [
    "USE_FIRST_NAMES = False\n",
    "USE_FINE_TUNED = False"
   ]
  },
  {
   "cell_type": "markdown",
   "metadata": {},
   "source": [
    " "
   ]
  },
  {
   "cell_type": "markdown",
   "metadata": {},
   "source": [
    "## 1. Loading data"
   ]
  },
  {
   "cell_type": "markdown",
   "metadata": {},
   "source": [
    "### 1.1 Download from source\n",
    "\n",
    "We begin by downloading the data from the source file:"
   ]
  },
  {
   "cell_type": "code",
   "execution_count": 3,
   "metadata": {},
   "outputs": [
    {
     "data": {
      "text/plain": [
       "Connection(conn_id='default', dbname='imdb_ijs', dialect='mysql', \n",
       "           host='relational.fit.cvut.cz', port=3306)"
      ]
     },
     "execution_count": 3,
     "metadata": {},
     "output_type": "execute_result"
    }
   ],
   "source": [
    "conn = getml.database.connect_mariadb(\n",
    "    host=\"relational.fit.cvut.cz\",\n",
    "    dbname=\"imdb_ijs\",\n",
    "    port=3306,\n",
    "    user=\"guest\",\n",
    "    password=\"relational\"\n",
    ")\n",
    "\n",
    "conn"
   ]
  },
  {
   "cell_type": "code",
   "execution_count": 4,
   "metadata": {},
   "outputs": [],
   "source": [
    "def load_if_needed(name):\n",
    "    \"\"\"\n",
    "    Loads the data from the relational learning\n",
    "    repository, if the data frame has not already\n",
    "    been loaded.\n",
    "    \"\"\"\n",
    "    if not getml.data.exists(name):\n",
    "        data_frame = getml.data.DataFrame.from_db(\n",
    "            name=name,\n",
    "            table_name=name,\n",
    "            conn=conn\n",
    "        )\n",
    "        data_frame.save()\n",
    "    else:\n",
    "        data_frame = getml.data.load_data_frame(name)\n",
    "    return data_frame"
   ]
  },
  {
   "cell_type": "code",
   "execution_count": 5,
   "metadata": {},
   "outputs": [],
   "source": [
    "actors = load_if_needed(\"actors\")\n",
    "roles = load_if_needed(\"roles\")\n",
    "movies = load_if_needed(\"movies\")\n",
    "movies_genres = load_if_needed(\"movies_genres\")"
   ]
  },
  {
   "cell_type": "code",
   "execution_count": 6,
   "metadata": {},
   "outputs": [
    {
     "data": {
      "text/html": [
       "<table class=\"dataframe\"><thead><tr style=\"border-bottom:1pt solid LightGray;\"><th style=\"text-align: left;border-right:1pt solid LightGray;\">Name  </th><th style=\"text-align: right;\">id</th><th style=\"text-align: right;\">first_name</th><th style=\"text-align: right;\">last_name</th><th style=\"text-align: right;\">gender</th></tr><tr><th style=\"text-align: left;border-right:1pt solid LightGray;\">Role  </th><td style=\"text-align: right;\"><i>unused_float</i></td><td style=\"text-align: right;\"><i>unused_string</i></td><td style=\"text-align: right;\"><i>unused_string</i></td><td style=\"text-align: right;\"><i>unused_string</i></td></tr></thead><tbody><tr style=\"border-top:1pt solid LightGray;\"><td style=\"border-right:1pt solid LightGray;\"><b>0</b></td><td>2</td><td>Michael</td><td>'babeepower' Viera</td><td>M</td></tr><tr><td style=\"border-right:1pt solid LightGray;\"><b>1</b></td><td>3</td><td>Eloy</td><td>'Chincheta'</td><td>M</td></tr><tr><td style=\"border-right:1pt solid LightGray;\"><b>2</b></td><td>4</td><td>Dieguito</td><td>'El Cigala'</td><td>M</td></tr><tr><td style=\"border-right:1pt solid LightGray;\"><b>3</b></td><td>5</td><td>Antonio</td><td>'El de Chipiona'</td><td>M</td></tr><tr><td style=\"border-right:1pt solid LightGray;\"><b>4</b></td><td>6</td><td>José</td><td>'El Francés'</td><td>M</td></tr><tr><td style=\"border-right:1pt solid LightGray;\"><b> </b></td><td>...</td><td>...</td><td>...</td><td>...</td></tr><tr><td style=\"border-right:1pt solid LightGray;\"><b>817713</b></td><td>845461</td><td>Herdís</td><td>Þorvaldsdóttir</td><td>F</td></tr><tr><td style=\"border-right:1pt solid LightGray;\"><b>817714</b></td><td>845462</td><td>Katla Margrét</td><td>Þorvaldsdóttir</td><td>F</td></tr><tr><td style=\"border-right:1pt solid LightGray;\"><b>817715</b></td><td>845463</td><td>Lilja Nótt</td><td>Þórarinsdóttir</td><td>F</td></tr><tr><td style=\"border-right:1pt solid LightGray;\"><b>817716</b></td><td>845464</td><td>Hólmfríður</td><td>Þórhallsdóttir</td><td>F</td></tr><tr><td style=\"border-right:1pt solid LightGray;\"><b>817717</b></td><td>845465</td><td>Theódóra</td><td>Þórðardóttir</td><td>F</td></tr></tbody></table><br>817718 rows x 4 columns<br>memory usage: 40.22 MB<br>name: actors<br>type: getml.data.DataFrame<br>url: <a href=\"http://localhost:1709/#/getdataframe/actors/actors/\" target=\"_blank\">http://localhost:1709/#/getdataframe/actors/actors/</a>"
      ],
      "text/plain": [
       "Name               id      first_name            last_name          gender   \n",
       "Role     unused_float   unused_string        unused_string   unused_string   \n",
       "0        2              Michael         'babeepower' Viera   M               \n",
       "1        3              Eloy            'Chincheta'          M               \n",
       "2        4              Dieguito        'El Cigala'          M               \n",
       "3        5              Antonio         'El de Chipiona'     M               \n",
       "4        6              José            'El Francés'         M               \n",
       "         ...            ...             ...                  ...             \n",
       "817713   845461         Herdís          Þorvaldsdóttir       F               \n",
       "817714   845462         Katla Margrét   Þorvaldsdóttir       F               \n",
       "817715   845463         Lilja Nótt      Þórarinsdóttir       F               \n",
       "817716   845464         Hólmfríður      Þórhallsdóttir       F               \n",
       "817717   845465         Theódóra        Þórðardóttir         F               \n",
       "\n",
       "817718 rows x 4 columns\n",
       "memory usage: 40.22 MB\n",
       "name: actors\n",
       "type: getml.data.DataFrame\n",
       "url: http://localhost:1709/#/getdataframe/actors/actors/"
      ]
     },
     "execution_count": 6,
     "metadata": {},
     "output_type": "execute_result"
    }
   ],
   "source": [
    "actors"
   ]
  },
  {
   "cell_type": "code",
   "execution_count": 7,
   "metadata": {},
   "outputs": [
    {
     "data": {
      "text/html": [
       "<table class=\"dataframe\"><thead><tr style=\"border-bottom:1pt solid LightGray;\"><th style=\"text-align: left;border-right:1pt solid LightGray;\">Name   </th><th style=\"text-align: right;\">actor_id</th><th style=\"text-align: right;\">movie_id</th><th style=\"text-align: right;\">role</th></tr><tr><th style=\"text-align: left;border-right:1pt solid LightGray;\">Role   </th><td style=\"text-align: right;\"><i>unused_float</i></td><td style=\"text-align: right;\"><i>unused_float</i></td><td style=\"text-align: right;\"><i>unused_string</i></td></tr></thead><tbody><tr style=\"border-top:1pt solid LightGray;\"><td style=\"border-right:1pt solid LightGray;\"><b>0</b></td><td>2</td><td>280088</td><td>Stevie</td></tr><tr><td style=\"border-right:1pt solid LightGray;\"><b>1</b></td><td>2</td><td>396232</td><td>Various/lyricist</td></tr><tr><td style=\"border-right:1pt solid LightGray;\"><b>2</b></td><td>3</td><td>376687</td><td>Gitano 1</td></tr><tr><td style=\"border-right:1pt solid LightGray;\"><b>3</b></td><td>4</td><td>336265</td><td>El Cigala</td></tr><tr><td style=\"border-right:1pt solid LightGray;\"><b>4</b></td><td>5</td><td>135644</td><td>Himself</td></tr><tr><td style=\"border-right:1pt solid LightGray;\"><b> </b></td><td>...</td><td>...</td><td>...</td></tr><tr><td style=\"border-right:1pt solid LightGray;\"><b>3431961</b></td><td>845461</td><td>137097</td><td>Kata</td></tr><tr><td style=\"border-right:1pt solid LightGray;\"><b>3431962</b></td><td>845462</td><td>208838</td><td>Magga</td></tr><tr><td style=\"border-right:1pt solid LightGray;\"><b>3431963</b></td><td>845463</td><td>870</td><td>Gunna</td></tr><tr><td style=\"border-right:1pt solid LightGray;\"><b>3431964</b></td><td>845464</td><td>378123</td><td>Gudrun</td></tr><tr><td style=\"border-right:1pt solid LightGray;\"><b>3431965</b></td><td>845465</td><td>378123</td><td></td></tr></tbody></table><br>3431966 rows x 3 columns<br>memory usage: 115.41 MB<br>name: roles<br>type: getml.data.DataFrame<br>url: <a href=\"http://localhost:1709/#/getdataframe/actors/roles/\" target=\"_blank\">http://localhost:1709/#/getdataframe/actors/roles/</a>"
      ],
      "text/plain": [
       "Name          actor_id       movie_id               role   \n",
       "Role      unused_float   unused_float      unused_string   \n",
       "0         2              280088         Stevie             \n",
       "1         2              396232         Various/lyricist   \n",
       "2         3              376687         Gitano 1           \n",
       "3         4              336265         El Cigala          \n",
       "4         5              135644         Himself            \n",
       "          ...            ...            ...                \n",
       "3431961   845461         137097         Kata               \n",
       "3431962   845462         208838         Magga              \n",
       "3431963   845463         870            Gunna              \n",
       "3431964   845464         378123         Gudrun             \n",
       "3431965   845465         378123                            \n",
       "\n",
       "3431966 rows x 3 columns\n",
       "memory usage: 115.41 MB\n",
       "name: roles\n",
       "type: getml.data.DataFrame\n",
       "url: http://localhost:1709/#/getdataframe/actors/roles/"
      ]
     },
     "execution_count": 7,
     "metadata": {},
     "output_type": "execute_result"
    }
   ],
   "source": [
    "roles"
   ]
  },
  {
   "cell_type": "code",
   "execution_count": 8,
   "metadata": {},
   "outputs": [
    {
     "data": {
      "text/html": [
       "<table class=\"dataframe\"><thead><tr style=\"border-bottom:1pt solid LightGray;\"><th style=\"text-align: left;border-right:1pt solid LightGray;\">Name  </th><th style=\"text-align: right;\">id</th><th style=\"text-align: right;\">year</th><th style=\"text-align: right;\">rank</th><th style=\"text-align: right;\">name</th></tr><tr><th style=\"text-align: left;border-right:1pt solid LightGray;\">Role  </th><td style=\"text-align: right;\"><i>unused_float</i></td><td style=\"text-align: right;\"><i>unused_float</i></td><td style=\"text-align: right;\"><i>unused_float</i></td><td style=\"text-align: right;\"><i>unused_string</i></td></tr></thead><tbody><tr style=\"border-top:1pt solid LightGray;\"><td style=\"border-right:1pt solid LightGray;\"><b>0</b></td><td>0</td><td>2002</td><td>nan</td><td>#28</td></tr><tr><td style=\"border-right:1pt solid LightGray;\"><b>1</b></td><td>1</td><td>2000</td><td>nan</td><td>#7 Train: An Immigrant Journey, The</td></tr><tr><td style=\"border-right:1pt solid LightGray;\"><b>2</b></td><td>2</td><td>1971</td><td>6.4</td><td>$</td></tr><tr><td style=\"border-right:1pt solid LightGray;\"><b>3</b></td><td>3</td><td>1913</td><td>nan</td><td>$1,000 Reward</td></tr><tr><td style=\"border-right:1pt solid LightGray;\"><b>4</b></td><td>4</td><td>1915</td><td>nan</td><td>$1,000 Reward</td></tr><tr><td style=\"border-right:1pt solid LightGray;\"><b> </b></td><td>...</td><td>...</td><td>...</td><td>...</td></tr><tr><td style=\"border-right:1pt solid LightGray;\"><b>388264</b></td><td>412316</td><td>1991</td><td>nan</td><td>\"zem blch krlu\"</td></tr><tr><td style=\"border-right:1pt solid LightGray;\"><b>388265</b></td><td>412317</td><td>1995</td><td>nan</td><td>\"rgammk\"</td></tr><tr><td style=\"border-right:1pt solid LightGray;\"><b>388266</b></td><td>412318</td><td>2002</td><td>nan</td><td>\"zgnm Leyla\"</td></tr><tr><td style=\"border-right:1pt solid LightGray;\"><b>388267</b></td><td>412319</td><td>1983</td><td>nan</td><td>\" Istanbul\"</td></tr><tr><td style=\"border-right:1pt solid LightGray;\"><b>388268</b></td><td>412320</td><td>1958</td><td>nan</td><td>\"sterreich\"</td></tr></tbody></table><br>388269 rows x 4 columns<br>memory usage: 19.92 MB<br>name: movies<br>type: getml.data.DataFrame<br>url: <a href=\"http://localhost:1709/#/getdataframe/actors/movies/\" target=\"_blank\">http://localhost:1709/#/getdataframe/actors/movies/</a>"
      ],
      "text/plain": [
       "Name               id           year           rank                                  name   \n",
       "Role     unused_float   unused_float   unused_float                         unused_string   \n",
       "0        0              2002           nan            #28                                   \n",
       "1        1              2000           nan            #7 Train: An Immigrant Journey, The   \n",
       "2        2              1971           6.4            $                                     \n",
       "3        3              1913           nan            $1,000 Reward                         \n",
       "4        4              1915           nan            $1,000 Reward                         \n",
       "         ...            ...            ...            ...                                   \n",
       "388264   412316         1991           nan            \"zem blch krlu\"                       \n",
       "388265   412317         1995           nan            \"rgammk\"                              \n",
       "388266   412318         2002           nan            \"zgnm Leyla\"                          \n",
       "388267   412319         1983           nan            \" Istanbul\"                           \n",
       "388268   412320         1958           nan            \"sterreich\"                           \n",
       "\n",
       "388269 rows x 4 columns\n",
       "memory usage: 19.92 MB\n",
       "name: movies\n",
       "type: getml.data.DataFrame\n",
       "url: http://localhost:1709/#/getdataframe/actors/movies/"
      ]
     },
     "execution_count": 8,
     "metadata": {},
     "output_type": "execute_result"
    }
   ],
   "source": [
    "movies"
   ]
  },
  {
   "cell_type": "code",
   "execution_count": 9,
   "metadata": {},
   "outputs": [
    {
     "data": {
      "text/html": [
       "<table class=\"dataframe\"><thead><tr style=\"border-bottom:1pt solid LightGray;\"><th style=\"text-align: left;border-right:1pt solid LightGray;\">Name  </th><th style=\"text-align: right;\">movie_id</th><th style=\"text-align: right;\">genre</th></tr><tr><th style=\"text-align: left;border-right:1pt solid LightGray;\">Role  </th><td style=\"text-align: right;\"><i>unused_float</i></td><td style=\"text-align: right;\"><i>unused_string</i></td></tr></thead><tbody><tr style=\"border-top:1pt solid LightGray;\"><td style=\"border-right:1pt solid LightGray;\"><b>0</b></td><td>1</td><td>Documentary</td></tr><tr><td style=\"border-right:1pt solid LightGray;\"><b>1</b></td><td>1</td><td>Short</td></tr><tr><td style=\"border-right:1pt solid LightGray;\"><b>2</b></td><td>2</td><td>Comedy</td></tr><tr><td style=\"border-right:1pt solid LightGray;\"><b>3</b></td><td>2</td><td>Crime</td></tr><tr><td style=\"border-right:1pt solid LightGray;\"><b>4</b></td><td>5</td><td>Western</td></tr><tr><td style=\"border-right:1pt solid LightGray;\"><b> </b></td><td>...</td><td>...</td></tr><tr><td style=\"border-right:1pt solid LightGray;\"><b>395114</b></td><td>378612</td><td>Adventure</td></tr><tr><td style=\"border-right:1pt solid LightGray;\"><b>395115</b></td><td>378612</td><td>Drama</td></tr><tr><td style=\"border-right:1pt solid LightGray;\"><b>395116</b></td><td>378613</td><td>Comedy</td></tr><tr><td style=\"border-right:1pt solid LightGray;\"><b>395117</b></td><td>378613</td><td>Drama</td></tr><tr><td style=\"border-right:1pt solid LightGray;\"><b>395118</b></td><td>378614</td><td>Comedy</td></tr></tbody></table><br>395119 rows x 2 columns<br>memory usage: 9.24 MB<br>name: movies_genres<br>type: getml.data.DataFrame<br>url: <a href=\"http://localhost:1709/#/getdataframe/actors/movies_genres/\" target=\"_blank\">http://localhost:1709/#/getdataframe/actors/movies_genres/</a>"
      ],
      "text/plain": [
       "Name         movie_id           genre   \n",
       "Role     unused_float   unused_string   \n",
       "0        1              Documentary     \n",
       "1        1              Short           \n",
       "2        2              Comedy          \n",
       "3        2              Crime           \n",
       "4        5              Western         \n",
       "         ...            ...             \n",
       "395114   378612         Adventure       \n",
       "395115   378612         Drama           \n",
       "395116   378613         Comedy          \n",
       "395117   378613         Drama           \n",
       "395118   378614         Comedy          \n",
       "\n",
       "395119 rows x 2 columns\n",
       "memory usage: 9.24 MB\n",
       "name: movies_genres\n",
       "type: getml.data.DataFrame\n",
       "url: http://localhost:1709/#/getdataframe/actors/movies_genres/"
      ]
     },
     "execution_count": 9,
     "metadata": {},
     "output_type": "execute_result"
    }
   ],
   "source": [
    "movies_genres"
   ]
  },
  {
   "cell_type": "markdown",
   "metadata": {},
   "source": [
    " "
   ]
  },
  {
   "cell_type": "markdown",
   "metadata": {},
   "source": [
    "### 1.2 Prepare data for getML"
   ]
  },
  {
   "cell_type": "markdown",
   "metadata": {},
   "source": [
    " "
   ]
  },
  {
   "cell_type": "markdown",
   "metadata": {},
   "source": [
    "In order to process the text fields, we fit a scikit-learn count vectorizer. These text fields are then treated as an additional peripheral table."
   ]
  },
  {
   "cell_type": "code",
   "execution_count": 10,
   "metadata": {},
   "outputs": [],
   "source": [
    "def fit_transform_count_vectorizer(text_fields):\n",
    "    count_vectorizer = CountVectorizer(min_df=11)\n",
    "    transformed = count_vectorizer.fit_transform(text_fields)\n",
    "    return count_vectorizer.inverse_transform(transformed)"
   ]
  },
  {
   "cell_type": "code",
   "execution_count": 11,
   "metadata": {},
   "outputs": [],
   "source": [
    "def make_data_frame(transformed_text_fields, df_name):\n",
    "    join_keys = []\n",
    "    indices = []\n",
    "    words = []\n",
    "    #\n",
    "    for i, trans in enumerate(transformed_text_fields):\n",
    "        join_keys += [i] * len(trans)\n",
    "        indices += range(len(trans.tolist()))\n",
    "        words += trans.tolist()\n",
    "    #\n",
    "    data_frame = pd.DataFrame()\n",
    "    data_frame[\"join_key\"] = join_keys\n",
    "    data_frame[\"index\"] = indices\n",
    "    data_frame[\"words\"] = words\n",
    "    #\n",
    "    return getml.data.DataFrame.from_pandas(data_frame, df_name)"
   ]
  },
  {
   "cell_type": "code",
   "execution_count": 12,
   "metadata": {},
   "outputs": [],
   "source": [
    "def process_text_fields(text_fields, df_name):\n",
    "    transformed_text_fields = fit_transform_count_vectorizer(text_fields)\n",
    "    return make_data_frame(transformed_text_fields, df_name)"
   ]
  },
  {
   "cell_type": "markdown",
   "metadata": {},
   "source": [
    "The benchmark studies do not state clearly, whether it is fair game to use the first names of the actors. Using the first names, we can easily increase the predictive accuracy to above 90%. However, when doing so the problem basically becomes a first name identification problem rather than a relational learning problem. Therefore, our assumption is that using the first names is not allowed."
   ]
  },
  {
   "cell_type": "code",
   "execution_count": 13,
   "metadata": {},
   "outputs": [],
   "source": [
    "if USE_FIRST_NAMES:\n",
    "    first_names = actors.first_name.to_numpy()\n",
    "    first_names = process_text_fields(first_names, \"first_names\")\n",
    "    first_names"
   ]
  },
  {
   "cell_type": "code",
   "execution_count": 14,
   "metadata": {},
   "outputs": [
    {
     "data": {
      "text/html": [
       "<table class=\"dataframe\"><thead><tr style=\"border-bottom:1pt solid LightGray;\"><th style=\"text-align: left;border-right:1pt solid LightGray;\">Name   </th><th style=\"text-align: right;\">join_key</th><th style=\"text-align: right;\">index</th><th style=\"text-align: right;\">words</th></tr><tr><th style=\"text-align: left;border-right:1pt solid LightGray;\">Role   </th><td style=\"text-align: right;\"><i>unused_float</i></td><td style=\"text-align: right;\"><i>unused_float</i></td><td style=\"text-align: right;\"><i>unused_string</i></td></tr></thead><tbody><tr style=\"border-top:1pt solid LightGray;\"><td style=\"border-right:1pt solid LightGray;\"><b>0</b></td><td>0</td><td>0</td><td>stevie</td></tr><tr><td style=\"border-right:1pt solid LightGray;\"><b>1</b></td><td>1</td><td>0</td><td>lyricist</td></tr><tr><td style=\"border-right:1pt solid LightGray;\"><b>2</b></td><td>1</td><td>1</td><td>various</td></tr><tr><td style=\"border-right:1pt solid LightGray;\"><b>3</b></td><td>2</td><td>0</td><td>gitano</td></tr><tr><td style=\"border-right:1pt solid LightGray;\"><b>4</b></td><td>3</td><td>0</td><td>el</td></tr><tr><td style=\"border-right:1pt solid LightGray;\"><b> </b></td><td>...</td><td>...</td><td>...</td></tr><tr><td style=\"border-right:1pt solid LightGray;\"><b>4018929</b></td><td>3431945</td><td>0</td><td>1997</td></tr><tr><td style=\"border-right:1pt solid LightGray;\"><b>4018930</b></td><td>3431945</td><td>1</td><td>1996</td></tr><tr><td style=\"border-right:1pt solid LightGray;\"><b>4018931</b></td><td>3431958</td><td>0</td><td>lilja</td></tr><tr><td style=\"border-right:1pt solid LightGray;\"><b>4018932</b></td><td>3431961</td><td>0</td><td>kata</td></tr><tr><td style=\"border-right:1pt solid LightGray;\"><b>4018933</b></td><td>3431964</td><td>0</td><td>gudrun</td></tr></tbody></table><br>4018934 rows x 3 columns<br>memory usage: 122.72 MB<br>name: role<br>type: getml.data.DataFrame<br>url: <a href=\"http://localhost:1709/#/getdataframe/actors/role/\" target=\"_blank\">http://localhost:1709/#/getdataframe/actors/role/</a>"
      ],
      "text/plain": [
       "Name          join_key          index           words   \n",
       "Role      unused_float   unused_float   unused_string   \n",
       "0         0              0              stevie          \n",
       "1         1              0              lyricist        \n",
       "2         1              1              various         \n",
       "3         2              0              gitano          \n",
       "4         3              0              el              \n",
       "          ...            ...            ...             \n",
       "4018929   3431945        0              1997            \n",
       "4018930   3431945        1              1996            \n",
       "4018931   3431958        0              lilja           \n",
       "4018932   3431961        0              kata            \n",
       "4018933   3431964        0              gudrun          \n",
       "\n",
       "4018934 rows x 3 columns\n",
       "memory usage: 122.72 MB\n",
       "name: role\n",
       "type: getml.data.DataFrame\n",
       "url: http://localhost:1709/#/getdataframe/actors/role/"
      ]
     },
     "execution_count": 14,
     "metadata": {},
     "output_type": "execute_result"
    }
   ],
   "source": [
    "role = roles.role.to_numpy()\n",
    "role = process_text_fields(role, \"role\")\n",
    "role"
   ]
  },
  {
   "cell_type": "markdown",
   "metadata": {},
   "source": [
    "getML requires that we define *roles* for each of the columns."
   ]
  },
  {
   "cell_type": "code",
   "execution_count": 15,
   "metadata": {},
   "outputs": [],
   "source": [
    "actors[\"target\"] = (actors.gender == 'F').as_num()\n",
    "actors[\"rownum\"] = actors.rowid()"
   ]
  },
  {
   "cell_type": "code",
   "execution_count": 16,
   "metadata": {},
   "outputs": [],
   "source": [
    "actors.set_role([\"id\", \"rownum\"], getml.data.roles.join_key)\n",
    "actors.set_role(\"target\", getml.data.roles.target)"
   ]
  },
  {
   "cell_type": "code",
   "execution_count": 17,
   "metadata": {},
   "outputs": [],
   "source": [
    "roles[\"rownum\"] = roles.rowid()\n",
    "roles.set_role([\"actor_id\", \"movie_id\", \"rownum\"], getml.data.roles.join_key)"
   ]
  },
  {
   "cell_type": "code",
   "execution_count": 18,
   "metadata": {},
   "outputs": [],
   "source": [
    "movies.set_role(\"id\", getml.data.roles.join_key)\n",
    "movies.set_role([\"year\", \"rank\"], getml.data.roles.numerical)"
   ]
  },
  {
   "cell_type": "code",
   "execution_count": 19,
   "metadata": {},
   "outputs": [],
   "source": [
    "movies_genres.set_role(\"movie_id\", getml.data.roles.join_key)\n",
    "movies_genres.set_role(\"genre\", getml.data.roles.categorical)"
   ]
  },
  {
   "cell_type": "code",
   "execution_count": 20,
   "metadata": {},
   "outputs": [],
   "source": [
    "if USE_FIRST_NAMES:\n",
    "    first_names.set_role(\"join_key\", getml.data.roles.join_key)\n",
    "    first_names.set_role(\"index\", getml.data.roles.numerical)\n",
    "    first_names.set_role(\"words\", getml.data.roles.categorical)"
   ]
  },
  {
   "cell_type": "code",
   "execution_count": 21,
   "metadata": {},
   "outputs": [],
   "source": [
    "role.set_role(\"join_key\", getml.data.roles.join_key)\n",
    "role.set_role(\"index\", getml.data.roles.numerical)\n",
    "role.set_role(\"words\", getml.data.roles.categorical)"
   ]
  },
  {
   "cell_type": "markdown",
   "metadata": {},
   "source": [
    "We need to separate our data set into a training, testing and validation set:"
   ]
  },
  {
   "cell_type": "code",
   "execution_count": 22,
   "metadata": {},
   "outputs": [],
   "source": [
    "random = actors.random()\n",
    "\n",
    "is_training = (random < 0.7)\n",
    "is_validation = (~is_training & (random < 0.85))\n",
    "is_test = (~is_training & ~is_validation)\n",
    "\n",
    "data_train = actors.where(\"data_train\", is_training)\n",
    "data_validation = actors.where(\"data_validation\", is_validation)\n",
    "data_test = actors.where(\"data_test\", is_test)"
   ]
  },
  {
   "cell_type": "markdown",
   "metadata": {},
   "source": [
    " "
   ]
  },
  {
   "cell_type": "markdown",
   "metadata": {},
   "source": [
    "## 2. Predictive modelling\n",
    "\n",
    "We loaded the data and defined the roles and units. Next, we create a getML pipeline for relational learning."
   ]
  },
  {
   "cell_type": "markdown",
   "metadata": {},
   "source": [
    "### 2.1 Define relational model\n",
    "\n",
    "To get started with relational learning, we need to specify the data model."
   ]
  },
  {
   "cell_type": "code",
   "execution_count": 23,
   "metadata": {},
   "outputs": [
    {
     "data": {
      "text/html": [
       "<div style=\"height:210px;width:1660px;position:relative;\"><svg height=\"200\" width=\"1650\"><rect y=\"0\" x=\"500\" rx=\"10\" ry=\"10\" width=\"150\" height=\"90\" style=\"fill:#6829c2;stroke-width:0;\" /><text y=\"73.8\"\" x=\"575.0\" dominant-baseline=\"middle\" text-anchor=\"middle\" fill=\"white\">role</text><rect x=\"551\" y=\"10\" rx=\"4\" ry=\"4\" width=\"48\" height=\"48\" style=\" fill:#6829c2;stroke:#ffffff;stroke-width:3;\" /><line x1=\"567.0\" y1=\"10\" x2=\"567.0\" y2=\"58\" style=\"stroke:white;stroke-width:3\" /><line x1=\"583.0\" y1=\"10\" x2=\"583.0\" y2=\"58\" style=\"stroke:white;stroke-width:3\" /><line x1=\"551\" y1=\"26.0\" x2=\"599\" y2=\"26.0\" style=\"stroke:white;stroke-width:3\" /><line x1=\"551\" y1=\"42.0\" x2=\"599\" y2=\"42.0\" style=\"stroke:white;stroke-width:3\" /><rect y=\"110\" x=\"0\" rx=\"10\" ry=\"10\" width=\"150\" height=\"90\" style=\"fill:#6829c2;stroke-width:0;\" /><text y=\"183.8\"\" x=\"75.0\" dominant-baseline=\"middle\" text-anchor=\"middle\" fill=\"white\">movie_genres</text><rect x=\"51\" y=\"120\" rx=\"4\" ry=\"4\" width=\"48\" height=\"48\" style=\" fill:#6829c2;stroke:#ffffff;stroke-width:3;\" /><line x1=\"67.0\" y1=\"120\" x2=\"67.0\" y2=\"168\" style=\"stroke:white;stroke-width:3\" /><line x1=\"83.0\" y1=\"120\" x2=\"83.0\" y2=\"168\" style=\"stroke:white;stroke-width:3\" /><line x1=\"51\" y1=\"136.0\" x2=\"99\" y2=\"136.0\" style=\"stroke:white;stroke-width:3\" /><line x1=\"51\" y1=\"152.0\" x2=\"99\" y2=\"152.0\" style=\"stroke:white;stroke-width:3\" /><rect y=\"110\" x=\"500\" rx=\"10\" ry=\"10\" width=\"150\" height=\"90\" style=\"fill:#6829c2;stroke-width:0;\" /><text y=\"183.8\"\" x=\"575.0\" dominant-baseline=\"middle\" text-anchor=\"middle\" fill=\"white\">movies</text><rect x=\"551\" y=\"120\" rx=\"4\" ry=\"4\" width=\"48\" height=\"48\" style=\" fill:#6829c2;stroke:#ffffff;stroke-width:3;\" /><line x1=\"567.0\" y1=\"120\" x2=\"567.0\" y2=\"168\" style=\"stroke:white;stroke-width:3\" /><line x1=\"583.0\" y1=\"120\" x2=\"583.0\" y2=\"168\" style=\"stroke:white;stroke-width:3\" /><line x1=\"551\" y1=\"136.0\" x2=\"599\" y2=\"136.0\" style=\"stroke:white;stroke-width:3\" /><line x1=\"551\" y1=\"152.0\" x2=\"599\" y2=\"152.0\" style=\"stroke:white;stroke-width:3\" /><rect y=\"110\" x=\"1000\" rx=\"10\" ry=\"10\" width=\"150\" height=\"90\" style=\"fill:#6829c2;stroke-width:0;\" /><text y=\"183.8\"\" x=\"1075.0\" dominant-baseline=\"middle\" text-anchor=\"middle\" fill=\"white\">roles</text><rect x=\"1051\" y=\"120\" rx=\"4\" ry=\"4\" width=\"48\" height=\"48\" style=\" fill:#6829c2;stroke:#ffffff;stroke-width:3;\" /><line x1=\"1067.0\" y1=\"120\" x2=\"1067.0\" y2=\"168\" style=\"stroke:white;stroke-width:3\" /><line x1=\"1083.0\" y1=\"120\" x2=\"1083.0\" y2=\"168\" style=\"stroke:white;stroke-width:3\" /><line x1=\"1051\" y1=\"136.0\" x2=\"1099\" y2=\"136.0\" style=\"stroke:white;stroke-width:3\" /><line x1=\"1051\" y1=\"152.0\" x2=\"1099\" y2=\"152.0\" style=\"stroke:white;stroke-width:3\" /><rect y=\"110\" x=\"1500\" rx=\"10\" ry=\"10\" width=\"150\" height=\"90\" style=\"fill:#6829c2;stroke-width:0;\" /><text y=\"183.8\"\" x=\"1575.0\" dominant-baseline=\"middle\" text-anchor=\"middle\" fill=\"white\">actors</text><rect x=\"1551\" y=\"120\" rx=\"4\" ry=\"4\" width=\"48\" height=\"48\" style=\" fill:#6829c2;stroke:#ffffff;stroke-width:3;\" /><line x1=\"1567.0\" y1=\"120\" x2=\"1567.0\" y2=\"168\" style=\"stroke:white;stroke-width:3\" /><line x1=\"1583.0\" y1=\"120\" x2=\"1583.0\" y2=\"168\" style=\"stroke:white;stroke-width:3\" /><line x1=\"1551\" y1=\"136.0\" x2=\"1599\" y2=\"136.0\" style=\"stroke:white;stroke-width:3\" /><line x1=\"1551\" y1=\"152.0\" x2=\"1599\" y2=\"152.0\" style=\"stroke:white;stroke-width:3\" /><line x1=\"150\" y1=\"153.0\" x2=\"490\" y2=\"153.0\" style=\"stroke:#808080;;stroke-width:4\" /><polygon points=\"500, 153.0 490, 147.0 490, 159.0 \" style=\"fill:#808080;;stroke-width:0;\" /><rect y=\"120.0\" x=\"249.0\" rx=\"10\" ry=\"10\" width=\"150\" height=\"70\" style=\"fill:#6829c2;stroke-width:0;\" /><text dominant-baseline=\"middle\" text-anchor=\"middle\" fill=\"white\"><tspan y=\"155.0\"\" x=\"324.0\" font-size=\"7pt\" >movie_id = id</tspan></text><line x1=\"650\" y1=\"43.0\" x2=\"1073.0\" y2=\"43.0\" style=\"stroke:#808080;;stroke-width:4\" /><line x1=\"1073.0\" y1=\"41.0\" x2=\"1073.0\" y2=\"100\" style=\"stroke:#808080;;stroke-width:4\" /><polygon points=\"1073.0, 110 1067.0, 100 1079.0, 100 \" style=\"fill:#808080;;stroke-width:0;\" /><rect y=\"10.0\" x=\"749.0\" rx=\"10\" ry=\"10\" width=\"150\" height=\"70\" style=\"fill:#6829c2;stroke-width:0;\" /><text dominant-baseline=\"middle\" text-anchor=\"middle\" fill=\"white\"><tspan y=\"45.0\"\" x=\"824.0\" font-size=\"7pt\" >join_key = rownum</tspan></text><line x1=\"650\" y1=\"153.0\" x2=\"990\" y2=\"153.0\" style=\"stroke:#808080;;stroke-width:4\" /><polygon points=\"1000, 153.0 990, 147.0 990, 159.0 \" style=\"fill:#808080;;stroke-width:0;\" /><rect y=\"120.0\" x=\"749.0\" rx=\"10\" ry=\"10\" width=\"150\" height=\"70\" style=\"fill:#6829c2;stroke-width:0;\" /><text dominant-baseline=\"middle\" text-anchor=\"middle\" fill=\"white\"><tspan y=\"150.0\"\" x=\"824.0\" font-size=\"7pt\" >id = movie_id</tspan><tspan y=\"160.0\"\" x=\"824.0\" font-size=\"7pt\" >Relationship: many-to-one</tspan></text><line x1=\"1150\" y1=\"153.0\" x2=\"1490\" y2=\"153.0\" style=\"stroke:#808080;;stroke-width:4\" /><polygon points=\"1500, 153.0 1490, 147.0 1490, 159.0 \" style=\"fill:#808080;;stroke-width:0;\" /><rect y=\"120.0\" x=\"1249.0\" rx=\"10\" ry=\"10\" width=\"150\" height=\"70\" style=\"fill:#6829c2;stroke-width:0;\" /><text dominant-baseline=\"middle\" text-anchor=\"middle\" fill=\"white\"><tspan y=\"155.0\"\" x=\"1324.0\" font-size=\"7pt\" >actor_id = id</tspan></text></svg></div>"
      ],
      "text/plain": [
       "placeholder   other placeholder   allow lagged targets   horizon   join keys used   ...   \n",
       "actors        roles               False                  0.0       id               ...   \n",
       "roles         role                False                  0.0       rownum           ...   \n",
       "roles         movies              False                  0.0       movie_id         ...   \n",
       "movies        movie_genres        False                  0.0       id               ...   \n",
       "\n",
       "\n",
       "\n",
       "other join keys used   other time stamps used   relationship   time stamps used   \n",
       "actor_id                                        many-to-many                      \n",
       "join_key                                        many-to-many                      \n",
       "id                                              many-to-one                       \n",
       "movie_id                                        many-to-many                      \n",
       "\n",
       "\n",
       "\n",
       "other join keys used   upper time stamps used   \n",
       "actor_id                                        \n",
       "join_key                                        \n",
       "id                                              \n",
       "movie_id                                        "
      ]
     },
     "execution_count": 23,
     "metadata": {},
     "output_type": "execute_result"
    }
   ],
   "source": [
    "actors_ph = getml.data.Placeholder('actors')\n",
    "roles_ph = getml.data.Placeholder('roles')\n",
    "role_ph = getml.data.Placeholder('role')\n",
    "movies_ph = getml.data.Placeholder('movies')\n",
    "movie_genres_ph = getml.data.Placeholder('movie_genres')\n",
    "\n",
    "if USE_FIRST_NAMES:\n",
    "    first_names_ph = getml.data.Placeholder('first_names')\n",
    "    actors_ph.join(\n",
    "        first_names_ph,\n",
    "        join_key='rownum',\n",
    "        other_join_key='join_key'\n",
    "    )\n",
    "\n",
    "actors_ph.join(\n",
    "    roles_ph,\n",
    "    join_key='id',\n",
    "    other_join_key='actor_id'\n",
    ")\n",
    "\n",
    "roles_ph.join(\n",
    "    role_ph,\n",
    "    join_key='rownum',\n",
    "    other_join_key='join_key'\n",
    ")\n",
    "\n",
    "roles_ph.join(\n",
    "    movies_ph,\n",
    "    join_key='movie_id',\n",
    "    other_join_key='id',\n",
    "    relationship=getml.data.relationship.many_to_one\n",
    ")\n",
    "\n",
    "movies_ph.join(\n",
    "    movie_genres_ph,\n",
    "    join_key='id',\n",
    "    other_join_key='movie_id'\n",
    ")\n",
    "\n",
    "actors_ph"
   ]
  },
  {
   "cell_type": "markdown",
   "metadata": {},
   "source": [
    " "
   ]
  },
  {
   "cell_type": "markdown",
   "metadata": {},
   "source": [
    "### 2.2 getML pipeline"
   ]
  },
  {
   "cell_type": "markdown",
   "metadata": {},
   "source": [
    "<!-- #### 2.1.1  -->\n",
    "__Set-up the feature learner & predictor__"
   ]
  },
  {
   "cell_type": "markdown",
   "metadata": {},
   "source": [
    "We can either use the relboost default parameters or some more fine-tuned parameters. Fine-tuning these parameters in this way can increase our predictive accuracy to 85%, but the training time increases to over 4 hours. We therefore assume that we want to use the default parameters."
   ]
  },
  {
   "cell_type": "code",
   "execution_count": 24,
   "metadata": {},
   "outputs": [],
   "source": [
    "relboost = getml.feature_learning.RelboostModel(\n",
    "    num_features=30,\n",
    "    num_subfeatures=10,\n",
    "    loss_function=getml.feature_learning.loss_functions.CrossEntropyLoss,\n",
    "    seed=4367,\n",
    "    num_threads=1\n",
    ")\n",
    "\n",
    "if USE_FINE_TUNED:\n",
    "    relboost = getml.feature_learning.RelboostModel(\n",
    "        num_features=30,\n",
    "        num_subfeatures=10,\n",
    "        loss_function=getml.feature_learning.loss_functions.CrossEntropyLoss,\n",
    "        seed=4367,\n",
    "        num_threads=1,\n",
    "        sampling_factor=10,\n",
    "        max_depth=6\n",
    "    )\n",
    "\n",
    "predictor = getml.predictors.XGBoostClassifier()"
   ]
  },
  {
   "cell_type": "markdown",
   "metadata": {},
   "source": [
    "__Build the pipeline__"
   ]
  },
  {
   "cell_type": "code",
   "execution_count": 25,
   "metadata": {},
   "outputs": [],
   "source": [
    "peripheral_ph = [roles_ph, movies_ph, movie_genres_ph, role_ph]\n",
    "\n",
    "if USE_FIRST_NAMES:\n",
    "    peripheral_ph += [first_names_ph]\n",
    "\n",
    "pipe = getml.pipeline.Pipeline(\n",
    "    tags=['relboost'],\n",
    "    population=actors_ph,\n",
    "    peripheral=peripheral_ph,\n",
    "    feature_learners=[relboost],\n",
    "    predictors=[predictor]\n",
    ")"
   ]
  },
  {
   "cell_type": "markdown",
   "metadata": {},
   "source": [
    " "
   ]
  },
  {
   "cell_type": "markdown",
   "metadata": {},
   "source": [
    "### 2.3 Model training"
   ]
  },
  {
   "cell_type": "code",
   "execution_count": 26,
   "metadata": {},
   "outputs": [],
   "source": [
    "peripheral = {\n",
    "    \"roles\": roles, \n",
    "    \"movies\": movies, \n",
    "    \"movie_genres\": movies_genres, \n",
    "    \"role\": role\n",
    "}\n",
    "\n",
    "if USE_FIRST_NAMES:\n",
    "    peripheral[\"first_names\"] = first_names"
   ]
  },
  {
   "cell_type": "code",
   "execution_count": 27,
   "metadata": {},
   "outputs": [
    {
     "name": "stdout",
     "output_type": "stream",
     "text": [
      "Checking data model...\n"
     ]
    },
    {
     "name": "stderr",
     "output_type": "stream",
     "text": [
      "INFO [MIGHT TAKE LONG]: The number of unique entries in column 'words' in  data frame 'role' is 30324. This might take a long time to fit. You should consider setting its role to unused_string or using it for comparison only (you can do the latter by setting a unit that contains 'comparison only').\n",
      "INFO [JOIN KEYS NOT FOUND]: When joining the composite data frame 'roles'-'movies' that has been created by many-to-one joins or one-to-one joins and  data frame 'role' over 'rownum' and 'join_key', there are no corresponding entries for 32.398544% of entries in 'rownum' in 'the composite data frame 'roles'-'movies' that has been created by many-to-one joins or one-to-one joins'. You might want to double-check your join keys.\n",
      "INFO [JOIN KEYS NOT FOUND]: When joining the composite data frame 'roles'-'movies' that has been created by many-to-one joins or one-to-one joins and  data frame 'movie_genres' over 'id' and 'movie_id', there are no corresponding entries for 26.899421% of entries in 'id' in 'the composite data frame 'roles'-'movies' that has been created by many-to-one joins or one-to-one joins'. You might want to double-check your join keys.\n"
     ]
    }
   ],
   "source": [
    "pipe.check(data_train, peripheral)"
   ]
  },
  {
   "cell_type": "code",
   "execution_count": 28,
   "metadata": {},
   "outputs": [
    {
     "name": "stdout",
     "output_type": "stream",
     "text": [
      "Checking data model...\n"
     ]
    },
    {
     "name": "stderr",
     "output_type": "stream",
     "text": [
      "INFO [MIGHT TAKE LONG]: The number of unique entries in column 'words' in  data frame 'role' is 30324. This might take a long time to fit. You should consider setting its role to unused_string or using it for comparison only (you can do the latter by setting a unit that contains 'comparison only').\n",
      "INFO [JOIN KEYS NOT FOUND]: When joining the composite data frame 'roles'-'movies' that has been created by many-to-one joins or one-to-one joins and  data frame 'role' over 'rownum' and 'join_key', there are no corresponding entries for 32.398544% of entries in 'rownum' in 'the composite data frame 'roles'-'movies' that has been created by many-to-one joins or one-to-one joins'. You might want to double-check your join keys.\n",
      "INFO [JOIN KEYS NOT FOUND]: When joining the composite data frame 'roles'-'movies' that has been created by many-to-one joins or one-to-one joins and  data frame 'movie_genres' over 'id' and 'movie_id', there are no corresponding entries for 26.899421% of entries in 'id' in 'the composite data frame 'roles'-'movies' that has been created by many-to-one joins or one-to-one joins'. You might want to double-check your join keys.\n"
     ]
    },
    {
     "name": "stdout",
     "output_type": "stream",
     "text": [
      "\n",
      "Relboost: Training subfeatures...\n",
      "[========================================] 100%\n",
      "\n",
      "Relboost: Training subfeatures...\n",
      "[========================================] 100%\n",
      "\n",
      "Relboost: Building subfeatures...\n",
      "[========================================] 100%\n",
      "\n",
      "Relboost: Building subfeatures...\n",
      "[========================================] 100%\n",
      "\n",
      "Relboost: Training features...\n",
      "[========================================] 100%\n",
      "\n",
      "Relboost: Building subfeatures...\n",
      "[========================================] 100%\n",
      "\n",
      "Relboost: Building subfeatures...\n",
      "[========================================] 100%\n",
      "\n",
      "Relboost: Building features...\n",
      "[========================================] 100%\n",
      "\n",
      "XGBoost: Training as predictor...\n",
      "[========================================] 100%\n",
      "\n",
      "Trained pipeline.\n",
      "Time taken: 0h:32m:52.16737\n",
      "\n"
     ]
    },
    {
     "data": {
      "text/html": [
       "<pre>Pipeline(preprocessors=[], feature_learners=['RelboostModel'], <br>         feature_selectors=[], include_categorical=False, <br>         peripheral=['roles', 'movies', 'movie_genres', 'role'], <br>         population='actors', predictors=['XGBoostClassifier'], <br>         tags=['relboost'], share_selected_features=0.5)</pre><br><pre>url: <a href=\"http://localhost:1709/#/getpipeline/actors/5w8t93/0/\" target=\"_blank\">http://localhost:1709/#/getpipeline/actors/5w8t93/0/</a></pre>"
      ],
      "text/plain": [
       "Pipeline(preprocessors=[], feature_learners=['RelboostModel'], \n",
       "         feature_selectors=[], include_categorical=False, \n",
       "         peripheral=['roles', 'movies', 'movie_genres', 'role'], \n",
       "         population='actors', predictors=['XGBoostClassifier'], \n",
       "         tags=['relboost'], share_selected_features=0.5)\n",
       "\n",
       "url: http://localhost:1709/#/getpipeline/actors/5w8t93/0/"
      ]
     },
     "execution_count": 28,
     "metadata": {},
     "output_type": "execute_result"
    }
   ],
   "source": [
    "pipe.fit(data_train, peripheral)"
   ]
  },
  {
   "cell_type": "markdown",
   "metadata": {},
   "source": [
    " "
   ]
  },
  {
   "cell_type": "markdown",
   "metadata": {},
   "source": [
    "### 2.4 Model evaluation"
   ]
  },
  {
   "cell_type": "code",
   "execution_count": 29,
   "metadata": {
    "lines_to_next_cell": 0
   },
   "outputs": [
    {
     "name": "stdout",
     "output_type": "stream",
     "text": [
      "\n",
      "Relboost: Building subfeatures...\n",
      "[========================================] 100%\n",
      "\n",
      "Relboost: Building subfeatures...\n",
      "[========================================] 100%\n",
      "\n",
      "Relboost: Building features...\n",
      "[========================================] 100%\n",
      "\n"
     ]
    },
    {
     "data": {
      "text/html": [
       "<table class=\"dataframe\"><thead><tr style=\"border-bottom:1pt solid LightGray;\"><th style=\"text-align: left;border-right:1pt solid LightGray;\"> </th><th style=\"text-align: right;\">date time          </th><th style=\"text-align: right;\">set used  </th><th style=\"text-align: right;\">target</th><th style=\"text-align: right;\">accuracy</th><th style=\"text-align: right;\">     auc</th><th style=\"text-align: right;\">cross entropy</th></tr></thead><tbody><tr style=\"border-top:1pt solid LightGray;\"><td style=\"border-right:1pt solid LightGray;\"><b>0</b></td><td>2021-01-04 17:17:20</td><td>data_train</td><td>target</td><td> 0.83787</td><td> 0.91198</td><td>      0.33191</td></tr><tr><td style=\"border-right:1pt solid LightGray;\"><b>1</b></td><td>2021-01-04 17:17:51</td><td>data_test </td><td>target</td><td> 0.83685</td><td> 0.91063</td><td>      0.33448</td></tr></tbody></table>"
      ],
      "text/plain": [
       "    date time             set used     target   accuracy        auc   cross entropy\n",
       "0   2021-01-04 17:17:20   data_train   target    0.83787    0.91198         0.33191\n",
       "1   2021-01-04 17:17:51   data_test    target    0.83685    0.91063         0.33448"
      ]
     },
     "execution_count": 29,
     "metadata": {},
     "output_type": "execute_result"
    }
   ],
   "source": [
    "pipe.score(data_test, peripheral)"
   ]
  },
  {
   "cell_type": "markdown",
   "metadata": {},
   "source": [
    " "
   ]
  },
  {
   "cell_type": "markdown",
   "metadata": {},
   "source": [
    "### 2.6 Studying features"
   ]
  },
  {
   "cell_type": "markdown",
   "metadata": {},
   "source": [
    "__Feature correlations__\n",
    "\n",
    "We want to analyze how the features are correlated with the target variable."
   ]
  },
  {
   "cell_type": "code",
   "execution_count": 30,
   "metadata": {},
   "outputs": [
    {
     "data": {
      "image/png": "[encoded data removed]",
      "text/plain": [
       "<Figure size 1440x720 with 1 Axes>"
      ]
     },
     "metadata": {
      "needs_background": "light"
     },
     "output_type": "display_data"
    }
   ],
   "source": [
    "names, correlations = pipe.features.correlations()\n",
    "\n",
    "plt.subplots(figsize=(20, 10))\n",
    "\n",
    "plt.bar(names, correlations, color='#6829c2')\n",
    "\n",
    "plt.title('Feature Correlations')\n",
    "plt.xlabel('Features')\n",
    "plt.ylabel('Correlations')\n",
    "plt.xticks(rotation='vertical')\n",
    "plt.show()"
   ]
  },
  {
   "cell_type": "code",
   "execution_count": 31,
   "metadata": {},
   "outputs": [],
   "source": [
    "pipe.features.to_sql().save(\"features.sql\")"
   ]
  },
  {
   "cell_type": "markdown",
   "metadata": {},
   "source": [
    " "
   ]
  },
  {
   "cell_type": "markdown",
   "metadata": {},
   "source": [
    "__Feature importances__\n",
    " \n",
    "Feature importances are calculated by analyzing the improvement in predictive accuracy on each node of the trees in the XGBoost predictor. They are then normalized, so that all importances add up to 100%."
   ]
  },
  {
   "cell_type": "code",
   "execution_count": 32,
   "metadata": {
    "lines_to_next_cell": 0
   },
   "outputs": [
    {
     "data": {
      "image/png": "[encoded data removed]",
      "text/plain": [
       "<Figure size 1440x720 with 1 Axes>"
      ]
     },
     "metadata": {
      "needs_background": "light"
     },
     "output_type": "display_data"
    }
   ],
   "source": [
    "names, importances = pipe.features.importances()\n",
    "\n",
    "plt.subplots(figsize=(20, 10))\n",
    "\n",
    "plt.bar(names, importances, color='#6829c2')\n",
    "\n",
    "plt.title('Feature Importances')\n",
    "plt.xlabel('Features')\n",
    "plt.ylabel('Importances')\n",
    "plt.xticks(rotation='vertical')\n",
    "plt.show()\n",
    "\n",
    "most_important = names[0]"
   ]
  },
  {
   "cell_type": "markdown",
   "metadata": {},
   "source": [
    "  "
   ]
  },
  {
   "cell_type": "markdown",
   "metadata": {},
   "source": [
    "__Column importances__\n",
    "\n",
    "Because getML uses relational learning, we can apply the principles we used to calculate the feature importances to individual columns as well.\n",
    "\n",
    "As we can see, most of the predictive accuracy is drawn from the roles played by the actors. This suggests that the text fields contained in this relational database have a higher impact on predictive accuracy than for most other data sets."
   ]
  },
  {
   "cell_type": "code",
   "execution_count": 33,
   "metadata": {},
   "outputs": [
    {
     "data": {
      "image/png": "[encoded data removed]",
      "text/plain": [
       "<Figure size 1440x720 with 1 Axes>"
      ]
     },
     "metadata": {
      "needs_background": "light"
     },
     "output_type": "display_data"
    }
   ],
   "source": [
    "names, importances = pipe.columns.importances()\n",
    "\n",
    "plt.subplots(figsize=(20, 10))\n",
    "\n",
    "plt.bar(names, importances, color='#6829c2')\n",
    "\n",
    "plt.title('Columns importances')\n",
    "plt.xlabel('Columns')\n",
    "plt.ylabel('Importances')\n",
    "plt.xticks(rotation='vertical')\n",
    "plt.show()\n",
    "\n",
    "most_important = names[0]"
   ]
  },
  {
   "cell_type": "markdown",
   "metadata": {},
   "source": [
    " "
   ]
  },
  {
   "cell_type": "markdown",
   "metadata": {},
   "source": [
    "__Transpiling the learned features__\n",
    "\n",
    "We can also transpile the learned features to SQLite3 code. We want to show the two most important features. That is why we call the `.features.importances().` method again. The names that are returned are already sorted by importance."
   ]
  },
  {
   "cell_type": "markdown",
   "metadata": {},
   "source": [
    " "
   ]
  },
  {
   "cell_type": "code",
   "execution_count": 34,
   "metadata": {},
   "outputs": [
    {
     "data": {
      "text/markdown": [
       "```sql\n",
       "DROP TABLE IF EXISTS \"FEATURE_1_9\";\n",
       "\n",
       "CREATE TABLE \"FEATURE_1_9\" AS\n",
       "SELECT AVG( \n",
       "    CASE\n",
       "        WHEN ( COALESCE( f_1_1_1.\"feature_1_1_1\", 0.0 ) > 0.976750 ) AND ( COALESCE( f_1_1_4.\"feature_1_1_4\", 0.0 ) > -0.770013 ) AND ( COALESCE( f_1_1_6.\"feature_1_1_6\", 0.0 ) > 0.095614 ) THEN 2.205652094175146\n",
       "        WHEN ( COALESCE( f_1_1_1.\"feature_1_1_1\", 0.0 ) > 0.976750 ) AND ( COALESCE( f_1_1_4.\"feature_1_1_4\", 0.0 ) > -0.770013 ) AND ( COALESCE( f_1_1_6.\"feature_1_1_6\", 0.0 ) <= 0.095614 ) THEN 1.216762259310199\n",
       "        WHEN ( COALESCE( f_1_1_1.\"feature_1_1_1\", 0.0 ) > 0.976750 ) AND ( COALESCE( f_1_1_4.\"feature_1_1_4\", 0.0 ) <= -0.770013 ) AND ( COALESCE( f_1_1_9.\"feature_1_1_9\", 0.0 ) > 1.381433 ) THEN 2.378791318520698\n",
       "        WHEN ( COALESCE( f_1_1_1.\"feature_1_1_1\", 0.0 ) > 0.976750 ) AND ( COALESCE( f_1_1_4.\"feature_1_1_4\", 0.0 ) <= -0.770013 ) AND ( COALESCE( f_1_1_9.\"feature_1_1_9\", 0.0 ) <= 1.381433 ) THEN -0.1394609890449373\n",
       "        WHEN ( COALESCE( f_1_1_1.\"feature_1_1_1\", 0.0 ) <= 0.976750 ) AND ( COALESCE( f_1_1_2.\"feature_1_1_2\", 0.0 ) > -0.078755 ) AND ( COALESCE( f_1_1_10.\"feature_1_1_10\", 0.0 ) > 0.568261 ) THEN 1.583688195379998\n",
       "        WHEN ( COALESCE( f_1_1_1.\"feature_1_1_1\", 0.0 ) <= 0.976750 ) AND ( COALESCE( f_1_1_2.\"feature_1_1_2\", 0.0 ) > -0.078755 ) AND ( COALESCE( f_1_1_10.\"feature_1_1_10\", 0.0 ) <= 0.568261 ) THEN 0.5506946932894903\n",
       "        WHEN ( COALESCE( f_1_1_1.\"feature_1_1_1\", 0.0 ) <= 0.976750 ) AND ( COALESCE( f_1_1_2.\"feature_1_1_2\", 0.0 ) <= -0.078755 ) AND ( COALESCE( f_1_1_3.\"feature_1_1_3\", 0.0 ) > -0.190297 ) THEN 0.1409061420637177\n",
       "        WHEN ( COALESCE( f_1_1_1.\"feature_1_1_1\", 0.0 ) <= 0.976750 ) AND ( COALESCE( f_1_1_2.\"feature_1_1_2\", 0.0 ) <= -0.078755 ) AND ( COALESCE( f_1_1_3.\"feature_1_1_3\", 0.0 ) <= -0.190297 ) THEN -0.6495160621593925\n",
       "        ELSE NULL\n",
       "    END\n",
       ") AS \"feature_1_9\",\n",
       "     t1.rowid AS \"rownum\"\n",
       "FROM \"actors\" t1\n",
       "LEFT JOIN \"roles\" t2\n",
       "ON t1.\"id\" = t2.\"actor_id\"\n",
       "LEFT JOIN \"movies\" t3\n",
       "ON t2.\"movie_id\" = t3.\"id\"\n",
       "LEFT JOIN \"FEATURE_1_1_1\" f_1_1_1\n",
       "ON t2.rowid = f_1_1_1.\"rownum\"\n",
       "LEFT JOIN \"FEATURE_1_1_2\" f_1_1_2\n",
       "ON t2.rowid = f_1_1_2.\"rownum\"\n",
       "LEFT JOIN \"FEATURE_1_1_3\" f_1_1_3\n",
       "ON t2.rowid = f_1_1_3.\"rownum\"\n",
       "LEFT JOIN \"FEATURE_1_1_4\" f_1_1_4\n",
       "ON t2.rowid = f_1_1_4.\"rownum\"\n",
       "LEFT JOIN \"FEATURE_1_1_6\" f_1_1_6\n",
       "ON t2.rowid = f_1_1_6.\"rownum\"\n",
       "LEFT JOIN \"FEATURE_1_1_9\" f_1_1_9\n",
       "ON t2.rowid = f_1_1_9.\"rownum\"\n",
       "LEFT JOIN \"FEATURE_1_1_10\" f_1_1_10\n",
       "ON t2.rowid = f_1_1_10.\"rownum\"\n",
       "GROUP BY t1.rowid;\n",
       "```"
      ],
      "text/plain": [
       "DROP TABLE IF EXISTS \"FEATURE_1_9\";\n",
       "\n",
       "CREATE TABLE \"FEATURE_1_9\" AS\n",
       "SELECT AVG( \n",
       "    CASE\n",
       "        WHEN ( COALESCE( f_1_1_1.\"feature_1_1_1\", 0.0 ) > 0.976750 ) AND ( COALESCE( f_1_1_4.\"feature_1_1_4\", 0.0 ) > -0.770013 ) AND ( COALESCE( f_1_1_6.\"feature_1_1_6\", 0.0 ) > 0.095614 ) THEN 2.205652094175146\n",
       "        WHEN ( COALESCE( f_1_1_1.\"feature_1_1_1\", 0.0 ) > 0.976750 ) AND ( COALESCE( f_1_1_4.\"feature_1_1_4\", 0.0 ) > -0.770013 ) AND ( COALESCE( f_1_1_6.\"feature_1_1_6\", 0.0 ) <= 0.095614 ) THEN 1.216762259310199\n",
       "        WHEN ( COALESCE( f_1_1_1.\"feature_1_1_1\", 0.0 ) > 0.976750 ) AND ( COALESCE( f_1_1_4.\"feature_1_1_4\", 0.0 ) <= -0.770013 ) AND ( COALESCE( f_1_1_9.\"feature_1_1_9\", 0.0 ) > 1.381433 ) THEN 2.378791318520698\n",
       "        WHEN ( COALESCE( f_1_1_1.\"feature_1_1_1\", 0.0 ) > 0.976750 ) AND ( COALESCE( f_1_1_4.\"feature_1_1_4\", 0.0 ) <= -0.770013 ) AND ( COALESCE( f_1_1_9.\"feature_1_1_9\", 0.0 ) <= 1.381433 ) THEN -0.1394609890449373\n",
       "        WHEN ( COALESCE( f_1_1_1.\"feature_1_1_1\", 0.0 ) <= 0.976750 ) AND ( COALESCE( f_1_1_2.\"feature_1_1_2\", 0.0 ) > -0.078755 ) AND ( COALESCE( f_1_1_10.\"feature_1_1_10\", 0.0 ) > 0.568261 ) THEN 1.583688195379998\n",
       "        WHEN ( COALESCE( f_1_1_1.\"feature_1_1_1\", 0.0 ) <= 0.976750 ) AND ( COALESCE( f_1_1_2.\"feature_1_1_2\", 0.0 ) > -0.078755 ) AND ( COALESCE( f_1_1_10.\"feature_1_1_10\", 0.0 ) <= 0.568261 ) THEN 0.5506946932894903\n",
       "        WHEN ( COALESCE( f_1_1_1.\"feature_1_1_1\", 0.0 ) <= 0.976750 ) AND ( COALESCE( f_1_1_2.\"feature_1_1_2\", 0.0 ) <= -0.078755 ) AND ( COALESCE( f_1_1_3.\"feature_1_1_3\", 0.0 ) > -0.190297 ) THEN 0.1409061420637177\n",
       "        WHEN ( COALESCE( f_1_1_1.\"feature_1_1_1\", 0.0 ) <= 0.976750 ) AND ( COALESCE( f_1_1_2.\"feature_1_1_2\", 0.0 ) <= -0.078755 ) AND ( COALESCE( f_1_1_3.\"feature_1_1_3\", 0.0 ) <= -0.190297 ) THEN -0.6495160621593925\n",
       "        ELSE NULL\n",
       "    END\n",
       ") AS \"feature_1_9\",\n",
       "     t1.rowid AS \"rownum\"\n",
       "FROM \"actors\" t1\n",
       "LEFT JOIN \"roles\" t2\n",
       "ON t1.\"id\" = t2.\"actor_id\"\n",
       "LEFT JOIN \"movies\" t3\n",
       "ON t2.\"movie_id\" = t3.\"id\"\n",
       "LEFT JOIN \"FEATURE_1_1_1\" f_1_1_1\n",
       "ON t2.rowid = f_1_1_1.\"rownum\"\n",
       "LEFT JOIN \"FEATURE_1_1_2\" f_1_1_2\n",
       "ON t2.rowid = f_1_1_2.\"rownum\"\n",
       "LEFT JOIN \"FEATURE_1_1_3\" f_1_1_3\n",
       "ON t2.rowid = f_1_1_3.\"rownum\"\n",
       "LEFT JOIN \"FEATURE_1_1_4\" f_1_1_4\n",
       "ON t2.rowid = f_1_1_4.\"rownum\"\n",
       "LEFT JOIN \"FEATURE_1_1_6\" f_1_1_6\n",
       "ON t2.rowid = f_1_1_6.\"rownum\"\n",
       "LEFT JOIN \"FEATURE_1_1_9\" f_1_1_9\n",
       "ON t2.rowid = f_1_1_9.\"rownum\"\n",
       "LEFT JOIN \"FEATURE_1_1_10\" f_1_1_10\n",
       "ON t2.rowid = f_1_1_10.\"rownum\"\n",
       "GROUP BY t1.rowid;"
      ]
     },
     "execution_count": 34,
     "metadata": {},
     "output_type": "execute_result"
    }
   ],
   "source": [
    "names, _ = pipe.features.importances()\n",
    "\n",
    "pipe.features.to_sql()[names[0]]"
   ]
  },
  {
   "cell_type": "code",
   "execution_count": 35,
   "metadata": {},
   "outputs": [
    {
     "data": {
      "text/markdown": [
       "```sql\n",
       "DROP TABLE IF EXISTS \"FEATURE_1_3\";\n",
       "\n",
       "CREATE TABLE \"FEATURE_1_3\" AS\n",
       "SELECT AVG( \n",
       "    CASE\n",
       "        WHEN ( COALESCE( f_1_1_3.\"feature_1_1_3\", 0.0 ) > 0.412141 ) AND ( COALESCE( f_1_1_1.\"feature_1_1_1\", 0.0 ) > 0.975704 ) AND ( COALESCE( f_1_1_8.\"feature_1_1_8\", 0.0 ) > 0.174344 ) THEN 2.318667207226012\n",
       "        WHEN ( COALESCE( f_1_1_3.\"feature_1_1_3\", 0.0 ) > 0.412141 ) AND ( COALESCE( f_1_1_1.\"feature_1_1_1\", 0.0 ) > 0.975704 ) AND ( COALESCE( f_1_1_8.\"feature_1_1_8\", 0.0 ) <= 0.174344 ) THEN 1.361466629794482\n",
       "        WHEN ( COALESCE( f_1_1_3.\"feature_1_1_3\", 0.0 ) > 0.412141 ) AND ( COALESCE( f_1_1_1.\"feature_1_1_1\", 0.0 ) <= 0.975704 ) AND ( COALESCE( f_1_1_2.\"feature_1_1_2\", 0.0 ) > 0.049104 ) THEN 1.254297881205396\n",
       "        WHEN ( COALESCE( f_1_1_3.\"feature_1_1_3\", 0.0 ) > 0.412141 ) AND ( COALESCE( f_1_1_1.\"feature_1_1_1\", 0.0 ) <= 0.975704 ) AND ( COALESCE( f_1_1_2.\"feature_1_1_2\", 0.0 ) <= 0.049104 ) THEN -0.37801025983078\n",
       "        WHEN ( COALESCE( f_1_1_3.\"feature_1_1_3\", 0.0 ) <= 0.412141 ) AND ( COALESCE( f_1_1_6.\"feature_1_1_6\", 0.0 ) > -0.072895 ) AND ( COALESCE( f_1_1_5.\"feature_1_1_5\", 0.0 ) > 1.357579 ) THEN 1.705829352700627\n",
       "        WHEN ( COALESCE( f_1_1_3.\"feature_1_1_3\", 0.0 ) <= 0.412141 ) AND ( COALESCE( f_1_1_6.\"feature_1_1_6\", 0.0 ) > -0.072895 ) AND ( COALESCE( f_1_1_5.\"feature_1_1_5\", 0.0 ) <= 1.357579 ) THEN -0.05686232172955295\n",
       "        WHEN ( COALESCE( f_1_1_3.\"feature_1_1_3\", 0.0 ) <= 0.412141 ) AND ( COALESCE( f_1_1_6.\"feature_1_1_6\", 0.0 ) <= -0.072895 ) AND ( COALESCE( f_1_1_2.\"feature_1_1_2\", 0.0 ) > -0.178800 ) THEN -0.6310083244835683\n",
       "        WHEN ( COALESCE( f_1_1_3.\"feature_1_1_3\", 0.0 ) <= 0.412141 ) AND ( COALESCE( f_1_1_6.\"feature_1_1_6\", 0.0 ) <= -0.072895 ) AND ( COALESCE( f_1_1_2.\"feature_1_1_2\", 0.0 ) <= -0.178800 ) THEN -1.481887259024015\n",
       "        ELSE NULL\n",
       "    END\n",
       ") AS \"feature_1_3\",\n",
       "     t1.rowid AS \"rownum\"\n",
       "FROM \"actors\" t1\n",
       "LEFT JOIN \"roles\" t2\n",
       "ON t1.\"id\" = t2.\"actor_id\"\n",
       "LEFT JOIN \"movies\" t3\n",
       "ON t2.\"movie_id\" = t3.\"id\"\n",
       "LEFT JOIN \"FEATURE_1_1_1\" f_1_1_1\n",
       "ON t2.rowid = f_1_1_1.\"rownum\"\n",
       "LEFT JOIN \"FEATURE_1_1_2\" f_1_1_2\n",
       "ON t2.rowid = f_1_1_2.\"rownum\"\n",
       "LEFT JOIN \"FEATURE_1_1_3\" f_1_1_3\n",
       "ON t2.rowid = f_1_1_3.\"rownum\"\n",
       "LEFT JOIN \"FEATURE_1_1_5\" f_1_1_5\n",
       "ON t2.rowid = f_1_1_5.\"rownum\"\n",
       "LEFT JOIN \"FEATURE_1_1_6\" f_1_1_6\n",
       "ON t2.rowid = f_1_1_6.\"rownum\"\n",
       "LEFT JOIN \"FEATURE_1_1_8\" f_1_1_8\n",
       "ON t2.rowid = f_1_1_8.\"rownum\"\n",
       "GROUP BY t1.rowid;\n",
       "```"
      ],
      "text/plain": [
       "DROP TABLE IF EXISTS \"FEATURE_1_3\";\n",
       "\n",
       "CREATE TABLE \"FEATURE_1_3\" AS\n",
       "SELECT AVG( \n",
       "    CASE\n",
       "        WHEN ( COALESCE( f_1_1_3.\"feature_1_1_3\", 0.0 ) > 0.412141 ) AND ( COALESCE( f_1_1_1.\"feature_1_1_1\", 0.0 ) > 0.975704 ) AND ( COALESCE( f_1_1_8.\"feature_1_1_8\", 0.0 ) > 0.174344 ) THEN 2.318667207226012\n",
       "        WHEN ( COALESCE( f_1_1_3.\"feature_1_1_3\", 0.0 ) > 0.412141 ) AND ( COALESCE( f_1_1_1.\"feature_1_1_1\", 0.0 ) > 0.975704 ) AND ( COALESCE( f_1_1_8.\"feature_1_1_8\", 0.0 ) <= 0.174344 ) THEN 1.361466629794482\n",
       "        WHEN ( COALESCE( f_1_1_3.\"feature_1_1_3\", 0.0 ) > 0.412141 ) AND ( COALESCE( f_1_1_1.\"feature_1_1_1\", 0.0 ) <= 0.975704 ) AND ( COALESCE( f_1_1_2.\"feature_1_1_2\", 0.0 ) > 0.049104 ) THEN 1.254297881205396\n",
       "        WHEN ( COALESCE( f_1_1_3.\"feature_1_1_3\", 0.0 ) > 0.412141 ) AND ( COALESCE( f_1_1_1.\"feature_1_1_1\", 0.0 ) <= 0.975704 ) AND ( COALESCE( f_1_1_2.\"feature_1_1_2\", 0.0 ) <= 0.049104 ) THEN -0.37801025983078\n",
       "        WHEN ( COALESCE( f_1_1_3.\"feature_1_1_3\", 0.0 ) <= 0.412141 ) AND ( COALESCE( f_1_1_6.\"feature_1_1_6\", 0.0 ) > -0.072895 ) AND ( COALESCE( f_1_1_5.\"feature_1_1_5\", 0.0 ) > 1.357579 ) THEN 1.705829352700627\n",
       "        WHEN ( COALESCE( f_1_1_3.\"feature_1_1_3\", 0.0 ) <= 0.412141 ) AND ( COALESCE( f_1_1_6.\"feature_1_1_6\", 0.0 ) > -0.072895 ) AND ( COALESCE( f_1_1_5.\"feature_1_1_5\", 0.0 ) <= 1.357579 ) THEN -0.05686232172955295\n",
       "        WHEN ( COALESCE( f_1_1_3.\"feature_1_1_3\", 0.0 ) <= 0.412141 ) AND ( COALESCE( f_1_1_6.\"feature_1_1_6\", 0.0 ) <= -0.072895 ) AND ( COALESCE( f_1_1_2.\"feature_1_1_2\", 0.0 ) > -0.178800 ) THEN -0.6310083244835683\n",
       "        WHEN ( COALESCE( f_1_1_3.\"feature_1_1_3\", 0.0 ) <= 0.412141 ) AND ( COALESCE( f_1_1_6.\"feature_1_1_6\", 0.0 ) <= -0.072895 ) AND ( COALESCE( f_1_1_2.\"feature_1_1_2\", 0.0 ) <= -0.178800 ) THEN -1.481887259024015\n",
       "        ELSE NULL\n",
       "    END\n",
       ") AS \"feature_1_3\",\n",
       "     t1.rowid AS \"rownum\"\n",
       "FROM \"actors\" t1\n",
       "LEFT JOIN \"roles\" t2\n",
       "ON t1.\"id\" = t2.\"actor_id\"\n",
       "LEFT JOIN \"movies\" t3\n",
       "ON t2.\"movie_id\" = t3.\"id\"\n",
       "LEFT JOIN \"FEATURE_1_1_1\" f_1_1_1\n",
       "ON t2.rowid = f_1_1_1.\"rownum\"\n",
       "LEFT JOIN \"FEATURE_1_1_2\" f_1_1_2\n",
       "ON t2.rowid = f_1_1_2.\"rownum\"\n",
       "LEFT JOIN \"FEATURE_1_1_3\" f_1_1_3\n",
       "ON t2.rowid = f_1_1_3.\"rownum\"\n",
       "LEFT JOIN \"FEATURE_1_1_5\" f_1_1_5\n",
       "ON t2.rowid = f_1_1_5.\"rownum\"\n",
       "LEFT JOIN \"FEATURE_1_1_6\" f_1_1_6\n",
       "ON t2.rowid = f_1_1_6.\"rownum\"\n",
       "LEFT JOIN \"FEATURE_1_1_8\" f_1_1_8\n",
       "ON t2.rowid = f_1_1_8.\"rownum\"\n",
       "GROUP BY t1.rowid;"
      ]
     },
     "execution_count": 35,
     "metadata": {},
     "output_type": "execute_result"
    }
   ],
   "source": [
    "names, _ = pipe.features.importances()\n",
    "\n",
    "pipe.features.to_sql()[names[1]]"
   ]
  },
  {
   "cell_type": "markdown",
   "metadata": {},
   "source": [
    " "
   ]
  },
  {
   "cell_type": "markdown",
   "metadata": {},
   "source": [
    "### 2.7 Benchmarks"
   ]
  },
  {
   "cell_type": "markdown",
   "metadata": {},
   "source": [
    "State-of-the-art approaches on this data set perform as follows:\n",
    "\n",
    "| Approach                      | Study                      | Accuracy     | AUC     |\n",
    "| :--------------------------   | :------------------------  | -----------: | ------: |\n",
    "| Relational dependency network | Neville and Jensen (2007)  | --           |    86%  |\n",
    "| Relational dependency network | Neville and Jensen (2003)  | 81.98%       | --      |\n",
    "| Wordification                 | Perovšek et al. (2015)     | 81.93%       |    75%  |\n",
    "| Relational Probability Tree   | Neville et al. (2003)      | 80%          | --      |\n",
    "\n",
    "As we can see, the performance of the relboost algorithm, as used in this notebook, compares favorably to these benchmarks, solidly outperforming Neville and Jensen (2007), which was published in the Journal of Machine Learning Research.\n",
    "\n",
    "| Approach                      | Accuracy     | AUC     |\n",
    "| :---------------------------- | -----------: | ------: |\n",
    "| relboost (tuned)              | 85.00%       | 92.45%  |\n",
    "| relboost (default parameters) | 83.69%       | 91.06%  |"
   ]
  },
  {
   "cell_type": "markdown",
   "metadata": {},
   "source": [
    "## 3. Conclusion\n",
    "\n",
    "In this notebook we have demonstrated how getML can be applied to text fields. We have demonstrated the our  approach outperforms state-of-the-art relational learning algorithms on the IMdb dataset."
   ]
  },
  {
   "cell_type": "markdown",
   "metadata": {},
   "source": [
    " "
   ]
  },
  {
   "cell_type": "markdown",
   "metadata": {},
   "source": [
    "## Citations\n",
    "\n",
    "Motl, Jan, and Oliver Schulte. \"The CTU prague relational learning repository.\" arXiv preprint arXiv:1511.03086 (2015).\n",
    "    \n",
    "Neville, Jennifer, and David Jensen. \"Relational dependency networks.\" Journal of Machine Learning Research 8.Mar (2007): 653-692.\n",
    "    \n",
    "Neville, Jennifer, and David Jensen. \"Collective classification with relational dependency networks.\" Workshop on Multi-Relational Data Mining (MRDM-2003). 2003.\n",
    "    \n",
    "Neville, Jennifer, et al. \"Learning relational probability trees.\" Proceedings of the Ninth ACM SIGKDD international conference on Knowledge discovery and data mining. 2003.\n",
    "    \n",
    "Perovšek, Matic, et al. \"Wordification: Propositionalization by unfolding relational data into bags of words.\" Expert Systems with Applications 42.17-18 (2015): 6442-6456."
   ]
  },
  {
   "cell_type": "markdown",
   "metadata": {},
   "source": [
    " "
   ]
  },
  {
   "cell_type": "markdown",
   "metadata": {},
   "source": [
    "# Next Steps\n",
    "\n",
    "This tutorial went through the basics of applying getML to relational data. If you want to learn more about getML, here are some additional tutorials and articles that will help you:\n",
    "\n",
    "__Tutorials:__\n",
    "* [Loan default prediction: Introduction to relational learning](loans_demo.ipynb)\n",
    "* [Occupancy detection: A multivariate time series example](occupancy_demo.ipynb)  \n",
    "* [Expenditure categorization: Why relational learning matters](consumer_expenditures_demo.ipynb)\n",
    "* [Disease lethality prediction: Feature engineering and the curse of dimensionality](atherosclerosis_demo.ipynb)\n",
    "* [Traffic volume prediction: Feature engineering on multivariate time series](interstate94_demo.ipynb)\n",
    "* [Air pollution prediction: Why feature learning outperforms brute-force approaches](air_pollution_demo.ipynb) \n",
    "\n",
    "\n",
    "__User Guides__ (from our [documentation](https://docs.getml.com/latest/)):\n",
    "* [Feature learning with Multirel](https://docs.getml.com/latest/user_guide/feature_engineering/feature_engineering.html#multirel)\n",
    "* [Feature learning with Relboost](https://docs.getml.com/latest/user_guide/feature_engineering/feature_engineering.html#relboost)\n"
   ]
  },
  {
   "cell_type": "markdown",
   "metadata": {},
   "source": [
    " "
   ]
  },
  {
   "cell_type": "markdown",
   "metadata": {},
   "source": [
    "# Get in contact\n",
    "\n",
    "If you have any question schedule a [call with Alex](https://go.getml.com/meetings/alexander-uhlig/getml-demo), the co-founder of getML, or write us an [email](team@getml.com). Prefer a private demo of getML? Just contact us to make an appointment."
   ]
  },
  {
   "cell_type": "markdown",
   "metadata": {},
   "source": [
    " "
   ]
  }
 ],
 "metadata": {
  "jupytext": {
   "encoding": "# -*- coding: utf-8 -*-",
   "formats": "ipynb,py:percent,md"
  },
  "kernelspec": {
   "display_name": "Python 3",
   "language": "python",
   "name": "python3"
  },
  "language_info": {
   "codemirror_mode": {
    "name": "ipython",
    "version": 3
   },
   "file_extension": ".py",
   "mimetype": "text/x-python",
   "name": "python",
   "nbconvert_exporter": "python",
   "pygments_lexer": "ipython3",
   "version": "3.8.5"
  },
  "toc": {
   "base_numbering": 1,
   "nav_menu": {},
   "number_sections": false,
   "sideBar": true,
   "skip_h1_title": false,
   "title_cell": "Table of Contents",
   "title_sidebar": "Contents",
   "toc_cell": false,
   "toc_position": {},
   "toc_section_display": true,
   "toc_window_display": true
  }
 },
 "nbformat": 4,
 "nbformat_minor": 4
}
