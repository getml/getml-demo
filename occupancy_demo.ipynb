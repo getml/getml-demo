{
 "cells": [
  {
   "cell_type": "markdown",
   "metadata": {
    "slideshow": {
     "slide_type": "slide"
    },
    "tags": [
     "hide_input"
    ]
   },
   "source": [
    "# Occupancy detection\n",
    "\n",
    "### A multivariate time series example\n",
    "\n",
    "In this tutorial, you will learn how to apply getML to multivariate time series. It also demonstrates how to use getML's hyperparameter tuning routines.\n",
    "\n",
    "Summary:\n",
    "\n",
    "- Prediction type: __Binary classification__\n",
    "- Domain: __Energy__\n",
    "- Prediction target: __Room occupancy__ \n",
    "- Source data: __1 table, 32k rows__\n",
    "- Population size: __32k__\n",
    "\n",
    "_Author: Dr. Johannes King_"
   ]
  },
  {
   "cell_type": "markdown",
   "metadata": {},
   "source": [
    " "
   ]
  },
  {
   "cell_type": "markdown",
   "metadata": {},
   "source": [
    "# Background"
   ]
  },
  {
   "cell_type": "markdown",
   "metadata": {
    "slideshow": {
     "slide_type": "slide"
    }
   },
   "source": [
    "Our use case is a public domain data set for predicting room occupancy from sensor data. The results achieved using getML outperform all published results on this data set. Note that this is not only a neat use case for machine learning algorithms, but a real-world application with tangible consequences: If room occupancy is known with sufficient certainty, it can be applied to the control systems of a building. Such as system can reduce the energy consumption by [up to 50 %](https://ieeexplore.ieee.org/document/7566062).\n",
    "\n",
    "\n",
    "### Introduction to occupancy prediction\n",
    "\n",
    "Usually, getML is considered to be a tool for feature engineering and machine learning on relational data sets. How can we apply it to (multivariate) time series?\n",
    "\n",
    "The key is a _self-join_. Instead of creating features by merging and aggregating peripheral tables in a relational data model, for a time-series, we perform the same operations on the population table itself. This results in features like these:\n",
    "\n",
    "* Aggregations over time, such as the average value of some column for the last 3 days.\n",
    "\n",
    "* Seasonal effects, such as today is a Wednesday, so let's get the average value for the last four Wednesdays.\n",
    "\n",
    "* Lag variables, such as get the value of some column from two hours ago.\n",
    "\n",
    "Using getML's algorithms for relational learning, we can extract all of these features automatically. Having created a flat table of such features, we can then apply state-of-the-art machine learning algorithms, like xgboost. As you will see in this example, this performs better than traditional time series analysis.\n",
    "\n",
    "The present analysis is based on a public domain time series dataset. It is available in the [UC Irvine Machine Learning Repository](http://archive.ics.uci.edu/ml/datasets/Occupancy+Detection+). The challenge is straightforward: We want to predict whether an office room is occupied at a given moment in time using sensor data. The data is measured about once a minute. Ground-truth occupancy was obtained from time-stamped pictures. The available columns are\n",
    "\n",
    "* Date, year-month-day hour:minute:second\n",
    "* Temperature, in Celsius\n",
    "* Relative Humidity, %\n",
    "* Light, in Lux\n",
    "* CO2, in ppm\n",
    "* Humidity Ratio, Derived quantity from temperature and relative humidity, in kgwater-vapor/kg-air\n",
    "* Occupancy, 0 or 1, 0 for not occupied, 1 for occupied status\n",
    "\n",
    "As a reference and benchmark, we use [this paper](http://www.worldresearchlibrary.org/up_proc/pdf/568-148612088816-20.pdf):\n",
    "\n",
    "* Accurate occupancy detection of an office room from light, temperature, humidity and CO2 measurements using statistical learning models. Luis M. Candanedo, Veronique Feldheim. Energy and Buildings. Volume 112, 15 January 2016, Pages 28-39.\n",
    "\n",
    "The authors apply various artifical neural networks algorithms to the data set at hand and achieved accuracies between 80.324% (batch back algorithm) and 99.061% (limited memory quasi-Newton algorithm)."
   ]
  },
  {
   "cell_type": "markdown",
   "metadata": {},
   "source": [
    " "
   ]
  },
  {
   "cell_type": "markdown",
   "metadata": {
    "slideshow": {
     "slide_type": "fragment"
    }
   },
   "source": [
    "### A web frontend for getML\n",
    "\n",
    "The getML monitor is a frontend built to support your work with getML. The getML monitor displays information such as the imported data frames, trained pipelines and allows easy data and feature exploration. You can launch the getML monitor [here](http://localhost:1709)."
   ]
  },
  {
   "cell_type": "markdown",
   "metadata": {},
   "source": [
    " "
   ]
  },
  {
   "cell_type": "markdown",
   "metadata": {
    "slideshow": {
     "slide_type": "slide"
    }
   },
   "source": [
    "### Where is this running?\n",
    "\n",
    "Your getML live session is running inside a docker container on [mybinder.org](https://mybinder.org/), a service built by the Jupyter community and funded by Google Cloud, OVH, GESIS Notebooks and the Turing Institute. As it is a free service, this session will shut down after 10 minutes of inactivity."
   ]
  },
  {
   "cell_type": "markdown",
   "metadata": {},
   "source": [
    " "
   ]
  },
  {
   "cell_type": "markdown",
   "metadata": {},
   "source": [
    "# Analysis"
   ]
  },
  {
   "cell_type": "markdown",
   "metadata": {},
   "source": [
    "Let's get started with the analysis and set-up your session:"
   ]
  },
  {
   "cell_type": "code",
   "execution_count": 1,
   "metadata": {},
   "outputs": [
    {
     "name": "stdout",
     "output_type": "stream",
     "text": [
      "getML API version: 0.14.0\n",
      "\n",
      "\n",
      "Connected to project 'occupancy'\n"
     ]
    }
   ],
   "source": [
    "import os\n",
    "import numpy as np\n",
    "import pandas as pd\n",
    "from urllib import request\n",
    "from IPython.display import Image, Markdown\n",
    "import matplotlib.pyplot as plt\n",
    "plt.style.use('seaborn')\n",
    "%matplotlib inline  \n",
    "\n",
    "import getml\n",
    "\n",
    "print(f\"getML API version: {getml.__version__}\\n\")\n",
    "\n",
    "getml.engine.set_project('occupancy')"
   ]
  },
  {
   "cell_type": "markdown",
   "metadata": {},
   "source": [
    " "
   ]
  },
  {
   "cell_type": "markdown",
   "metadata": {},
   "source": [
    "## 1. Loading data\n"
   ]
  },
  {
   "cell_type": "markdown",
   "metadata": {},
   "source": [
    "The data set can be downloaded directly from GitHub. It is conveniently separated into a training, a validation and a testing set. This allows us to directly benchmark our results against the results of the original paper later."
   ]
  },
  {
   "cell_type": "code",
   "execution_count": 2,
   "metadata": {},
   "outputs": [],
   "source": [
    "directory = '.temp/'\n",
    "\n",
    "fnames = [\n",
    "    'datatraining.txt',\n",
    "    'datatest.txt',\n",
    "    'datatest2.txt'\n",
    "]\n",
    "\n",
    "if not os.path.exists(directory):\n",
    "    os.makedirs(directory)\n",
    "\n",
    "for fname in fnames:\n",
    "    if not os.path.exists(directory + fname):\n",
    "        fname, res = request.urlretrieve(\n",
    "            \"https://raw.githubusercontent.com/LuisM78/Occupancy-detection-data/master/\" + fname, \n",
    "            directory + fname\n",
    "        )\n"
   ]
  },
  {
   "cell_type": "markdown",
   "metadata": {},
   "source": [
    "The data file contain the row number Because the data files are not valid CSV, we first load them into pandas before uploading them to the getML engine."
   ]
  },
  {
   "cell_type": "code",
   "execution_count": 3,
   "metadata": {},
   "outputs": [],
   "source": [
    "datatraining_pandas = pd.read_csv(directory + 'datatraining.txt')\n",
    "datatest_pandas = pd.read_csv(directory + 'datatest.txt')\n",
    "datatest2_pandas = pd.read_csv(directory + 'datatest2.txt')\n",
    "\n",
    "data_train = getml.data.DataFrame.from_pandas(datatraining_pandas, name='data_train')\n",
    "data_validate = getml.data.DataFrame.from_pandas(datatest_pandas, name='data_validate')\n",
    "data_test = getml.data.DataFrame.from_pandas(datatest2_pandas, name='data_test')"
   ]
  },
  {
   "cell_type": "markdown",
   "metadata": {},
   "source": [
    "The training set looks like this:"
   ]
  },
  {
   "cell_type": "code",
   "execution_count": 4,
   "metadata": {
    "scrolled": true,
    "tags": [
     "hide_input"
    ]
   },
   "outputs": [
    {
     "data": {
      "text/html": [
       "<table class=\"dataframe\"><thead><tr style=\"border-bottom:1pt solid LightGray;\"><th style=\"text-align: left;border-right:1pt solid LightGray;\">Name</th><th style=\"text-align: right;\">Temperature</th><th style=\"text-align: right;\">Humidity</th><th style=\"text-align: right;\">Light</th><th style=\"text-align: right;\">CO2</th><th style=\"text-align: right;\">HumidityRatio</th><th style=\"text-align: right;\">Occupancy</th><th style=\"text-align: right;\">date</th></tr><tr><th style=\"text-align: left;border-right:1pt solid LightGray;\">Role</th><td style=\"text-align: right;\"><i>unused_float</i></td><td style=\"text-align: right;\"><i>unused_float</i></td><td style=\"text-align: right;\"><i>unused_float</i></td><td style=\"text-align: right;\"><i>unused_float</i></td><td style=\"text-align: right;\"><i>unused_float</i></td><td style=\"text-align: right;\"><i>unused_float</i></td><td style=\"text-align: right;\"><i>unused_string</i></td></tr></thead><tbody><tr style=\"border-top:1pt solid LightGray;\"><td style=\"border-right:1pt solid LightGray;\"><b>0</b></td><td>23.18</td><td>27.272</td><td>426</td><td>721.25</td><td>0.00479299</td><td>1</td><td>2015-02-04 17:51:00</td></tr><tr><td style=\"border-right:1pt solid LightGray;\"><b>1</b></td><td>23.15</td><td>27.2675</td><td>429.5</td><td>714</td><td>0.00478344</td><td>1</td><td>2015-02-04 17:51:59</td></tr><tr><td style=\"border-right:1pt solid LightGray;\"><b>2</b></td><td>23.15</td><td>27.245</td><td>426</td><td>713.5</td><td>0.00477946</td><td>1</td><td>2015-02-04 17:53:00</td></tr><tr><td style=\"border-right:1pt solid LightGray;\"><b>3</b></td><td>23.15</td><td>27.2</td><td>426</td><td>708.25</td><td>0.00477151</td><td>1</td><td>2015-02-04 17:54:00</td></tr><tr><td style=\"border-right:1pt solid LightGray;\"><b>4</b></td><td>23.1</td><td>27.2</td><td>426</td><td>704.5</td><td>0.00475699</td><td>1</td><td>2015-02-04 17:55:00</td></tr><tr><td style=\"border-right:1pt solid LightGray;\"><b> </b></td><td>...</td><td>...</td><td>...</td><td>...</td><td>...</td><td>...</td><td>...</td></tr><tr><td style=\"border-right:1pt solid LightGray;\"><b>8138</b></td><td>21.05</td><td>36.0975</td><td>433</td><td>787.25</td><td>0.00557871</td><td>1</td><td>2015-02-10 09:29:00</td></tr><tr><td style=\"border-right:1pt solid LightGray;\"><b>8139</b></td><td>21.05</td><td>35.995</td><td>433</td><td>789.5</td><td>0.00556273</td><td>1</td><td>2015-02-10 09:29:59</td></tr><tr><td style=\"border-right:1pt solid LightGray;\"><b>8140</b></td><td>21.1</td><td>36.095</td><td>433</td><td>798.5</td><td>0.00559564</td><td>1</td><td>2015-02-10 09:30:59</td></tr><tr><td style=\"border-right:1pt solid LightGray;\"><b>8141</b></td><td>21.1</td><td>36.26</td><td>433</td><td>820.333</td><td>0.00562145</td><td>1</td><td>2015-02-10 09:32:00</td></tr><tr><td style=\"border-right:1pt solid LightGray;\"><b>8142</b></td><td>21.1</td><td>36.2</td><td>447</td><td>821</td><td>0.00561206</td><td>1</td><td>2015-02-10 09:33:00</td></tr></tbody></table><br>8143 rows x 7 columns<br>memory usage: 0.62 MB<br>name: data_train<br>type: getml.data.DataFrame<br>url: <a href=\"http://localhost:1709/#/getdataframe/occupancy/data_train/\" target=\"_blank\">http://localhost:1709/#/getdataframe/occupancy/data_train/</a>"
      ],
      "text/plain": [
       "Name    Temperature       Humidity          Light            CO2   HumidityRatio      Occupancy   \n",
       "Role   unused_float   unused_float   unused_float   unused_float    unused_float   unused_float   \n",
       "0      23.18          27.272         426            721.25         0.00479299      1              \n",
       "1      23.15          27.2675        429.5          714            0.00478344      1              \n",
       "2      23.15          27.245         426            713.5          0.00477946      1              \n",
       "3      23.15          27.2           426            708.25         0.00477151      1              \n",
       "4      23.1           27.2           426            704.5          0.00475699      1              \n",
       "       ...            ...            ...            ...            ...             ...            \n",
       "8138   21.05          36.0975        433            787.25         0.00557871      1              \n",
       "8139   21.05          35.995         433            789.5          0.00556273      1              \n",
       "8140   21.1           36.095         433            798.5          0.00559564      1              \n",
       "8141   21.1           36.26          433            820.333        0.00562145      1              \n",
       "8142   21.1           36.2           447            821            0.00561206      1              \n",
       "\n",
       "\n",
       "\n",
       "Name                  date   \n",
       "Role         unused_string   \n",
       "0      2015-02-04 17:51:00   \n",
       "1      2015-02-04 17:51:59   \n",
       "2      2015-02-04 17:53:00   \n",
       "3      2015-02-04 17:54:00   \n",
       "4      2015-02-04 17:55:00   \n",
       "       ...                   \n",
       "8138   2015-02-10 09:29:00   \n",
       "8139   2015-02-10 09:29:59   \n",
       "8140   2015-02-10 09:30:59   \n",
       "8141   2015-02-10 09:32:00   \n",
       "8142   2015-02-10 09:33:00   \n",
       "\n",
       "8143 rows x 7 columns\n",
       "memory usage: 0.62 MB\n",
       "name: data_train\n",
       "type: getml.data.DataFrame\n",
       "url: http://localhost:1709/#/getdataframe/occupancy/data_train/"
      ]
     },
     "execution_count": 4,
     "metadata": {},
     "output_type": "execute_result"
    }
   ],
   "source": [
    "data_train"
   ]
  },
  {
   "cell_type": "markdown",
   "metadata": {},
   "source": [
    "We also assign roles to each column. To learn more about what roles do and why we need them, check out the [official documentation](https://docs.getml.com/latest/user_guide/annotating_data/annotating_data.html)."
   ]
  },
  {
   "cell_type": "code",
   "execution_count": 5,
   "metadata": {},
   "outputs": [
    {
     "data": {
      "text/html": [
       "<table class=\"dataframe\"><thead><tr style=\"border-bottom:1pt solid LightGray;\"><th style=\"text-align: left;border-right:1pt solid LightGray;\">Name</th><th style=\"text-align: right;\">date</th><th style=\"text-align: right;\">Occupancy</th><th style=\"text-align: right;\">Temperature</th><th style=\"text-align: right;\">Humidity</th><th style=\"text-align: right;\">Light</th><th style=\"text-align: right;\">CO2</th><th style=\"text-align: right;\">HumidityRatio</th></tr><tr><th style=\"text-align: left;border-right:1pt solid LightGray;\">Role</th><td style=\"text-align: right;\"><i>time_stamp</i></td><td style=\"text-align: right;\"><i>target</i></td><td style=\"text-align: right;\"><i>numerical</i></td><td style=\"text-align: right;\"><i>numerical</i></td><td style=\"text-align: right;\"><i>numerical</i></td><td style=\"text-align: right;\"><i>numerical</i></td><td style=\"text-align: right;\"><i>numerical</i></td></tr><tr><th style=\"text-align: left;border-right:1pt solid LightGray;\">Unit</th><td style=\"text-align: right;\"><i>time stamp, comparison only</i></td><td style=\"text-align: right;\"><i></i></td><td style=\"text-align: right;\"><i></i></td><td style=\"text-align: right;\"><i></i></td><td style=\"text-align: right;\"><i></i></td><td style=\"text-align: right;\"><i></i></td><td style=\"text-align: right;\"><i></i></td></tr></thead><tbody><tr style=\"border-top:1pt solid LightGray;\"><td style=\"border-right:1pt solid LightGray;\"><b>0</b></td><td>2015-02-04T17:51:00.000000Z</td><td>1</td><td>23.18</td><td>27.272</td><td>426</td><td>721.25</td><td>0.00479299</td></tr><tr><td style=\"border-right:1pt solid LightGray;\"><b>1</b></td><td>2015-02-04T17:51:59.000000Z</td><td>1</td><td>23.15</td><td>27.2675</td><td>429.5</td><td>714</td><td>0.00478344</td></tr><tr><td style=\"border-right:1pt solid LightGray;\"><b>2</b></td><td>2015-02-04T17:53:00.000000Z</td><td>1</td><td>23.15</td><td>27.245</td><td>426</td><td>713.5</td><td>0.00477946</td></tr><tr><td style=\"border-right:1pt solid LightGray;\"><b>3</b></td><td>2015-02-04T17:54:00.000000Z</td><td>1</td><td>23.15</td><td>27.2</td><td>426</td><td>708.25</td><td>0.00477151</td></tr><tr><td style=\"border-right:1pt solid LightGray;\"><b>4</b></td><td>2015-02-04T17:55:00.000000Z</td><td>1</td><td>23.1</td><td>27.2</td><td>426</td><td>704.5</td><td>0.00475699</td></tr><tr><td style=\"border-right:1pt solid LightGray;\"><b> </b></td><td>...</td><td>...</td><td>...</td><td>...</td><td>...</td><td>...</td><td>...</td></tr><tr><td style=\"border-right:1pt solid LightGray;\"><b>8138</b></td><td>2015-02-10T09:29:00.000000Z</td><td>1</td><td>21.05</td><td>36.0975</td><td>433</td><td>787.25</td><td>0.00557871</td></tr><tr><td style=\"border-right:1pt solid LightGray;\"><b>8139</b></td><td>2015-02-10T09:29:59.000000Z</td><td>1</td><td>21.05</td><td>35.995</td><td>433</td><td>789.5</td><td>0.00556273</td></tr><tr><td style=\"border-right:1pt solid LightGray;\"><b>8140</b></td><td>2015-02-10T09:30:59.000000Z</td><td>1</td><td>21.1</td><td>36.095</td><td>433</td><td>798.5</td><td>0.00559564</td></tr><tr><td style=\"border-right:1pt solid LightGray;\"><b>8141</b></td><td>2015-02-10T09:32:00.000000Z</td><td>1</td><td>21.1</td><td>36.26</td><td>433</td><td>820.333</td><td>0.00562145</td></tr><tr><td style=\"border-right:1pt solid LightGray;\"><b>8142</b></td><td>2015-02-10T09:33:00.000000Z</td><td>1</td><td>21.1</td><td>36.2</td><td>447</td><td>821</td><td>0.00561206</td></tr></tbody></table><br>8143 rows x 7 columns<br>memory usage: 0.46 MB<br>name: data_train<br>type: getml.data.DataFrame<br>url: <a href=\"http://localhost:1709/#/getdataframe/occupancy/data_train/\" target=\"_blank\">http://localhost:1709/#/getdataframe/occupancy/data_train/</a>"
      ],
      "text/plain": [
       "Name                          date   Occupancy   Temperature    Humidity       Light         CO2   HumidityRatio   \n",
       "Role                    time_stamp      target     numerical   numerical   numerical   numerical       numerical   \n",
       "Unit   time stamp, comparison only                                                                                 \n",
       "0      2015-02-04T17:51:00.000000Z   1           23.18         27.272      426         721.25      0.00479299      \n",
       "1      2015-02-04T17:51:59.000000Z   1           23.15         27.2675     429.5       714         0.00478344      \n",
       "2      2015-02-04T17:53:00.000000Z   1           23.15         27.245      426         713.5       0.00477946      \n",
       "3      2015-02-04T17:54:00.000000Z   1           23.15         27.2        426         708.25      0.00477151      \n",
       "4      2015-02-04T17:55:00.000000Z   1           23.1          27.2        426         704.5       0.00475699      \n",
       "       ...                           ...         ...           ...         ...         ...         ...             \n",
       "8138   2015-02-10T09:29:00.000000Z   1           21.05         36.0975     433         787.25      0.00557871      \n",
       "8139   2015-02-10T09:29:59.000000Z   1           21.05         35.995      433         789.5       0.00556273      \n",
       "8140   2015-02-10T09:30:59.000000Z   1           21.1          36.095      433         798.5       0.00559564      \n",
       "8141   2015-02-10T09:32:00.000000Z   1           21.1          36.26       433         820.333     0.00562145      \n",
       "8142   2015-02-10T09:33:00.000000Z   1           21.1          36.2        447         821         0.00561206      \n",
       "\n",
       "8143 rows x 7 columns\n",
       "memory usage: 0.46 MB\n",
       "name: data_train\n",
       "type: getml.data.DataFrame\n",
       "url: http://localhost:1709/#/getdataframe/occupancy/data_train/"
      ]
     },
     "execution_count": 5,
     "metadata": {},
     "output_type": "execute_result"
    }
   ],
   "source": [
    "for df in [data_train, data_validate, data_test]:\n",
    "    df.set_role(['Occupancy'], getml.data.roles.target)\n",
    "    df.set_role(['Temperature', 'Humidity', 'Light', 'CO2', 'HumidityRatio'], getml.data.roles.numerical)\n",
    "    df.set_role(['date'], getml.data.roles.time_stamp)\n",
    "    \n",
    "data_train"
   ]
  },
  {
   "cell_type": "markdown",
   "metadata": {},
   "source": [
    " "
   ]
  },
  {
   "cell_type": "markdown",
   "metadata": {},
   "source": [
    "## 2. Predictive modeling\n",
    "\n",
    "We loaded the data, defined the roles, units and the abstract data model. Next, we create a getML pipeline for relational learning."
   ]
  },
  {
   "cell_type": "markdown",
   "metadata": {},
   "source": [
    "### 2.1 getML Pipeline\n",
    "\n",
    "We use a [MultirelModel](https://docs.getml.com/latest/api/getml.models.MultirelModel.html) for generating the features and a simple logistic regression for prediction.\n",
    "\n",
    "We do not spend much effort on the hyperparameters and largely go with the default values. The only exception is that we add some regularization to the XGBoostClassifiers.\n",
    "\n",
    "We choose to consider data within the last 15 minutes for creating our features."
   ]
  },
  {
   "cell_type": "code",
   "execution_count": 6,
   "metadata": {},
   "outputs": [
    {
     "data": {
      "text/html": [
       "<pre>Pipeline(preprocessors=[], feature_learners=['MultirelTimeSeries'], <br>         feature_selectors=[], include_categorical=False, peripheral=[], <br>         population='POPULATION', predictors=['LogisticRegression'], <br>         tags=['memory=15', 'logistic regression'], <br>         share_selected_features=0.5)</pre>"
      ],
      "text/plain": [
       "Pipeline(preprocessors=[], feature_learners=['MultirelTimeSeries'], \n",
       "         feature_selectors=[], include_categorical=False, peripheral=[], \n",
       "         population='POPULATION', predictors=['LogisticRegression'], \n",
       "         tags=['memory=15', 'logistic regression'], \n",
       "         share_selected_features=0.5)"
      ]
     },
     "execution_count": 6,
     "metadata": {},
     "output_type": "execute_result"
    }
   ],
   "source": [
    "# Our forecast horizon is 0.\n",
    "# We do not predict the future, instead we infer \n",
    "# the present state from current and past sensor data.\n",
    "horizon = 0.0\n",
    "\n",
    "# We do not allow the time series features\n",
    "# to use target values from the past.\n",
    "# (Otherwise, we would need the horizon to\n",
    "# be greater than 0.0).\n",
    "allow_lagged_targets = False\n",
    "\n",
    "# We want our time series features to only use\n",
    "# data from the last 15 minutes\n",
    "memory = getml.data.time.minutes(15)\n",
    "\n",
    "feature_learner = getml.feature_learning.MultirelTimeSeries(\n",
    "    ts_name=\"date\",\n",
    "    horizon=horizon,\n",
    "    memory=memory,\n",
    "    allow_lagged_targets=allow_lagged_targets,\n",
    "    loss_function=getml.feature_learning.loss_functions.CrossEntropyLoss,\n",
    ")\n",
    "\n",
    "predictor = getml.predictors.LogisticRegression()\n",
    "\n",
    "pipe = getml.pipeline.Pipeline(\n",
    "    tags=[\"memory=15\", \"logistic regression\"],\n",
    "    feature_learners=[feature_learner],\n",
    "    predictors=[predictor]\n",
    ")\n",
    "\n",
    "pipe"
   ]
  },
  {
   "cell_type": "markdown",
   "metadata": {},
   "source": [
    "`.check(...)` will be automatically called by `.fit(...)`. But it is always a good idea to call `.check(...)` separately before fitting, so we still have time for some last-minute fixes."
   ]
  },
  {
   "cell_type": "code",
   "execution_count": 7,
   "metadata": {},
   "outputs": [
    {
     "name": "stdout",
     "output_type": "stream",
     "text": [
      "Checking data model...\n",
      "OK.\n"
     ]
    }
   ],
   "source": [
    "pipe.check(data_train)"
   ]
  },
  {
   "cell_type": "markdown",
   "metadata": {},
   "source": [
    " \n"
   ]
  },
  {
   "cell_type": "markdown",
   "metadata": {},
   "source": [
    "### 2.2 Model training\n",
    "\n",
    "We use a routine for automatic [hyperparameter optimization](https://docs.getml.com/latest/api_documentation/python/hyperopt.html) to find the best parameters for the predictor:"
   ]
  },
  {
   "cell_type": "code",
   "execution_count": 8,
   "metadata": {},
   "outputs": [
    {
     "name": "stdout",
     "output_type": "stream",
     "text": [
      "Checking data model...\n",
      "OK.\n",
      "\n",
      "Tuning logistic regression...\n",
      "[========================================] 100%\n",
      "\n",
      "Time taken: 0h:2m:39.126186\n",
      "\n",
      "Building final pipeline...\n",
      "\n",
      "Checking data model...\n",
      "OK.\n",
      "\n",
      "Retrieving features (because a similar feature learner has already been fitted)...\n",
      "[========================================] 100%\n",
      "\n",
      "Multirel: Building features...\n",
      "[========================================] 100%\n",
      "\n",
      "Trained pipeline.\n",
      "Time taken: 0h:0m:20.983905\n",
      "\n",
      "\n",
      "Multirel: Building features...\n",
      "[========================================] 100%\n",
      "\n"
     ]
    }
   ],
   "source": [
    "pipe = getml.hyperopt.tune_predictors(\n",
    "    pipe,\n",
    "    data_train,\n",
    "    data_validate\n",
    ")"
   ]
  },
  {
   "cell_type": "markdown",
   "metadata": {},
   "source": [
    "The logistic regression has one hyperparameter that can be optimized, namely its L2 regularization parameter. We fine-tune this parameter using the validation set. Note that the validation set is different from the testing set on which the final outcome will be evaluated."
   ]
  },
  {
   "cell_type": "markdown",
   "metadata": {},
   "source": [
    " "
   ]
  },
  {
   "cell_type": "markdown",
   "metadata": {},
   "source": [
    "### 2.3 Model evaluation"
   ]
  },
  {
   "cell_type": "markdown",
   "metadata": {},
   "source": [
    "Let's see how well we did by scoring the model on the testing set."
   ]
  },
  {
   "cell_type": "code",
   "execution_count": 9,
   "metadata": {},
   "outputs": [
    {
     "name": "stdout",
     "output_type": "stream",
     "text": [
      "\n",
      "Multirel: Building features...\n",
      "[========================================] 100%\n",
      "\n"
     ]
    },
    {
     "data": {
      "text/html": [
       "<table class=\"dataframe\"><thead><tr style=\"border-bottom:1pt solid LightGray;\"><th style=\"text-align: left;border-right:1pt solid LightGray;\"> </th><th style=\"text-align: right;\">date time          </th><th style=\"text-align: right;\">set used     </th><th style=\"text-align: right;\">target   </th><th style=\"text-align: right;\">accuracy</th><th style=\"text-align: right;\">     auc</th><th style=\"text-align: right;\">cross entropy</th></tr></thead><tbody><tr style=\"border-top:1pt solid LightGray;\"><td style=\"border-right:1pt solid LightGray;\"><b>0</b></td><td>2021-01-07 15:49:38</td><td>data_train   </td><td>Occupancy</td><td> 0.99104</td><td> 0.99742</td><td>      0.16931</td></tr><tr><td style=\"border-right:1pt solid LightGray;\"><b>1</b></td><td>2021-01-07 15:49:41</td><td>data_validate</td><td>Occupancy</td><td> 0.97861</td><td> 0.98023</td><td>      0.21360</td></tr><tr><td style=\"border-right:1pt solid LightGray;\"><b>2</b></td><td>2021-01-07 15:50:11</td><td>data_test    </td><td>Occupancy</td><td> 0.99313</td><td> 0.99787</td><td>      0.16128</td></tr></tbody></table>"
      ],
      "text/plain": [
       "    date time             set used        target      accuracy        auc   cross entropy\n",
       "0   2021-01-07 15:49:38   data_train      Occupancy    0.99104    0.99742         0.16931\n",
       "1   2021-01-07 15:49:41   data_validate   Occupancy    0.97861    0.98023         0.21360\n",
       "2   2021-01-07 15:50:11   data_test       Occupancy    0.99313    0.99787         0.16128"
      ]
     },
     "execution_count": 9,
     "metadata": {},
     "output_type": "execute_result"
    }
   ],
   "source": [
    "pipe.score(data_test)"
   ]
  },
  {
   "cell_type": "markdown",
   "metadata": {},
   "source": [
    "In the [original paper](http://www.worldresearchlibrary.org/up_proc/pdf/568-148612088816-20.pdf), the authors tried several approaches. The best out-of-sample values of all the approaches they tried are the following:\n",
    "\n",
    "* Accuracy (testing): 0.99061\n",
    "* AUC (testing): 0.99574\n",
    "\n",
    "Note that our results outperform the best approach from the original paper, both in terms of accuracy as well as AUC. \n",
    "This demonstrates how powerful getML's relational learning approach is also a powerful tool for time series."
   ]
  },
  {
   "cell_type": "code",
   "execution_count": 10,
   "metadata": {},
   "outputs": [
    {
     "data": {
      "image/png": "[encoded data removed]",
      "text/plain": [
       "<Figure size 1440x720 with 1 Axes>"
      ]
     },
     "metadata": {
      "needs_background": "light"
     },
     "output_type": "display_data"
    }
   ],
   "source": [
    "# Refers to the data from the last time\n",
    "# we called .score(...).\n",
    "fpr, tpr = pipe.metrics.roc_curve()\n",
    "\n",
    "plt.subplots(figsize=(20, 10))\n",
    "\n",
    "plt.plot(fpr, tpr, color='#6829c2')\n",
    "\n",
    "plt.title(\"receiver operating characteristic (ROC)\")\n",
    "plt.grid(True)\n",
    "plt.xlabel(\"false positive rate\")\n",
    "plt.ylabel(\"true positive rate\")\n",
    "\n",
    "plt.show()"
   ]
  },
  {
   "cell_type": "code",
   "execution_count": 11,
   "metadata": {},
   "outputs": [
    {
     "data": {
      "image/png": "[encoded data removed]",
      "text/plain": [
       "<Figure size 1440x720 with 1 Axes>"
      ]
     },
     "metadata": {
      "needs_background": "light"
     },
     "output_type": "display_data"
    }
   ],
   "source": [
    "# Refers to the data from the last time\n",
    "# we called .score(...).\n",
    "recall, precision = pipe.metrics.precision_recall_curve()\n",
    "\n",
    "plt.subplots(figsize=(20, 10))\n",
    "\n",
    "plt.plot(recall, precision, color='#6829c2')\n",
    "\n",
    "plt.title(\"precision-recall curve\")\n",
    "plt.grid(True)\n",
    "plt.xlabel(\"recall (true positive rate)\")\n",
    "plt.ylabel(\"precision\")\n",
    "\n",
    "plt.show()"
   ]
  },
  {
   "cell_type": "code",
   "execution_count": 12,
   "metadata": {},
   "outputs": [
    {
     "data": {
      "image/png": "[encoded data removed]",
      "text/plain": [
       "<Figure size 1440x720 with 1 Axes>"
      ]
     },
     "metadata": {
      "needs_background": "light"
     },
     "output_type": "display_data"
    }
   ],
   "source": [
    "# Refers to the data from the last time\n",
    "# we called .score(...).\n",
    "proportion, lift = pipe.metrics.lift_curve()\n",
    "\n",
    "plt.subplots(figsize=(20, 10))\n",
    "\n",
    "plt.plot(proportion, lift, color='#6829c2')\n",
    "\n",
    "plt.title(\"lift curve\")\n",
    "plt.grid(True)\n",
    "plt.xlabel(\"proportion\")\n",
    "plt.ylabel(\"lift\")\n",
    "\n",
    "plt.show()"
   ]
  },
  {
   "cell_type": "markdown",
   "metadata": {},
   "source": [
    " "
   ]
  },
  {
   "cell_type": "markdown",
   "metadata": {},
   "source": [
    "### 2.4 Studying the features\n",
    "\n",
    "It is always a good idea to study the features the relational learning algorithm has extracted. We can do so in the [feature view](https://docs.getml.com/latest/user_guide/getml_suite/monitor/models.html#feature-view) of the getML monitor. Open the monitor and select the models tab in the sidebar. You will see an overview over the trained pipelines. Select a pipeline to see the most essential summary plots. \n",
    "\n",
    "If you want to document them inside your notebook, here is how you can do that:"
   ]
  },
  {
   "cell_type": "code",
   "execution_count": 13,
   "metadata": {},
   "outputs": [
    {
     "data": {
      "text/html": [
       "<div>\n",
       "<style scoped>\n",
       "    .dataframe tbody tr th:only-of-type {\n",
       "        vertical-align: middle;\n",
       "    }\n",
       "\n",
       "    .dataframe tbody tr th {\n",
       "        vertical-align: top;\n",
       "    }\n",
       "\n",
       "    .dataframe thead th {\n",
       "        text-align: right;\n",
       "    }\n",
       "</style>\n",
       "<table border=\"1\" class=\"dataframe\">\n",
       "  <thead>\n",
       "    <tr style=\"text-align: right;\">\n",
       "      <th></th>\n",
       "      <th>names</th>\n",
       "      <th>correlations</th>\n",
       "      <th>importances</th>\n",
       "      <th>target</th>\n",
       "      <th>sql</th>\n",
       "    </tr>\n",
       "  </thead>\n",
       "  <tbody>\n",
       "    <tr>\n",
       "      <th>0</th>\n",
       "      <td>feature_1_1</td>\n",
       "      <td>0.927908</td>\n",
       "      <td>0.010047</td>\n",
       "      <td>Occupancy</td>\n",
       "      <td>DROP TABLE IF EXISTS \"FEATURE_1_1\";\\n\\nCREATE ...</td>\n",
       "    </tr>\n",
       "    <tr>\n",
       "      <th>1</th>\n",
       "      <td>feature_1_2</td>\n",
       "      <td>0.886662</td>\n",
       "      <td>0.009370</td>\n",
       "      <td>Occupancy</td>\n",
       "      <td>DROP TABLE IF EXISTS \"FEATURE_1_2\";\\n\\nCREATE ...</td>\n",
       "    </tr>\n",
       "    <tr>\n",
       "      <th>2</th>\n",
       "      <td>feature_1_3</td>\n",
       "      <td>0.903048</td>\n",
       "      <td>0.009635</td>\n",
       "      <td>Occupancy</td>\n",
       "      <td>DROP TABLE IF EXISTS \"FEATURE_1_3\";\\n\\nCREATE ...</td>\n",
       "    </tr>\n",
       "    <tr>\n",
       "      <th>3</th>\n",
       "      <td>feature_1_4</td>\n",
       "      <td>0.978384</td>\n",
       "      <td>0.009146</td>\n",
       "      <td>Occupancy</td>\n",
       "      <td>DROP TABLE IF EXISTS \"FEATURE_1_4\";\\n\\nCREATE ...</td>\n",
       "    </tr>\n",
       "    <tr>\n",
       "      <th>4</th>\n",
       "      <td>feature_1_5</td>\n",
       "      <td>0.888704</td>\n",
       "      <td>0.010031</td>\n",
       "      <td>Occupancy</td>\n",
       "      <td>DROP TABLE IF EXISTS \"FEATURE_1_5\";\\n\\nCREATE ...</td>\n",
       "    </tr>\n",
       "    <tr>\n",
       "      <th>5</th>\n",
       "      <td>feature_1_6</td>\n",
       "      <td>0.887358</td>\n",
       "      <td>0.009360</td>\n",
       "      <td>Occupancy</td>\n",
       "      <td>DROP TABLE IF EXISTS \"FEATURE_1_6\";\\n\\nCREATE ...</td>\n",
       "    </tr>\n",
       "    <tr>\n",
       "      <th>6</th>\n",
       "      <td>feature_1_7</td>\n",
       "      <td>0.957297</td>\n",
       "      <td>0.009713</td>\n",
       "      <td>Occupancy</td>\n",
       "      <td>DROP TABLE IF EXISTS \"FEATURE_1_7\";\\n\\nCREATE ...</td>\n",
       "    </tr>\n",
       "    <tr>\n",
       "      <th>7</th>\n",
       "      <td>feature_1_8</td>\n",
       "      <td>-0.946815</td>\n",
       "      <td>0.009567</td>\n",
       "      <td>Occupancy</td>\n",
       "      <td>DROP TABLE IF EXISTS \"FEATURE_1_8\";\\n\\nCREATE ...</td>\n",
       "    </tr>\n",
       "    <tr>\n",
       "      <th>8</th>\n",
       "      <td>feature_1_9</td>\n",
       "      <td>-0.967972</td>\n",
       "      <td>0.009261</td>\n",
       "      <td>Occupancy</td>\n",
       "      <td>DROP TABLE IF EXISTS \"FEATURE_1_9\";\\n\\nCREATE ...</td>\n",
       "    </tr>\n",
       "    <tr>\n",
       "      <th>9</th>\n",
       "      <td>feature_1_10</td>\n",
       "      <td>0.948280</td>\n",
       "      <td>0.009159</td>\n",
       "      <td>Occupancy</td>\n",
       "      <td>DROP TABLE IF EXISTS \"FEATURE_1_10\";\\n\\nCREATE...</td>\n",
       "    </tr>\n",
       "    <tr>\n",
       "      <th>10</th>\n",
       "      <td>feature_1_11</td>\n",
       "      <td>-0.961862</td>\n",
       "      <td>0.010127</td>\n",
       "      <td>Occupancy</td>\n",
       "      <td>DROP TABLE IF EXISTS \"FEATURE_1_11\";\\n\\nCREATE...</td>\n",
       "    </tr>\n",
       "    <tr>\n",
       "      <th>11</th>\n",
       "      <td>feature_1_12</td>\n",
       "      <td>0.891863</td>\n",
       "      <td>0.009957</td>\n",
       "      <td>Occupancy</td>\n",
       "      <td>DROP TABLE IF EXISTS \"FEATURE_1_12\";\\n\\nCREATE...</td>\n",
       "    </tr>\n",
       "    <tr>\n",
       "      <th>12</th>\n",
       "      <td>feature_1_13</td>\n",
       "      <td>-0.980133</td>\n",
       "      <td>0.009488</td>\n",
       "      <td>Occupancy</td>\n",
       "      <td>DROP TABLE IF EXISTS \"FEATURE_1_13\";\\n\\nCREATE...</td>\n",
       "    </tr>\n",
       "    <tr>\n",
       "      <th>13</th>\n",
       "      <td>feature_1_14</td>\n",
       "      <td>-0.892800</td>\n",
       "      <td>0.009094</td>\n",
       "      <td>Occupancy</td>\n",
       "      <td>DROP TABLE IF EXISTS \"FEATURE_1_14\";\\n\\nCREATE...</td>\n",
       "    </tr>\n",
       "    <tr>\n",
       "      <th>14</th>\n",
       "      <td>feature_1_15</td>\n",
       "      <td>0.880569</td>\n",
       "      <td>0.009685</td>\n",
       "      <td>Occupancy</td>\n",
       "      <td>DROP TABLE IF EXISTS \"FEATURE_1_15\";\\n\\nCREATE...</td>\n",
       "    </tr>\n",
       "    <tr>\n",
       "      <th>15</th>\n",
       "      <td>feature_1_16</td>\n",
       "      <td>0.879775</td>\n",
       "      <td>0.009920</td>\n",
       "      <td>Occupancy</td>\n",
       "      <td>DROP TABLE IF EXISTS \"FEATURE_1_16\";\\n\\nCREATE...</td>\n",
       "    </tr>\n",
       "    <tr>\n",
       "      <th>16</th>\n",
       "      <td>feature_1_17</td>\n",
       "      <td>-0.959100</td>\n",
       "      <td>0.009883</td>\n",
       "      <td>Occupancy</td>\n",
       "      <td>DROP TABLE IF EXISTS \"FEATURE_1_17\";\\n\\nCREATE...</td>\n",
       "    </tr>\n",
       "    <tr>\n",
       "      <th>17</th>\n",
       "      <td>feature_1_18</td>\n",
       "      <td>0.931840</td>\n",
       "      <td>0.009710</td>\n",
       "      <td>Occupancy</td>\n",
       "      <td>DROP TABLE IF EXISTS \"FEATURE_1_18\";\\n\\nCREATE...</td>\n",
       "    </tr>\n",
       "    <tr>\n",
       "      <th>18</th>\n",
       "      <td>feature_1_19</td>\n",
       "      <td>0.887438</td>\n",
       "      <td>0.009988</td>\n",
       "      <td>Occupancy</td>\n",
       "      <td>DROP TABLE IF EXISTS \"FEATURE_1_19\";\\n\\nCREATE...</td>\n",
       "    </tr>\n",
       "    <tr>\n",
       "      <th>19</th>\n",
       "      <td>feature_1_20</td>\n",
       "      <td>0.947602</td>\n",
       "      <td>0.009790</td>\n",
       "      <td>Occupancy</td>\n",
       "      <td>DROP TABLE IF EXISTS \"FEATURE_1_20\";\\n\\nCREATE...</td>\n",
       "    </tr>\n",
       "    <tr>\n",
       "      <th>20</th>\n",
       "      <td>feature_1_21</td>\n",
       "      <td>0.852684</td>\n",
       "      <td>0.010202</td>\n",
       "      <td>Occupancy</td>\n",
       "      <td>DROP TABLE IF EXISTS \"FEATURE_1_21\";\\n\\nCREATE...</td>\n",
       "    </tr>\n",
       "    <tr>\n",
       "      <th>21</th>\n",
       "      <td>feature_1_22</td>\n",
       "      <td>0.888229</td>\n",
       "      <td>0.009284</td>\n",
       "      <td>Occupancy</td>\n",
       "      <td>DROP TABLE IF EXISTS \"FEATURE_1_22\";\\n\\nCREATE...</td>\n",
       "    </tr>\n",
       "    <tr>\n",
       "      <th>22</th>\n",
       "      <td>feature_1_23</td>\n",
       "      <td>0.907605</td>\n",
       "      <td>0.008963</td>\n",
       "      <td>Occupancy</td>\n",
       "      <td>DROP TABLE IF EXISTS \"FEATURE_1_23\";\\n\\nCREATE...</td>\n",
       "    </tr>\n",
       "    <tr>\n",
       "      <th>23</th>\n",
       "      <td>feature_1_24</td>\n",
       "      <td>-0.976298</td>\n",
       "      <td>0.008920</td>\n",
       "      <td>Occupancy</td>\n",
       "      <td>DROP TABLE IF EXISTS \"FEATURE_1_24\";\\n\\nCREATE...</td>\n",
       "    </tr>\n",
       "    <tr>\n",
       "      <th>24</th>\n",
       "      <td>feature_1_25</td>\n",
       "      <td>0.946775</td>\n",
       "      <td>0.010097</td>\n",
       "      <td>Occupancy</td>\n",
       "      <td>DROP TABLE IF EXISTS \"FEATURE_1_25\";\\n\\nCREATE...</td>\n",
       "    </tr>\n",
       "    <tr>\n",
       "      <th>25</th>\n",
       "      <td>feature_1_26</td>\n",
       "      <td>0.851435</td>\n",
       "      <td>0.009369</td>\n",
       "      <td>Occupancy</td>\n",
       "      <td>DROP TABLE IF EXISTS \"FEATURE_1_26\";\\n\\nCREATE...</td>\n",
       "    </tr>\n",
       "    <tr>\n",
       "      <th>26</th>\n",
       "      <td>feature_1_27</td>\n",
       "      <td>0.929206</td>\n",
       "      <td>0.009686</td>\n",
       "      <td>Occupancy</td>\n",
       "      <td>DROP TABLE IF EXISTS \"FEATURE_1_27\";\\n\\nCREATE...</td>\n",
       "    </tr>\n",
       "    <tr>\n",
       "      <th>27</th>\n",
       "      <td>feature_1_28</td>\n",
       "      <td>-0.962360</td>\n",
       "      <td>0.010506</td>\n",
       "      <td>Occupancy</td>\n",
       "      <td>DROP TABLE IF EXISTS \"FEATURE_1_28\";\\n\\nCREATE...</td>\n",
       "    </tr>\n",
       "    <tr>\n",
       "      <th>28</th>\n",
       "      <td>feature_1_29</td>\n",
       "      <td>0.928810</td>\n",
       "      <td>0.010108</td>\n",
       "      <td>Occupancy</td>\n",
       "      <td>DROP TABLE IF EXISTS \"FEATURE_1_29\";\\n\\nCREATE...</td>\n",
       "    </tr>\n",
       "    <tr>\n",
       "      <th>29</th>\n",
       "      <td>feature_1_30</td>\n",
       "      <td>-0.975872</td>\n",
       "      <td>0.009800</td>\n",
       "      <td>Occupancy</td>\n",
       "      <td>DROP TABLE IF EXISTS \"FEATURE_1_30\";\\n\\nCREATE...</td>\n",
       "    </tr>\n",
       "    <tr>\n",
       "      <th>...</th>\n",
       "      <td>...</td>\n",
       "      <td>...</td>\n",
       "      <td>...</td>\n",
       "      <td>...</td>\n",
       "      <td>...</td>\n",
       "    </tr>\n",
       "    <tr>\n",
       "      <th>75</th>\n",
       "      <td>feature_1_76</td>\n",
       "      <td>0.846349</td>\n",
       "      <td>0.010141</td>\n",
       "      <td>Occupancy</td>\n",
       "      <td>DROP TABLE IF EXISTS \"FEATURE_1_76\";\\n\\nCREATE...</td>\n",
       "    </tr>\n",
       "    <tr>\n",
       "      <th>76</th>\n",
       "      <td>feature_1_77</td>\n",
       "      <td>-0.939205</td>\n",
       "      <td>0.009873</td>\n",
       "      <td>Occupancy</td>\n",
       "      <td>DROP TABLE IF EXISTS \"FEATURE_1_77\";\\n\\nCREATE...</td>\n",
       "    </tr>\n",
       "    <tr>\n",
       "      <th>77</th>\n",
       "      <td>feature_1_78</td>\n",
       "      <td>0.910269</td>\n",
       "      <td>0.010570</td>\n",
       "      <td>Occupancy</td>\n",
       "      <td>DROP TABLE IF EXISTS \"FEATURE_1_78\";\\n\\nCREATE...</td>\n",
       "    </tr>\n",
       "    <tr>\n",
       "      <th>78</th>\n",
       "      <td>feature_1_79</td>\n",
       "      <td>-0.922466</td>\n",
       "      <td>0.010043</td>\n",
       "      <td>Occupancy</td>\n",
       "      <td>DROP TABLE IF EXISTS \"FEATURE_1_79\";\\n\\nCREATE...</td>\n",
       "    </tr>\n",
       "    <tr>\n",
       "      <th>79</th>\n",
       "      <td>feature_1_80</td>\n",
       "      <td>0.888015</td>\n",
       "      <td>0.010524</td>\n",
       "      <td>Occupancy</td>\n",
       "      <td>DROP TABLE IF EXISTS \"FEATURE_1_80\";\\n\\nCREATE...</td>\n",
       "    </tr>\n",
       "    <tr>\n",
       "      <th>80</th>\n",
       "      <td>feature_1_81</td>\n",
       "      <td>0.899674</td>\n",
       "      <td>0.009447</td>\n",
       "      <td>Occupancy</td>\n",
       "      <td>DROP TABLE IF EXISTS \"FEATURE_1_81\";\\n\\nCREATE...</td>\n",
       "    </tr>\n",
       "    <tr>\n",
       "      <th>81</th>\n",
       "      <td>feature_1_82</td>\n",
       "      <td>-0.923302</td>\n",
       "      <td>0.010005</td>\n",
       "      <td>Occupancy</td>\n",
       "      <td>DROP TABLE IF EXISTS \"FEATURE_1_82\";\\n\\nCREATE...</td>\n",
       "    </tr>\n",
       "    <tr>\n",
       "      <th>82</th>\n",
       "      <td>feature_1_83</td>\n",
       "      <td>0.865564</td>\n",
       "      <td>0.010145</td>\n",
       "      <td>Occupancy</td>\n",
       "      <td>DROP TABLE IF EXISTS \"FEATURE_1_83\";\\n\\nCREATE...</td>\n",
       "    </tr>\n",
       "    <tr>\n",
       "      <th>83</th>\n",
       "      <td>feature_1_84</td>\n",
       "      <td>0.887181</td>\n",
       "      <td>0.009319</td>\n",
       "      <td>Occupancy</td>\n",
       "      <td>DROP TABLE IF EXISTS \"FEATURE_1_84\";\\n\\nCREATE...</td>\n",
       "    </tr>\n",
       "    <tr>\n",
       "      <th>84</th>\n",
       "      <td>feature_1_85</td>\n",
       "      <td>-0.785864</td>\n",
       "      <td>0.009642</td>\n",
       "      <td>Occupancy</td>\n",
       "      <td>DROP TABLE IF EXISTS \"FEATURE_1_85\";\\n\\nCREATE...</td>\n",
       "    </tr>\n",
       "    <tr>\n",
       "      <th>85</th>\n",
       "      <td>feature_1_86</td>\n",
       "      <td>-0.948201</td>\n",
       "      <td>0.009744</td>\n",
       "      <td>Occupancy</td>\n",
       "      <td>DROP TABLE IF EXISTS \"FEATURE_1_86\";\\n\\nCREATE...</td>\n",
       "    </tr>\n",
       "    <tr>\n",
       "      <th>86</th>\n",
       "      <td>feature_1_87</td>\n",
       "      <td>-0.812356</td>\n",
       "      <td>0.009326</td>\n",
       "      <td>Occupancy</td>\n",
       "      <td>DROP TABLE IF EXISTS \"FEATURE_1_87\";\\n\\nCREATE...</td>\n",
       "    </tr>\n",
       "    <tr>\n",
       "      <th>87</th>\n",
       "      <td>feature_1_88</td>\n",
       "      <td>-0.956976</td>\n",
       "      <td>0.009973</td>\n",
       "      <td>Occupancy</td>\n",
       "      <td>DROP TABLE IF EXISTS \"FEATURE_1_88\";\\n\\nCREATE...</td>\n",
       "    </tr>\n",
       "    <tr>\n",
       "      <th>88</th>\n",
       "      <td>feature_1_89</td>\n",
       "      <td>-0.890032</td>\n",
       "      <td>0.009700</td>\n",
       "      <td>Occupancy</td>\n",
       "      <td>DROP TABLE IF EXISTS \"FEATURE_1_89\";\\n\\nCREATE...</td>\n",
       "    </tr>\n",
       "    <tr>\n",
       "      <th>89</th>\n",
       "      <td>feature_1_90</td>\n",
       "      <td>0.897333</td>\n",
       "      <td>0.010008</td>\n",
       "      <td>Occupancy</td>\n",
       "      <td>DROP TABLE IF EXISTS \"FEATURE_1_90\";\\n\\nCREATE...</td>\n",
       "    </tr>\n",
       "    <tr>\n",
       "      <th>90</th>\n",
       "      <td>feature_1_91</td>\n",
       "      <td>0.913377</td>\n",
       "      <td>0.009918</td>\n",
       "      <td>Occupancy</td>\n",
       "      <td>DROP TABLE IF EXISTS \"FEATURE_1_91\";\\n\\nCREATE...</td>\n",
       "    </tr>\n",
       "    <tr>\n",
       "      <th>91</th>\n",
       "      <td>feature_1_92</td>\n",
       "      <td>0.902251</td>\n",
       "      <td>0.009874</td>\n",
       "      <td>Occupancy</td>\n",
       "      <td>DROP TABLE IF EXISTS \"FEATURE_1_92\";\\n\\nCREATE...</td>\n",
       "    </tr>\n",
       "    <tr>\n",
       "      <th>92</th>\n",
       "      <td>feature_1_93</td>\n",
       "      <td>-0.916426</td>\n",
       "      <td>0.010001</td>\n",
       "      <td>Occupancy</td>\n",
       "      <td>DROP TABLE IF EXISTS \"FEATURE_1_93\";\\n\\nCREATE...</td>\n",
       "    </tr>\n",
       "    <tr>\n",
       "      <th>93</th>\n",
       "      <td>feature_1_94</td>\n",
       "      <td>0.889621</td>\n",
       "      <td>0.009268</td>\n",
       "      <td>Occupancy</td>\n",
       "      <td>DROP TABLE IF EXISTS \"FEATURE_1_94\";\\n\\nCREATE...</td>\n",
       "    </tr>\n",
       "    <tr>\n",
       "      <th>94</th>\n",
       "      <td>feature_1_95</td>\n",
       "      <td>0.923487</td>\n",
       "      <td>0.010504</td>\n",
       "      <td>Occupancy</td>\n",
       "      <td>DROP TABLE IF EXISTS \"FEATURE_1_95\";\\n\\nCREATE...</td>\n",
       "    </tr>\n",
       "    <tr>\n",
       "      <th>95</th>\n",
       "      <td>feature_1_96</td>\n",
       "      <td>0.918770</td>\n",
       "      <td>0.009882</td>\n",
       "      <td>Occupancy</td>\n",
       "      <td>DROP TABLE IF EXISTS \"FEATURE_1_96\";\\n\\nCREATE...</td>\n",
       "    </tr>\n",
       "    <tr>\n",
       "      <th>96</th>\n",
       "      <td>feature_1_97</td>\n",
       "      <td>-0.961089</td>\n",
       "      <td>0.009731</td>\n",
       "      <td>Occupancy</td>\n",
       "      <td>DROP TABLE IF EXISTS \"FEATURE_1_97\";\\n\\nCREATE...</td>\n",
       "    </tr>\n",
       "    <tr>\n",
       "      <th>97</th>\n",
       "      <td>feature_1_98</td>\n",
       "      <td>-0.971775</td>\n",
       "      <td>0.009249</td>\n",
       "      <td>Occupancy</td>\n",
       "      <td>DROP TABLE IF EXISTS \"FEATURE_1_98\";\\n\\nCREATE...</td>\n",
       "    </tr>\n",
       "    <tr>\n",
       "      <th>98</th>\n",
       "      <td>feature_1_99</td>\n",
       "      <td>-0.834512</td>\n",
       "      <td>0.010272</td>\n",
       "      <td>Occupancy</td>\n",
       "      <td>DROP TABLE IF EXISTS \"FEATURE_1_99\";\\n\\nCREATE...</td>\n",
       "    </tr>\n",
       "    <tr>\n",
       "      <th>99</th>\n",
       "      <td>feature_1_100</td>\n",
       "      <td>-0.950319</td>\n",
       "      <td>0.009786</td>\n",
       "      <td>Occupancy</td>\n",
       "      <td>DROP TABLE IF EXISTS \"FEATURE_1_100\";\\n\\nCREAT...</td>\n",
       "    </tr>\n",
       "    <tr>\n",
       "      <th>100</th>\n",
       "      <td>Temperature</td>\n",
       "      <td>0.521767</td>\n",
       "      <td>0.004164</td>\n",
       "      <td>Occupancy</td>\n",
       "      <td></td>\n",
       "    </tr>\n",
       "    <tr>\n",
       "      <th>101</th>\n",
       "      <td>Humidity</td>\n",
       "      <td>-0.087768</td>\n",
       "      <td>0.001877</td>\n",
       "      <td>Occupancy</td>\n",
       "      <td></td>\n",
       "    </tr>\n",
       "    <tr>\n",
       "      <th>102</th>\n",
       "      <td>Light</td>\n",
       "      <td>0.914525</td>\n",
       "      <td>0.007905</td>\n",
       "      <td>Occupancy</td>\n",
       "      <td></td>\n",
       "    </tr>\n",
       "    <tr>\n",
       "      <th>103</th>\n",
       "      <td>CO2</td>\n",
       "      <td>0.261908</td>\n",
       "      <td>0.007859</td>\n",
       "      <td>Occupancy</td>\n",
       "      <td></td>\n",
       "    </tr>\n",
       "    <tr>\n",
       "      <th>104</th>\n",
       "      <td>HumidityRatio</td>\n",
       "      <td>0.190161</td>\n",
       "      <td>0.003218</td>\n",
       "      <td>Occupancy</td>\n",
       "      <td></td>\n",
       "    </tr>\n",
       "  </tbody>\n",
       "</table>\n",
       "<p>105 rows × 5 columns</p>\n",
       "</div>"
      ],
      "text/plain": [
       "             names  correlations  importances     target  \\\n",
       "0      feature_1_1      0.927908     0.010047  Occupancy   \n",
       "1      feature_1_2      0.886662     0.009370  Occupancy   \n",
       "2      feature_1_3      0.903048     0.009635  Occupancy   \n",
       "3      feature_1_4      0.978384     0.009146  Occupancy   \n",
       "4      feature_1_5      0.888704     0.010031  Occupancy   \n",
       "5      feature_1_6      0.887358     0.009360  Occupancy   \n",
       "6      feature_1_7      0.957297     0.009713  Occupancy   \n",
       "7      feature_1_8     -0.946815     0.009567  Occupancy   \n",
       "8      feature_1_9     -0.967972     0.009261  Occupancy   \n",
       "9     feature_1_10      0.948280     0.009159  Occupancy   \n",
       "10    feature_1_11     -0.961862     0.010127  Occupancy   \n",
       "11    feature_1_12      0.891863     0.009957  Occupancy   \n",
       "12    feature_1_13     -0.980133     0.009488  Occupancy   \n",
       "13    feature_1_14     -0.892800     0.009094  Occupancy   \n",
       "14    feature_1_15      0.880569     0.009685  Occupancy   \n",
       "15    feature_1_16      0.879775     0.009920  Occupancy   \n",
       "16    feature_1_17     -0.959100     0.009883  Occupancy   \n",
       "17    feature_1_18      0.931840     0.009710  Occupancy   \n",
       "18    feature_1_19      0.887438     0.009988  Occupancy   \n",
       "19    feature_1_20      0.947602     0.009790  Occupancy   \n",
       "20    feature_1_21      0.852684     0.010202  Occupancy   \n",
       "21    feature_1_22      0.888229     0.009284  Occupancy   \n",
       "22    feature_1_23      0.907605     0.008963  Occupancy   \n",
       "23    feature_1_24     -0.976298     0.008920  Occupancy   \n",
       "24    feature_1_25      0.946775     0.010097  Occupancy   \n",
       "25    feature_1_26      0.851435     0.009369  Occupancy   \n",
       "26    feature_1_27      0.929206     0.009686  Occupancy   \n",
       "27    feature_1_28     -0.962360     0.010506  Occupancy   \n",
       "28    feature_1_29      0.928810     0.010108  Occupancy   \n",
       "29    feature_1_30     -0.975872     0.009800  Occupancy   \n",
       "..             ...           ...          ...        ...   \n",
       "75    feature_1_76      0.846349     0.010141  Occupancy   \n",
       "76    feature_1_77     -0.939205     0.009873  Occupancy   \n",
       "77    feature_1_78      0.910269     0.010570  Occupancy   \n",
       "78    feature_1_79     -0.922466     0.010043  Occupancy   \n",
       "79    feature_1_80      0.888015     0.010524  Occupancy   \n",
       "80    feature_1_81      0.899674     0.009447  Occupancy   \n",
       "81    feature_1_82     -0.923302     0.010005  Occupancy   \n",
       "82    feature_1_83      0.865564     0.010145  Occupancy   \n",
       "83    feature_1_84      0.887181     0.009319  Occupancy   \n",
       "84    feature_1_85     -0.785864     0.009642  Occupancy   \n",
       "85    feature_1_86     -0.948201     0.009744  Occupancy   \n",
       "86    feature_1_87     -0.812356     0.009326  Occupancy   \n",
       "87    feature_1_88     -0.956976     0.009973  Occupancy   \n",
       "88    feature_1_89     -0.890032     0.009700  Occupancy   \n",
       "89    feature_1_90      0.897333     0.010008  Occupancy   \n",
       "90    feature_1_91      0.913377     0.009918  Occupancy   \n",
       "91    feature_1_92      0.902251     0.009874  Occupancy   \n",
       "92    feature_1_93     -0.916426     0.010001  Occupancy   \n",
       "93    feature_1_94      0.889621     0.009268  Occupancy   \n",
       "94    feature_1_95      0.923487     0.010504  Occupancy   \n",
       "95    feature_1_96      0.918770     0.009882  Occupancy   \n",
       "96    feature_1_97     -0.961089     0.009731  Occupancy   \n",
       "97    feature_1_98     -0.971775     0.009249  Occupancy   \n",
       "98    feature_1_99     -0.834512     0.010272  Occupancy   \n",
       "99   feature_1_100     -0.950319     0.009786  Occupancy   \n",
       "100    Temperature      0.521767     0.004164  Occupancy   \n",
       "101       Humidity     -0.087768     0.001877  Occupancy   \n",
       "102          Light      0.914525     0.007905  Occupancy   \n",
       "103            CO2      0.261908     0.007859  Occupancy   \n",
       "104  HumidityRatio      0.190161     0.003218  Occupancy   \n",
       "\n",
       "                                                   sql  \n",
       "0    DROP TABLE IF EXISTS \"FEATURE_1_1\";\\n\\nCREATE ...  \n",
       "1    DROP TABLE IF EXISTS \"FEATURE_1_2\";\\n\\nCREATE ...  \n",
       "2    DROP TABLE IF EXISTS \"FEATURE_1_3\";\\n\\nCREATE ...  \n",
       "3    DROP TABLE IF EXISTS \"FEATURE_1_4\";\\n\\nCREATE ...  \n",
       "4    DROP TABLE IF EXISTS \"FEATURE_1_5\";\\n\\nCREATE ...  \n",
       "5    DROP TABLE IF EXISTS \"FEATURE_1_6\";\\n\\nCREATE ...  \n",
       "6    DROP TABLE IF EXISTS \"FEATURE_1_7\";\\n\\nCREATE ...  \n",
       "7    DROP TABLE IF EXISTS \"FEATURE_1_8\";\\n\\nCREATE ...  \n",
       "8    DROP TABLE IF EXISTS \"FEATURE_1_9\";\\n\\nCREATE ...  \n",
       "9    DROP TABLE IF EXISTS \"FEATURE_1_10\";\\n\\nCREATE...  \n",
       "10   DROP TABLE IF EXISTS \"FEATURE_1_11\";\\n\\nCREATE...  \n",
       "11   DROP TABLE IF EXISTS \"FEATURE_1_12\";\\n\\nCREATE...  \n",
       "12   DROP TABLE IF EXISTS \"FEATURE_1_13\";\\n\\nCREATE...  \n",
       "13   DROP TABLE IF EXISTS \"FEATURE_1_14\";\\n\\nCREATE...  \n",
       "14   DROP TABLE IF EXISTS \"FEATURE_1_15\";\\n\\nCREATE...  \n",
       "15   DROP TABLE IF EXISTS \"FEATURE_1_16\";\\n\\nCREATE...  \n",
       "16   DROP TABLE IF EXISTS \"FEATURE_1_17\";\\n\\nCREATE...  \n",
       "17   DROP TABLE IF EXISTS \"FEATURE_1_18\";\\n\\nCREATE...  \n",
       "18   DROP TABLE IF EXISTS \"FEATURE_1_19\";\\n\\nCREATE...  \n",
       "19   DROP TABLE IF EXISTS \"FEATURE_1_20\";\\n\\nCREATE...  \n",
       "20   DROP TABLE IF EXISTS \"FEATURE_1_21\";\\n\\nCREATE...  \n",
       "21   DROP TABLE IF EXISTS \"FEATURE_1_22\";\\n\\nCREATE...  \n",
       "22   DROP TABLE IF EXISTS \"FEATURE_1_23\";\\n\\nCREATE...  \n",
       "23   DROP TABLE IF EXISTS \"FEATURE_1_24\";\\n\\nCREATE...  \n",
       "24   DROP TABLE IF EXISTS \"FEATURE_1_25\";\\n\\nCREATE...  \n",
       "25   DROP TABLE IF EXISTS \"FEATURE_1_26\";\\n\\nCREATE...  \n",
       "26   DROP TABLE IF EXISTS \"FEATURE_1_27\";\\n\\nCREATE...  \n",
       "27   DROP TABLE IF EXISTS \"FEATURE_1_28\";\\n\\nCREATE...  \n",
       "28   DROP TABLE IF EXISTS \"FEATURE_1_29\";\\n\\nCREATE...  \n",
       "29   DROP TABLE IF EXISTS \"FEATURE_1_30\";\\n\\nCREATE...  \n",
       "..                                                 ...  \n",
       "75   DROP TABLE IF EXISTS \"FEATURE_1_76\";\\n\\nCREATE...  \n",
       "76   DROP TABLE IF EXISTS \"FEATURE_1_77\";\\n\\nCREATE...  \n",
       "77   DROP TABLE IF EXISTS \"FEATURE_1_78\";\\n\\nCREATE...  \n",
       "78   DROP TABLE IF EXISTS \"FEATURE_1_79\";\\n\\nCREATE...  \n",
       "79   DROP TABLE IF EXISTS \"FEATURE_1_80\";\\n\\nCREATE...  \n",
       "80   DROP TABLE IF EXISTS \"FEATURE_1_81\";\\n\\nCREATE...  \n",
       "81   DROP TABLE IF EXISTS \"FEATURE_1_82\";\\n\\nCREATE...  \n",
       "82   DROP TABLE IF EXISTS \"FEATURE_1_83\";\\n\\nCREATE...  \n",
       "83   DROP TABLE IF EXISTS \"FEATURE_1_84\";\\n\\nCREATE...  \n",
       "84   DROP TABLE IF EXISTS \"FEATURE_1_85\";\\n\\nCREATE...  \n",
       "85   DROP TABLE IF EXISTS \"FEATURE_1_86\";\\n\\nCREATE...  \n",
       "86   DROP TABLE IF EXISTS \"FEATURE_1_87\";\\n\\nCREATE...  \n",
       "87   DROP TABLE IF EXISTS \"FEATURE_1_88\";\\n\\nCREATE...  \n",
       "88   DROP TABLE IF EXISTS \"FEATURE_1_89\";\\n\\nCREATE...  \n",
       "89   DROP TABLE IF EXISTS \"FEATURE_1_90\";\\n\\nCREATE...  \n",
       "90   DROP TABLE IF EXISTS \"FEATURE_1_91\";\\n\\nCREATE...  \n",
       "91   DROP TABLE IF EXISTS \"FEATURE_1_92\";\\n\\nCREATE...  \n",
       "92   DROP TABLE IF EXISTS \"FEATURE_1_93\";\\n\\nCREATE...  \n",
       "93   DROP TABLE IF EXISTS \"FEATURE_1_94\";\\n\\nCREATE...  \n",
       "94   DROP TABLE IF EXISTS \"FEATURE_1_95\";\\n\\nCREATE...  \n",
       "95   DROP TABLE IF EXISTS \"FEATURE_1_96\";\\n\\nCREATE...  \n",
       "96   DROP TABLE IF EXISTS \"FEATURE_1_97\";\\n\\nCREATE...  \n",
       "97   DROP TABLE IF EXISTS \"FEATURE_1_98\";\\n\\nCREATE...  \n",
       "98   DROP TABLE IF EXISTS \"FEATURE_1_99\";\\n\\nCREATE...  \n",
       "99   DROP TABLE IF EXISTS \"FEATURE_1_100\";\\n\\nCREAT...  \n",
       "100                                                     \n",
       "101                                                     \n",
       "102                                                     \n",
       "103                                                     \n",
       "104                                                     \n",
       "\n",
       "[105 rows x 5 columns]"
      ]
     },
     "execution_count": 13,
     "metadata": {},
     "output_type": "execute_result"
    }
   ],
   "source": [
    "pipe.features.to_pandas()"
   ]
  },
  {
   "cell_type": "code",
   "execution_count": 14,
   "metadata": {},
   "outputs": [
    {
     "data": {
      "image/png": "[encoded data removed]",
      "text/plain": [
       "<Figure size 1440x720 with 1 Axes>"
      ]
     },
     "metadata": {
      "needs_background": "light"
     },
     "output_type": "display_data"
    }
   ],
   "source": [
    "names, correlations = pipe.features.correlations()\n",
    "\n",
    "plt.subplots(figsize=(20, 10))\n",
    "\n",
    "plt.bar(names, correlations, color='#6829c2')\n",
    "\n",
    "plt.title(\"feature correlations\")\n",
    "plt.grid(True)\n",
    "plt.xlabel(\"features\")\n",
    "plt.ylabel(\"correlations\")\n",
    "plt.xticks(rotation='vertical')\n",
    "\n",
    "plt.show()"
   ]
  },
  {
   "cell_type": "code",
   "execution_count": 15,
   "metadata": {
    "tags": [
     "hide_input"
    ]
   },
   "outputs": [
    {
     "data": {
      "image/png": "[encoded data removed]",
      "text/plain": [
       "<Figure size 1440x720 with 1 Axes>"
      ]
     },
     "metadata": {
      "needs_background": "light"
     },
     "output_type": "display_data"
    }
   ],
   "source": [
    "names, importances = pipe.features.importances()\n",
    "\n",
    "plt.subplots(figsize=(20, 10))\n",
    "\n",
    "plt.bar(names, importances, color='#6829c2')\n",
    "\n",
    "plt.title(\"feature importances\")\n",
    "plt.grid(True)\n",
    "plt.xlabel(\"features\")\n",
    "plt.ylabel(\"importance\")\n",
    "plt.xticks(rotation='vertical')\n",
    "\n",
    "plt.show()"
   ]
  },
  {
   "cell_type": "markdown",
   "metadata": {},
   "source": [
    "The feature importance is calculated by XGBoost based on the improvement of the optimizing criterium at each split in the decision tree and is normalized to 100%. \n",
    "\n",
    "We first look at the most important feature. The names returned by feature importances are already sorted, so we can just index them, like this:"
   ]
  },
  {
   "cell_type": "code",
   "execution_count": 16,
   "metadata": {
    "scrolled": true
   },
   "outputs": [
    {
     "data": {
      "text/markdown": [
       "```sql\n",
       "DROP TABLE IF EXISTS \"FEATURE_1_78\";\n",
       "\n",
       "CREATE TABLE \"FEATURE_1_78\" AS\n",
       "SELECT MIN( t2.\"Light\" ) AS \"feature_1_78\",\n",
       "       t1.rowid AS \"rownum\"\n",
       "FROM \"POPULATION\" t1\n",
       "LEFT JOIN \"POPULATION\" t2\n",
       "ON 1 = 1\n",
       "WHERE ( julianday( t2.\"date\" ) <= julianday( t1.\"date\" )\n",
       "AND ( julianday( t2.\"date\", '+15.000000 minutes' ) > julianday( t1.\"date\" ) OR julianday( t2.\"date\", '+15.000000 minutes' ) IS NULL )\n",
       ") AND (\n",
       "   ( ( t2.\"CO2\" > 471.862805 ) AND ( julianday( t1.\"date\" ) > julianday( t2.\"date\", '+54.484848 seconds' ) ) AND ( t1.\"Humidity\" > 26.115208 OR t1.\"Humidity\" IS NULL  ) AND ( t1.\"Light\" > 604.647619 ) )\n",
       "OR ( ( t2.\"CO2\" > 471.862805 ) AND ( julianday( t1.\"date\" ) > julianday( t2.\"date\", '+54.484848 seconds' ) ) AND ( t1.\"Humidity\" <= 26.115208 ) AND ( t2.\"CO2\" <= 994.931818 ) )\n",
       "OR ( ( t2.\"CO2\" > 471.862805 ) AND ( julianday( t1.\"date\" ) <= julianday( t2.\"date\", '+54.484848 seconds' ) ) AND ( t1.\"Temperature\" > 22.648800 OR t1.\"Temperature\" IS NULL  ) AND ( t2.\"HumidityRatio\" > 0.004593 ) )\n",
       "OR ( ( t2.\"CO2\" > 471.862805 ) AND ( julianday( t1.\"date\" ) <= julianday( t2.\"date\", '+54.484848 seconds' ) ) AND ( t1.\"Temperature\" <= 22.648800 ) AND ( t2.\"Light\" > 26.453333 ) )\n",
       "OR ( ( t2.\"CO2\" <= 471.862805 OR t2.\"CO2\" IS NULL  ) AND ( t2.\"HumidityRatio\" > 0.004893 ) AND ( julianday( t1.\"date\" ) <= julianday( t2.\"date\", '+4.666667 minutes' ) ) )\n",
       ")\n",
       "GROUP BY t1.rowid;\n",
       "```"
      ],
      "text/plain": [
       "DROP TABLE IF EXISTS \"FEATURE_1_78\";\n",
       "\n",
       "CREATE TABLE \"FEATURE_1_78\" AS\n",
       "SELECT MIN( t2.\"Light\" ) AS \"feature_1_78\",\n",
       "       t1.rowid AS \"rownum\"\n",
       "FROM \"POPULATION\" t1\n",
       "LEFT JOIN \"POPULATION\" t2\n",
       "ON 1 = 1\n",
       "WHERE ( julianday( t2.\"date\" ) <= julianday( t1.\"date\" )\n",
       "AND ( julianday( t2.\"date\", '+15.000000 minutes' ) > julianday( t1.\"date\" ) OR julianday( t2.\"date\", '+15.000000 minutes' ) IS NULL )\n",
       ") AND (\n",
       "   ( ( t2.\"CO2\" > 471.862805 ) AND ( julianday( t1.\"date\" ) > julianday( t2.\"date\", '+54.484848 seconds' ) ) AND ( t1.\"Humidity\" > 26.115208 OR t1.\"Humidity\" IS NULL  ) AND ( t1.\"Light\" > 604.647619 ) )\n",
       "OR ( ( t2.\"CO2\" > 471.862805 ) AND ( julianday( t1.\"date\" ) > julianday( t2.\"date\", '+54.484848 seconds' ) ) AND ( t1.\"Humidity\" <= 26.115208 ) AND ( t2.\"CO2\" <= 994.931818 ) )\n",
       "OR ( ( t2.\"CO2\" > 471.862805 ) AND ( julianday( t1.\"date\" ) <= julianday( t2.\"date\", '+54.484848 seconds' ) ) AND ( t1.\"Temperature\" > 22.648800 OR t1.\"Temperature\" IS NULL  ) AND ( t2.\"HumidityRatio\" > 0.004593 ) )\n",
       "OR ( ( t2.\"CO2\" > 471.862805 ) AND ( julianday( t1.\"date\" ) <= julianday( t2.\"date\", '+54.484848 seconds' ) ) AND ( t1.\"Temperature\" <= 22.648800 ) AND ( t2.\"Light\" > 26.453333 ) )\n",
       "OR ( ( t2.\"CO2\" <= 471.862805 OR t2.\"CO2\" IS NULL  ) AND ( t2.\"HumidityRatio\" > 0.004893 ) AND ( julianday( t1.\"date\" ) <= julianday( t2.\"date\", '+4.666667 minutes' ) ) )\n",
       ")\n",
       "GROUP BY t1.rowid;"
      ]
     },
     "execution_count": 16,
     "metadata": {},
     "output_type": "execute_result"
    }
   ],
   "source": [
    "pipe.features.to_sql()[names[0]]"
   ]
  },
  {
   "cell_type": "markdown",
   "metadata": {},
   "source": [
    "Let's check out the second most important feature."
   ]
  },
  {
   "cell_type": "code",
   "execution_count": 17,
   "metadata": {},
   "outputs": [
    {
     "data": {
      "text/markdown": [
       "```sql\n",
       "DROP TABLE IF EXISTS \"FEATURE_1_80\";\n",
       "\n",
       "CREATE TABLE \"FEATURE_1_80\" AS\n",
       "SELECT AVG( t2.\"Light\" ) AS \"feature_1_80\",\n",
       "       t1.rowid AS \"rownum\"\n",
       "FROM \"POPULATION\" t1\n",
       "LEFT JOIN \"POPULATION\" t2\n",
       "ON 1 = 1\n",
       "WHERE ( julianday( t2.\"date\" ) <= julianday( t1.\"date\" )\n",
       "AND ( julianday( t2.\"date\", '+15.000000 minutes' ) > julianday( t1.\"date\" ) OR julianday( t2.\"date\", '+15.000000 minutes' ) IS NULL )\n",
       ") AND (\n",
       "   ( ( t1.\"Light\" > 365.245399 ) AND ( t1.\"Temperature\" > 22.650987 OR t1.\"Temperature\" IS NULL  ) AND ( t2.\"CO2\" > 1006.363636 OR t2.\"CO2\" IS NULL  ) AND ( t2.\"Temperature\" <= 22.323000 ) )\n",
       "OR ( ( t1.\"Light\" > 365.245399 ) AND ( t1.\"Temperature\" > 22.650987 OR t1.\"Temperature\" IS NULL  ) AND ( t2.\"CO2\" <= 1006.363636 ) AND ( t2.\"Light\" <= 547.500000 ) )\n",
       "OR ( ( t1.\"Light\" > 365.245399 ) AND ( t1.\"Temperature\" <= 22.650987 ) AND ( t2.\"Light\" > 59.520000 ) AND ( t2.\"Light\" <= 544.067568 ) )\n",
       "OR ( ( t1.\"Light\" > 365.245399 ) AND ( t1.\"Temperature\" <= 22.650987 ) AND ( t2.\"Light\" <= 59.520000 OR t2.\"Light\" IS NULL  ) AND ( t1.\"Temperature\" <= 20.781818 ) )\n",
       ")\n",
       "GROUP BY t1.rowid;\n",
       "```"
      ],
      "text/plain": [
       "DROP TABLE IF EXISTS \"FEATURE_1_80\";\n",
       "\n",
       "CREATE TABLE \"FEATURE_1_80\" AS\n",
       "SELECT AVG( t2.\"Light\" ) AS \"feature_1_80\",\n",
       "       t1.rowid AS \"rownum\"\n",
       "FROM \"POPULATION\" t1\n",
       "LEFT JOIN \"POPULATION\" t2\n",
       "ON 1 = 1\n",
       "WHERE ( julianday( t2.\"date\" ) <= julianday( t1.\"date\" )\n",
       "AND ( julianday( t2.\"date\", '+15.000000 minutes' ) > julianday( t1.\"date\" ) OR julianday( t2.\"date\", '+15.000000 minutes' ) IS NULL )\n",
       ") AND (\n",
       "   ( ( t1.\"Light\" > 365.245399 ) AND ( t1.\"Temperature\" > 22.650987 OR t1.\"Temperature\" IS NULL  ) AND ( t2.\"CO2\" > 1006.363636 OR t2.\"CO2\" IS NULL  ) AND ( t2.\"Temperature\" <= 22.323000 ) )\n",
       "OR ( ( t1.\"Light\" > 365.245399 ) AND ( t1.\"Temperature\" > 22.650987 OR t1.\"Temperature\" IS NULL  ) AND ( t2.\"CO2\" <= 1006.363636 ) AND ( t2.\"Light\" <= 547.500000 ) )\n",
       "OR ( ( t1.\"Light\" > 365.245399 ) AND ( t1.\"Temperature\" <= 22.650987 ) AND ( t2.\"Light\" > 59.520000 ) AND ( t2.\"Light\" <= 544.067568 ) )\n",
       "OR ( ( t1.\"Light\" > 365.245399 ) AND ( t1.\"Temperature\" <= 22.650987 ) AND ( t2.\"Light\" <= 59.520000 OR t2.\"Light\" IS NULL  ) AND ( t1.\"Temperature\" <= 20.781818 ) )\n",
       ")\n",
       "GROUP BY t1.rowid;"
      ]
     },
     "execution_count": 17,
     "metadata": {},
     "output_type": "execute_result"
    }
   ],
   "source": [
    "pipe.features.to_sql()[names[1]]"
   ]
  },
  {
   "cell_type": "markdown",
   "metadata": {},
   "source": [
    "These two features demonstrate the power of the getML feature learning algorithms. It is very unlikely to find these features using manual, trial-and-error based methods. The general structure of features found using such methods might be similar, but you would have had to put in much more effort while getting worse results.\n",
    "\n",
    "When browsing through the remaining features, you will notice that some are columns directly taken from the original table, such as *Light* and *CO2*. But these columns are less correlated and less important than the features generated with the relational model based on self-join and upper time stamps."
   ]
  },
  {
   "cell_type": "markdown",
   "metadata": {},
   "source": [
    "Because getML uses a feature learning approach, the concept of feature importances can also be carried over to the individual columns."
   ]
  },
  {
   "cell_type": "code",
   "execution_count": 18,
   "metadata": {},
   "outputs": [
    {
     "data": {
      "image/png": "[encoded data removed]",
      "text/plain": [
       "<Figure size 1440x720 with 1 Axes>"
      ]
     },
     "metadata": {
      "needs_background": "light"
     },
     "output_type": "display_data"
    }
   ],
   "source": [
    "names, importances = pipe.columns.importances()\n",
    "\n",
    "plt.subplots(figsize=(20, 10))\n",
    "\n",
    "plt.bar(names, importances, color='#6829c2')\n",
    "\n",
    "plt.title(\"column importances\")\n",
    "plt.grid(True)\n",
    "plt.xlabel(\"columns\")\n",
    "plt.ylabel(\"importance\")\n",
    "plt.xticks(rotation='vertical')\n",
    "\n",
    "plt.show()"
   ]
  },
  {
   "cell_type": "code",
   "execution_count": 19,
   "metadata": {},
   "outputs": [
    {
     "data": {
      "text/html": [
       "<div>\n",
       "<style scoped>\n",
       "    .dataframe tbody tr th:only-of-type {\n",
       "        vertical-align: middle;\n",
       "    }\n",
       "\n",
       "    .dataframe tbody tr th {\n",
       "        vertical-align: top;\n",
       "    }\n",
       "\n",
       "    .dataframe thead th {\n",
       "        text-align: right;\n",
       "    }\n",
       "</style>\n",
       "<table border=\"1\" class=\"dataframe\">\n",
       "  <thead>\n",
       "    <tr style=\"text-align: right;\">\n",
       "      <th></th>\n",
       "      <th>population/peripheral</th>\n",
       "      <th>table</th>\n",
       "      <th>name</th>\n",
       "      <th>importance</th>\n",
       "      <th>target</th>\n",
       "    </tr>\n",
       "  </thead>\n",
       "  <tbody>\n",
       "    <tr>\n",
       "      <th>0</th>\n",
       "      <td>[POPULATION]</td>\n",
       "      <td>POPULATION</td>\n",
       "      <td>CO2</td>\n",
       "      <td>0.020979</td>\n",
       "      <td>Occupancy</td>\n",
       "    </tr>\n",
       "    <tr>\n",
       "      <th>1</th>\n",
       "      <td>[POPULATION]</td>\n",
       "      <td>POPULATION</td>\n",
       "      <td>Humidity</td>\n",
       "      <td>0.005380</td>\n",
       "      <td>Occupancy</td>\n",
       "    </tr>\n",
       "    <tr>\n",
       "      <th>2</th>\n",
       "      <td>[POPULATION]</td>\n",
       "      <td>POPULATION</td>\n",
       "      <td>HumidityRatio</td>\n",
       "      <td>0.004363</td>\n",
       "      <td>Occupancy</td>\n",
       "    </tr>\n",
       "    <tr>\n",
       "      <th>3</th>\n",
       "      <td>[POPULATION]</td>\n",
       "      <td>POPULATION</td>\n",
       "      <td>Light</td>\n",
       "      <td>0.871608</td>\n",
       "      <td>Occupancy</td>\n",
       "    </tr>\n",
       "    <tr>\n",
       "      <th>4</th>\n",
       "      <td>[POPULATION]</td>\n",
       "      <td>POPULATION</td>\n",
       "      <td>Temperature</td>\n",
       "      <td>0.073303</td>\n",
       "      <td>Occupancy</td>\n",
       "    </tr>\n",
       "    <tr>\n",
       "      <th>5</th>\n",
       "      <td>[POPULATION]</td>\n",
       "      <td>POPULATION</td>\n",
       "      <td>date</td>\n",
       "      <td>0.024368</td>\n",
       "      <td>Occupancy</td>\n",
       "    </tr>\n",
       "  </tbody>\n",
       "</table>\n",
       "</div>"
      ],
      "text/plain": [
       "  population/peripheral       table           name  importance     target\n",
       "0          [POPULATION]  POPULATION            CO2    0.020979  Occupancy\n",
       "1          [POPULATION]  POPULATION       Humidity    0.005380  Occupancy\n",
       "2          [POPULATION]  POPULATION  HumidityRatio    0.004363  Occupancy\n",
       "3          [POPULATION]  POPULATION          Light    0.871608  Occupancy\n",
       "4          [POPULATION]  POPULATION    Temperature    0.073303  Occupancy\n",
       "5          [POPULATION]  POPULATION           date    0.024368  Occupancy"
      ]
     },
     "execution_count": 19,
     "metadata": {},
     "output_type": "execute_result"
    }
   ],
   "source": [
    "pipe.columns.to_pandas()"
   ]
  },
  {
   "cell_type": "markdown",
   "metadata": {},
   "source": [
    "As we can see, about 87% of the predictive power comes from the *Light* column. The second most important column is the *Temperature* column, we contributes about 7% of the predictive power."
   ]
  },
  {
   "cell_type": "markdown",
   "metadata": {},
   "source": [
    " "
   ]
  },
  {
   "cell_type": "markdown",
   "metadata": {},
   "source": [
    "## 3. Conclusion\n",
    "\n",
    "This tutorial demonstrates that relational learning is a powerful tool for time series. We able to outperform the benchmarks for a scientific paper on a simple public domain time series data set using relatively little effort.\n",
    "\n",
    "If you want to learn more about getML, check out the [official documentation](https://getml.com/product)."
   ]
  },
  {
   "cell_type": "markdown",
   "metadata": {},
   "source": [
    " "
   ]
  },
  {
   "cell_type": "markdown",
   "metadata": {},
   "source": [
    "# Next Steps\n",
    "\n",
    "This tutorial went through the basics of applying getML to time series. If you want to learn more about getML, here are some additional tutorials and articles that will help you:\n",
    "\n",
    "__Tutorials:__\n",
    "* [Loan default prediction: Introduction to relational learning](loans_demo.ipynb)\n",
    "* [Occupancy detection: A multivariate time series example](occupancy_demo.ipynb)  \n",
    "* [Expenditure categorization: Why relational learning matters](consumer_expenditures_demo.ipynb)\n",
    "* [Disease lethality prediction: Feature engineering and the curse of dimensionality](atherosclerosis_demo.ipynb)\n",
    "* [Traffic volume prediction: Feature engineering on multivariate time series](interstate94_demo.ipynb)\n",
    "* [Air pollution prediction: Why feature learning outperforms brute-force approaches](air_pollution_demo.ipynb) \n",
    "\n",
    "\n",
    "__User Guides__ (from our [documentation](https://docs.getml.com/latest/)):\n",
    "* [Feature learning with Multirel](https://docs.getml.com/latest/user_guide/feature_engineering/feature_engineering.html#multirel)\n",
    "* [Feature learning with Relboost](https://docs.getml.com/latest/user_guide/feature_engineering/feature_engineering.html#relboost)\n",
    "\n",
    "\n",
    "While this tutorial focuses on the new aspects when working with getML, some more steps were required to prepare the raw data in its relational format. You will find the full analysis on Github in our [getml-examples](https://github.com/getml/getml-examples) repository.\n"
   ]
  },
  {
   "cell_type": "markdown",
   "metadata": {},
   "source": [
    " "
   ]
  },
  {
   "cell_type": "markdown",
   "metadata": {},
   "source": [
    "# Get in contact\n",
    "\n",
    "If you have any question schedule a [call with Alex](https://go.getml.com/meetings/alexander-uhlig/getml-demo), the co-founder of getML, or write us an [email](team@getml.com). Prefer a private demo of getML? Just contact us to make an appointment."
   ]
  },
  {
   "cell_type": "markdown",
   "metadata": {},
   "source": [
    " "
   ]
  }
 ],
 "metadata": {
  "celltoolbar": "Tags",
  "kernelspec": {
   "display_name": "Python 3",
   "language": "python",
   "name": "python3"
  },
  "language_info": {
   "codemirror_mode": {
    "name": "ipython",
    "version": 3
   },
   "file_extension": ".py",
   "mimetype": "text/x-python",
   "name": "python",
   "nbconvert_exporter": "python",
   "pygments_lexer": "ipython3",
   "version": "3.7.2"
  },
  "widgets": {
   "application/vnd.jupyter.widget-state+json": {
    "state": {},
    "version_major": 2,
    "version_minor": 0
   }
  }
 },
 "nbformat": 4,
 "nbformat_minor": 4
}
